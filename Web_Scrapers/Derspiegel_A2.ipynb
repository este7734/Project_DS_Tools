{
  "nbformat": 4,
  "nbformat_minor": 0,
  "metadata": {
    "kernelspec": {
      "name": "python3",
      "display_name": "Python 3"
    },
    "language_info": {
      "codemirror_mode": {
        "name": "ipython",
        "version": 3
      },
      "file_extension": ".py",
      "mimetype": "text/x-python",
      "name": "python",
      "nbconvert_exporter": "python",
      "pygments_lexer": "ipython3",
      "version": "3.6.3"
    },
    "colab": {
      "name": "Derspiegel_A2.ipynb",
      "provenance": [],
      "collapsed_sections": [],
      "toc_visible": true,
      "include_colab_link": true
    },
    "accelerator": "GPU"
  },
  "cells": [
    {
      "cell_type": "markdown",
      "metadata": {
        "id": "view-in-github",
        "colab_type": "text"
      },
      "source": [
        "<a href=\"https://colab.research.google.com/github/este7734/Project_DS_Tools/blob/master/Web_Scrapers/Derspiegel_A2.ipynb\" target=\"_parent\"><img src=\"https://colab.research.google.com/assets/colab-badge.svg\" alt=\"Open In Colab\"/></a>"
      ]
    },
    {
      "cell_type": "markdown",
      "metadata": {
        "id": "j9EJGLekhe5n",
        "colab_type": "text"
      },
      "source": [
        "# Data Science Tools and Techniques\n",
        "\n",
        "# Web Scraping Project"
      ]
    },
    {
      "cell_type": "markdown",
      "metadata": {
        "id": "DAasqXPAhe5s",
        "colab_type": "text"
      },
      "source": [
        "Beautiful Soup documentation:\n",
        "\n",
        "https://www.crummy.com/software/BeautifulSoup/"
      ]
    },
    {
      "cell_type": "markdown",
      "metadata": {
        "id": "HcjAnVaKgT8c",
        "colab_type": "text"
      },
      "source": [
        "# <i>Der Spiegel</i>\n",
        "\n",
        "---\n",
        "\n",
        "<div id=\"siteSub\" class=\"noprint\">From Wikipedia, the free encyclopedia</div>\n",
        "\n",
        "<p><i><b>Der Spiegel</b></i> (<small>German pronunciation: </small><span title=\"Representation in the International Phonetic Alphabet (IPA)\" class=\"IPA\"><a href=\"/wiki/Help:IPA/Standard_German\" title=\"Help:IPA/Standard German\">[deːɐ̯ ˈʃpiːɡl̩]</a></span>, lit. <i>\"The Mirror\"</i>) is a centre-left German weekly <a href=\"/wiki/News_magazine\" title=\"News magazine\">news magazine</a> published in <a href=\"/wiki/Hamburg\" title=\"Hamburg\">Hamburg</a>.<sup id=\"cite_ref-1\" class=\"reference\"><a href=\"#cite_note-1\">[1]</a></sup> With a weekly circulation of 840,000 copies, it is the largest such publication in Europe.<sup id=\"cite_ref-2\" class=\"reference\"><a href=\"#cite_note-2\">[2]</a></sup><sup id=\"cite_ref-3\" class=\"reference\"><a href=\"#cite_note-3\">[3]</a></sup><sup id=\"cite_ref-4\" class=\"reference\"><a href=\"#cite_note-4\">[4]</a></sup>\n",
        "</p>\n",
        "\n",
        "---"
      ]
    },
    {
      "cell_type": "markdown",
      "metadata": {
        "id": "R98YniHDK6Nq",
        "colab_type": "text"
      },
      "source": [
        "## Import dependencies"
      ]
    },
    {
      "cell_type": "code",
      "metadata": {
        "id": "5MgjXo4The5x",
        "colab_type": "code",
        "colab": {}
      },
      "source": [
        "from bs4 import BeautifulSoup\n",
        "import requests"
      ],
      "execution_count": 39,
      "outputs": []
    },
    {
      "cell_type": "markdown",
      "metadata": {
        "id": "SyFwkJ6Ihe52",
        "colab_type": "text"
      },
      "source": [
        "Create a Beautiful Soup object from an HTML sources:\n",
        "\n",
        "Use the following link to find an English version of Der Spiegel article:\n",
        "https://www.spiegel.de/international/\n",
        "\n",
        "---\n",
        "For English articles:\n",
        "1. Click menu (upper left)\n",
        "2. Scroll down to \"English\" selection\n",
        "3. Select a category\n",
        "4. To load more articles on the page scroll to bottom and click: **Ältere Artikel** (Older Articles)\n",
        "5. Copy the weblink and add below as new URL variable"
      ]
    },
    {
      "cell_type": "code",
      "metadata": {
        "id": "9p-WjahKhe53",
        "colab_type": "code",
        "colab": {}
      },
      "source": [
        "# get HTML page \n",
        "\n",
        "url1 = 'https://www.spiegel.de/international/business/trump-and-deutsche-bank-a-b956729f-9e10-412c-ae25-b9cedeebded3'\n",
        "url2 = 'https://www.spiegel.de/international/world/israeli-palestinian-relations-donald-trump-s-peace-plan-sows-confusion-and-dismay-a-bf74e84d-8e01-4199-9e22-583b740ac381'\n",
        "url3 = 'https://www.spiegel.de/international/world/when-mourning-turns-to-anger-two-days-and-two-nights-in-tehran-a-09dfd962-dbc1-4020-bbc1-03c6fadffbb1'\n",
        "url4 = 'https://www.spiegel.de/international/europe/how-russia-s-president-is-preparing-his-own-succession-a-437a6718-aa0c-4760-a548-4735b8a844e9'\n",
        "\n",
        "# Change the varbialbe in the .get method to the page you want to scrape\n",
        "page = requests.get(url2)"
      ],
      "execution_count": 40,
      "outputs": []
    },
    {
      "cell_type": "code",
      "metadata": {
        "id": "5rt9wxbyhe58",
        "colab_type": "code",
        "colab": {}
      },
      "source": [
        "# get soup\n",
        "def get_soup(page):\n",
        "    soup = BeautifulSoup(page.content, 'html.parser')\n",
        "    return soup"
      ],
      "execution_count": 41,
      "outputs": []
    },
    {
      "cell_type": "markdown",
      "metadata": {
        "id": "JJyvLrx8he6C",
        "colab_type": "text"
      },
      "source": [
        "Create a Beautiful Soup object from the imported HTML document."
      ]
    },
    {
      "cell_type": "code",
      "metadata": {
        "id": "Kwh7PydThe6E",
        "colab_type": "code",
        "colab": {}
      },
      "source": [
        "soup = get_soup(page)"
      ],
      "execution_count": 42,
      "outputs": []
    },
    {
      "cell_type": "markdown",
      "metadata": {
        "id": "WPhTNJ_Dhe6K",
        "colab_type": "text"
      },
      "source": [
        "## Open the HTML document in a text viewer.  Before you pull tag content, understand the tag structure of the document.\n",
        "\n",
        "---\n",
        "\n"
      ]
    },
    {
      "cell_type": "markdown",
      "metadata": {
        "id": "n_gJkTbrNtWG",
        "colab_type": "text"
      },
      "source": [
        "Pull title from article"
      ]
    },
    {
      "cell_type": "code",
      "metadata": {
        "id": "BKGE2J0w-_sb",
        "colab_type": "code",
        "colab": {
          "base_uri": "https://localhost:8080/",
          "height": 34
        },
        "outputId": "a0b31a28-e039-4516-dc5d-361b16873eff"
      },
      "source": [
        "title = soup.find_all('h2')[0].contents[3].text\n",
        "title"
      ],
      "execution_count": 43,
      "outputs": [
        {
          "output_type": "execute_result",
          "data": {
            "text/plain": [
              "\"Trump's 'Peace Plan' Sows Confusion and Dismay\\n\""
            ]
          },
          "metadata": {
            "tags": []
          },
          "execution_count": 43
        }
      ]
    },
    {
      "cell_type": "markdown",
      "metadata": {
        "id": "92tuW95dN6DS",
        "colab_type": "text"
      },
      "source": [
        "Extract all the hyperlinks in the article"
      ]
    },
    {
      "cell_type": "markdown",
      "metadata": {
        "id": "jI50LXd-he6T",
        "colab_type": "raw"
      },
      "source": [
        "Anchors are used in HTML documents for a lot of different things.  One of the primary uses of anchors is to embed hyperlinks.  In the 'a' tag, there is an attribute called 'href' that specifies the hyperlink reference.\n",
        "\n",
        "The above markup will display a hyperlink that points 'hyperlink text' the href value.\n",
        "\n",
        "Beautiful soup can be used to pull specific inforamation from HTML tags.  For example, if you want all hyperlink references from links, you could use the following:\n",
        "\n",
        "links = []\n",
        "for item in anchors:\n",
        "    link = item.get('href')\n",
        "    links.append(link)\n",
        "\n",
        "You've already generated a list of all anchors.  Now, iterate over that list and collect all hyperlinks in the document in the space below, and print the list of hyperlinks."
      ]
    },
    {
      "cell_type": "markdown",
      "metadata": {
        "id": "eEEcBUz0c6bA",
        "colab_type": "text"
      },
      "source": [
        "## Extract hyperlinks for project."
      ]
    },
    {
      "cell_type": "code",
      "metadata": {
        "id": "3ECyoIz2he6U",
        "colab_type": "code",
        "colab": {
          "base_uri": "https://localhost:8080/",
          "height": 54
        },
        "outputId": "00c038b3-4ae1-4b48-f920-48042863c767"
      },
      "source": [
        "# Extract all href tags\n",
        "links = soup.find_all('link')\n",
        "\n",
        "# Separate hyperlinks from href tags\n",
        "all_hyperlinks = []\n",
        "for item in links:\n",
        "    link = item.get('href')\n",
        "    all_hyperlinks.append(link)\n",
        "print(all_hyperlinks)"
      ],
      "execution_count": 44,
      "outputs": [
        {
          "output_type": "stream",
          "text": [
            "['https://www.spiegel.de/public/spon/json/manifest.json', 'https://cdn.prod.www.spiegel.de/public/spon/images/icons/favicon.ico', 'https://cdn.prod.www.spiegel.de/public/spon/images/icons/touch-icon.png', 'https://cdn.prod.www.spiegel.de/public/spon/images/icons/touch-icon72.png', 'https://cdn.prod.www.spiegel.de/public/spon/images/icons/touch-icon76.png', 'https://cdn.prod.www.spiegel.de/public/spon/images/icons/touch-icon114.png', 'https://cdn.prod.www.spiegel.de/public/spon/images/icons/touch-icon120.png', 'https://cdn.prod.www.spiegel.de/public/spon/images/icons/touch-icon144.png', 'https://cdn.prod.www.spiegel.de/public/spon/images/icons/touch-icon152.png', 'https://cdn.prod.www.spiegel.de/public/spon/images/icons/touch-icon180.png', 'https://www.spiegel.de/international/world/israeli-palestinian-relations-donald-trump-s-peace-plan-sows-confusion-and-dismay-a-bf74e84d-8e01-4199-9e22-583b740ac381', 'https://www.spiegel.de/international/world/israeli-palestinian-relations-donald-trump-s-peace-plan-sows-confusion-and-dismay-a-bf74e84d-8e01-4199-9e22-583b740ac381-amp', 'https://cdn.prod.www.spiegel.de/public/shared/fonts/SpiegelSans4UI-Bold.woff2', 'https://cdn.prod.www.spiegel.de/public/shared/fonts/SpiegelSans4UI-Regular.woff2', 'https://cdn.prod.www.spiegel.de/public/shared/fonts/SpiegelSlab4UICd-ExtraBold.woff2', 'https://cdn.prod.www.spiegel.de/public/shared/fonts/SpiegelSerifTextUI-Regular.woff2', 'https://cdn.prod.www.spiegel.de/public/shared/fonts/SpiegelSans4-6SemiBold.woff2', 'https://cdn.prod.www.spiegel.de/public/shared/fonts/SpiegelSerifTextUI-Bold.woff2', 'https://cdn.prod.www.spiegel.de/public/shared/fonts/SpiegelSerifDisplayUI-BoldItalic.woff2', 'https://www.spiegel.de/schlagzeilen/index.rss', 'https://www.spiegel.de/international/index.rss', 'https://www.spiegel.de/international/world/index.rss', 'https://www.spiegel.de/thema/israel_en/index.rss', 'https://www.spiegel.de/thema/israeli_settlements_en/index.rss', 'https://www.spiegel.de/thema/donald_trump_en/index.rss', 'https://cdn.prod.www.spiegel.de/public/spon/generated/css/styles.spon.7ca7be3f1d0f958eccf811d6d27b4dd0.css', 'https://cdn.prod.www.spiegel.de/public/spon/generated/css/styles.spon-sm.4713b056057ecf862d12.css', 'https://cdn.prod.www.spiegel.de/public/spon/generated/css/styles.spon-md.1c50aaf2cba5de41c932.css', 'https://cdn.prod.www.spiegel.de/public/spon/generated/css/styles.spon-lg.1481f6a11c19e924797a.css']\n"
          ],
          "name": "stdout"
        }
      ]
    },
    {
      "cell_type": "markdown",
      "metadata": {
        "id": "MGTAp3UPhe6g",
        "colab_type": "text"
      },
      "source": [
        "Extract all p tabs to pull the article body"
      ]
    },
    {
      "cell_type": "code",
      "metadata": {
        "id": "OF4n7pnEhe6i",
        "colab_type": "code",
        "colab": {
          "base_uri": "https://localhost:8080/",
          "height": 343
        },
        "outputId": "a9aafcf3-dbd8-49f6-fc94-fedfa1f706f3"
      },
      "source": [
        "article_body = soup.find_all('p')\n",
        "print('Article Length: {} lines \\n'.format(len(article_body)))\n",
        "print(article_body)\n"
      ],
      "execution_count": 45,
      "outputs": [
        {
          "output_type": "stream",
          "text": [
            "Article Length: 54 lines \n",
            "\n",
            "[<p>Israeli soldiers face off against Palestinian protesters in the Occupied West Bank.</p>, <p>The morning after Donald Trump announced his \"deal of the century,\" Orit Artsiely is standing on the muddy, black banks of the Jordan River, contemplating what the deal would mean for her. It had rained throughout the night and into the morning and the sky is just beginning to clear up. The air is warm and humid and flies have already discovered the box of dates Artsiely put out for her guests.</p>, <p>Artsiely is the secretary of finance of the Jordan Valley Regional Council (JVRC), an umbrella organization for Jewish settlers here. She had spoken the night before to her boss, who was on a trip to Washington with an Israeli delegation. His name is David Elhayani, but most people here refer to him as the Mayor of the Jordan Valley. He recently stood in a room with Trump and Israeli Prime Minister Benjamin Netanyahu. The American president talked a lot, but the mayor had difficult time getting a grasp of what it all might mean for the Jordan Valley. </p>, <p>\"He told me: We need details,\" Artsiely says.</p>, <p>When asked whether Elhayani clapped along with the others present for Trump's speech, she just shrugs.</p>, <p>Artsiely says she saw the images from Washington of the press conference with Trump and Netanyahu. Trump announced that Jerusalem would remain the undivided capital of Israel. His plan also foresees the Palestinians claiming East Jerusalem, which lies behind Israel's border wall, as their capital. The holy sites on the Temple Mount, known to Muslims as al-Haram al-Sharif, would be administered by Israel. As compensation for their losses in the West Bank, the Palestinians would receive parts of the Negev Desert. Meanwhile, Israeli settlements would remain untouched.</p>, <p>Natanyahu could hardly stop smiling during the press conference in Washington. A few hours later, Palestinian President Mahmoud Abbas called Trump's plan a conspiracy against his people.</p>, <p>So much for the American plan.</p>, <p>The Israeli and American presidents, Benjamin Netanyahu and Donald Trump, at a press conference in Washington</p>, <p>Originally, Netanyahu had planned to have his cabinet vote Sunday on the annexation -- or as he puts it, the sovereignty -- of the lands in the West Bank. Now it doesn't look like that will happen, at least not for the time being. The Israeli interior minister was here a few days ago, but all he said was that they were getting the paperwork in order.</p>, <p>\"It took us a long time to understand how to make the land fertile,\" says Artsiely, who has lived in the Jordan Valley since 1982. \"The soil is very salty. We grow dates, peppers, grapes and mangos. If I understand the interior minister correctly, it's not farmers who are in demand now, but lawyers.\" The ground doesn't belong to the farmers. They just use it.</p>, <p>Artsiely has a lot of questions. Who's going to replace the military that currently controls the area? Is the valley going to need new administrators?</p>, <p>\"And who are our partners? If the Palestinians don't go along with it, we can forget about the grand peace plan,\" she says.</p>, <p>There are 27 Jewish settlements in the Jordan Valley, which was occupied by Israel in 1967 after the Six Day War. Today, around 9,000 Jews live there. They're responsible for farming most of the land, even though there are far more Palestinians living there -- at least 65,000. Their most popular export is dates. Bell peppers are another popular crop. These are mostly sold to Russia, which is boycotting European peppers. Just as Europe boycotts some of Israel's grapes and herbs.</p>, <p>Ziva Gilad, who is responsible for research and development at the JVRC, has lived here for 40 years. She came as a young woman, with a degree in plant science from the Hebrew University of Jerusalem and a baby. Back then, she says, she had ideals. She wanted a new, just and prosperous Israel. She voted for the Labor Party, just like her parents. Today, she has four daughters and a diploma, but fewer ideals.</p>, <p>She listened to the press conference in Washington in her car, but eventually she had to turn the radio off. She doesn't trust politicians, least of all Netanyahu. But when asked what the country in which she lives would look like without her and the other settlers, she says: \"Like Gaza. Desolate and barren. When we left, they destroyed our greenhouses.\"</p>, <p>It's not their land, but without them it wouldn't be as green.</p>, <p>Yaakov Elbaz, who runs a date farm with 8,000 palm trees, says there was only sand when he first arrived here 30 years ago. \"There was no water, no palm trees and no Arabs.\"</p>, <p>He now employs around 50 Palestinians. Good people, he says. They also just wanted to live in peace and provide for their families. He's even friends with some of them. But that doesn't stop him from sleeping with a gun under his pillow, he says -- or an M16 rifle beside his bed. The Jordanian border is only a few kilometers away.</p>, <p>Elbaz points to the mountains shimmering in the midday sun. He told most of his workers not to come in today since it had rained in the morning. Three Palestinians squat in an old container nestled between the palm trees. They say they don't want to talk because it never does any good anyway.</p>, <p>One of them apparently changes his mind and gets up. His name is Tarek Hossni. He lives in Nablus and has been working on the farm for five years. Elbaz is a good boss, he says, and the pay is good, too. He wears a sweatshirt with the word \"Unbreakable\" emblazoned across the front in big letters. But Hossni doesn't really give the impression that this word applies to him.</p>, <p>Salem Ghrouf, on the other hand? Talk about unbreakable. He's the mayor of Jericho, a Palestinian city in the Jordan Valley. If Trump's peace plan is implemented, Jericho would become a Palestinian island in a sea of annexed land.</p>, <p>Ghrouf has a serious look on his face. He sits between pictures of the former and current Palestinian presidents, Yasser Arafat and Mahmoud Abbas, and in front of one of the Dome of the Rock. When the mayor of Jericho speaks, it's of Jerusalem, the holy city that had been declared by Trump only the day before to be the undivided capital of Israel. \"In Jerusalem, our blood was shed,\" Ghrouf says. \"Our martyrs died there. We will never give up this city.\"</p>, <p>There are large ashtrays and glasses of sweet tea on the table. As he talks about the history of Palestine, Ghrouf goes all the way back to 1917, the year of the Balfour Declaration, with which the British government asserted its support for a Jewish homeland in Palestine -- and when the whole misfortune began. \"The problem is not the Jews, but Zionism,\" the mayor says.</p>, <p>After the Oslo Accords, Ghrouf says, the Palestinians were left with only 22 percent of their land. And now they are supposed to relinquish 40 percent of it again. \"Where's the deal?\" Ghrouf shouts. \"We reject this plan. It's unfair. It gives rights to people who have no rights.\"</p>, <p>He describes a city that would be cut off from the surrounding countryside. That's according to a plan, he says, which is less a plan and more a \"project,\" one that would ruin economic and social relations, destroy families and separate Jericho from the \"breadbasket\" of the rest of the country. Ghrouf says the valley would be carved up into pieces. It was originally intended to be a home for the Palestinians living in the diaspora. Thirteen million were supposed to live here one day. That was the plan. Their plan.</p>, <p>Trump's plan, however, is not the beginning but the end of the two-state solution, he says. That's why Ghrouf and others say they will fight him with all means necessary.</p>, <p>Didn't they call for \"Days of Rage?\" Jericho seems strangely peaceful, almost sleepy.</p>, <p>\"The news from America yesterday was like an electric shock. People need time to process it,\" the mayor says. He's waiting for marching orders from Palestinian leaders. \"We don't have any weapons and we don't want a third Intifada.\" He pauses. \"But.\"</p>, <p>But?</p>, <p>\"If you back a dog into a corner, it will bite you,\" he says.</p>, <p>Gifts from Jericho's sister cities hang on the wall in his office. There's a picture of a fjord in Norway and an engraving of the Town Hall in Wiesbaden, Germany. This is the world the mayor feels connected to. Everyone must return to the negotiating table, he says. The mayor goes on and on. It's easy to imagine him continuing to talk even as the water rises around his shrinking island.</p>, <p><strong>The article you are reading originally appeared in German in issue 6/2020 (February 1st, 2020) of DER SPIEGEL.</strong></p>, <p><a data-link-flag=\"english\" href=\"https://www.spiegel.de/international/frequently-asked-questions-everything-you-need-to-know-about-der-spiegel-a-789851.html\">FAQ: Everything You Need to Know about DER SPIEGEL</a></p>, <p><a data-link-flag=\"english\" href=\"https://www.spiegel.de/international/six-decades-of-quality-journalism-the-history-of-der-spiegel-a-789853.html\">Seven Decades of Quality Journalism: The History of DER SPIEGEL</a></p>, <p><a data-link-flag=\"english\" href=\"https://www.spiegel.de/international/spiegel-rights-reprints-and-other-usages-a-460322.html\">Reprints: How To License SPIEGEL Articles</a></p>, <p>Ismail Daiq is a successful Palestinian date farmer in the Jordan Valley. He explains what the area could look like in the very near future. He pins a map of the valley to a wall.</p>, <p>Two-thirds of the plantations he manages fall within the area that would be annexed under the so-called peace plan. Daiq, who once served as agricultural minister for the Palestinian territories, says the future can be divined by looking to the past.</p>, <p>\"The last time this happened was after the construction of the wall, when Palestinian farmers were gradually separated from their land.\" Access has become increasingly difficult and waiting times at the borders longer. They are made to fill out special papers and there is often harassment. Some Palestinian farmers have given up.</p>, <p>\"If we could farm all the land we own, we wouldn't need the $50 billion that this alleged deal offers us,\" Daiq says.</p>, <p>As the sun goes down behind the mountains of Jerusalem, Daiq laments the sleepless nights he suffers and the injustices of his Israeli neighbors. The Jewish settlers receive subsidies from the Israeli government. The Palestinians, on the other hand, recently had 120 tractors confiscated. They weren't told why, only that if they wanted their machinery back, they would have to pay a fee.</p>, <p>He points to a spot in the distance where the tractors are being held, but the sun is too bright to see them. It will be dark soon. As the day fades, Daiq tells the story of Queen Esther from the Old Testament, who saved the Jews from mass murder at the hands of the Persians. He mentions an ancient script, written on donkey skin, which he says proves that the Palestinians were cultivating dates on these lands some 3,000 years ago.</p>, <p>Trump boasts of a \"deal of the century.\" But for Daiq, the date farmer from the Jordan Valley, 100 years aren't nearly enough.</p>, <p>__localized_intro__</p>, <p>__localized_unblockIntro__</p>, <p class=\"text-shade-dark flex-shrink text-s font-sansUI leading-normal\">\n",
            "__localized_unblockInstructions:0__\n",
            "<a class=\"border-b border-shade-light text-black hover:border-black focus:border-transparent font-normal font-sansUI text-s leading-normal\" href=\"https://www.spiegel.de/adblocker-hilfe\" title=\"__localized_unblockInstructionsAdblockerHelp__\">__localized_unblockInstructions:1__</a>__localized_unblockInstructions:2__\n",
            "</p>, <p data-app-hidden=\"\">__localized_purIntro__</p>, <p data-not-app-hidden=\"\">__localized_purIntroApp__</p>, <p class=\"text-shade-dark text-s font-sansUI leading-normal mb-12\" data-not-app-hidden=\"\">\n",
            "__localized_purDetailsAppText:0__\n",
            "<a class=\"border-b border-shade-light text-black hover:border-black focus:border-transparent font-normal font-sansUI text-s leading-normal\" href=\"__localized_privacyLinkUrl__\" title=\"__localized_privacyLinkTitle__\">__localized_purDetailsAppText:1__</a>__localized_purDetailsAppText:2__\n",
            "</p>, <p class=\"text-shade-dark text-s font-sansUI leading-normal\" data-logged-in-hidden=\"\">__localized_purLoginAppText:0__<a class=\"border-b border-shade-light text-black hover:border-black focus:border-transparent font-normal font-sansUI text-s leading-normal\" data-adblock-el=\"loginLink\" data-component=\"AppButton\" data-sara-link=\"gruppenkonto\" data-settings='{\"action\":\"triggerLogin\",\"params\":{\"targetUrl\":\"https://www.spiegel.de/international/world/israeli-palestinian-relations-donald-trump-s-peace-plan-sows-confusion-and-dismay-a-bf74e84d-8e01-4199-9e22-583b740ac381\"}}' href=\"https://gruppenkonto.spiegel.de/authenticate?requestAccessToken=true&amp;targetUrl=https%3A%2F%2Fwww.spiegel.de%2Finternational%2Fworld%2Fisraeli-palestinian-relations-donald-trump-s-peace-plan-sows-confusion-and-dismay-a-bf74e84d-8e01-4199-9e22-583b740ac381\" title=\"__localized_purLoginAppText:1__\">__localized_purLoginAppText:1__</a>__localized_purLoginAppText:2__\n",
            "</p>, <p class=\"text-shade-dark text-s font-sansUI leading-normal\" data-not-app-hidden=\"\" data-not-logged-in-hidden=\"\">__localized_purLogoutAppText:0__<a class=\"border-b border-shade-light text-black hover:border-black focus:border-transparent font-normal font-sansUI text-s leading-normal\" data-adblock-el=\"logoutLink\" data-component=\"AppButton\" data-sara-link=\"gruppenkonto\" data-settings='{\"action\":\"triggerLogout\",\"params\":{\"targetUrl\":\"https://www.spiegel.de/international/world/israeli-palestinian-relations-donald-trump-s-peace-plan-sows-confusion-and-dismay-a-bf74e84d-8e01-4199-9e22-583b740ac381\"}}' href=\"https://gruppenkonto.spiegel.de/abmelden.html?targetUrl=https%3A%2F%2Fwww.spiegel.de%2Finternational%2Fworld%2Fisraeli-palestinian-relations-donald-trump-s-peace-plan-sows-confusion-and-dismay-a-bf74e84d-8e01-4199-9e22-583b740ac381\" title=\"__localized_purLogoutAppText:1__\">__localized_purLogoutAppText:1__</a>__localized_purLogoutAppText:2__\n",
            "</p>, <p class=\"text-shade-dark flex-shrink text-base font-sansUI leading-normal mt-16 mb-24\">\n",
            "__localized_itunesTerms:0__\n",
            "<a class=\"border-b border-shade-light text-black hover:border-black focus:border-transparent font-normal font-sansUI text-base leading-normal\" href=\"https://www.spiegel.de/agb\" title=\"__localized_agbLinkTitle__\">__localized_itunesTerms:1__\n",
            "</a>\n",
            "__localized_itunesTerms:2__\n",
            "<a class=\"border-b border-shade-light text-black hover:border-black focus:border-transparent font-normal font-sansUI text-base leading-normal\" href=\"https://www.spiegel.de/datenschutz-spiegel\" title=\"__localized_privacyLinkTitle__\">__localized_itunesTerms:3__\n",
            "</a>__localized_itunesTerms:4__\n",
            "</p>, <p>Israeli soldiers face off against Palestinian protesters in the Occupied West Bank.</p>, <p>The Israeli and American presidents, Benjamin Netanyahu and Donald Trump, at a press conference in Washington</p>]\n"
          ],
          "name": "stdout"
        }
      ]
    },
    {
      "cell_type": "code",
      "metadata": {
        "colab_type": "code",
        "id": "NenHzzz8MioL",
        "colab": {
          "base_uri": "https://localhost:8080/",
          "height": 819
        },
        "outputId": "2163d3fc-9104-4a7c-8fcb-08f43031ad0c"
      },
      "source": [
        "# Paragragh parser in place \n",
        "\n",
        "value1 = 'RichText RichText--iconLinks lg:w-8/12 md:w-10/12 lg:mx-auto md:mx-auto lg:px-24 md:px-24 sm:px-16 clearfix break-words word-wrap'\n",
        "value2 = 'RichText RichText--iconLinks RichText--lastPmb0 RichText--lastInline lg:w-8/12 md:w-10/12 lg:mx-auto md:mx-auto lg:px-24 md:px-24 sm:px-16 clearfix break-words word-wrap'\n",
        "value_list = [value1, value2]\n",
        "\n",
        "article_body = soup.find_all('div',{'class': value_list})\n",
        "#print('Length of list: {} items \\n'. format(len(article_body)))\n",
        "\n",
        "# Generate list of paragraphs\n",
        "p = []\n",
        "for item in article_body:\n",
        "    par = item.find_all('p')\n",
        "    p.extend(par)\n",
        "print('Length of article: {} paragraphs \\n'. format(len(p)))\n",
        "\n",
        "# Print last 4 words of last sentende to compare with article\n",
        "\n",
        "start_p = str(p[0]).split()\n",
        "end_p = str(p[len(p) - 1]).split()\n",
        "\n",
        "print('These are the first 4 words of your scrape: \\n {} \\n'.format(start_p[0:4]))\n",
        "\n",
        "print('These are the last 4 words of your scrape: \\n {}\\n \\\n",
        "Compare this with the end of your article to see if \\\n",
        "you scraped everything \\n'.format(end_p[-4:]))\n",
        "\n",
        "# Extract content from the html tags\n",
        "\n",
        "file1 = open(\"MyFile.txt\",\"w\") # Open a text file to write to\n",
        "\n",
        "for item in p:\n",
        "    trans = TextBlob(item.text)\n",
        "    # Translate each sentence from German to German\n",
        "    trans = str(trans.translate(to='de'))\n",
        "    print(trans)\n",
        "\n",
        "    file1.write(trans) # write each string to the file \n",
        "\n",
        "file1.close() # close the file\n",
        "\n",
        "# In Colab the file is automatically save where you pointed it.\n",
        "# If you didn't change directories, then it will be here: \\content\\\n",
        "# Make sure you download the file before you close this session because\n",
        "# it will be wiped out when you close the session"
      ],
      "execution_count": 62,
      "outputs": [
        {
          "output_type": "stream",
          "text": [
            "Length of article: 37 paragraphs \n",
            "\n",
            "These are the first 4 words of your scrape: \n",
            " ['<p>The', 'morning', 'after', 'Donald'] \n",
            "\n",
            "These are the last 4 words of your scrape: \n",
            " ['years', \"aren't\", 'nearly', 'enough.</p>']\n",
            " Compare this with the end of your article to see if you scraped everything \n",
            "\n",
            "Am Morgen, nachdem Donald Trump seinen \"Deal des Jahrhunderts\" angekündigt hatte, steht Orit Artsiely am schlammigen, schwarzen Ufer des Jordan und überlegt, was der Deal für sie bedeuten würde. Es hatte die ganze Nacht und bis in den Morgen geregnet und der Himmel beginnt sich gerade zu klären. Die Luft ist warm und feucht und Fliegen haben bereits die Dattelschachtel entdeckt, die Artsiely für ihre Gäste herausgebracht hat.\n",
            "Artsiely ist Finanzminister des Jordan Valley Regional Council (JVRC), einer Dachorganisation für jüdische Siedler. Sie hatte am Abend zuvor mit ihrem Chef gesprochen, der mit einer israelischen Delegation auf einer Reise nach Washington war. Sein Name ist David Elhayani, aber die meisten Leute hier bezeichnen ihn als den Bürgermeister des Jordantals. Er stand kürzlich in einem Raum mit Trump und dem israelischen Premierminister Benjamin Netanyahu. Der amerikanische Präsident redete viel, aber der Bürgermeister hatte Schwierigkeiten zu verstehen, was das alles für das Jordantal bedeuten könnte.\n",
            "\"Er sagte mir: Wir brauchen Details\", sagt Artsiely.\n",
            "Auf die Frage, ob Elhayani zusammen mit den anderen Anwesenden für Trumps Rede klatschte, zuckt sie nur die Achseln.\n",
            "Artsiely sagt, sie habe die Bilder der Pressekonferenz mit Trump und Netanyahu aus Washington gesehen. Trump kündigte an, dass Jerusalem die ungeteilte Hauptstadt Israels bleiben werde. Sein Plan sieht auch vor, dass die Palästinenser Ostjerusalem, das hinter der israelischen Grenzmauer liegt, als ihre Hauptstadt beanspruchen. Die heiligen Stätten auf dem Tempelberg, die den Muslimen als al-Haram al-Sharif bekannt sind, würden von Israel verwaltet. Als Ausgleich für ihre Verluste im Westjordanland würden die Palästinenser Teile der Negev-Wüste erhalten. In der Zwischenzeit würden israelische Siedlungen unberührt bleiben.\n",
            "Natanyahu konnte während der Pressekonferenz in Washington kaum aufhören zu lächeln. Einige Stunden später nannte der palästinensische Präsident Mahmoud Abbas Trumps Plan eine Verschwörung gegen sein Volk.\n",
            "Soviel zum amerikanischen Plan.\n",
            "Ursprünglich hatte Netanjahu geplant, dass sein Kabinett am Sonntag über die Annexion - oder wie er sagt - die Souveränität der Länder im Westjordanland abstimmt. Jetzt sieht es nicht so aus, zumindest vorerst nicht. Der israelische Innenminister war vor ein paar Tagen hier, aber alles, was er sagte, war, dass sie die Papiere in Ordnung bringen würden.\n",
            "\"Wir haben lange gebraucht, um zu verstehen, wie wir das Land fruchtbar machen können\", sagt Artsiely, der seit 1982 im Jordantal lebt. \"Der Boden ist sehr salzig. Wir bauen Datteln, Paprika, Trauben und Mangos an. Wenn ich das verstehe der Innenminister richtig, es sind nicht die Bauern, die jetzt gefragt sind, sondern die Anwälte. \" Der Boden gehört nicht den Bauern. Sie benutzen es einfach.\n",
            "Artsiely hat viele Fragen. Wer wird das Militär ersetzen, das derzeit das Gebiet kontrolliert? Braucht das Tal neue Administratoren?\n",
            "\"Und wer sind unsere Partner? Wenn die Palästinenser nicht mitmachen, können wir den großen Friedensplan vergessen\", sagt sie.\n",
            "Es gibt 27 jüdische Siedlungen im Jordantal, das 1967 nach dem Sechs-Tage-Krieg von Israel besetzt wurde. Heute leben dort rund 9.000 Juden. Sie sind für die Bewirtschaftung des größten Teils des Landes verantwortlich, obwohl dort weit mehr Palästinenser leben - mindestens 65.000. Ihr beliebtester Export sind Datteln. Paprika ist eine weitere beliebte Ernte. Diese werden hauptsächlich nach Russland verkauft, das europäische Paprika boykottiert. So wie Europa einige der israelischen Trauben und Kräuter boykottiert.\n",
            "Ziva Gilad, verantwortlich für Forschung und Entwicklung am JVRC, lebt seit 40 Jahren hier. Sie kam als junge Frau mit einem Abschluss in Pflanzenwissenschaften von der Hebräischen Universität in Jerusalem und einem Baby. Damals, sagt sie, hatte sie Ideale. Sie wollte ein neues, gerechtes und erfolgreiches Israel. Sie stimmte für die Labour Party, genau wie ihre Eltern. Heute hat sie vier Töchter und ein Diplom, aber weniger Ideale.\n",
            "Sie hörte sich die Pressekonferenz in Washington in ihrem Auto an, musste aber schließlich das Radio ausschalten. Sie vertraut Politikern nicht, am allerwenigsten Netanjahu. Auf die Frage, wie das Land, in dem sie lebt, ohne sie und die anderen Siedler aussehen würde, sagt sie: \"Wie Gaza. Trostlos und unfruchtbar. Als wir gingen, zerstörten sie unsere Gewächshäuser.\"\n",
            "Es ist nicht ihr Land, aber ohne sie wäre es nicht so grün.\n",
            "Yaakov Elbaz, der eine Dattelfarm mit 8.000 Palmen betreibt, sagt, als er vor 30 Jahren hier ankam, gab es nur Sand. \"Es gab kein Wasser, keine Palmen und keine Araber.\"\n",
            "Mittlerweile beschäftigt er rund 50 Palästinenser. Gute Leute, sagt er. Sie wollten auch nur in Frieden leben und für ihre Familien sorgen. Er ist sogar mit einigen von ihnen befreundet. Aber das hindert ihn nicht daran, mit einer Waffe unter dem Kissen zu schlafen, sagt er - oder einem M16-Gewehr neben seinem Bett. Die jordanische Grenze ist nur wenige Kilometer entfernt.\n",
            "Elbaz zeigt auf die Berge, die in der Mittagssonne schimmern. Er sagte den meisten seiner Arbeiter, sie sollten heute nicht hereinkommen, da es am Morgen geregnet hatte. Drei Palästinenser hocken in einem alten Container zwischen den Palmen. Sie sagen, sie wollen nicht reden, weil es sowieso nie gut tut.\n",
            "Einer von ihnen ändert anscheinend seine Meinung und steht auf. Er heißt Tarek Hossni. Er lebt in Nablus und arbeitet seit fünf Jahren auf der Farm. Elbaz ist ein guter Chef, sagt er, und die Bezahlung ist auch gut. Er trägt ein Sweatshirt mit dem Wort \"Unbreakable\" auf der Vorderseite in großen Buchstaben. Aber Hossni erweckt nicht wirklich den Eindruck, dass dieses Wort auf ihn zutrifft.\n",
            "Salem Ghrouf dagegen? Sprechen Sie über unzerbrechlich. Er ist der Bürgermeister von Jericho, einer palästinensischen Stadt im Jordantal. Wenn Trumps Friedensplan umgesetzt wird, würde Jericho eine palästinensische Insel in einem Meer von annektiertem Land werden.\n",
            "Ghrouf hat einen ernsten Gesichtsausdruck. Er sitzt zwischen Bildern der ehemaligen und gegenwärtigen palästinensischen Präsidenten Yasser Arafat und Mahmoud Abbas und vor einem der Felsendome. Wenn der Bürgermeister von Jericho spricht, dann von Jerusalem, der heiligen Stadt, die Trump erst am Tag zuvor zur ungeteilten Hauptstadt Israels erklärt hatte. \"In Jerusalem wurde unser Blut vergossen\", sagt Ghrouf. \"Unsere Märtyrer sind dort gestorben. Wir werden diese Stadt niemals aufgeben.\"\n",
            "Auf dem Tisch stehen große Aschenbecher und Gläser mit süßem Tee. Während er über die Geschichte Palästinas spricht, geht Ghrouf bis ins Jahr 1917 zurück, das Jahr der Balfour-Erklärung, mit dem die britische Regierung ihre Unterstützung für ein jüdisches Heimatland in Palästina bekräftigte - und als das ganze Unglück begann. \"Das Problem sind nicht die Juden, sondern der Zionismus\", sagt der Bürgermeister.\n",
            "Nach den Osloer Abkommen hatten die Palästinenser laut Ghrouf nur noch 22 Prozent ihres Landes. Und jetzt sollen sie wieder 40 Prozent davon abgeben. \"Wo ist der Deal?\" Schreit Ghrouf. \"Wir lehnen diesen Plan ab. Er ist unfair. Er gibt Menschen Rechte, die keine Rechte haben.\"\n",
            "Er beschreibt eine Stadt, die von der umliegenden Landschaft abgeschnitten wäre. Das entspricht einem Plan, der weniger ein Plan als vielmehr ein \"Projekt\" ist, das die wirtschaftlichen und sozialen Beziehungen ruinieren, Familien zerstören und Jericho vom \"Brotkorb\" des restlichen Landes trennen würde. Ghrouf sagt, das Tal würde in Stücke geschnitten. Es sollte ursprünglich ein Zuhause für die in der Diaspora lebenden Palästinenser sein. Eines Tages sollten hier 13 Millionen leben. Das war der Plan. Ihr Plan.\n",
            "Trumps Plan ist jedoch nicht der Anfang, sondern das Ende der Zwei-Staaten-Lösung, sagt er. Deshalb sagen Ghrouf und andere, dass sie ihn mit allen notwendigen Mitteln bekämpfen werden.\n",
            "Haben sie nicht nach \"Days of Rage\" gerufen? Jericho wirkt seltsam friedlich, fast schläfrig.\n",
            "\"Die Nachrichten aus Amerika gestern waren wie ein elektrischer Schlag. Die Leute brauchen Zeit, um sie zu verarbeiten\", sagt der Bürgermeister. Er wartet auf Marschbefehle von palästinensischen Führern. \"Wir haben keine Waffen und wir wollen keine dritte Intifada.\" Er macht eine Pause. \"Aber.\"\n",
            "Aber?\n",
            "\"Wenn Sie einen Hund in eine Ecke zurückbringen, wird er Sie beißen\", sagt er.\n",
            "Geschenke aus Jerichos Partnerstädten hängen in seinem Büro an der Wand. Es gibt ein Bild eines Fjords in Norwegen und einen Stich des Rathauses in Wiesbaden. Dies ist die Welt, mit der sich der Bürgermeister verbunden fühlt. Jeder muss zum Verhandlungstisch zurückkehren, sagt er. Der Bürgermeister geht weiter und weiter. Es ist leicht vorstellbar, dass er weiter redet, selbst wenn das Wasser um seine schrumpfende Insel steigt.\n",
            "Ismail Daiq ist ein erfolgreicher palästinensischer Dattelbauer im Jordantal. Er erklärt, wie die Gegend in naher Zukunft aussehen könnte. Er steckt eine Karte des Tals an eine Wand.\n",
            "Zwei Drittel der von ihm bewirtschafteten Plantagen fallen in das Gebiet, das im Rahmen des sogenannten Friedensplans annektiert werden soll. Daiq, der einst als Landwirtschaftsminister für die palästinensischen Gebiete fungierte, sagt, dass die Zukunft durch einen Blick in die Vergangenheit erraten werden kann.\n",
            "\"Das letzte Mal geschah dies nach dem Bau der Mauer, als palästinensische Bauern allmählich von ihrem Land getrennt wurden.\" Der Zugang wird immer schwieriger und die Wartezeiten an den Grenzen länger. Sie dienen dazu, spezielle Papiere auszufüllen, und es kommt häufig zu Belästigungen. Einige palästinensische Bauern haben aufgegeben.\n",
            "\"Wenn wir unser gesamtes Land bewirtschaften könnten, würden wir die 50 Milliarden Dollar, die uns dieser angebliche Deal bietet, nicht brauchen\", sagt Daiq.\n",
            "Als die Sonne hinter den Bergen Jerusalems untergeht, beklagt Daiq die schlaflosen Nächte, unter denen er leidet, und die Ungerechtigkeiten seiner israelischen Nachbarn. Die jüdischen Siedler erhalten Subventionen von der israelischen Regierung. Die Palästinenser hingegen hatten kürzlich 120 Traktoren beschlagnahmt. Man sagte ihnen nicht warum, nur dass sie eine Gebühr zahlen müssten, wenn sie ihre Maschinen zurückhaben wollten.\n",
            "Er zeigt auf eine Stelle in der Ferne, an der die Traktoren gehalten werden, aber die Sonne ist zu hell, um sie zu sehen. Es wird bald dunkel sein. Im Laufe des Tages erzählt Daiq die Geschichte von Königin Esther aus dem Alten Testament, die die Juden vor dem Massenmord durch die Perser rettete. Er erwähnt eine alte Schrift, die auf Eselshaut geschrieben ist und beweist, dass die Palästinenser vor etwa 3.000 Jahren Datteln in diesen Ländern kultivierten.\n",
            "Trump rühmt sich eines \"Deals des Jahrhunderts\". Aber für Daiq, den Dattelbauern aus dem Jordantal, reichen 100 Jahre bei weitem nicht aus.\n"
          ],
          "name": "stdout"
        }
      ]
    },
    {
      "cell_type": "code",
      "metadata": {
        "id": "tpKJR-nwRDwY",
        "colab_type": "code",
        "colab": {
          "base_uri": "https://localhost:8080/",
          "height": 34
        },
        "outputId": "cf0c7c52-5395-4f62-fd1f-304c38c1faa7"
      },
      "source": [
        "# Confirm File exists in directory\n",
        "%ls"
      ],
      "execution_count": 49,
      "outputs": [
        {
          "output_type": "stream",
          "text": [
            "MyFile.txt  \u001b[0m\u001b[01;34msample_data\u001b[0m/\n"
          ],
          "name": "stdout"
        }
      ]
    }
  ]
}