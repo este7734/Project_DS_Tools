{
  "nbformat": 4,
  "nbformat_minor": 0,
  "metadata": {
    "kernelspec": {
      "name": "python3",
      "display_name": "Python 3"
    },
    "language_info": {
      "codemirror_mode": {
        "name": "ipython",
        "version": 3
      },
      "file_extension": ".py",
      "mimetype": "text/x-python",
      "name": "python",
      "nbconvert_exporter": "python",
      "pygments_lexer": "ipython3",
      "version": "3.6.3"
    },
    "colab": {
      "name": "Web_Scraping_Lozano_Durkee.ipynb",
      "provenance": [],
      "collapsed_sections": [
        "eEEcBUz0c6bA"
      ],
      "toc_visible": true,
      "include_colab_link": true
    },
    "accelerator": "GPU"
  },
  "cells": [
    {
      "cell_type": "markdown",
      "metadata": {
        "id": "view-in-github",
        "colab_type": "text"
      },
      "source": [
        "<a href=\"https://colab.research.google.com/github/este7734/Project_DS_Tools/blob/master/Web_Scraping_Lozano_Durkee.ipynb\" target=\"_parent\"><img src=\"https://colab.research.google.com/assets/colab-badge.svg\" alt=\"Open In Colab\"/></a>"
      ]
    },
    {
      "cell_type": "markdown",
      "metadata": {
        "id": "BN9ohTbVivxQ",
        "colab_type": "text"
      },
      "source": [
        "# Data Science Tools and Techniques\n",
        "\n",
        "# Web Scraping Exercise"
      ]
    },
    {
      "cell_type": "markdown",
      "metadata": {
        "colab_type": "text",
        "id": "OR_FsSDosTc5"
      },
      "source": [
        "## <font color='green'> Import </font> Dependencies"
      ]
    },
    {
      "cell_type": "code",
      "metadata": {
        "colab_type": "code",
        "outputId": "f39088ed-18e6-4101-e0f8-0352941fc2e4",
        "id": "_F9Q7Td-sRVi",
        "colab": {
          "base_uri": "https://localhost:8080/",
          "height": 70
        }
      },
      "source": [
        "# Import libraries for processing web text\n",
        "from bs4 import BeautifulSoup\n",
        "import requests\n",
        "\n",
        "from textblob import TextBlob\n",
        "import numpy as np\n",
        "import matplotlib.pyplot as plt\n",
        "\n",
        "# Import these dependencies if using Google Colab \n",
        "import nltk\n",
        "nltk.download('punkt')"
      ],
      "execution_count": 14,
      "outputs": [
        {
          "output_type": "stream",
          "text": [
            "[nltk_data] Downloading package punkt to /root/nltk_data...\n",
            "[nltk_data]   Package punkt is already up-to-date!\n"
          ],
          "name": "stdout"
        },
        {
          "output_type": "execute_result",
          "data": {
            "text/plain": [
              "True"
            ]
          },
          "metadata": {
            "tags": []
          },
          "execution_count": 14
        }
      ]
    },
    {
      "cell_type": "code",
      "metadata": {
        "id": "9p-WjahKhe53",
        "colab_type": "code",
        "colab": {}
      },
      "source": [
        "# get HTML page \n",
        "\n",
        "url1 = 'https://www.spiegel.de/international/business/trump-and-deutsche-bank-a-b956729f-9e10-412c-ae25-b9cedeebded3'\n",
        "url2 = 'https://www.spiegel.de/international/world/israeli-palestinian-relations-donald-trump-s-peace-plan-sows-confusion-and-dismay-a-bf74e84d-8e01-4199-9e22-583b740ac381'\n",
        "url3 = 'https://www.spiegel.de/international/world/when-mourning-turns-to-anger-two-days-and-two-nights-in-tehran-a-09dfd962-dbc1-4020-bbc1-03c6fadffbb1'\n",
        "url4 = 'https://www.spiegel.de/international/europe/how-russia-s-president-is-preparing-his-own-succession-a-437a6718-aa0c-4760-a548-4735b8a844e9'\n",
        "\n",
        "# Change the varbialbe in the .get method to the page you want to scrape\n",
        "page = requests.get(url1)"
      ],
      "execution_count": 0,
      "outputs": []
    },
    {
      "cell_type": "code",
      "metadata": {
        "id": "5rt9wxbyhe58",
        "colab_type": "code",
        "colab": {}
      },
      "source": [
        "# get soup\n",
        "def get_soup(page):\n",
        "    soup = BeautifulSoup(page.content, 'html.parser')\n",
        "    return soup"
      ],
      "execution_count": 0,
      "outputs": []
    },
    {
      "cell_type": "markdown",
      "metadata": {
        "id": "JJyvLrx8he6C",
        "colab_type": "text"
      },
      "source": [
        "Create a Beautiful Soup object from the imported HTML document."
      ]
    },
    {
      "cell_type": "code",
      "metadata": {
        "id": "Kwh7PydThe6E",
        "colab_type": "code",
        "colab": {}
      },
      "source": [
        "soup = get_soup(page)"
      ],
      "execution_count": 0,
      "outputs": []
    },
    {
      "cell_type": "markdown",
      "metadata": {
        "id": "WPhTNJ_Dhe6K",
        "colab_type": "text"
      },
      "source": [
        "## Open the HTML document in a text viewer.  Before you pull tag content, understand the tag structure of the document.\n",
        "\n",
        "---\n",
        "\n"
      ]
    },
    {
      "cell_type": "markdown",
      "metadata": {
        "id": "n_gJkTbrNtWG",
        "colab_type": "text"
      },
      "source": [
        "Pull title from article"
      ]
    },
    {
      "cell_type": "code",
      "metadata": {
        "id": "BKGE2J0w-_sb",
        "colab_type": "code",
        "outputId": "b25c2e04-5236-4684-88ff-a12a7bbe602a",
        "colab": {
          "base_uri": "https://localhost:8080/",
          "height": 34
        }
      },
      "source": [
        "title = soup.find_all('h2')[0].contents[3].text\n",
        "title"
      ],
      "execution_count": 19,
      "outputs": [
        {
          "output_type": "execute_result",
          "data": {
            "text/plain": [
              "'\"Deutsche Bank Turned a Blind Eye to All These Red Flags\"\\n'"
            ]
          },
          "metadata": {
            "tags": []
          },
          "execution_count": 19
        }
      ]
    },
    {
      "cell_type": "markdown",
      "metadata": {
        "id": "92tuW95dN6DS",
        "colab_type": "text"
      },
      "source": [
        "Extract all the hyperlinks in the article"
      ]
    },
    {
      "cell_type": "markdown",
      "metadata": {
        "id": "jI50LXd-he6T",
        "colab_type": "raw"
      },
      "source": [
        "Anchors are used in HTML documents for a lot of different things.  One of the primary uses of anchors is to embed hyperlinks.  In the 'a' tag, there is an attribute called 'href' that specifies the hyperlink reference.\n",
        "\n",
        "The above markup will display a hyperlink that points 'hyperlink text' the href value.\n",
        "\n",
        "Beautiful soup can be used to pull specific inforamation from HTML tags.  For example, if you want all hyperlink references from links, you could use the following:\n",
        "\n",
        "links = []\n",
        "for item in anchors:\n",
        "    link = item.get('href')\n",
        "    links.append(link)\n",
        "\n",
        "You've already generated a list of all anchors.  Now, iterate over that list and collect all hyperlinks in the document in the space below, and print the list of hyperlinks."
      ]
    },
    {
      "cell_type": "markdown",
      "metadata": {
        "id": "MGTAp3UPhe6g",
        "colab_type": "text"
      },
      "source": [
        "## Extract all p tabs to pull the article body"
      ]
    },
    {
      "cell_type": "code",
      "metadata": {
        "id": "OF4n7pnEhe6i",
        "colab_type": "code",
        "outputId": "cba6b225-f7a9-42e0-d0c9-63172b7a3ceb",
        "colab": {
          "base_uri": "https://localhost:8080/",
          "height": 356
        }
      },
      "source": [
        "article_body = soup.find_all('p')\n",
        "print('Article Length: {} lines \\n'.format(len(article_body)))\n",
        "print(article_body)\n"
      ],
      "execution_count": 21,
      "outputs": [
        {
          "output_type": "stream",
          "text": [
            "Article Length: 33 lines \n",
            "\n",
            "[<p><strong>U.S. President Donald Trump:</strong> \"They almost single-handedly enabled him to bounce back from all his business failures.\"</p>, <p><em>David Enrich, 40, is the author of \"Dark Towers: Deutsche Bank, Donald Trump, and an Epic Trail of Destruction.\" He works as a finance journalist for the New York Times. Prior to that he led an investigative team at the Wall Street Journal. He is the recipient of several journalism prizes.</em></p>, <p><strong>DER SPIEGEL:</strong> Mr. Enrich, the subtitle of your book is \"Deutsche Bank, Donald Trump, and an Epic Trail of Destruction.” The destruction of what?</p>, <p><strong>Enrich:</strong> Take your pick. This is a bank that has been involved in really serious scandals all over the world, ranging from money laundering and manipulating markets to violating international sanctions, from bribing public officials to deceiving governments and regulators. A lot of banks have been involved in very serious scandals over the past decade or two, but Deutsche Bank has been at or near the center of more of them than anyone else.</p>, <p><strong>Investigative journalist David Enrich:</strong> \"They really were blinded by greed.\"</p>, <p>Peter Eavis</p>, <p><strong>DER SPIEGEL:</strong> Among the problematic episodes in the bank’s recent history has been its relationship with its perhaps best-known client, U.S. President Donald Trump. You make the case that Deutsche Bank helped get Trump elected in 2016. How so?</p>, <p><strong>Enrich:</strong> Donald Trump was completely off limits, unbankable with the mainstream financial institutions for many years because he had defaulted over and over again. And then Deutsche Bank comes in. It was trying to make a name for itself in the United States market and was under pressure from people like (<em>then Deutsche Bank CEO</em>) Josef Ackermann to maximize short term profits. They turned a blind eye to all these red flags that were raised internally and externally about the risks of doing business with someone like Trump. They almost single-handedly enabled him to bounce back from all his business failures and keep building, which Donald Trump then used very successfully to portray himself as a successful businessman and real estate mogul. That was one of the foundations for his successful White House campaign.</p>, <p><strong>DER SPIEGEL:</strong> Deutsche Bank remained committed to Trump even after he defaulted on a loan of over $300 million and then sued the bank on top of that. Why?</p>, <p><strong>Enrich:</strong> They kept thinking that the fees they could generate from Trump on the short term were worth the very substantial long-term risks. And in all honesty, that turned out to be true. The relationship with Trump over 20 years has probably been quite profitable for Deutsche Bank.<em> </em>He’s paid a lot in fees and interest. But I would argue that the reputational damage to the bank for being the only financial institution willing to support Donald Trump probably exceeds the financial value of the fees they've received over those two decades.</p>, <p><strong>DER SPIEGEL:</strong> Why did Deutsche Bank continue to lend money to Trump even after he had become toxic to pretty much every other major financial institution?</p>, <p><strong>Enrich:</strong> Two things. One is that they really were blinded by greed. The other thing is that Deutsche Bank had a really poisonous internal culture. Different divisions of the bank and different executives within the bank were pitted against each other and sometimes were in a state of all-out war. When inspectors from (the investment banking division) raised concerns and said \"we've had very bad experiences in the past and institutionally we really should not be doing this,” people in the private banking division perceived that as the investment bankers essentially trying to undermine them out of professional jealousy or envy. And they were kind of right, actually. There was just this very destructive competition going on between different wings of the bank. It's a very clear example of how leaders like Ackermann, Anshu Jain and Jürgen Fitschen really failed.</p>, <p><strong>DER SPIEGEL:</strong> Two committees in the House of Representatives, which is controlled by the Democrats, have subpoenaed Trump's financial records. The Supreme Court is expected to rule on that subpoena later this year. What might those documents reveal?</p>, <p><strong>Enrich:</strong> They will potentially reveal all of Donald Trump's innermost financial secrets. Deutsche Bank, over the past 20 years or so, has collected enormous amounts of material on Trump's personal finances, his businesses and his family's finances. Trump has spent many years fighting really aggressively to keep this information out of the public domain. The bank also has its own records of some of the concerns that were raised internally about various elements of the Trump business - cases where employees of the bank raised concerns about potentially suspicious transactions from a money laundering standpoint.</p>, <p><strong>DER SPIEGEL:</strong> The Russiagate scandal is another area where Deutsche Bank’s records on its relationship to Trump could provide some clarity. Some suspect that Deutsche Bank might have served as a conduit for Russian money flowing into the Trump organization. Might the documents demanded by the House shed some light on the issue?</p>, <p><strong>Enrich:</strong> The short answer is, I don't know. If there is any truth to that rumor, I would expect that there will be some answers in those documents. But if the documents do not show evidence of Deutsche Bank serving as a conduit for Russian money, people who are inclined to believe that conspiracy theory are still going to believe it. They're just going to say: \"Well, the evidence hasn’t emerged yet, or it’s being hidden.” I and many other journalists have spent years trying to get to the bottom of this and haven’t been able to. But that doesn’t mean it's not true.</p>, <p><strong>DER SPIEGEL:</strong> Did regulatory failure also play a role in Deutsche Bank’s transgressions?</p>, <p><strong>Enrich:</strong> There’s so much blame to go around. Ackermann deserves a huge amount of blame. Jain deserves a huge amount of blame. The supervisory board deserves a huge amount of blame. But regulators in the U.S. and Germany also deserve a huge amount of blame. BaFin (<em>Germany’s Federal Financial Supervisory Authority</em>), in particular, viewed its role for many years less as overseeing and monitoring the books and more as defending Deutsche Bank from what it perceived as overzealous regulators in other parts of the world. And American regulators also completely missed opportunities - over and over again – to come down hard on Deutsche Bank.</p>, <p><strong>DER SPIEGEL:</strong> Having described the \"trail of destruction” in your in your book, do you see a path to redemption?</p>, <p><strong>Enrich:</strong> I don't know how successful they'll be, but I think the current management of the bank is actually trying pretty hard to get things back on the right path. The problem is that the damage has already been done and the problematic elements of the bank are deeply embedded in its finances and its culture. Investors, regulators, especially in the U.S., and a lot of employees I've spoken with remain really skeptical.</p>, <p>__localized_intro__</p>, <p>__localized_unblockIntro__</p>, <p class=\"text-shade-dark flex-shrink text-s font-sansUI leading-normal\">\n",
            "__localized_unblockInstructions:0__\n",
            "<a class=\"border-b border-shade-light text-black hover:border-black focus:border-transparent font-normal font-sansUI text-s leading-normal\" href=\"https://www.spiegel.de/adblocker-hilfe\" title=\"__localized_unblockInstructionsAdblockerHelp__\">__localized_unblockInstructions:1__</a>__localized_unblockInstructions:2__\n",
            "</p>, <p data-app-hidden=\"\">__localized_purIntro__</p>, <p data-not-app-hidden=\"\">__localized_purIntroApp__</p>, <p class=\"text-shade-dark text-s font-sansUI leading-normal mb-12\" data-not-app-hidden=\"\">\n",
            "__localized_purDetailsAppText:0__\n",
            "<a class=\"border-b border-shade-light text-black hover:border-black focus:border-transparent font-normal font-sansUI text-s leading-normal\" href=\"__localized_privacyLinkUrl__\" title=\"__localized_privacyLinkTitle__\">__localized_purDetailsAppText:1__</a>__localized_purDetailsAppText:2__\n",
            "</p>, <p class=\"text-shade-dark text-s font-sansUI leading-normal\" data-logged-in-hidden=\"\">__localized_purLoginAppText:0__<a class=\"border-b border-shade-light text-black hover:border-black focus:border-transparent font-normal font-sansUI text-s leading-normal\" data-adblock-el=\"loginLink\" data-component=\"AppButton\" data-settings='{\"action\":\"triggerLogin\",\"params\":{\"targetUrl\":\"https://www.spiegel.de/international/business/trump-and-deutsche-bank-a-b956729f-9e10-412c-ae25-b9cedeebded3\"}}' href=\"https://gruppenkonto.spiegel.de/authenticate?requestAccessToken=true&amp;targetUrl=https%3A%2F%2Fwww.spiegel.de%2Finternational%2Fbusiness%2Ftrump-and-deutsche-bank-a-b956729f-9e10-412c-ae25-b9cedeebded3\" title=\"__localized_purLoginAppText:1__\">__localized_purLoginAppText:1__</a>__localized_purLoginAppText:2__\n",
            "</p>, <p class=\"text-shade-dark text-s font-sansUI leading-normal\" data-not-app-hidden=\"\" data-not-logged-in-hidden=\"\">__localized_purLogoutAppText:0__<a class=\"border-b border-shade-light text-black hover:border-black focus:border-transparent font-normal font-sansUI text-s leading-normal\" data-adblock-el=\"logoutLink\" data-component=\"AppButton\" data-settings='{\"action\":\"triggerLogout\",\"params\":{\"targetUrl\":\"https://www.spiegel.de/international/business/trump-and-deutsche-bank-a-b956729f-9e10-412c-ae25-b9cedeebded3\"}}' href=\"https://gruppenkonto.spiegel.de/abmelden.html?targetUrl=https%3A%2F%2Fwww.spiegel.de%2Finternational%2Fbusiness%2Ftrump-and-deutsche-bank-a-b956729f-9e10-412c-ae25-b9cedeebded3\" title=\"__localized_purLogoutAppText:1__\">__localized_purLogoutAppText:1__</a>__localized_purLogoutAppText:2__\n",
            "</p>, <p class=\"text-shade-dark flex-shrink text-base font-sansUI leading-normal mt-16 mb-24\">\n",
            "__localized_itunesTerms:0__\n",
            "<a class=\"border-b border-shade-light text-black hover:border-black focus:border-transparent font-normal font-sansUI text-base leading-normal\" href=\"https://www.spiegel.de/agb\" title=\"__localized_agbLinkTitle__\">__localized_itunesTerms:1__\n",
            "</a>\n",
            "__localized_itunesTerms:2__\n",
            "<a class=\"border-b border-shade-light text-black hover:border-black focus:border-transparent font-normal font-sansUI text-base leading-normal\" href=\"https://www.spiegel.de/datenschutz-spiegel\" title=\"__localized_privacyLinkTitle__\">__localized_itunesTerms:3__\n",
            "</a>__localized_itunesTerms:4__\n",
            "</p>, <p><strong>U.S. President Donald Trump:</strong> \"They almost single-handedly enabled him to bounce back from all his business failures.\"</p>, <p><strong>Investigative journalist David Enrich:</strong> \"They really were blinded by greed.\"</p>, <p>Peter Eavis</p>, <p>Melden Sie sich an und diskutieren Sie mit</p>]\n"
          ],
          "name": "stdout"
        }
      ]
    },
    {
      "cell_type": "code",
      "metadata": {
        "colab_type": "code",
        "outputId": "7e029019-d144-4ce9-a007-7bbb3817d819",
        "id": "NenHzzz8MioL",
        "colab": {
          "base_uri": "https://localhost:8080/",
          "height": 498
        }
      },
      "source": [
        "# Paragragh parser in place \n",
        "\n",
        "value1 = 'RichText RichText--iconLinks lg:w-8/12 md:w-10/12 lg:mx-auto md:mx-auto lg:px-24 md:px-24 sm:px-16 clearfix break-words word-wrap'\n",
        "value2 = 'RichText RichText--iconLinks RichText--lastPmb0 RichText--lastInline lg:w-8/12 md:w-10/12 lg:mx-auto md:mx-auto lg:px-24 md:px-24 sm:px-16 clearfix break-words word-wrap'\n",
        "value_list = [value1, value2]\n",
        "\n",
        "article_body = soup.find_all('div',{'class': value_list})\n",
        "#print('Length of list: {} items \\n'. format(len(article_body)))\n",
        "\n",
        "# Generate list of paragraphs\n",
        "p = []\n",
        "for item in article_body:\n",
        "    par = item.find_all('p')\n",
        "    p.extend(par)\n",
        "print('Length of article: {} paragraphs \\n'. format(len(p)))\n",
        "\n",
        "# Print last 4 words of last sentende to compare with article\n",
        "\n",
        "start_p = str(p[0]).split()\n",
        "end_p = str(p[len(p) - 1]).split()\n",
        "\n",
        "print('These are the first 4 words of your scrape: \\n {} \\n'.format(start_p[0:4]))\n",
        "\n",
        "print('These are the last 4 words of your scrape: \\n {}\\n \\\n",
        "Compare this with the end of your article to see if \\\n",
        "you scraped everything \\n'.format(end_p[-4:]))\n",
        "\n",
        "# Extract content from the html tags\n",
        "\n",
        "file1 = open(\"MyFile.txt\",\"w\") # Open a text file to write to\n",
        "\n",
        "for item in p:\n",
        "    print(item.text)\n",
        "\n",
        "    file1.write(item.text) # write each string to the file \n",
        "\n",
        "file1.close() # close the file\n",
        "\n",
        "# In Colab the file is automatically save where you pointed it.\n",
        "# If you didn't change directories, then it will be here: \\content\\\n",
        "# Make sure you download the file before you close this session because\n",
        "# it will be wiped out when you close the session"
      ],
      "execution_count": 8,
      "outputs": [
        {
          "output_type": "stream",
          "text": [
            "Length of article: 17 paragraphs \n",
            "\n",
            "These are the first 4 words of your scrape: \n",
            " ['<p><em>David', 'Enrich,', '40,', 'is'] \n",
            "\n",
            "These are the last 4 words of your scrape: \n",
            " ['with', 'remain', 'really', 'skeptical.</p>']\n",
            " Compare this with the end of your article to see if you scraped everything \n",
            "\n",
            "David Enrich, 40, is the author of \"Dark Towers: Deutsche Bank, Donald Trump, and an Epic Trail of Destruction.\" He works as a finance journalist for the New York Times. Prior to that he led an investigative team at the Wall Street Journal. He is the recipient of several journalism prizes.\n",
            "DER SPIEGEL: Mr. Enrich, the subtitle of your book is \"Deutsche Bank, Donald Trump, and an Epic Trail of Destruction.” The destruction of what?\n",
            "Enrich: Take your pick. This is a bank that has been involved in really serious scandals all over the world, ranging from money laundering and manipulating markets to violating international sanctions, from bribing public officials to deceiving governments and regulators. A lot of banks have been involved in very serious scandals over the past decade or two, but Deutsche Bank has been at or near the center of more of them than anyone else.\n",
            "DER SPIEGEL: Among the problematic episodes in the bank’s recent history has been its relationship with its perhaps best-known client, U.S. President Donald Trump. You make the case that Deutsche Bank helped get Trump elected in 2016. How so?\n",
            "Enrich: Donald Trump was completely off limits, unbankable with the mainstream financial institutions for many years because he had defaulted over and over again. And then Deutsche Bank comes in. It was trying to make a name for itself in the United States market and was under pressure from people like (then Deutsche Bank CEO) Josef Ackermann to maximize short term profits. They turned a blind eye to all these red flags that were raised internally and externally about the risks of doing business with someone like Trump. They almost single-handedly enabled him to bounce back from all his business failures and keep building, which Donald Trump then used very successfully to portray himself as a successful businessman and real estate mogul. That was one of the foundations for his successful White House campaign.\n",
            "DER SPIEGEL: Deutsche Bank remained committed to Trump even after he defaulted on a loan of over $300 million and then sued the bank on top of that. Why?\n",
            "Enrich: They kept thinking that the fees they could generate from Trump on the short term were worth the very substantial long-term risks. And in all honesty, that turned out to be true. The relationship with Trump over 20 years has probably been quite profitable for Deutsche Bank. He’s paid a lot in fees and interest. But I would argue that the reputational damage to the bank for being the only financial institution willing to support Donald Trump probably exceeds the financial value of the fees they've received over those two decades.\n",
            "DER SPIEGEL: Why did Deutsche Bank continue to lend money to Trump even after he had become toxic to pretty much every other major financial institution?\n",
            "Enrich: Two things. One is that they really were blinded by greed. The other thing is that Deutsche Bank had a really poisonous internal culture. Different divisions of the bank and different executives within the bank were pitted against each other and sometimes were in a state of all-out war. When inspectors from (the investment banking division) raised concerns and said \"we've had very bad experiences in the past and institutionally we really should not be doing this,” people in the private banking division perceived that as the investment bankers essentially trying to undermine them out of professional jealousy or envy. And they were kind of right, actually. There was just this very destructive competition going on between different wings of the bank. It's a very clear example of how leaders like Ackermann, Anshu Jain and Jürgen Fitschen really failed.\n",
            "DER SPIEGEL: Two committees in the House of Representatives, which is controlled by the Democrats, have subpoenaed Trump's financial records. The Supreme Court is expected to rule on that subpoena later this year. What might those documents reveal?\n",
            "Enrich: They will potentially reveal all of Donald Trump's innermost financial secrets. Deutsche Bank, over the past 20 years or so, has collected enormous amounts of material on Trump's personal finances, his businesses and his family's finances. Trump has spent many years fighting really aggressively to keep this information out of the public domain. The bank also has its own records of some of the concerns that were raised internally about various elements of the Trump business - cases where employees of the bank raised concerns about potentially suspicious transactions from a money laundering standpoint.\n",
            "DER SPIEGEL: The Russiagate scandal is another area where Deutsche Bank’s records on its relationship to Trump could provide some clarity. Some suspect that Deutsche Bank might have served as a conduit for Russian money flowing into the Trump organization. Might the documents demanded by the House shed some light on the issue?\n",
            "Enrich: The short answer is, I don't know. If there is any truth to that rumor, I would expect that there will be some answers in those documents. But if the documents do not show evidence of Deutsche Bank serving as a conduit for Russian money, people who are inclined to believe that conspiracy theory are still going to believe it. They're just going to say: \"Well, the evidence hasn’t emerged yet, or it’s being hidden.” I and many other journalists have spent years trying to get to the bottom of this and haven’t been able to. But that doesn’t mean it's not true.\n",
            "DER SPIEGEL: Did regulatory failure also play a role in Deutsche Bank’s transgressions?\n",
            "Enrich: There’s so much blame to go around. Ackermann deserves a huge amount of blame. Jain deserves a huge amount of blame. The supervisory board deserves a huge amount of blame. But regulators in the U.S. and Germany also deserve a huge amount of blame. BaFin (Germany’s Federal Financial Supervisory Authority), in particular, viewed its role for many years less as overseeing and monitoring the books and more as defending Deutsche Bank from what it perceived as overzealous regulators in other parts of the world. And American regulators also completely missed opportunities - over and over again – to come down hard on Deutsche Bank.\n",
            "DER SPIEGEL: Having described the \"trail of destruction” in your in your book, do you see a path to redemption?\n",
            "Enrich: I don't know how successful they'll be, but I think the current management of the bank is actually trying pretty hard to get things back on the right path. The problem is that the damage has already been done and the problematic elements of the bank are deeply embedded in its finances and its culture. Investors, regulators, especially in the U.S., and a lot of employees I've spoken with remain really skeptical.\n"
          ],
          "name": "stdout"
        }
      ]
    },
    {
      "cell_type": "code",
      "metadata": {
        "id": "tpKJR-nwRDwY",
        "colab_type": "code",
        "outputId": "889ba0a2-18fa-4e61-8c0d-db823c047000",
        "colab": {
          "base_uri": "https://localhost:8080/",
          "height": 34
        }
      },
      "source": [
        "%ls"
      ],
      "execution_count": 9,
      "outputs": [
        {
          "output_type": "stream",
          "text": [
            "MyFile.txt  \u001b[0m\u001b[01;34msample_data\u001b[0m/\n"
          ],
          "name": "stdout"
        }
      ]
    },
    {
      "cell_type": "code",
      "metadata": {
        "colab_type": "code",
        "id": "BZ-hKOQnxYa0",
        "colab": {}
      },
      "source": [
        "#open text\n",
        "def open_text(file_path):\n",
        "    with open(file_path, 'r') as document:\n",
        "        text = document.read()\n",
        "    return text"
      ],
      "execution_count": 0,
      "outputs": []
    },
    {
      "cell_type": "code",
      "metadata": {
        "id": "svR2KoR3s2-H",
        "colab_type": "code",
        "colab": {}
      },
      "source": [
        "file_path = r'MyFile.txt'"
      ],
      "execution_count": 0,
      "outputs": []
    },
    {
      "cell_type": "code",
      "metadata": {
        "colab_type": "code",
        "outputId": "dc635970-86b5-4a6a-b83f-6ff5319b7a6e",
        "id": "MFvFVAm9ssp_",
        "colab": {
          "base_uri": "https://localhost:8080/",
          "height": 54
        }
      },
      "source": [
        "text = open_text(file_path)\n",
        "text"
      ],
      "execution_count": 27,
      "outputs": [
        {
          "output_type": "execute_result",
          "data": {
            "text/plain": [
              "'David Enrich, 40, is the author of \"Dark Towers: Deutsche Bank, Donald Trump, and an Epic Trail of Destruction.\" He works as a finance journalist for the New York Times. Prior to that he led an investigative team at the Wall Street Journal. He is the recipient of several journalism prizes.DER SPIEGEL: Mr. Enrich, the subtitle of your book is \"Deutsche Bank, Donald Trump, and an Epic Trail of Destruction.” The destruction of what?Enrich: Take your pick. This is a bank that has been involved in really serious scandals all over the world, ranging from money laundering and manipulating markets to violating international sanctions, from bribing public officials to deceiving governments and regulators. A lot of banks have been involved in very serious scandals over the past decade or two, but Deutsche Bank has been at or near the center of more of them than anyone else.DER SPIEGEL: Among the problematic episodes in the bank’s recent history has been its relationship with its perhaps best-known client, U.S. President Donald Trump. You make the case that Deutsche Bank helped get Trump elected in 2016. How so?Enrich: Donald Trump was completely off limits, unbankable with the mainstream financial institutions for many years because he had defaulted over and over again. And then Deutsche Bank comes in. It was trying to make a name for itself in the United States market and was under pressure from people like (then Deutsche Bank CEO) Josef Ackermann to maximize short term profits. They turned a blind eye to all these red flags that were raised internally and externally about the risks of doing business with someone like Trump. They almost single-handedly enabled him to bounce back from all his business failures and keep building, which Donald Trump then used very successfully to portray himself as a successful businessman and real estate mogul. That was one of the foundations for his successful White House campaign.DER SPIEGEL: Deutsche Bank remained committed to Trump even after he defaulted on a loan of over $300 million and then sued the bank on top of that. Why?Enrich: They kept thinking that the fees they could generate from Trump on the short term were worth the very substantial long-term risks. And in all honesty, that turned out to be true. The relationship with Trump over 20 years has probably been quite profitable for Deutsche Bank. He’s paid a lot in fees and interest. But I would argue that the reputational damage to the bank for being the only financial institution willing to support Donald Trump probably exceeds the financial value of the fees they\\'ve received over those two decades.DER SPIEGEL: Why did Deutsche Bank continue to lend money to Trump even after he had become toxic to pretty much every other major financial institution?Enrich: Two things. One is that they really were blinded by greed. The other thing is that Deutsche Bank had a really poisonous internal culture. Different divisions of the bank and different executives within the bank were pitted against each other and sometimes were in a state of all-out war. When inspectors from (the investment banking division) raised concerns and said \"we\\'ve had very bad experiences in the past and institutionally we really should not be doing this,” people in the private banking division perceived that as the investment bankers essentially trying to undermine them out of professional jealousy or envy. And they were kind of right, actually. There was just this very destructive competition going on between different wings of the bank. It\\'s a very clear example of how leaders like Ackermann, Anshu Jain and Jürgen Fitschen really failed.DER SPIEGEL: Two committees in the House of Representatives, which is controlled by the Democrats, have subpoenaed Trump\\'s financial records. The Supreme Court is expected to rule on that subpoena later this year. What might those documents reveal?Enrich: They will potentially reveal all of Donald Trump\\'s innermost financial secrets. Deutsche Bank, over the past 20 years or so, has collected enormous amounts of material on Trump\\'s personal finances, his businesses and his family\\'s finances. Trump has spent many years fighting really aggressively to keep this information out of the public domain. The bank also has its own records of some of the concerns that were raised internally about various elements of the Trump business - cases where employees of the bank raised concerns about potentially suspicious transactions from a money laundering standpoint.DER SPIEGEL: The Russiagate scandal is another area where Deutsche Bank’s records on its relationship to Trump could provide some clarity. Some suspect that Deutsche Bank might have served as a conduit for Russian money flowing into the Trump organization. Might the documents demanded by the House shed some light on the issue?Enrich: The short answer is, I don\\'t know. If there is any truth to that rumor, I would expect that there will be some answers in those documents. But if the documents do not show evidence of Deutsche Bank serving as a conduit for Russian money, people who are inclined to believe that conspiracy theory are still going to believe it. They\\'re just going to say: \"Well, the evidence hasn’t emerged yet, or it’s being hidden.” I and many other journalists have spent years trying to get to the bottom of this and haven’t been able to. But that doesn’t mean it\\'s not true.DER SPIEGEL: Did regulatory failure also play a role in Deutsche Bank’s transgressions?Enrich: There’s so much blame to go around. Ackermann deserves a huge amount of blame. Jain deserves a huge amount of blame. The supervisory board deserves a huge amount of blame. But regulators in the U.S. and Germany also deserve a huge amount of blame. BaFin (Germany’s Federal Financial Supervisory Authority), in particular, viewed its role for many years less as overseeing and monitoring the books and more as defending Deutsche Bank from what it perceived as overzealous regulators in other parts of the world. And American regulators also completely missed opportunities - over and over again – to come down hard on Deutsche Bank.DER SPIEGEL: Having described the \"trail of destruction” in your in your book, do you see a path to redemption?Enrich: I don\\'t know how successful they\\'ll be, but I think the current management of the bank is actually trying pretty hard to get things back on the right path. The problem is that the damage has already been done and the problematic elements of the bank are deeply embedded in its finances and its culture. Investors, regulators, especially in the U.S., and a lot of employees I\\'ve spoken with remain really skeptical.'"
            ]
          },
          "metadata": {
            "tags": []
          },
          "execution_count": 27
        }
      ]
    },
    {
      "cell_type": "markdown",
      "metadata": {
        "id": "oO3zXBmNX955",
        "colab_type": "text"
      },
      "source": [
        "### <font color='skyblue'> Ingest </font> Text to Analyze"
      ]
    },
    {
      "cell_type": "code",
      "metadata": {
        "id": "mpFugUBuivyJ",
        "colab_type": "code",
        "colab": {}
      },
      "source": [
        "blob = TextBlob(text)"
      ],
      "execution_count": 0,
      "outputs": []
    },
    {
      "cell_type": "markdown",
      "metadata": {
        "id": "id4xUyUDivyQ",
        "colab_type": "text"
      },
      "source": [
        "Now that you have instatiated your text as a TextBlob object, you can perform text manipulations.  First, let's generate a list of all sentences in your TextBlob object:\n",
        "\n",
        "blob_sentences = blob.sentences\n",
        "\n",
        "Do this in the space below, and print the result (you should see a list of sentences):"
      ]
    },
    {
      "cell_type": "code",
      "metadata": {
        "id": "zdGsmdndivyS",
        "colab_type": "code",
        "outputId": "9e1fef88-d589-43f6-f034-82584e329db7",
        "colab": {
          "base_uri": "https://localhost:8080/",
          "height": 836
        }
      },
      "source": [
        "blob_sentences = blob.sentences\n",
        "blob_sentences"
      ],
      "execution_count": 29,
      "outputs": [
        {
          "output_type": "execute_result",
          "data": {
            "text/plain": [
              "[Sentence(\"David Enrich, 40, is the author of \"Dark Towers: Deutsche Bank, Donald Trump, and an Epic Trail of Destruction.\"\"),\n",
              " Sentence(\"He works as a finance journalist for the New York Times.\"),\n",
              " Sentence(\"Prior to that he led an investigative team at the Wall Street Journal.\"),\n",
              " Sentence(\"He is the recipient of several journalism prizes.DER SPIEGEL: Mr.\"),\n",
              " Sentence(\"Enrich, the subtitle of your book is \"Deutsche Bank, Donald Trump, and an Epic Trail of Destruction.” The destruction of what?Enrich: Take your pick.\"),\n",
              " Sentence(\"This is a bank that has been involved in really serious scandals all over the world, ranging from money laundering and manipulating markets to violating international sanctions, from bribing public officials to deceiving governments and regulators.\"),\n",
              " Sentence(\"A lot of banks have been involved in very serious scandals over the past decade or two, but Deutsche Bank has been at or near the center of more of them than anyone else.DER SPIEGEL: Among the problematic episodes in the bank’s recent history has been its relationship with its perhaps best-known client, U.S. President Donald Trump.\"),\n",
              " Sentence(\"You make the case that Deutsche Bank helped get Trump elected in 2016.\"),\n",
              " Sentence(\"How so?Enrich: Donald Trump was completely off limits, unbankable with the mainstream financial institutions for many years because he had defaulted over and over again.\"),\n",
              " Sentence(\"And then Deutsche Bank comes in.\"),\n",
              " Sentence(\"It was trying to make a name for itself in the United States market and was under pressure from people like (then Deutsche Bank CEO) Josef Ackermann to maximize short term profits.\"),\n",
              " Sentence(\"They turned a blind eye to all these red flags that were raised internally and externally about the risks of doing business with someone like Trump.\"),\n",
              " Sentence(\"They almost single-handedly enabled him to bounce back from all his business failures and keep building, which Donald Trump then used very successfully to portray himself as a successful businessman and real estate mogul.\"),\n",
              " Sentence(\"That was one of the foundations for his successful White House campaign.DER SPIEGEL: Deutsche Bank remained committed to Trump even after he defaulted on a loan of over $300 million and then sued the bank on top of that.\"),\n",
              " Sentence(\"Why?Enrich: They kept thinking that the fees they could generate from Trump on the short term were worth the very substantial long-term risks.\"),\n",
              " Sentence(\"And in all honesty, that turned out to be true.\"),\n",
              " Sentence(\"The relationship with Trump over 20 years has probably been quite profitable for Deutsche Bank.\"),\n",
              " Sentence(\"He’s paid a lot in fees and interest.\"),\n",
              " Sentence(\"But I would argue that the reputational damage to the bank for being the only financial institution willing to support Donald Trump probably exceeds the financial value of the fees they've received over those two decades.DER SPIEGEL: Why did Deutsche Bank continue to lend money to Trump even after he had become toxic to pretty much every other major financial institution?Enrich: Two things.\"),\n",
              " Sentence(\"One is that they really were blinded by greed.\"),\n",
              " Sentence(\"The other thing is that Deutsche Bank had a really poisonous internal culture.\"),\n",
              " Sentence(\"Different divisions of the bank and different executives within the bank were pitted against each other and sometimes were in a state of all-out war.\"),\n",
              " Sentence(\"When inspectors from (the investment banking division) raised concerns and said \"we've had very bad experiences in the past and institutionally we really should not be doing this,” people in the private banking division perceived that as the investment bankers essentially trying to undermine them out of professional jealousy or envy.\"),\n",
              " Sentence(\"And they were kind of right, actually.\"),\n",
              " Sentence(\"There was just this very destructive competition going on between different wings of the bank.\"),\n",
              " Sentence(\"It's a very clear example of how leaders like Ackermann, Anshu Jain and Jürgen Fitschen really failed.DER SPIEGEL: Two committees in the House of Representatives, which is controlled by the Democrats, have subpoenaed Trump's financial records.\"),\n",
              " Sentence(\"The Supreme Court is expected to rule on that subpoena later this year.\"),\n",
              " Sentence(\"What might those documents reveal?Enrich: They will potentially reveal all of Donald Trump's innermost financial secrets.\"),\n",
              " Sentence(\"Deutsche Bank, over the past 20 years or so, has collected enormous amounts of material on Trump's personal finances, his businesses and his family's finances.\"),\n",
              " Sentence(\"Trump has spent many years fighting really aggressively to keep this information out of the public domain.\"),\n",
              " Sentence(\"The bank also has its own records of some of the concerns that were raised internally about various elements of the Trump business - cases where employees of the bank raised concerns about potentially suspicious transactions from a money laundering standpoint.DER SPIEGEL: The Russiagate scandal is another area where Deutsche Bank’s records on its relationship to Trump could provide some clarity.\"),\n",
              " Sentence(\"Some suspect that Deutsche Bank might have served as a conduit for Russian money flowing into the Trump organization.\"),\n",
              " Sentence(\"Might the documents demanded by the House shed some light on the issue?Enrich: The short answer is, I don't know.\"),\n",
              " Sentence(\"If there is any truth to that rumor, I would expect that there will be some answers in those documents.\"),\n",
              " Sentence(\"But if the documents do not show evidence of Deutsche Bank serving as a conduit for Russian money, people who are inclined to believe that conspiracy theory are still going to believe it.\"),\n",
              " Sentence(\"They're just going to say: \"Well, the evidence hasn’t emerged yet, or it’s being hidden.” I and many other journalists have spent years trying to get to the bottom of this and haven’t been able to.\"),\n",
              " Sentence(\"But that doesn’t mean it's not true.DER SPIEGEL: Did regulatory failure also play a role in Deutsche Bank’s transgressions?Enrich: There’s so much blame to go around.\"),\n",
              " Sentence(\"Ackermann deserves a huge amount of blame.\"),\n",
              " Sentence(\"Jain deserves a huge amount of blame.\"),\n",
              " Sentence(\"The supervisory board deserves a huge amount of blame.\"),\n",
              " Sentence(\"But regulators in the U.S. and Germany also deserve a huge amount of blame.\"),\n",
              " Sentence(\"BaFin (Germany’s Federal Financial Supervisory Authority), in particular, viewed its role for many years less as overseeing and monitoring the books and more as defending Deutsche Bank from what it perceived as overzealous regulators in other parts of the world.\"),\n",
              " Sentence(\"And American regulators also completely missed opportunities - over and over again – to come down hard on Deutsche Bank.DER SPIEGEL: Having described the \"trail of destruction” in your in your book, do you see a path to redemption?Enrich: I don't know how successful they'll be, but I think the current management of the bank is actually trying pretty hard to get things back on the right path.\"),\n",
              " Sentence(\"The problem is that the damage has already been done and the problematic elements of the bank are deeply embedded in its finances and its culture.\"),\n",
              " Sentence(\"Investors, regulators, especially in the U.S., and a lot of employees I've spoken with remain really skeptical.\")]"
            ]
          },
          "metadata": {
            "tags": []
          },
          "execution_count": 29
        }
      ]
    },
    {
      "cell_type": "code",
      "metadata": {
        "id": "2xN0ZSBJ510j",
        "colab_type": "code",
        "outputId": "bbc9eb54-62a4-4ee6-bce7-52ba77937363",
        "colab": {
          "base_uri": "https://localhost:8080/",
          "height": 34
        }
      },
      "source": [
        "# Allow user to type in key words to search the text for\n",
        "filter_list = input('Enter words to filter by separated by commas: ').title() # This is still a string... not a list yet"
      ],
      "execution_count": 32,
      "outputs": [
        {
          "output_type": "stream",
          "text": [
            "Enter words to filter by separated by commas: trump,bank\n"
          ],
          "name": "stdout"
        }
      ]
    },
    {
      "cell_type": "markdown",
      "metadata": {
        "id": "tGJmYoaJYF_n",
        "colab_type": "text"
      },
      "source": [
        "### <font color='skyblue'> Enter </font>  Key Words to Search in Text"
      ]
    },
    {
      "cell_type": "code",
      "metadata": {
        "id": "49R1H35B7aH8",
        "colab_type": "code",
        "outputId": "756d2ecd-16b7-4517-ccdc-af90b238d0de",
        "colab": {
          "base_uri": "https://localhost:8080/",
          "height": 34
        }
      },
      "source": [
        "fliter_list = list(filter_list) # Convert string to a list (it currently has 1 long string element of key words)\n",
        "\n",
        "f = []\n",
        "for word in (filter_list.split(\",\")):  # Split string into separate words, separate by comma\n",
        "  f.append(word)                       # Generate new list containing each key word\n",
        "f # This is now a list of key words that the user typed in"
      ],
      "execution_count": 33,
      "outputs": [
        {
          "output_type": "execute_result",
          "data": {
            "text/plain": [
              "['Trump', 'Bank']"
            ]
          },
          "metadata": {
            "tags": []
          },
          "execution_count": 33
        }
      ]
    },
    {
      "cell_type": "markdown",
      "metadata": {
        "id": "LBcufb8pYTm2",
        "colab_type": "text"
      },
      "source": [
        "### <font color='green'> Save Text Files </font> to Your Temporary Colab folder"
      ]
    },
    {
      "cell_type": "code",
      "metadata": {
        "id": "SVApwG0AvGkN",
        "colab_type": "code",
        "outputId": "27bb2995-b277-4768-d5e3-8061d2480212",
        "colab": {
          "base_uri": "https://localhost:8080/",
          "height": 34
        }
      },
      "source": [
        "%ls # List files in the your temporary folder to verify they are there."
      ],
      "execution_count": 34,
      "outputs": [
        {
          "output_type": "stream",
          "text": [
            "MyFile.txt  \u001b[0m\u001b[01;34msample_data\u001b[0m/\n"
          ],
          "name": "stdout"
        }
      ]
    },
    {
      "cell_type": "markdown",
      "metadata": {
        "id": "GNYiFN1kYd63",
        "colab_type": "text"
      },
      "source": [
        "### <font color='green'> Read </font> in File(s) to Colab Environment"
      ]
    },
    {
      "cell_type": "code",
      "metadata": {
        "id": "AFU8dqERivxe",
        "colab_type": "code",
        "outputId": "54200ab4-ca6a-446a-bd2b-c9a7998163e1",
        "colab": {
          "base_uri": "https://localhost:8080/",
          "height": 34
        }
      },
      "source": [
        "file1 = 'MyFile.txt'\n",
        "#file1 = 'Spiegel_DuetcheBank_Trump.txt'\n",
        "file2 = 'Spiegel_Iran_Protests.txt'\n",
        "file3 = 'Spiegel_Trump_Peace_Plan.txt'\n",
        "\n",
        "file4 = 'Zeit_URL_1_Holocaust.txt'\n",
        "file5 = 'Zeit_URL_2_xenophobic_politicians.txt'\n",
        "file6 = 'Zeit_URL_3_NATO_Germany_contribution.txt'\n",
        "\n",
        "file7 = 'news_text.txt'\n",
        "file8 = 'welt_Putin_Cyberwarfare.txt'\n",
        "#file_path = r'news_text.txt'\n",
        "file_path = r'MyFile.txt'\n",
        "file_path"
      ],
      "execution_count": 35,
      "outputs": [
        {
          "output_type": "execute_result",
          "data": {
            "text/plain": [
              "'MyFile.txt'"
            ]
          },
          "metadata": {
            "tags": []
          },
          "execution_count": 35
        }
      ]
    },
    {
      "cell_type": "code",
      "metadata": {
        "id": "s4EZvBt3ivxr",
        "colab_type": "code",
        "colab": {}
      },
      "source": [
        "#open text\n",
        "def open_text(file_path):\n",
        "    with open(file_path, 'r') as document:\n",
        "        text = document.read()\n",
        "    return text"
      ],
      "execution_count": 0,
      "outputs": []
    },
    {
      "cell_type": "code",
      "metadata": {
        "id": "sv4HrFvKivx3",
        "colab_type": "code",
        "outputId": "354e6cb4-6f38-4e37-a3dd-86ac664e7dbf",
        "colab": {
          "base_uri": "https://localhost:8080/",
          "height": 54
        }
      },
      "source": [
        "text = open_text(file_path)\n",
        "text"
      ],
      "execution_count": 37,
      "outputs": [
        {
          "output_type": "execute_result",
          "data": {
            "text/plain": [
              "'David Enrich, 40, is the author of \"Dark Towers: Deutsche Bank, Donald Trump, and an Epic Trail of Destruction.\" He works as a finance journalist for the New York Times. Prior to that he led an investigative team at the Wall Street Journal. He is the recipient of several journalism prizes.DER SPIEGEL: Mr. Enrich, the subtitle of your book is \"Deutsche Bank, Donald Trump, and an Epic Trail of Destruction.” The destruction of what?Enrich: Take your pick. This is a bank that has been involved in really serious scandals all over the world, ranging from money laundering and manipulating markets to violating international sanctions, from bribing public officials to deceiving governments and regulators. A lot of banks have been involved in very serious scandals over the past decade or two, but Deutsche Bank has been at or near the center of more of them than anyone else.DER SPIEGEL: Among the problematic episodes in the bank’s recent history has been its relationship with its perhaps best-known client, U.S. President Donald Trump. You make the case that Deutsche Bank helped get Trump elected in 2016. How so?Enrich: Donald Trump was completely off limits, unbankable with the mainstream financial institutions for many years because he had defaulted over and over again. And then Deutsche Bank comes in. It was trying to make a name for itself in the United States market and was under pressure from people like (then Deutsche Bank CEO) Josef Ackermann to maximize short term profits. They turned a blind eye to all these red flags that were raised internally and externally about the risks of doing business with someone like Trump. They almost single-handedly enabled him to bounce back from all his business failures and keep building, which Donald Trump then used very successfully to portray himself as a successful businessman and real estate mogul. That was one of the foundations for his successful White House campaign.DER SPIEGEL: Deutsche Bank remained committed to Trump even after he defaulted on a loan of over $300 million and then sued the bank on top of that. Why?Enrich: They kept thinking that the fees they could generate from Trump on the short term were worth the very substantial long-term risks. And in all honesty, that turned out to be true. The relationship with Trump over 20 years has probably been quite profitable for Deutsche Bank. He’s paid a lot in fees and interest. But I would argue that the reputational damage to the bank for being the only financial institution willing to support Donald Trump probably exceeds the financial value of the fees they\\'ve received over those two decades.DER SPIEGEL: Why did Deutsche Bank continue to lend money to Trump even after he had become toxic to pretty much every other major financial institution?Enrich: Two things. One is that they really were blinded by greed. The other thing is that Deutsche Bank had a really poisonous internal culture. Different divisions of the bank and different executives within the bank were pitted against each other and sometimes were in a state of all-out war. When inspectors from (the investment banking division) raised concerns and said \"we\\'ve had very bad experiences in the past and institutionally we really should not be doing this,” people in the private banking division perceived that as the investment bankers essentially trying to undermine them out of professional jealousy or envy. And they were kind of right, actually. There was just this very destructive competition going on between different wings of the bank. It\\'s a very clear example of how leaders like Ackermann, Anshu Jain and Jürgen Fitschen really failed.DER SPIEGEL: Two committees in the House of Representatives, which is controlled by the Democrats, have subpoenaed Trump\\'s financial records. The Supreme Court is expected to rule on that subpoena later this year. What might those documents reveal?Enrich: They will potentially reveal all of Donald Trump\\'s innermost financial secrets. Deutsche Bank, over the past 20 years or so, has collected enormous amounts of material on Trump\\'s personal finances, his businesses and his family\\'s finances. Trump has spent many years fighting really aggressively to keep this information out of the public domain. The bank also has its own records of some of the concerns that were raised internally about various elements of the Trump business - cases where employees of the bank raised concerns about potentially suspicious transactions from a money laundering standpoint.DER SPIEGEL: The Russiagate scandal is another area where Deutsche Bank’s records on its relationship to Trump could provide some clarity. Some suspect that Deutsche Bank might have served as a conduit for Russian money flowing into the Trump organization. Might the documents demanded by the House shed some light on the issue?Enrich: The short answer is, I don\\'t know. If there is any truth to that rumor, I would expect that there will be some answers in those documents. But if the documents do not show evidence of Deutsche Bank serving as a conduit for Russian money, people who are inclined to believe that conspiracy theory are still going to believe it. They\\'re just going to say: \"Well, the evidence hasn’t emerged yet, or it’s being hidden.” I and many other journalists have spent years trying to get to the bottom of this and haven’t been able to. But that doesn’t mean it\\'s not true.DER SPIEGEL: Did regulatory failure also play a role in Deutsche Bank’s transgressions?Enrich: There’s so much blame to go around. Ackermann deserves a huge amount of blame. Jain deserves a huge amount of blame. The supervisory board deserves a huge amount of blame. But regulators in the U.S. and Germany also deserve a huge amount of blame. BaFin (Germany’s Federal Financial Supervisory Authority), in particular, viewed its role for many years less as overseeing and monitoring the books and more as defending Deutsche Bank from what it perceived as overzealous regulators in other parts of the world. And American regulators also completely missed opportunities - over and over again – to come down hard on Deutsche Bank.DER SPIEGEL: Having described the \"trail of destruction” in your in your book, do you see a path to redemption?Enrich: I don\\'t know how successful they\\'ll be, but I think the current management of the bank is actually trying pretty hard to get things back on the right path. The problem is that the damage has already been done and the problematic elements of the bank are deeply embedded in its finances and its culture. Investors, regulators, especially in the U.S., and a lot of employees I\\'ve spoken with remain really skeptical.'"
            ]
          },
          "metadata": {
            "tags": []
          },
          "execution_count": 37
        }
      ]
    },
    {
      "cell_type": "markdown",
      "metadata": {
        "id": "GTNasDzQLinR",
        "colab_type": "text"
      },
      "source": [
        "## <font color='skyblue'> Search </font>  Sentences for Key Words\n",
        "\n"
      ]
    },
    {
      "cell_type": "code",
      "metadata": {
        "id": "MXjYMd1-LUrT",
        "colab_type": "code",
        "outputId": "891412ea-dec5-409d-c30f-4f74d4b832ea",
        "colab": {
          "base_uri": "https://localhost:8080/",
          "height": 783
        }
      },
      "source": [
        "# Instantiate list for holding the sentences\n",
        "sentences = []\n",
        "\n",
        "# Generate empty list of lists \n",
        "for i in range(len(f)):\n",
        "  sentences.append([])\n",
        "print('Here is what you just made, and empty list of lists: ', sentences, '\\n')\n",
        "\n",
        "# Generate lists of sentences for each key word and plug them into the list of lists from above            \n",
        "for i in range(len(f)):\n",
        "  for sentence in blob_sentences:\n",
        "    if f[i] in sentence:\n",
        "        sentences[i].append(sentence)\n",
        "        \n",
        "# Print number of sentences containing each key word\n",
        "# Print out all sentences containing each key word\n",
        "for i in range(len(f)):\n",
        "  print('-----------------------------------------------------------------')   \n",
        "  print('There are {} sentences containing the word: {} '.format(len(sentences[i]), f[i]), '\\n') \n",
        "  for sentence in sentences[i]:\n",
        "      print(sentence)\n"
      ],
      "execution_count": 39,
      "outputs": [
        {
          "output_type": "stream",
          "text": [
            "Here is what you just made, and empty list of lists:  [[], []] \n",
            "\n",
            "-----------------------------------------------------------------\n",
            "There are 17 sentences containing the word: Trump  \n",
            "\n",
            "David Enrich, 40, is the author of \"Dark Towers: Deutsche Bank, Donald Trump, and an Epic Trail of Destruction.\"\n",
            "Enrich, the subtitle of your book is \"Deutsche Bank, Donald Trump, and an Epic Trail of Destruction.” The destruction of what?Enrich: Take your pick.\n",
            "A lot of banks have been involved in very serious scandals over the past decade or two, but Deutsche Bank has been at or near the center of more of them than anyone else.DER SPIEGEL: Among the problematic episodes in the bank’s recent history has been its relationship with its perhaps best-known client, U.S. President Donald Trump.\n",
            "You make the case that Deutsche Bank helped get Trump elected in 2016.\n",
            "How so?Enrich: Donald Trump was completely off limits, unbankable with the mainstream financial institutions for many years because he had defaulted over and over again.\n",
            "They turned a blind eye to all these red flags that were raised internally and externally about the risks of doing business with someone like Trump.\n",
            "They almost single-handedly enabled him to bounce back from all his business failures and keep building, which Donald Trump then used very successfully to portray himself as a successful businessman and real estate mogul.\n",
            "That was one of the foundations for his successful White House campaign.DER SPIEGEL: Deutsche Bank remained committed to Trump even after he defaulted on a loan of over $300 million and then sued the bank on top of that.\n",
            "Why?Enrich: They kept thinking that the fees they could generate from Trump on the short term were worth the very substantial long-term risks.\n",
            "The relationship with Trump over 20 years has probably been quite profitable for Deutsche Bank.\n",
            "But I would argue that the reputational damage to the bank for being the only financial institution willing to support Donald Trump probably exceeds the financial value of the fees they've received over those two decades.DER SPIEGEL: Why did Deutsche Bank continue to lend money to Trump even after he had become toxic to pretty much every other major financial institution?Enrich: Two things.\n",
            "It's a very clear example of how leaders like Ackermann, Anshu Jain and Jürgen Fitschen really failed.DER SPIEGEL: Two committees in the House of Representatives, which is controlled by the Democrats, have subpoenaed Trump's financial records.\n",
            "What might those documents reveal?Enrich: They will potentially reveal all of Donald Trump's innermost financial secrets.\n",
            "Deutsche Bank, over the past 20 years or so, has collected enormous amounts of material on Trump's personal finances, his businesses and his family's finances.\n",
            "Trump has spent many years fighting really aggressively to keep this information out of the public domain.\n",
            "The bank also has its own records of some of the concerns that were raised internally about various elements of the Trump business - cases where employees of the bank raised concerns about potentially suspicious transactions from a money laundering standpoint.DER SPIEGEL: The Russiagate scandal is another area where Deutsche Bank’s records on its relationship to Trump could provide some clarity.\n",
            "Some suspect that Deutsche Bank might have served as a conduit for Russian money flowing into the Trump organization.\n",
            "-----------------------------------------------------------------\n",
            "There are 17 sentences containing the word: Bank  \n",
            "\n",
            "David Enrich, 40, is the author of \"Dark Towers: Deutsche Bank, Donald Trump, and an Epic Trail of Destruction.\"\n",
            "Enrich, the subtitle of your book is \"Deutsche Bank, Donald Trump, and an Epic Trail of Destruction.” The destruction of what?Enrich: Take your pick.\n",
            "A lot of banks have been involved in very serious scandals over the past decade or two, but Deutsche Bank has been at or near the center of more of them than anyone else.DER SPIEGEL: Among the problematic episodes in the bank’s recent history has been its relationship with its perhaps best-known client, U.S. President Donald Trump.\n",
            "You make the case that Deutsche Bank helped get Trump elected in 2016.\n",
            "And then Deutsche Bank comes in.\n",
            "It was trying to make a name for itself in the United States market and was under pressure from people like (then Deutsche Bank CEO) Josef Ackermann to maximize short term profits.\n",
            "That was one of the foundations for his successful White House campaign.DER SPIEGEL: Deutsche Bank remained committed to Trump even after he defaulted on a loan of over $300 million and then sued the bank on top of that.\n",
            "The relationship with Trump over 20 years has probably been quite profitable for Deutsche Bank.\n",
            "But I would argue that the reputational damage to the bank for being the only financial institution willing to support Donald Trump probably exceeds the financial value of the fees they've received over those two decades.DER SPIEGEL: Why did Deutsche Bank continue to lend money to Trump even after he had become toxic to pretty much every other major financial institution?Enrich: Two things.\n",
            "The other thing is that Deutsche Bank had a really poisonous internal culture.\n",
            "Deutsche Bank, over the past 20 years or so, has collected enormous amounts of material on Trump's personal finances, his businesses and his family's finances.\n",
            "The bank also has its own records of some of the concerns that were raised internally about various elements of the Trump business - cases where employees of the bank raised concerns about potentially suspicious transactions from a money laundering standpoint.DER SPIEGEL: The Russiagate scandal is another area where Deutsche Bank’s records on its relationship to Trump could provide some clarity.\n",
            "Some suspect that Deutsche Bank might have served as a conduit for Russian money flowing into the Trump organization.\n",
            "But if the documents do not show evidence of Deutsche Bank serving as a conduit for Russian money, people who are inclined to believe that conspiracy theory are still going to believe it.\n",
            "But that doesn’t mean it's not true.DER SPIEGEL: Did regulatory failure also play a role in Deutsche Bank’s transgressions?Enrich: There’s so much blame to go around.\n",
            "BaFin (Germany’s Federal Financial Supervisory Authority), in particular, viewed its role for many years less as overseeing and monitoring the books and more as defending Deutsche Bank from what it perceived as overzealous regulators in other parts of the world.\n",
            "And American regulators also completely missed opportunities - over and over again – to come down hard on Deutsche Bank.DER SPIEGEL: Having described the \"trail of destruction” in your in your book, do you see a path to redemption?Enrich: I don't know how successful they'll be, but I think the current management of the bank is actually trying pretty hard to get things back on the right path.\n"
          ],
          "name": "stdout"
        }
      ]
    },
    {
      "cell_type": "markdown",
      "metadata": {
        "id": "eEEcBUz0c6bA",
        "colab_type": "text"
      },
      "source": [
        "## Extract hyperlinks for project. - Saving this to work on tomorrow"
      ]
    },
    {
      "cell_type": "code",
      "metadata": {
        "id": "3ECyoIz2he6U",
        "colab_type": "code",
        "outputId": "846150d4-7f10-4d44-9fd8-7d937863c33f",
        "colab": {
          "base_uri": "https://localhost:8080/",
          "height": 0
        }
      },
      "source": [
        "# Extract all href tags\n",
        "links = soup.find_all('link')\n",
        "\n",
        "# Separate hyperlinks from href tags\n",
        "all_hyperlinks = []\n",
        "for item in links:\n",
        "    link = item.get('href')\n",
        "    all_hyperlinks.append(link)\n",
        "print(all_hyperlinks)"
      ],
      "execution_count": 20,
      "outputs": [
        {
          "output_type": "stream",
          "text": [
            "['https://www.spiegel.de/public/spon/json/manifest.json', 'https://cdn.prod.www.spiegel.de/public/spon/images/icons/favicon.ico', 'https://cdn.prod.www.spiegel.de/public/spon/images/icons/touch-icon.png', 'https://cdn.prod.www.spiegel.de/public/spon/images/icons/touch-icon72.png', 'https://cdn.prod.www.spiegel.de/public/spon/images/icons/touch-icon76.png', 'https://cdn.prod.www.spiegel.de/public/spon/images/icons/touch-icon114.png', 'https://cdn.prod.www.spiegel.de/public/spon/images/icons/touch-icon120.png', 'https://cdn.prod.www.spiegel.de/public/spon/images/icons/touch-icon144.png', 'https://cdn.prod.www.spiegel.de/public/spon/images/icons/touch-icon152.png', 'https://cdn.prod.www.spiegel.de/public/spon/images/icons/touch-icon180.png', 'https://www.spiegel.de/international/business/trump-and-deutsche-bank-a-b956729f-9e10-412c-ae25-b9cedeebded3', 'https://www.spiegel.de/international/business/trump-and-deutsche-bank-a-b956729f-9e10-412c-ae25-b9cedeebded3-amp', 'https://cdn.prod.www.spiegel.de/public/shared/fonts/SpiegelSans4UI-Bold.woff2', 'https://cdn.prod.www.spiegel.de/public/shared/fonts/SpiegelSans4UI-Regular.woff2', 'https://cdn.prod.www.spiegel.de/public/shared/fonts/SpiegelSlab4UICd-ExtraBold.woff2', 'https://cdn.prod.www.spiegel.de/public/shared/fonts/SpiegelSerifTextUI-Regular.woff2', 'https://cdn.prod.www.spiegel.de/public/shared/fonts/SpiegelSans4-6SemiBold.woff2', 'https://www.spiegel.de/schlagzeilen/index.rss', 'https://www.spiegel.de/international/index.rss', 'https://www.spiegel.de/international/business/index.rss', 'https://www.spiegel.de/thema/donald_trump_en/index.rss', 'https://www.spiegel.de/thema/deutsche_bank_en/index.rss', 'https://cdn.prod.www.spiegel.de/public/spon/generated/css/styles.spon.7834e65ae71cf5e65fb4002f77862994.css', 'https://cdn.prod.www.spiegel.de/public/spon/generated/css/styles.spon-sm.cf5a3b8af9b8343a53ed.css', 'https://cdn.prod.www.spiegel.de/public/spon/generated/css/styles.spon-md.75d150377e42f7fa2705.css', 'https://cdn.prod.www.spiegel.de/public/spon/generated/css/styles.spon-lg.e58c5302014da31ce276.css']\n"
          ],
          "name": "stdout"
        }
      ]
    }
  ]
}