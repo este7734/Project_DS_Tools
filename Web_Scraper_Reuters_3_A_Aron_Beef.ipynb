{
  "nbformat": 4,
  "nbformat_minor": 0,
  "metadata": {
    "colab": {
      "name": "Web_Scraper_Reuters_3_A-Aron_Beef.ipynb",
      "provenance": [],
      "collapsed_sections": [
        "DWXpudN7R3Qc",
        "nLQoyopg1oiY",
        "z_qCIHy31uSJ",
        "KBkhWZ5iMWq9",
        "DWBBUihX8R0w",
        "HcOlndfh9XwA"
      ],
      "toc_visible": true,
      "include_colab_link": true
    },
    "kernelspec": {
      "name": "python3",
      "display_name": "Python 3"
    }
  },
  "cells": [
    {
      "cell_type": "markdown",
      "metadata": {
        "id": "view-in-github",
        "colab_type": "text"
      },
      "source": [
        "<a href=\"https://colab.research.google.com/github/este7734/Project_DS_Tools/blob/master/Web_Scraper_Reuters_3_A_Aron_Beef.ipynb\" target=\"_parent\"><img src=\"https://colab.research.google.com/assets/colab-badge.svg\" alt=\"Open In Colab\"/></a>"
      ]
    },
    {
      "cell_type": "markdown",
      "metadata": {
        "id": "DWXpudN7R3Qc",
        "colab_type": "text"
      },
      "source": [
        "## Import Dependencies"
      ]
    },
    {
      "cell_type": "code",
      "metadata": {
        "colab_type": "code",
        "outputId": "166bd32f-5760-432e-bc87-854f98b9247c",
        "id": "_F9Q7Td-sRVi",
        "colab": {
          "base_uri": "https://localhost:8080/",
          "height": 68
        }
      },
      "source": [
        "# Import libraries for processing web text\n",
        "from bs4 import BeautifulSoup\n",
        "import requests\n",
        "\n",
        "from textblob import TextBlob\n",
        "import numpy as np\n",
        "import matplotlib.pyplot as plt\n",
        "import pandas as pd\n",
        "from lxml import html\n",
        "\n",
        "# Import these dependencies if using Google Colab \n",
        "import nltk\n",
        "nltk.download('punkt')"
      ],
      "execution_count": 0,
      "outputs": [
        {
          "output_type": "stream",
          "text": [
            "[nltk_data] Downloading package punkt to /root/nltk_data...\n",
            "[nltk_data]   Unzipping tokenizers/punkt.zip.\n"
          ],
          "name": "stdout"
        },
        {
          "output_type": "execute_result",
          "data": {
            "text/plain": [
              "True"
            ]
          },
          "metadata": {
            "tags": []
          },
          "execution_count": 1
        }
      ]
    },
    {
      "cell_type": "markdown",
      "metadata": {
        "id": "nLQoyopg1oiY",
        "colab_type": "text"
      },
      "source": [
        "## Define All Functions"
      ]
    },
    {
      "cell_type": "code",
      "metadata": {
        "id": "0iTgQueE3Pcn",
        "colab_type": "code",
        "colab": {}
      },
      "source": [
        "# Get content of the webpage in an html string format by passing a url \n",
        "def get_html(url):\n",
        "    page = requests.get(url)\n",
        "    html_out = html.fromstring(page.content)\n",
        "    text = page.text\n",
        "    return html_out, text"
      ],
      "execution_count": 0,
      "outputs": []
    },
    {
      "cell_type": "code",
      "metadata": {
        "id": "8aWhlGwK3PaJ",
        "colab_type": "code",
        "colab": {}
      },
      "source": [
        "# Convert html into soup to enable soup menthods\n",
        "def get_soup(html_string):\n",
        "    soup = BeautifulSoup(html_string, 'html.parser')\n",
        "    return soup"
      ],
      "execution_count": 0,
      "outputs": []
    },
    {
      "cell_type": "code",
      "metadata": {
        "id": "UMtJFN8l3PXq",
        "colab_type": "code",
        "colab": {}
      },
      "source": [
        "# Extract hyperlinks from soup\n",
        "def get_soup_links(soup):\n",
        "    links = []\n",
        "    for link in soup.find_all('a'):\n",
        "        out_link = link.get('href')\n",
        "        links.append(out_link)\n",
        "    return links"
      ],
      "execution_count": 0,
      "outputs": []
    },
    {
      "cell_type": "code",
      "metadata": {
        "colab_type": "code",
        "id": "R4XlYfjiEOH5",
        "colab": {}
      },
      "source": [
        "# This function is for use with only the Topic pages on reuters.com\n",
        "# Search through ALL links and filter for only those that are for actual articles\n",
        "# links are formatted differently \n",
        "def get_articles_reuters_topics(links, old_url_set):\n",
        "    articles = []\n",
        "    for link in links:\n",
        "        try:\n",
        "            split_link = link.split('/')\n",
        "            #if 'www.reuters.com'in split_link:\n",
        "            if 'article'in split_link:\n",
        "              link = 'https://www.reuters.com' + link\n",
        "              if url_check(old_url_set, link) == False:\n",
        "                articles.append(link)\n",
        "        except:\n",
        "            continue\n",
        "    articles = list(set(articles))\n",
        "    old_url_set = set(articles + list(old_url_set))       \n",
        "    return articles, old_url_set"
      ],
      "execution_count": 0,
      "outputs": []
    },
    {
      "cell_type": "code",
      "metadata": {
        "id": "yy6oqydg7qx9",
        "colab_type": "code",
        "colab": {}
      },
      "source": [
        "# Check if new urls exists in the old_url_set. if yes, return True; if no, return False\n",
        "# This function is used in the get_articles_reuters_topics function\n",
        "def url_check(old_url_set, url):\n",
        "    url_set = set([url])\n",
        "    test_set = old_url_set & url_set\n",
        "    if len(test_set) == 0:\n",
        "        check = False\n",
        "    else:\n",
        "        check = True\n",
        "    return check"
      ],
      "execution_count": 0,
      "outputs": []
    },
    {
      "cell_type": "code",
      "metadata": {
        "id": "jW9KF2lN3H4q",
        "colab_type": "code",
        "colab": {}
      },
      "source": [
        "# Get html strings from list of article weblinks\n",
        "def get_html_reuters(articles):\n",
        "    soup_list = []\n",
        "    for article in articles:\n",
        "        _, text = get_html(article)\n",
        "        soup = get_soup(text)\n",
        "        soup_list.append(soup)\n",
        "    return soup_list"
      ],
      "execution_count": 0,
      "outputs": []
    },
    {
      "cell_type": "code",
      "metadata": {
        "id": "LBmEliCH2G9l",
        "colab_type": "code",
        "colab": {}
      },
      "source": [
        "# Break out article_body, article_headline, and article_date from each article in provided hyperlinks and put into a dictionary called: out_list\n",
        "def get_reuters_elements(soup_list, articles):\n",
        "    out_list = []\n",
        "    i = 0\n",
        "    for article in soup_list:\n",
        "        link = articles[i] # I don't think this is used at all here, which means there is no reason to require the second argument: articles\n",
        "        i += 1\n",
        "        try:\n",
        "            article_body = article.find_all('div', {'class': 'StandardArticleBody_body'})\n",
        "            article_headline = article.find_all('h1', {'class': 'ArticleHeader_headline'})\n",
        "            article_date = article.find_all('div', {'class': 'ArticleHeader_date'})\n",
        "            try:\n",
        "                date_time = article_date[0].text.split(' / ')\n",
        "                date_in = date_time[0]\n",
        "                date = format_date(date_in)\n",
        "                a_time = date_time[1][1:]\n",
        "            except:\n",
        "                date = article_date[0].text\n",
        "                time = article_date[0].text\n",
        "            headline = article_headline[0].text\n",
        "            article_p = []\n",
        "            for item in article_body:\n",
        "                p_list = item.find_all('p')\n",
        "                for p in p_list:\n",
        "                    article_p.append(p.text)\n",
        "            out_text = ' '.join(article_p)\n",
        "            out_dict = dict([('date',date),('time',a_time),('source','www.reuters.com'),('Title',headline),('Text',out_text),('url',link)])\n",
        "            out_list.append(out_dict)\n",
        "        except:\n",
        "            print('Unable to decode...skipping article...')\n",
        "            continue\n",
        "    return out_list"
      ],
      "execution_count": 0,
      "outputs": []
    },
    {
      "cell_type": "code",
      "metadata": {
        "id": "JTKjuqckxLpp",
        "colab_type": "code",
        "colab": {}
      },
      "source": [
        "# Format date for use in the get_reuters_elements function\n",
        "def format_date(date):\n",
        "    date_dict = {'January':'1','February':'2','March':'3','April':'4','May':'5','June':'6','July':'7','August':'8','September':'9','October':'10','November':'11','December':'12'}\n",
        "    split_date = date.split(' ')\n",
        "    year = split_date[2]\n",
        "    day_list = split_date[1].split(',')[0]\n",
        "    day = day_list\n",
        "    month = date_dict[split_date[0]]\n",
        "    out_date = year + '-' + month + '-' + day\n",
        "    return out_date"
      ],
      "execution_count": 0,
      "outputs": []
    },
    {
      "cell_type": "markdown",
      "metadata": {
        "id": "z_qCIHy31uSJ",
        "colab_type": "text"
      },
      "source": [
        "## Define URL Variables and Run Functions"
      ]
    },
    {
      "cell_type": "markdown",
      "metadata": {
        "id": "pU0yQpNqLwl4",
        "colab_type": "text"
      },
      "source": [
        "Step 1. Instantiate `old_url_set` to be used in the `get_articles_reuters_topics` function. This is a running log of article links that will be compiled by iterating from steps 2 - 6."
      ]
    },
    {
      "cell_type": "code",
      "metadata": {
        "id": "3S4mzVpzp5g1",
        "colab_type": "code",
        "colab": {}
      },
      "source": [
        "# Instantiate empty set to use a running list of hyperlinks while \n",
        "# running the scrape iterations\n",
        "old_url_set = set([])\n",
        "#old_url_set = set([r'https://www.reuters.com/article/us-space-exploration-spacex-launch/weather-postpones-spacexs-first-astronaut-launch-from-florida-idUSKBN2331B8'])"
      ],
      "execution_count": 0,
      "outputs": []
    },
    {
      "cell_type": "markdown",
      "metadata": {
        "id": "KBkhWZ5iMWq9",
        "colab_type": "text"
      },
      "source": [
        "## Scrape Reuters Topics pages for all the most recent news articles. <font color='orange'>*Run Steps 2 - 7 for each instance of `url` variable, before moving on to the next steps*</font>"
      ]
    },
    {
      "cell_type": "markdown",
      "metadata": {
        "id": "URLqBDPwUbRZ",
        "colab_type": "text"
      },
      "source": [
        "<font color='orange'>Step 2.</font> Define variables for each of Reuters main topics pages. Run this cell for each iteration by uncommenting a different url each time."
      ]
    },
    {
      "cell_type": "code",
      "metadata": {
        "id": "P8a1cAaw3PfL",
        "colab_type": "code",
        "colab": {}
      },
      "source": [
        "# Define url variables\n",
        "# NOTE: You must run these individually through the end of this section\n",
        "# I didn't have time to figure out how to loop through all of them properly\n",
        "# There is a section at the very bottom where you can see that I attempted but ran\n",
        "# into a problem on one of the last functions. \n",
        "\n",
        "#url = r'https://www.reuters.com/news/world'\n",
        "#url = r'https://www.reuters.com/finance/markets'\n",
        "#url = r'https://www.reuters.com/politics'\n",
        "#url = r'https://www.reuters.com/breakingviews'\n",
        "#url = r'https://www.reuters.com/news/lifestyle'\n",
        "#url = r'https://www.reuters.com/finance'\n",
        "#url = r'https://www.reuters.com/news/technology'\n",
        "#url = r'https://www.reuters.com/finance/wealth'\n",
        "#url = r'https://www.reuters.com/news/archive/wealth-taxes'"
      ],
      "execution_count": 0,
      "outputs": []
    },
    {
      "cell_type": "markdown",
      "metadata": {
        "id": "Ctx4uUaNM-qy",
        "colab_type": "text"
      },
      "source": [
        "<font color='orange'>Step 3.</font> Get HTML srting from web `url`"
      ]
    },
    {
      "cell_type": "code",
      "metadata": {
        "id": "dJshIC2L4iPA",
        "colab_type": "code",
        "colab": {}
      },
      "source": [
        "# Pass the each instance of `url` variable to return the web page in HTML format and convert it to a string\n",
        "html_string = str(get_html(url))"
      ],
      "execution_count": 0,
      "outputs": []
    },
    {
      "cell_type": "markdown",
      "metadata": {
        "id": "DkYpiSW3NH-b",
        "colab_type": "text"
      },
      "source": [
        "<font color='orange'>Step 4.</font> Get soup from the HTML string"
      ]
    },
    {
      "cell_type": "code",
      "metadata": {
        "id": "7EmMRXZl5RTi",
        "colab_type": "code",
        "outputId": "e9bc73a1-f6ec-4307-c094-847b237d1cd6",
        "colab": {
          "base_uri": "https://localhost:8080/",
          "height": 34
        }
      },
      "source": [
        "# Pass the HTML string (of the web page) to get its soup\n",
        "soup = get_soup(html_string)\n",
        "print(len(soup))\n",
        "#print(soup)\n",
        "#print(soup.contents[9])"
      ],
      "execution_count": 0,
      "outputs": [
        {
          "output_type": "stream",
          "text": [
            "2\n"
          ],
          "name": "stdout"
        }
      ]
    },
    {
      "cell_type": "markdown",
      "metadata": {
        "id": "Td_AACUkNLyV",
        "colab_type": "text"
      },
      "source": [
        "<font color='orange'>Step 5.</font> Extract ALL hyperlinks from the soup"
      ]
    },
    {
      "cell_type": "code",
      "metadata": {
        "colab_type": "code",
        "outputId": "b178b9a3-25d5-4783-ae55-a3cae043515b",
        "id": "fJwqAATzKrNn",
        "colab": {
          "base_uri": "https://localhost:8080/",
          "height": 34
        }
      },
      "source": [
        "# Find ALL links on within the soup\n",
        "links = get_soup_links(soup)\n",
        "print(len(links))\n",
        "#for link in links:\n",
        "  #print(link)"
      ],
      "execution_count": 0,
      "outputs": [
        {
          "output_type": "stream",
          "text": [
            "151\n"
          ],
          "name": "stdout"
        }
      ]
    },
    {
      "cell_type": "markdown",
      "metadata": {
        "id": "7HA53F8oNRaq",
        "colab_type": "text"
      },
      "source": [
        "<font color='orange'>Step 6.</font> Filter out only those links that go directly to articles"
      ]
    },
    {
      "cell_type": "code",
      "metadata": {
        "colab_type": "code",
        "outputId": "00fd0e73-fd61-429f-f95d-842eb90f7f03",
        "id": "kFeFXUYiNpXP",
        "colab": {
          "base_uri": "https://localhost:8080/",
          "height": 34
        }
      },
      "source": [
        "# Use this for Topics Pages only\n",
        "# Filter out only those links that are for actual articles. We only want the \"good\" links\n",
        "# This filters out things like links to images and advertisements or non-news worthy pages\n",
        "articles, old_url_set = get_articles_reuters_topics(links, old_url_set)\n",
        "print(len(articles))\n",
        "#articles"
      ],
      "execution_count": 0,
      "outputs": [
        {
          "output_type": "stream",
          "text": [
            "7\n"
          ],
          "name": "stdout"
        }
      ]
    },
    {
      "cell_type": "markdown",
      "metadata": {
        "id": "cOw3dyaeNar7",
        "colab_type": "text"
      },
      "source": [
        "<font color='orange'>Step 7.</font> Print out the running list of hyperlinks to see how many you have"
      ]
    },
    {
      "cell_type": "code",
      "metadata": {
        "id": "nZ4AQscjogdg",
        "colab_type": "code",
        "outputId": "b0507f98-df42-46fa-916c-ea2f002d192e",
        "colab": {
          "base_uri": "https://localhost:8080/",
          "height": 34
        }
      },
      "source": [
        "print(len(old_url_set))\n",
        "#old_url_set"
      ],
      "execution_count": 0,
      "outputs": [
        {
          "output_type": "stream",
          "text": [
            "120\n"
          ],
          "name": "stdout"
        }
      ]
    },
    {
      "cell_type": "markdown",
      "metadata": {
        "id": "DWBBUihX8R0w",
        "colab_type": "text"
      },
      "source": [
        "## <font color='skyblue'>Parse soup from entire list of hyperlinks that you just accumulated</font>"
      ]
    },
    {
      "cell_type": "markdown",
      "metadata": {
        "id": "M5M5Po9_OWk2",
        "colab_type": "text"
      },
      "source": [
        "Step 8. Get soup for every link"
      ]
    },
    {
      "cell_type": "code",
      "metadata": {
        "id": "ute7jceCQlmY",
        "colab_type": "code",
        "outputId": "a243d078-2785-4aab-ee87-927ec985d8a3",
        "colab": {
          "base_uri": "https://localhost:8080/",
          "height": 34
        }
      },
      "source": [
        "# Get soup for each one of the \"good\" links\n",
        "url_links = list(old_url_set) # Convert the running set of links to a list for use in the following functions\n",
        "\n",
        "soup_list = get_html_reuters(url_links)\n",
        "print(len(soup_list))\n",
        "#print(soup_list[0])"
      ],
      "execution_count": 0,
      "outputs": [
        {
          "output_type": "stream",
          "text": [
            "120\n"
          ],
          "name": "stdout"
        }
      ]
    },
    {
      "cell_type": "markdown",
      "metadata": {
        "id": "jsXM_dDROfag",
        "colab_type": "text"
      },
      "source": [
        "Step 9. Parse the soup for each link into `article_body`, `article_title`, and `article_date`. Create list of dictionaries for each web page"
      ]
    },
    {
      "cell_type": "code",
      "metadata": {
        "id": "9y19EoO4TtJj",
        "colab_type": "code",
        "outputId": "cbc0842c-b8b3-4953-9887-93236285a102",
        "colab": {
          "base_uri": "https://localhost:8080/",
          "height": 374
        }
      },
      "source": [
        "# Parse the soup for each \"good\" link to get article text, title, and date\n",
        "out_list = get_reuters_elements(soup_list, url_links)\n",
        "print(len(out_list))\n",
        "out_list[0:3]"
      ],
      "execution_count": 0,
      "outputs": [
        {
          "output_type": "stream",
          "text": [
            "120\n"
          ],
          "name": "stdout"
        },
        {
          "output_type": "execute_result",
          "data": {
            "text/plain": [
              "[{'Text': '(Reuters) - U.S. stocks finished mostly higher on Friday after President Donald Trump announced measures against China in response to new security legislation that were less threatening to the U.S. economy than investors had feared.  The Dow ended the session slightly lower, but all three indexes registered gains for the month and the week.  The S&P 500 initially extended losses after Trump said he was directing his administration to begin the process of eliminating special treatment for Hong Kong in response to China’s plans to impose new security legislation in the semi-autonomous territory.  But Trump made no mention of any action that could undermine the Phase One trade deal that Washington and Beijing struck early this year, a concern that had cast a cloud over the market throughout the week.  “He began speaking in a very tough tone,” said Chris Zaccarelli, chief investment officer at Independent Advisor Alliance in Charlotte, North Carolina. “The market was worried he was going to announce something substantial, something detrimental to the U.S. economy. Then, as he spoke, it became clear the actions being taken were not going to be as dramatic as originally feared.”  Trump also said the United States is terminating its relationship with the World Health Organization, something he had threatened to do earlier this month.  S&P 500 technology shares .SPLRCT gave the index its biggest boost, while financials .SPSY were the biggest drag.  The latest confrontation between the U.S. and China has fueled concern that worsening tensions between the two world’s largest economies could derail the recent sharp gains in the stock market.  Expectations of a quick economic recovery from the coronavirus pandemic have driven the S&P 500 .SPX up more than 30% from its March lows.  The Dow Jones Industrial Average .DJI fell 17.53 points, or 0.07%, to 25,383.11, the S&P 500 .SPX gained 14.58 points, or 0.48%, to 3,044.31, and the Nasdaq Composite .IXIC added 120.88 points, or 1.29%, to 9,489.87.  For the month, the Dow added 3.9%, the S&P 500 gained 4.5%, and the Nasdaq rose 6.8%. For the week, the Dow and S&P 500 each rose more than 3%, and the Nasdaq gained 1.8%.  New York Governor Andrew Cuomo said Friday that New York City is “on track” to enter phase one of reopening on June 8, and he said five upstate regions will now transition to phase two.  Federal Reserve Chair Jerome Powell, speaking in a webcast organized by Princeton University Friday, reiterated the U.S. central bank’s promise to use its tools to shore up the economy amid the coronavirus pandemic.  Twitter (TWTR.N) was down 2% and Facebook Inc (FB.O) shares slipped 0.2%, a day after Trump signed an order threatening social media firms with new regulations over free speech.  Upscale department store chain Nordstrom Inc (JWN.N) slumped 11% after it reported a near 40% fall in quarterly sales due to pandemic-led store closures.  Salesforce.com Inc (CRM.N) slipped 3.5% as the cloud-based business software maker cut its annual revenue and profit forecasts.  Declining issues outnumbered advancing ones on the NYSE by a 1.04-to-1 ratio; on Nasdaq, a 1.04-to-1 ratio favored advancers.  The S&P 500 posted 17 new 52-week highs and no new lows; the Nasdaq Composite recorded 60 new highs and 14 new lows.  Volume on U.S. exchanges was 13.62 billion shares, compared to the 11.3 billion average for the full session over the last 20 trading days.  Reporting by Caroline Valetkevitch in New York; additional reporting by Sinead Carew; Editing by Leslie Adler',\n",
              "  'Title': 'Wall Street ends mostly up; Trump comments on China but takes no action on trade',\n",
              "  'date': '2020-5-29',\n",
              "  'source': 'www.reuters.com',\n",
              "  'time': '10:58 AM',\n",
              "  'url': 'https://www.reuters.com/article/us-usa-stocks/wall-street-ends-mostly-up-trump-comments-on-china-but-takes-no-action-on-trade-idUSKBN2351FG'},\n",
              " {'Text': 'WASHINGTON (Reuters) - White House economic adviser Larry Kudlow said on Tuesday that President Donald Trump’s administration is looking carefully at a potential “back to work bonus” to encourage Americans who had been laid off as the coronavirus pandemic spread to return to work.  Kudlow, speaking on Fox News Channel, also said he does not think Congress will approve another $600 per week in extra jobless benefits to laid-off workers in a future coronavirus relief legislation.  Reporting by Tim Ahmann, Lisa Lambert and Daphne Psaledakis',\n",
              "  'Title': \"Kudlow says Trump administration looking at 'back to work bonus'\",\n",
              "  'date': '2020-5-26',\n",
              "  'source': 'www.reuters.com',\n",
              "  'time': '4:04 PM',\n",
              "  'url': 'https://www.reuters.com/article/us-health-coronavirus-usa-kudlow/kudlow-says-trump-administration-looking-at-back-to-work-bonus-idUSKBN2322HU'},\n",
              " {'Text': '* Graphic: World FX rates in 2020 tmsnrt.rs/2egbfVh  * MSCI All Country World Index down 0.1%  * Japanese yen in demand, up 0.4% vs. dollar  * Trump press conference on Hong Kong in focus  By Ritvik Carvalho  LONDON, May 29 (Reuters) - Global stock markets fell and safe havens such as bonds and the Japanese yen gained on Friday, as investors awaited Washington’s response to China tightening control over the city of Hong Kong.  China’s parliament on Thursday pressed ahead with national security legislation for the city, raising fears over the future of its freedoms and its function as a finance hub.  U.S. President Donald Trump said he would hold a news conference on China later on Friday. Trepidation about a further deterioration in Sino-U.S. relations put investors on edge.  European stocks sank, with the pan-European STOXX 600 index down 0.83% by midday in London. Germany’s DAX fell 1%, Britain’s FTSE 100 by 1% and France’s CAC 40 by 0.65%. Futures for the S&P 500 slipped 0.3%.  MSCI’s broadest index of Asia-Pacific shares outside Japan was flat. Japan’s Nikkei retreated from a three-month high and the yen rose to a two-week high of 107.06 against the dollar. Bonds rose.  “The question is how far Trump will go at today’s press conference, as removing Hong Kong’s favoured status would probably spark negative market developments, hitting global risk sentiment, which could backfire on the U.S. economy as it would further deteriorate the relationship with China,” strategists at Danske Bank said in a note to clients.  Trump offered a muted response to Hong Kong’s mass democracy protests last year while pursuing a trade deal with China. But ties with Beijing have since soured considerably through the COVID-19 pandemic.  Hong Kong’s government warned on Friday that withdrawing its special U.S. status, which has underpinned it as a finance hub, could be a “double-edged sword” and urged the United States to stop interfering in its internal affairs.  The Chinese yuan weakened in offshore trade.  Hong Kong’s Hang Seng index was 0.8% lower and has lost about 3% in the two weeks since news of China’s security legislation broke.  In bond markets, yields on benchmark 10-year U.S. Treasuries fell to 0.6705%, more than 100 basis points below where they began 2020.  Despite the gathering tension and the near-daily release of grim economic data, enormous global stimulus seems to have propped up stocks. The S&P 500 is up 4% for the month and on track for its best May since 2009.  A rally in the risk-sensitive Aussie dollar is slowing, but the currency has gained nearly 2% for the month and sits 20% above March lows.  MSCI’s All Country World Index, which tracks stocks across 49 countries, is on track for a 3.5% gain this week - its best weekly performance since April. The index was down 0.1% on the day.  The optimism stems from signs of progress in the world economy. The number of Americans seeking jobless benefits fell for an eighth straight week last week and New York has outlined plans for re-opening.  “As we have said about the re-opening and ensuing recovery, this is a process,” said RBC Capital Markets’ chief U.S. economist, Tom Porcelli. “And right now the process is moving along in the right direction.”  The euro was headed for its best month since December as the European Union’s 750 billion-euro coronavirus recovery fund fuelled optimism about the EU’s political future. It hit a two-month high of $1.1114 and last traded at $1.1106.  The dollar sank against a basket of currencies, down 0.4%.  Gold rose 0.5% to trade at $1,727.32 an ounce.  In oil, Brent crude fell 2.78% to $34.31 a barrel. U.S. crude fell 3.3% to $32.59 a barrel.  Both contracts are headed for their biggest monthly gains in years as production cuts and optimism about demand recovery led by China supported prices.  London aluminium prices, which stayed flat on Friday, were set for their strongest monthly gain since January 2019, underpinned by a solid recovery in demand from top consumer China.  Reporting by Ritvik Carvalho, additional reporting by Tom\\nWestbrook in Singapore; Editing by Larry King and Alison\\nWilliams',\n",
              "  'Title': \"GLOBAL MARKETS-Stocks sink as investors await Trump's Hong Kong response\",\n",
              "  'date': '2020-5-29',\n",
              "  'source': 'www.reuters.com',\n",
              "  'time': '11:17 AM',\n",
              "  'url': 'https://www.reuters.com/article/global-markets/global-markets-stocks-sink-as-investors-await-trumps-hong-kong-response-idUSL8N2DB3MK'}]"
            ]
          },
          "metadata": {
            "tags": []
          },
          "execution_count": 66
        }
      ]
    },
    {
      "cell_type": "markdown",
      "metadata": {
        "id": "IeIyrHfTO1Ss",
        "colab_type": "text"
      },
      "source": [
        "Step 10. Run `TextBlob` on list of dictionaries to separate all sentences in a single list"
      ]
    },
    {
      "cell_type": "code",
      "metadata": {
        "id": "RWuYwnVnx7x_",
        "colab_type": "code",
        "outputId": "900f0824-b005-4c7a-eb63-1f98cf55b181",
        "colab": {
          "base_uri": "https://localhost:8080/",
          "height": 34
        }
      },
      "source": [
        "blob_sentences =[]\n",
        "x = 0\n",
        "for i in range(len(out_list)):\n",
        "  blob = TextBlob(out_list[i]['Text'])\n",
        "  for item in blob.sentences:\n",
        "    blob_sentences.append(item)\n",
        "print(f'You have {len(blob_sentences)} total sentences from {i+1} different articles')"
      ],
      "execution_count": 0,
      "outputs": [
        {
          "output_type": "stream",
          "text": [
            "You have 2177 total sentences from 120 different articles\n"
          ],
          "name": "stdout"
        }
      ]
    },
    {
      "cell_type": "markdown",
      "metadata": {
        "id": "-XjoXSZDPHLr",
        "colab_type": "text"
      },
      "source": [
        "This is just a troubleshooting section to ensure you're `TextBlob` came out right. You should see a list of stentences, each starting with the word `Sentence`. Check this before moving to the next step."
      ]
    },
    {
      "cell_type": "code",
      "metadata": {
        "id": "h4fJQzcl5X3h",
        "colab_type": "code",
        "outputId": "066f1662-7225-43ab-bf2b-ba67209af2c7",
        "colab": {
          "base_uri": "https://localhost:8080/",
          "height": 143
        }
      },
      "source": [
        "# print the first 6 sentences so you see what it looks like\n",
        "blob_sentences[0:6]"
      ],
      "execution_count": 0,
      "outputs": [
        {
          "output_type": "execute_result",
          "data": {
            "text/plain": [
              "[Sentence(\"(Reuters) - U.S. stocks finished mostly higher on Friday after President Donald Trump announced measures against China in response to new security legislation that were less threatening to the U.S. economy than investors had feared.\"),\n",
              " Sentence(\"The Dow ended the session slightly lower, but all three indexes registered gains for the month and the week.\"),\n",
              " Sentence(\"The S&P 500 initially extended losses after Trump said he was directing his administration to begin the process of eliminating special treatment for Hong Kong in response to China’s plans to impose new security legislation in the semi-autonomous territory.\"),\n",
              " Sentence(\"But Trump made no mention of any action that could undermine the Phase One trade deal that Washington and Beijing struck early this year, a concern that had cast a cloud over the market throughout the week.\"),\n",
              " Sentence(\"“He began speaking in a very tough tone,” said Chris Zaccarelli, chief investment officer at Independent Advisor Alliance in Charlotte, North Carolina.\"),\n",
              " Sentence(\"“The market was worried he was going to announce something substantial, something detrimental to the U.S. economy.\")]"
            ]
          },
          "metadata": {
            "tags": []
          },
          "execution_count": 68
        }
      ]
    },
    {
      "cell_type": "markdown",
      "metadata": {
        "id": "tGJmYoaJYF_n",
        "colab_type": "text"
      },
      "source": [
        "## <font color='skyblue'> Event Detection </font>\n",
        "\n"
      ]
    },
    {
      "cell_type": "markdown",
      "metadata": {
        "id": "rkcNzckEPdOf",
        "colab_type": "text"
      },
      "source": [
        "Step 11. Determine key words used to search for event of interest in all the articles"
      ]
    },
    {
      "cell_type": "code",
      "metadata": {
        "id": "2xN0ZSBJ510j",
        "colab_type": "code",
        "outputId": "bacd83c9-c2b0-4268-de51-f548aee6b262",
        "colab": {
          "base_uri": "https://localhost:8080/",
          "height": 105
        }
      },
      "source": [
        "# Allow user to type in key words to search the text for\n",
        "# Note this is case sensitive... so you need to make sure you enter your search \n",
        "# Try the entering the following to see some results: corona,COVID,death\n",
        "filter_list = input(\"Enter key words to search for separated by commas. don't use spaces.\\nSearch is case sensitive.\\nExample search: coronavirus,COVID,death\\n\\n\") #.title() # This is still a string... not a list yet"
      ],
      "execution_count": 0,
      "outputs": [
        {
          "output_type": "stream",
          "text": [
            "Enter key words to search for separated by commas. don't use spaces.\n",
            "Search is case sensitive.\n",
            "Example search: coronavirus,COVID,death\n",
            "\n",
            "coronavirus,COVID,death\n"
          ],
          "name": "stdout"
        }
      ]
    },
    {
      "cell_type": "markdown",
      "metadata": {
        "id": "h8asVgYSPsbu",
        "colab_type": "text"
      },
      "source": [
        "Step 12. Convert keywords into an iterable list for use in the next step\n"
      ]
    },
    {
      "cell_type": "code",
      "metadata": {
        "id": "49R1H35B7aH8",
        "colab_type": "code",
        "outputId": "affc2e90-a96f-4b0c-b884-8ade34b0fdf6",
        "colab": {
          "base_uri": "https://localhost:8080/",
          "height": 34
        }
      },
      "source": [
        "# Split filter words and convert into a list for itterating in the next step \n",
        "\n",
        "f = []\n",
        "for word in (filter_list.split(\",\")):  # Split string into separate words, separate by comma\n",
        "  f.append(word)                       # Generate new list containing each key word\n",
        "f # This is now a list of key words that the user typed in"
      ],
      "execution_count": 0,
      "outputs": [
        {
          "output_type": "execute_result",
          "data": {
            "text/plain": [
              "['coronavirus', 'COVID', 'death']"
            ]
          },
          "metadata": {
            "tags": []
          },
          "execution_count": 73
        }
      ]
    },
    {
      "cell_type": "markdown",
      "metadata": {
        "id": "GTNasDzQLinR",
        "colab_type": "text"
      },
      "source": [
        "Step 13. <font color='skyblue'> Search </font>  All sentences for Key Words and return only those consisting of a key word\n",
        "\n"
      ]
    },
    {
      "cell_type": "code",
      "metadata": {
        "id": "MXjYMd1-LUrT",
        "colab_type": "code",
        "outputId": "9d8de0f8-423b-4832-b6c8-99a0e547bacf",
        "colab": {
          "base_uri": "https://localhost:8080/",
          "height": 1000
        }
      },
      "source": [
        "# Instantiate list for holding the sentences\n",
        "sentences = []\n",
        "\n",
        "# Generate empty list of lists to store the sentences with your key words in them\n",
        "for i in range(len(f)):\n",
        "  sentences.append([])\n",
        "#print('Here is what you just made, and empty list of lists: ', sentences, '\\n')\n",
        "\n",
        "# Generate lists of sentences for each key word and plug them into the list of lists from above            \n",
        "for i in range(len(f)):\n",
        "  for sentence in blob_sentences:\n",
        "    if f[i] in sentence:\n",
        "        sentences[i].append(sentence)\n",
        "        \n",
        "# Print number of sentences containing each key word\n",
        "# Print out all sentences containing each key word\n",
        "for i in range(len(f)):\n",
        "  print('='*200)   \n",
        "  print('\\nThere are {} sentences containing the word: {} '.format(len(sentences[i]), f[i])) \n",
        "  print('-'*200)   \n",
        "  for sentence in sentences[i]:\n",
        "      print(sentence)"
      ],
      "execution_count": 0,
      "outputs": [
        {
          "output_type": "stream",
          "text": [
            "========================================================================================================================================================================================================\n",
            "\n",
            "There are 113 sentences containing the word: coronavirus \n",
            "--------------------------------------------------------------------------------------------------------------------------------------------------------------------------------------------------------\n",
            "Expectations of a quick economic recovery from the coronavirus pandemic have driven the S&P 500 .SPX up more than 30% from its March lows.\n",
            "Federal Reserve Chair Jerome Powell, speaking in a webcast organized by Princeton University Friday, reiterated the U.S. central bank’s promise to use its tools to shore up the economy amid the coronavirus pandemic.\n",
            "WASHINGTON (Reuters) - White House economic adviser Larry Kudlow said on Tuesday that President Donald Trump’s administration is looking carefully at a potential “back to work bonus” to encourage Americans who had been laid off as the coronavirus pandemic spread to return to work.\n",
            "Kudlow, speaking on Fox News Channel, also said he does not think Congress will approve another $600 per week in extra jobless benefits to laid-off workers in a future coronavirus relief legislation.\n",
            "“And right now the process is moving along in the right direction.”  The euro was headed for its best month since December as the European Union’s 750 billion-euro coronavirus recovery fund fuelled optimism about the EU’s political future.\n",
            "MEXICO CITY (Reuters) - Mexico faces a sluggish exit from coronavirus lockdown as government guidance on next week’s planned easing of restrictions showed on Friday that nearly the entire country was still stuck in the highest red phase of contagion alert.\n",
            "From June 1, the government had planned to start reopening the country from anti-coronavirus measures.\n",
            "Deputy Health Minister Hugo Lopez-Gatell, the country’s coronavirus czar, said the map was based on May 28 data and would serve as the initial model on Monday.\n",
            "Mexico registered its first cases of coronavirus weeks after Canada and the United States, which has urged Lopez Obrador’s government to reopen major sectors of the economy like carmaking that are closely integrated with the rest of North America.\n",
            "With the “significant risk event” of the coronavirus pandemic, the fund has appetite for more bond investments to “nudge the risk down a bit,” he said.\n",
            "PARIS (Reuters) - The Louvre museum in Paris will reopen on July 6, it said on Friday, as France’s historical and cultural sites emerge gradually from the coronavirus lockdown.\n",
            "The number of virtual visitors per day to the site soared to about 330,000, with a peak of nearly 400,000, compared to about 40,000 visitors per day before the coronavirus crisis.\n",
            "(Reuters) - The U.S. Department of Justice is closing probes into three U.S. senators over stock trades made shortly before the coronavirus market turmoil, the Wall Street Journal reported on Tuesday, citing people familiar with the matter.\n",
            "The senators were investigated over selling large amounts of stock before the coronavirus-induced market meltdown and after closed-door briefings on the outbreak this year.\n",
            "Daily numbers of new cases are hovering below 100 and on Monday the country reported no coronavirus-related deaths for the first time since March.\n",
            "LONDON/PARIS (Reuters) - It took just three days to sell shares in JDE Peet’s JDEP.AS as investors facing a dearth of opportunities because of the coronavirus-induced slow-down rushed to secure a dose of the world’s No.\n",
            "Advisers on the deal started to lure investors early this year before the novel coronavirus brought Europe to a halt, a banking source involved in the work said.\n",
            "The Main Street Lending Program is targeting medium-sized and small-sized businesses facing financial strain because of the coronavirus pandemic.\n",
            "NEW YORK (Reuters) - The coronavirus pandemic has disrupted in-person education and student life, leaving U.S. colleges and universities scrambling to make plans for the fall semester and beyond.\n",
            "MOSCOW (Reuters) - A Russian-language Facebook group that started off as a playful attempt by a group of friends to get through the coronavirus lockdown by recreating art masterpieces using everyday items has become an unexpected global hit.\n",
            "The project - Izoizolyacia - was launched at the end of March, shortly after President Vladimir Putin ordered Russia to adopt lockdown measures to try to stop the spread of the novel coronavirus.\n",
            "U.S. stocks pared losses after Trump’s remarks and oil gained on hopes the dispute will not curb the economy’s nascent recovery from the coronavirus pandemic.\n",
            "The euro EUR= climbed above its 200-day moving average for the first time since late March as the European Union's 750 billion-euro coronavirus recovery fund fueled optimism.\n",
            "NEW YORK (Reuters) - Lyft Inc was sued on Friday by a former driver who accused the ride-sharing company of failing to provide required paid sick leave to drivers in Washington, D.C., a policy she said could fuel the spread of the coronavirus.\n",
            "The euro was headed for its second weekly gain and its fourth day up after the 750 billion-euro coronavirus recovery fund fuelled optimism about the euro zone economy.\n",
            "NEW YORK (Reuters) - U.S. jobless claims have exceeded 30 million since the coronavirus outbreak hit the country, wiping out a decade of job gains and sending many Americans scrambling to find work and cash in on government aid.\n",
            "(Reuters) - United Airlines Holdings Inc (UAL.O) said on Friday it will be eliminating 13 officer positions as it consolidates roles and restructures some key departments to address the severe financial impact of the coronavirus crisis on its business.\n",
            "The move is aimed at ensuring that forgivable loans to small businesses to retain employees during coronavirus shutdown reach traditionally underserved communities, the agencies said.\n",
            "But the coronavirus spoiled everything.\n",
            "“And right now the process is moving along in the right direction.”  The euro was headed for its best month since December as the European Union’s 750-billion-euro coronavirus recovery fund fuelled optimism about the bloc and its political future.\n",
            "MONTREAL/CHICAGO (Reuters) - A United Nations aviation-led task force is urging airlines, airports and countries to come up with a uniform approach to flying safely during the coronavirus pandemic, although it stopped short of providing specific requirements for the hard hit industry’s recovery.\n",
            "Therefore sanctions and other enforcement actions can only be intended as retribution for the new law, the coronavirus, or economic behavior.\n",
            "WASHINGTON/UNITED NATIONS (Reuters) - U.S. President Donald Trump on Friday said he is terminating the U.S. relationship with the World Health Organization over its handling of the coronavirus, saying the WHO had essentially become a puppet organization of China.\n",
            "At his Rose Garden appearance, Trump tied the WHO closely with China, where the coronavirus originated.\n",
            "The euro was headed for its best month since December as the European Union’s 750 billion-euro coronavirus recovery fund fueled optimism about the EU’s political future.\n",
            "(Reuters) - Euro zone stocks were buoyed on Wednesday by a 750-billion-euro ($824 billion) plan to prop up EU economies hammered by the coronavirus crisis, but falls for healthcare and technology stocks weighed on broader European markets.\n",
            "“With the cyclicals, the most extreme risks seem to have been priced in and people are looking for some cheaper opportunities.”  But the healthcare .SXDP and technology sectors .SX8P, which have been resilient during the coronavirus crisis, dropped 2.5% and 1.4% respectively.\n",
            "* Trump plans China news conference for Friday  * Sterling steady vs. Euro ahead of Brexit talks next week (New throughout, updates prices, market activity, comments to U.S. market open; previous LONDON)  By Saqib Iqbal Ahmed  NEW YORK, May 29 (Reuters) - The dollar extended its slide against a surging euro on Friday, hurt by month-end flows and as the common currency continued to enjoy a boost from the European Union’s recently announced plan to prop up the bloc’s coronavirus-hit economies with a 750 billion-euro ($828 billion) recovery fund.\n",
            "Much of the euro’s move was driven by optimism generated by the European Commission’s stimulus plan announced earlier this week, as well as investors’ improved appetite for risk-taking as global economies gradually move to reopen after coronavirus-linked shutdowns, analysts said.\n",
            "PETERBOROUGH, England (Reuters) - The Jamaican bobsleigh team is used to training without snow, but the coronavirus lockdown has seen its male athletes resort to pushing a car around the streets of an English city to stay in shape, with an eye on Olympic qualification.\n",
            "BOSTON (Reuters) - William Ackman’s hedge fund is boasting double-digit gains at a time many portfolios have sunk along with the economy during the coronavirus pandemic, after the billionaire investor plowed cash into a number of companies he already owned and dumped Warren Buffett’s Berkshire Hathaway among other stocks.\n",
            "“Maximising returns on the kingdom’s assets will reflect positively on economic performance and public finances and limit negative effects of the coronavirus pandemic.\n",
            "Expectations of a quick economic recovery from the coronavirus pandemic have driven the S&P 500 up more than 30% from its March lows.\n",
            "Federal Reserve Chair Jerome Powell, speaking in a webcast organized by Princeton University Friday, reiterated the U.S. central bank’s promise to use its tools to shore up the economy amid the coronavirus pandemic.\n",
            "The move comes as the U.S. government has begun extending its trade and technology battle with Beijing to capital markets, as ties between the rival nations have soured over the origins of the deadly coronavirus.\n",
            "Investors fear a U.S. response could further damage Sino-U.S. relations and cloud the prospect for economic recovery from a coronavirus-led slump.\n",
            "Coffee maker JDE Peet’s BV JDEP.AS, one of the few big companies to go public during the coronavirus crisis, jumped 13.8% on its market debut, valuing it at 15.6 billion euros ($17.3 billion).\n",
            "Now 47, Fason says she always votes in person, a ritual she has no intention of changing even if the deadly coronavirus still rages in November.\n",
            "The Democratic Party is pushing mail-in voting as the safest way to cast ballots amid the coronavirus pandemic.\n",
            "That could pose a problem for Democrats if in-person voting is severely restricted in November and many polling stations closed because of coronavirus worries.\n",
            "Some Democrats fear such efforts to discredit mail balloting, coupled with a possible reduction of in-person polling places if a second wave of coronavirus hits this fall, could depress African-American turnout and doom Biden’s chances.\n",
            "The new coronavirus has killed and infected African-Americans at disproportionately high rates, in part because they are more likely to work in frontline service jobs than whites, and tend to have more chronic health problems.\n",
            "The state shifted to a nearly all-mail format and drastically reduced the number of polling places open on Election Day amid concerns about coronavirus.\n",
            "WASHINGTON (Reuters) - Federal Reserve Chair Jerome Powell on Friday said a potential surge in U.S. coronavirus infections could derail the recovery from the deep downturn triggered by the pandemic, even as he reiterated the central bank’s vow to keep fighting the crisis.\n",
            "The Fed has gone all out to steady financial markets since March, lowering borrowing costs and creating credit backstops for companies and local governments reeling from the economic fallout of lockdowns to stop the spread of the novel coronavirus.\n",
            "And in an effort to stabilize financial markets, the Fed has ballooned its balance sheet, which it had been trimming before the coronavirus pandemic, to a record-setting level of more than $7 trillion.\n",
            "MADRID (Reuters) - With air kisses and palms clasped, elderly patients in Madrid greet medics who come to check them at home during the coronavirus pandemic despite the risks involved.\n",
            "WASHINGTON (Reuters) - Two U.S. House of Representatives Democrats on Friday launched an inquiry into whether the Health and Human Services Department misdirected billions of dollars in coronavirus stimulus money to healthcare providers facing criminal or civil fraud investigations.\n",
            "After sending the funds, HHS asked all the providers to sign a lengthy attestation that stipulates they have been or will be treating patients suffering from COVID-19, the disease caused by the new coronavirus.\n",
            "Investors fear a U.S. response could further damage Sino-U.S. relations and cloud the prospect for economic recovery from a coronavirus-led slump.\n",
            "Coffee maker JDE Peet’s BV JDEP.AS, one of the few big companies to go public during the coronavirus crisis, jumped 13.8% on its market debut, valuing it at 15.6 billion euros ($17.3 billion).\n",
            "WASHINGTON/NEW YORK (Reuters) - U.S. President Donald Trump is trusted more than Democratic nominee Joe Biden to handle the economy, polls show, even with more than 40 million Americans filing jobless claims and growth stalled due to the coronavirus pandemic.\n",
            "To better compete, Biden “must put Trump’s mismanagement of the economic fallout of the coronavirus on the front burner,” said Sams, who was a spokesman for Senator Kamala Harris’ 2020 Democratic presidential campaign.\n",
            "The country, which lifted the coronavirus state of emergency in certain regions this week, is lucky in two ways.\n",
            "Their repayment comes as President Lenin Moreno’s government faces a new debt crisis due to the collapse of global oil prices and an economic slowdown triggered by the coronavirus, of which Ecuador has suffered one of Latin America’s worst outbreaks.\n",
            "Coffee maker JDE Peet’s, one of the few big companies to go public during the coronavirus crisis, jumped 11.3% at the start of trading on Euronext in Amsterdam.\n",
            "But the coronavirus pandemic has cut off his livelihood.\n",
            "The hospital typically receives 2,000 patients a day and is due to start readmitting visitors next week as life in Belgium returns to relative normality after the coronavirus lockdown.\n",
            "The benchmark index has climbed more than 30% from March lows as investors pinned hopes on a gradual recovery with policymakers injecting trillions of dollars in the global economy and drugmakers racing to develop a coronavirus vaccine.\n",
            "But the coronavirus pandemic has chased visitors away, leaving residents and businesses unsure they can survive.\n",
            "The beginning of summer in states like Michigan, which have strict social distancing guidelines in place, contrasted sharply with crowds flocking to beaches in locations like South Carolina and New Jersey easing coronavirus-related restrictions.\n",
            "The death toll in the United States from the novelcoronavirus has topped 100,000, according to a Reuters tally.\n",
            "This comes as minorities are disproportionately represented in coronavirus deaths, and lower-income communities are being hit hard economically – as jobless claims in the country top 40 million.\n",
            "Activists want public-minded, progressive leaders to help ensure a fair economic recovery from the coronavirus pandemic and to guard against stimulus money being wasted on what they view as corporate giveaways.\n",
            "Trump called this a tragedy for the people of Hong Kong, China and the world, having already attacked Beijing’s handling of the coronavirus pandemic, which began in the Chinese city of Wuhan.\n",
            "Trump’s tough rhetoric against China comes in the midst of a 2020 re-election campaign in which opinion polls show U.S. voters increasingly embittered toward Beijing, especially over the novel coronavirus.\n",
            "U.S. House Speaker Nancy Pelosi called Trump’s planned order “outrageous” and a “distraction” from the coronavirus crisis.\n",
            "BANGKOK (Reuters) - The black leather party masks that performers May and Som wear for their fetish shows in Bangkok are definitely not the sort to stop the coronavirus.\n",
            "Thailand shut bars and clubs in mid-March as coronavirus cases surged.\n",
            "“This COVID-19 is an accelerant of change,” said Michael Ernst, an Austrian 25-year veteran of the district and former bar owner who opened the Patpong Museum weeks before the new coronavirus reached Thailand.\n",
            "The common currency was headed for its second weekly gain after the 750 billion-euro coronavirus recovery fund fuelled optimism about the euro zone economy.\n",
            "“And right now the process is moving along in the right direction.”  The euro was headed for its best month since December as the European Union’s 750 billion-euro coronavirus recovery fund fuelled optimism about the EU’s political future.\n",
            "The eurozone stock index also gained 0.4%, with the European Commission set to unveil a plan to help the EU economy recover from its coronavirus slump with a mix of grants, loans and guarantees exceeding 1 trillion euros.\n",
            "NEW YORK (Reuters) - Small businesses are among the hardest hit as the coronavirus pandemic continues to cause economic uncertainty in communities across the United States.\n",
            "(Reuters) - Uber Technologies Inc on Friday said it would offer rides by the hour in some U.S. cities, a feature aimed at helping Americans with essential trips during the coronavirus pandemic.\n",
            "LONDON (Reuters) - The recovery from the coronavirus financial crash will take time for European stocks which are expected to end 2021 around 10% below this February’s record high, a Reuters poll of about 30 fund managers, strategists and brokers showed.\n",
            "The index hit a record high of 433.9 points on Feb. 19 but the coronavirus pandemic and lockdowns imposed across the world to limit its spread triggered a global sell-off in anticipation of recessions caused by entire countries closing down.\n",
            "The move comes as the U.S. government has begun extending its trade and technology battle with Beijing to capital markets, as ties between the rival nations have soured over the origins of the deadly coronavirus.\n",
            "Trump in March canceled the Group of Seven leaders meeting scheduled for June 10 in the United States as the coronavirus outbreak was spreading around the world and international travel was curtailed.\n",
            "Macron is open to traveling to the United States for a G7 meeting if the coronavirus epidemic situation allows, an Elysee official said last week.\n",
            "HAVANA/NEW YORK (Reuters) - Ken Hutton is worried Great Abaco Island in the Bahamas where he lives is far from rebuilt after being devastated by Hurricane Dorian last year yet he is bracing for another hurricane season in the midst of the coronavirus pandemic.\n",
            "Countries have tapped typical sources of external emergency financing, like the International Monetary Fund (IMF), to respond to the coronavirus crisis, further limiting their funding options.\n",
            "Expectations of a quick economic recovery from the coronavirus pandemic have driven the S&P 500 .SPX up more than 30% from its March lows.\n",
            "Federal Reserve Chair Jerome Powell, speaking in a webcast organized by Princeton University Friday, reiterated the U.S. central bank’s promise to use its tools to shore up the economy amid the coronavirus pandemic.\n",
            "(Reuters) - Euro zone stocks were buoyed on Wednesday by a 750-billion-euro ($824 billion) plan to prop up EU economies hammered by the coronavirus crisis, but falls for healthcare and technology stocks weighed on broader European markets.\n",
            "“With the cyclicals, the most extreme risks seem to have been priced in and people are looking for some cheaper opportunities.”  But the healthcare .SXDP and technology sectors .SX8P, which have been resilient during the coronavirus crisis, dropped 2.5% and 1.4% respectively.\n",
            "The greenback was on course for a weekly loss against major currencies as progress in lifting coronavirus lockdowns and stimulus plans in Europe weakened demand for safe havens, but the mood could quickly worsen if Sino-U.S. tensions increase.\n",
            "The common currency was headed for its second weekly gain against the greenback as the EU’s announcement of a 750-billion-euro coronavirus recovery fund fuelled optimism about the euro-zone economy.\n",
            "(Reuters) - Human Interest, which helps small and medium-sized businesses set up 401K plans for employees, said on Wednesday it had extended its Series C funding round to $50 million due to more demand during the coronavirus crisis.\n",
            "NEW YORK (Reuters) - In a little over a year, when Americans file their 2020 tax returns, much of what is going on with coronavirus-linked stimulus payments will finally add up.\n",
            "BRASILIA (Reuters) - Brazil’s National Monetary Council on Friday extended caps on banks increasing dividends and senior staff pay through the end of the year, its latest effort to boost the flow of credit in an economy under increasing strain from the coronavirus pandemic.\n",
            "NEW YORK (Reuters) - The dollar edged lower against the euro on Friday, hurt by month-end flows and as the common currency continued to enjoy a boost from the European Union’s recently announced plan to prop up the bloc’s coronavirus-hit economies with a 750 billion-euro (673 billion pounds) recovery fund.\n",
            "Much of the euro’s move was driven by optimism generated by the European Commission’s stimulus plan announced earlier this week, as well as investors’ improved appetite for risk-taking as global economies gradually move to reopen after coronavirus-linked shutdowns, analysts said.\n",
            "ZURICH (Reuters) - Thirty-seven countries and the World Health Organization (WHO) appealed on Friday for common ownership of vaccines, medicines and diagnostic tools to tackle the global coronavirus pandemic, taking aim at patent laws they fear could become a barrier to sharing crucial supplies.\n",
            "“Vaccines, tests, diagnostics, treatments and other key tools in the coronavirus response must be made universally available as global public goods,” said Costa Rica President Carlos Alvarado.\n",
            "Their repayment comes as President Lenin Moreno’s government faces a new debt crisis due to the collapse of global oil prices and an economic slowdown triggered by the coronavirus, of which Ecuador has suffered one of Latin America’s worst outbreaks.\n",
            "But economic volatility amid the ongoing novel coronavirus pandemic made such modeling difficult, two unnamed White House officials told the Post.\n",
            "Kelton wrote “The Deficit Myth” before the coronavirus pandemic locked down large parts of the global economy.\n",
            "The comments by RNC Chairwoman Ronna McDaniel on a popular North Carolina radio show came a day after her letter to Governor Roy Cooper setting a June 3 deadline to approve safety and logistical measures - such as how many people can gather together - to prevent the spread of the coronavirus during the August convention.\n",
            "(Reuters) - People are hitting the beach as coronavirus restrictions start to ease and summer begins in the northern hemisphere, but access might be limited and public health officials still urge caution, including continued physical distancing.\n",
            "Spending time outdoors is a low-risk activity in the era of the coronavirus.\n",
            "Federal Reserve Chair Jerome Powell on Friday reiterated the U.S. central bank’s promise to use its tools to shore up the economy amid the coronavirus pandemic, even as investor attention is turning to the next phase of its response.\n",
            "The euro climbed above its 200-day moving average on Friday for the first time since late March as the European Union’s 750 billion-euro coronavirus recovery fund fueled optimism about the EU’s political future.\n",
            "========================================================================================================================================================================================================\n",
            "\n",
            "There are 39 sentences containing the word: COVID \n",
            "--------------------------------------------------------------------------------------------------------------------------------------------------------------------------------------------------------\n",
            "But ties with Beijing have since soured considerably through the COVID-19 pandemic.\n",
            "I expect we will see more consolidation and actual closures as a result of COVID-19.”    — Melissa Bassett, business lead for private student loans at Social Finance Inc. (SoFi), a student online lending company   “1.\n",
            "[.N]  Investors were worried about a further deterioration in Sino-U.S. relations, which have soured considerably through the COVID-19 pandemic.\n",
            "In a statement, San Francisco-based Lyft said it is financially supporting drivers who contract the COVID-19 disease, and helping drivers obtain federal relief including paid sick leave.\n",
            "As part of our weekly #AskReuters Twitter chat series, Reuters invited a group of financial experts to share their best tips for navigating unemployment during the COVID-19 pandemic.\n",
            "But ties with Beijing have since soured considerably through the COVID-19 pandemic.\n",
            "GlaxoSmithKline (GSK.L), the world’s largest vaccine maker, gained 2.1% as it laid out plans to produce 1 billion doses of vaccine efficacy boosters for COVID-19 shots next year.\n",
            "The STOXX 600 has risen more than 32% from its March lows as investors hope for a gradual recovery with policymakers injecting trillions of dollars into the global economy and drugmakers racing to develop a COVID-19 vaccine.\n",
            "Italian luxury group Salvatore Ferragamo (SFER.MI) surged 16% after it called back its former chief executive officer to help weather the COVID-19 storm.\n",
            "Trepidation about a further deterioration in Sino-U.S. relations, which have soured considerably through the COVID-19 pandemic, put investors on edge.\n",
            "WASHINGTON (Reuters) - U.S. consumers cut spending by the most on record for the second straight month in April while boosting savings to an all-time high, and the growing frugality reinforced expectations the economy could take years to recover from the COVID-19 pandemic.\n",
            "Spending was depressed by a decrease in outlays on healthcare as dental offices closed and hospitals postponed elective surgeries and non-emergency visits to focus on patients suffering from COVID-19.\n",
            "But the COVID-19 crisis boosted incomes for consumers in April, with the government transferring an additional $3 trillion to households.\n",
            "They will limit the decline, but not fuel a sharp rebound.”   The economy is gradually reopening after nonessential businesses were shuttered in mid-March to slow the spread of COVID-19, raising hope the economic slump was bottoming.\n",
            "Georgia’s Republican Secretary of State Brad Raffensperger sent all of the state’s 6.9 million active voters an application for an absentee ballot, a move that was widely applauded in a state where more than 1,900 people have died of COVID-19.\n",
            "Robin Reese, an African American voter from Milwaukee, requested her first-ever absentee ballot after she contracted COVID-19.\n",
            "More than 101,000 Americans have died from COVID-19, the respiratory illness caused by the virus, and many health officials are worried that infections could spike in the weeks and months ahead as states reopen their economies.\n",
            "After sending the funds, HHS asked all the providers to sign a lengthy attestation that stipulates they have been or will be treating patients suffering from COVID-19, the disease caused by the new coronavirus.\n",
            "GlaxoSmithKline (GSK.L), the world’s largest vaccine maker, gained 2.1% as it laid out plans to produce 1 billion doses of vaccine efficacy boosters for COVID-19 shots next year.\n",
            "The STOXX 600 has risen more than 32% from its March lows as investors hope for a gradual recovery with policymakers injecting trillions of dollars into the global economy and drugmakers racing to develop a COVID-19 vaccine.\n",
            "Italian luxury group Salvatore Ferragamo (SFER.MI) surged 16% after it called back its former chief executive officer to help weather the COVID-19 storm.\n",
            "“He needs to show what life is going to be like and how we are going to do it.”  Trump has staked his political future on the economy, pushing a return to normal as U.S. deaths from COVID-19 topped 100,000 nationwide.\n",
            "It is not just Americans facing job losses who have to face the reality of high deductibles because of COVID-19.\n",
            "Even if the test for COVID-19 is a covered expense, there are all sorts of other costs you could face if you fall ill, and you are on the hook for normal healthcare costs too.\n",
            "His robots will not test for COVID-19, but could provide useful signs.\n",
            "“I don’t know when we’re ever going to get back to a situation where we see revenues like they were pre-COVID.\n",
            "Portugal, which has recorded 31,946 confirmed COVID-19 cases and 1,383 deaths backed by Europe’s fourth highest testing rate, began lifting a handful of restrictions imposed during a six-week lockdown from May 4.\n",
            "“This COVID-19 is an accelerant of change,” said Michael Ernst, an Austrian 25-year veteran of the district and former bar owner who opened the Patpong Museum weeks before the new coronavirus reached Thailand.\n",
            "But ties with Beijing have since soured considerably through the COVID-19 pandemic.\n",
            "CHICAGO (Reuters) - The COVID-19 pandemic has put a bright spotlight on weaknesses in many of the systems designed to protect Americans from risks.\n",
            "During the COVID-19 crisis, the rules for covering care have been relaxed, but the big headlines have focused on the sky-high infection and death rates in nursing homes.\n",
            "Medicare tacitly acknowledged that problem recently when it relaxed network rules for COVID-19 care.\n",
            "During the COVID-19 crisis, that means a hospitalization would leave them vulnerable to the standard Part A deductible of $1,408 for each stay, and daily co-payments for stays exceeding 60 days.\n",
            "Before the COVID-19 emergency, Medicare coverage of telehealth services - where providers provide care via a video or phone link-up - was very limited.\n",
            "Warner Music in March had delayed its IPO as the COVID-19 pandemic rocked capital markets and slammed the brakes on many listings.\n",
            "While the push by mostly developing nations, called the COVID-19 Technology Access Pool, won praise from groups including Doctors Without Borders, a drug industry alliance questioned if the effort to pool intellectual property would really broaden access to medicines.\n",
            "“The advantage of being outside is that if someone does have COVID-19 and they are releasing respiratory droplets, the droplets will be rapidly dispersed.”  The real change, experts advise, is to plan a beach outing around specific activities for a limited period of time during the day, rather than settling in for hours of food, socializing, or naps by the shore.\n",
            "“The important thing to remember is that the COVID-19 pandemic has not gone away,” said Brewer.\n",
            "Trepidation about a further deterioration in Sino-U.S. relations, which have soured considerably through the COVID-19 pandemic, has put investors on edge.\n",
            "========================================================================================================================================================================================================\n",
            "\n",
            "There are 18 sentences containing the word: death \n",
            "--------------------------------------------------------------------------------------------------------------------------------------------------------------------------------------------------------\n",
            "Instead, deaths and new infections from the pandemic have scaled new peaks this week, dampening expectations for major changes.\n",
            "Daily numbers of new cases are hovering below 100 and on Monday the country reported no coronavirus-related deaths for the first time since March.\n",
            "A: There is a real stigma surrounding the idea of life insurance, because people don’t like to talk about death.\n",
            "The idea of retirement is kind of like death to me; I can’t even wrap my mind around it.\n",
            "The disease has killed over 100,000 people in the United States, the highest death toll in the world.\n",
            "“Seeing in our diaries the little red dot next to a name ... that during the pandemic meant the death of our patients, has been quite hard,” recalled Arenal.\n",
            "“He needs to show what life is going to be like and how we are going to do it.”  Trump has staked his political future on the economy, pushing a return to normal as U.S. deaths from COVID-19 topped 100,000 nationwide.\n",
            "The death toll in the United States from the novelcoronavirus has topped 100,000, according to a Reuters tally.\n",
            "Portugal, which has recorded 31,946 confirmed COVID-19 cases and 1,383 deaths backed by Europe’s fourth highest testing rate, began lifting a handful of restrictions imposed during a six-week lockdown from May 4.\n",
            "This comes as minorities are disproportionately represented in coronavirus deaths, and lower-income communities are being hit hard economically – as jobless claims in the country top 40 million.\n",
            "His early Friday tweet suggested that security forces would open fire on looters to curtail unrest over the death of George Floyd, a black man seen on video gasping for breath while a white police officer knelt on his neck.\n",
            "Protests over Floyd’s death and other killings like it have spread to cities including Los Angeles and Denver, with a protest expected in New York on Friday.\n",
            "Trump issued his tweet amid days of turmoil in Minneapolis, which was engulfed in a third night of arson, looting and vandalism as protesters vented their rage over Floyd’s death.\n",
            "The four police officers involved in Floyd’s death were fired before Chauvin’s arrest.\n",
            "Floyd’s death was one of several recent killings of black people in the United States that has provoked outrage.\n",
            "Thailand has now begun to lift some movement restrictions with infections at over 3,000 and deaths nearly 60, but neither rising rapidly.\n",
            "But with older people more susceptible to serious illness and death from the virus, the problems in our Medicare system that were evident pre-pandemic have come into especially sharp relief.\n",
            "During the COVID-19 crisis, the rules for covering care have been relaxed, but the big headlines have focused on the sky-high infection and death rates in nursing homes.\n"
          ],
          "name": "stdout"
        }
      ]
    },
    {
      "cell_type": "markdown",
      "metadata": {
        "id": "HcOlndfh9XwA",
        "colab_type": "text"
      },
      "source": [
        "## <font color='black'>Step 13. Store All article data in DataFrame </font>  \n",
        "<font color='grey'>Note: This is not just the filtered data, this contains all information from each web page. While not used in this project, it represents all of the original data used in this run. It can be used for reference.</font> "
      ]
    },
    {
      "cell_type": "code",
      "metadata": {
        "id": "Kjj8Wi-4yOSf",
        "colab_type": "code",
        "outputId": "2c8afa57-9458-4820-da4a-eba50f9ec30d",
        "colab": {
          "base_uri": "https://localhost:8080/",
          "height": 406
        }
      },
      "source": [
        "# Put parsed data into Pandas DataFrame\n",
        "pd.DataFrame(out_list)"
      ],
      "execution_count": 0,
      "outputs": [
        {
          "output_type": "execute_result",
          "data": {
            "text/html": [
              "<div>\n",
              "<style scoped>\n",
              "    .dataframe tbody tr th:only-of-type {\n",
              "        vertical-align: middle;\n",
              "    }\n",
              "\n",
              "    .dataframe tbody tr th {\n",
              "        vertical-align: top;\n",
              "    }\n",
              "\n",
              "    .dataframe thead th {\n",
              "        text-align: right;\n",
              "    }\n",
              "</style>\n",
              "<table border=\"1\" class=\"dataframe\">\n",
              "  <thead>\n",
              "    <tr style=\"text-align: right;\">\n",
              "      <th></th>\n",
              "      <th>date</th>\n",
              "      <th>time</th>\n",
              "      <th>source</th>\n",
              "      <th>Title</th>\n",
              "      <th>Text</th>\n",
              "      <th>url</th>\n",
              "    </tr>\n",
              "  </thead>\n",
              "  <tbody>\n",
              "    <tr>\n",
              "      <th>0</th>\n",
              "      <td>2020-5-29</td>\n",
              "      <td>10:58 AM</td>\n",
              "      <td>www.reuters.com</td>\n",
              "      <td>Wall Street ends mostly up; Trump comments on ...</td>\n",
              "      <td>(Reuters) - U.S. stocks finished mostly higher...</td>\n",
              "      <td>https://www.reuters.com/article/us-usa-stocks/...</td>\n",
              "    </tr>\n",
              "    <tr>\n",
              "      <th>1</th>\n",
              "      <td>2020-5-26</td>\n",
              "      <td>4:04 PM</td>\n",
              "      <td>www.reuters.com</td>\n",
              "      <td>Kudlow says Trump administration looking at 'b...</td>\n",
              "      <td>WASHINGTON (Reuters) - White House economic ad...</td>\n",
              "      <td>https://www.reuters.com/article/us-health-coro...</td>\n",
              "    </tr>\n",
              "    <tr>\n",
              "      <th>2</th>\n",
              "      <td>2020-5-29</td>\n",
              "      <td>11:17 AM</td>\n",
              "      <td>www.reuters.com</td>\n",
              "      <td>GLOBAL MARKETS-Stocks sink as investors await ...</td>\n",
              "      <td>* Graphic: World FX rates in 2020 tmsnrt.rs/2e...</td>\n",
              "      <td>https://www.reuters.com/article/global-markets...</td>\n",
              "    </tr>\n",
              "    <tr>\n",
              "      <th>3</th>\n",
              "      <td>2020-5-29</td>\n",
              "      <td>9:00 PM</td>\n",
              "      <td>www.reuters.com</td>\n",
              "      <td>U.S. warns of Russian bid for Libya stronghold...</td>\n",
              "      <td>WASHINGTON (Reuters) - The U.S. military belie...</td>\n",
              "      <td>https://www.reuters.com/article/us-libya-secur...</td>\n",
              "    </tr>\n",
              "    <tr>\n",
              "      <th>4</th>\n",
              "      <td>2020-5-29</td>\n",
              "      <td>5:50 PM</td>\n",
              "      <td>www.reuters.com</td>\n",
              "      <td>Red light: Mexican coronavirus restart hits sp...</td>\n",
              "      <td>MEXICO CITY (Reuters) - Mexico faces a sluggis...</td>\n",
              "      <td>https://www.reuters.com/article/us-health-coro...</td>\n",
              "    </tr>\n",
              "    <tr>\n",
              "      <th>...</th>\n",
              "      <td>...</td>\n",
              "      <td>...</td>\n",
              "      <td>...</td>\n",
              "      <td>...</td>\n",
              "      <td>...</td>\n",
              "      <td>...</td>\n",
              "    </tr>\n",
              "    <tr>\n",
              "      <th>115</th>\n",
              "      <td>2020-5-29</td>\n",
              "      <td>3:32 PM</td>\n",
              "      <td>www.reuters.com</td>\n",
              "      <td>North Carolina Democrats 'dragging their feet'...</td>\n",
              "      <td>(Reuters) - The head of the Republican Nationa...</td>\n",
              "      <td>https://www.reuters.com/article/us-usa-electio...</td>\n",
              "    </tr>\n",
              "    <tr>\n",
              "      <th>116</th>\n",
              "      <td>2020-5-28</td>\n",
              "      <td>4:10 PM</td>\n",
              "      <td>www.reuters.com</td>\n",
              "      <td>The new normal: How safe are beaches?</td>\n",
              "      <td>(Reuters) - People are hitting the beach as co...</td>\n",
              "      <td>https://www.reuters.com/article/us-health-coro...</td>\n",
              "    </tr>\n",
              "    <tr>\n",
              "      <th>117</th>\n",
              "      <td>2020-5-29</td>\n",
              "      <td>5:32 PM</td>\n",
              "      <td>www.reuters.com</td>\n",
              "      <td>Democrats want interviews with Trump admin off...</td>\n",
              "      <td>WASHINGTON (Reuters) - U.S. Democratic lawmake...</td>\n",
              "      <td>https://www.reuters.com/article/us-usa-trump-i...</td>\n",
              "    </tr>\n",
              "    <tr>\n",
              "      <th>118</th>\n",
              "      <td>2020-5-29</td>\n",
              "      <td>7:46 PM</td>\n",
              "      <td>www.reuters.com</td>\n",
              "      <td>GLOBAL MARKETS-Stocks pare losses after Trump'...</td>\n",
              "      <td>(Adds details from Trump statement, gold and o...</td>\n",
              "      <td>https://www.reuters.com/article/global-markets...</td>\n",
              "    </tr>\n",
              "    <tr>\n",
              "      <th>119</th>\n",
              "      <td>2020-5-29</td>\n",
              "      <td>8:34 PM</td>\n",
              "      <td>www.reuters.com</td>\n",
              "      <td>International naval operation nets 50 tonnes o...</td>\n",
              "      <td>BOGOTA (Reuters) - A multilateral naval anti-d...</td>\n",
              "      <td>https://www.reuters.com/article/us-colombia-cr...</td>\n",
              "    </tr>\n",
              "  </tbody>\n",
              "</table>\n",
              "<p>120 rows × 6 columns</p>\n",
              "</div>"
            ],
            "text/plain": [
              "          date  ...                                                url\n",
              "0    2020-5-29  ...  https://www.reuters.com/article/us-usa-stocks/...\n",
              "1    2020-5-26  ...  https://www.reuters.com/article/us-health-coro...\n",
              "2    2020-5-29  ...  https://www.reuters.com/article/global-markets...\n",
              "3    2020-5-29  ...  https://www.reuters.com/article/us-libya-secur...\n",
              "4    2020-5-29  ...  https://www.reuters.com/article/us-health-coro...\n",
              "..         ...  ...                                                ...\n",
              "115  2020-5-29  ...  https://www.reuters.com/article/us-usa-electio...\n",
              "116  2020-5-28  ...  https://www.reuters.com/article/us-health-coro...\n",
              "117  2020-5-29  ...  https://www.reuters.com/article/us-usa-trump-i...\n",
              "118  2020-5-29  ...  https://www.reuters.com/article/global-markets...\n",
              "119  2020-5-29  ...  https://www.reuters.com/article/us-colombia-cr...\n",
              "\n",
              "[120 rows x 6 columns]"
            ]
          },
          "metadata": {
            "tags": []
          },
          "execution_count": 75
        }
      ]
    }
  ]
}