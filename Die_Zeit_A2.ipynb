{
  "nbformat": 4,
  "nbformat_minor": 0,
  "metadata": {
    "kernelspec": {
      "name": "python3",
      "display_name": "Python 3"
    },
    "language_info": {
      "codemirror_mode": {
        "name": "ipython",
        "version": 3
      },
      "file_extension": ".py",
      "mimetype": "text/x-python",
      "name": "python",
      "nbconvert_exporter": "python",
      "pygments_lexer": "ipython3",
      "version": "3.6.3"
    },
    "colab": {
      "name": "Die_Zeit_A2.ipynb",
      "provenance": [],
      "collapsed_sections": [],
      "toc_visible": true,
      "include_colab_link": true
    },
    "accelerator": "GPU"
  },
  "cells": [
    {
      "cell_type": "markdown",
      "metadata": {
        "id": "view-in-github",
        "colab_type": "text"
      },
      "source": [
        "<a href=\"https://colab.research.google.com/github/este7734/Project_DS_Tools/blob/master/Die_Zeit_A2.ipynb\" target=\"_parent\"><img src=\"https://colab.research.google.com/assets/colab-badge.svg\" alt=\"Open In Colab\"/></a>"
      ]
    },
    {
      "cell_type": "markdown",
      "metadata": {
        "id": "j9EJGLekhe5n",
        "colab_type": "text"
      },
      "source": [
        "# Data Science Tools and Techniques\n",
        "\n",
        "# Web Scraping Project"
      ]
    },
    {
      "cell_type": "markdown",
      "metadata": {
        "id": "DAasqXPAhe5s",
        "colab_type": "text"
      },
      "source": [
        "Beautiful Soup documentation: https://www.crummy.com/software/BeautifulSoup/"
      ]
    },
    {
      "cell_type": "markdown",
      "metadata": {
        "id": "0QftlYRQl-M2",
        "colab_type": "text"
      },
      "source": [
        "# <i>Die Zeit</i>\n",
        "\n",
        "---\n",
        "\n",
        "<div id=\"siteSub\" class=\"noprint\">From Wikipedia, the free encyclopedia</div>\n",
        "\n",
        "<p><i><b>Die Zeit</b></i> (<small>German pronunciation: </small><span title=\"Representation in the International Phonetic Alphabet (IPA)\" class=\"IPA\"><a href=\"/wiki/Help:IPA/Standard_German\" title=\"Help:IPA/Standard German\">[diː ˈtsaɪt]</a></span>, literally \"The Time\") is a German national <a href=\"/wiki/Weekly_newspaper\" title=\"Weekly newspaper\">weekly newspaper</a> published in <a href=\"/wiki/Hamburg\" title=\"Hamburg\">Hamburg</a> in <a href=\"/wiki/Germany\" title=\"Germany\">Germany</a>.<sup id=\"cite_ref-2\" class=\"reference\"><a href=\"#cite_note-2\">[2]</a></sup><sup id=\"cite_ref-3\" class=\"reference\"><a href=\"#cite_note-3\">[3]</a></sup> The newspaper is generally considered to be among the German <a href=\"/wiki/Newspapers_of_record\" class=\"mw-redirect\" title=\"Newspapers of record\">newspapers of record</a> and is known for its long and extensive articles.<sup id=\"cite_ref-4\" class=\"reference\"><a href=\"#cite_note-4\">[4]</a></sup>\n",
        "</p>\n",
        "\n",
        "___"
      ]
    },
    {
      "cell_type": "markdown",
      "metadata": {
        "id": "R98YniHDK6Nq",
        "colab_type": "text"
      },
      "source": [
        "## Import dependencies"
      ]
    },
    {
      "cell_type": "code",
      "metadata": {
        "id": "5MgjXo4The5x",
        "colab_type": "code",
        "colab": {}
      },
      "source": [
        "from bs4 import BeautifulSoup\n",
        "import requests"
      ],
      "execution_count": 0,
      "outputs": []
    },
    {
      "cell_type": "markdown",
      "metadata": {
        "id": "SyFwkJ6Ihe52",
        "colab_type": "text"
      },
      "source": [
        "Create a Beautiful Soup object from an HTML sources:\n",
        "\n",
        "Use the following link to find an English version of Die Zeit article:\n",
        "https://www.zeit.de/english/index\n",
        "\n",
        "---\n",
        "For English articles:\n",
        "\n",
        "1. Stay on this page and load more articles by scrolling to bottom and click: **NÄCHSTE SEITE** (Next Site)\n",
        "5. Copy the weblink and add below as new URL variable"
      ]
    },
    {
      "cell_type": "code",
      "metadata": {
        "id": "9p-WjahKhe53",
        "colab_type": "code",
        "colab": {}
      },
      "source": [
        "# get HTML page \n",
        "\n",
        "url1 = 'https://www.zeit.de/wirtschaft/2019-11/extinction-rebellion-co-founder-roger-hallam-holocaust'\n",
        "url2 = 'https://www.zeit.de/politik/ausland/2020-01/gabriel-zucman-donald-trump-plutocracy-usa'\n",
        "url3 = 'https://www.zeit.de/politik/2019-12/nato-trust-donald-trump-germany-security-policy'\n",
        "# url4 = \n",
        "\n",
        "# Change the varbialbe in the .get method to the page you want to scrape\n",
        "page = requests.get(url3)"
      ],
      "execution_count": 0,
      "outputs": []
    },
    {
      "cell_type": "code",
      "metadata": {
        "id": "5rt9wxbyhe58",
        "colab_type": "code",
        "colab": {}
      },
      "source": [
        "# get soup\n",
        "def get_soup(page):\n",
        "    soup = BeautifulSoup(page.content, 'html.parser')\n",
        "    return soup"
      ],
      "execution_count": 0,
      "outputs": []
    },
    {
      "cell_type": "markdown",
      "metadata": {
        "id": "JJyvLrx8he6C",
        "colab_type": "text"
      },
      "source": [
        "Create a Beautiful Soup object from the imported HTML document."
      ]
    },
    {
      "cell_type": "code",
      "metadata": {
        "id": "Kwh7PydThe6E",
        "colab_type": "code",
        "colab": {}
      },
      "source": [
        "soup = get_soup(page)\n",
        "#soup"
      ],
      "execution_count": 0,
      "outputs": []
    },
    {
      "cell_type": "markdown",
      "metadata": {
        "id": "WPhTNJ_Dhe6K",
        "colab_type": "text"
      },
      "source": [
        "## Open the HTML document in a text viewer.  Before you pull tag content, understand the tag structure of the document.\n",
        "\n",
        "---\n",
        "\n"
      ]
    },
    {
      "cell_type": "markdown",
      "metadata": {
        "id": "n_gJkTbrNtWG",
        "colab_type": "text"
      },
      "source": [
        "Pull title from article"
      ]
    },
    {
      "cell_type": "code",
      "metadata": {
        "id": "RzAuhb_sqces",
        "colab_type": "code",
        "colab": {
          "base_uri": "https://localhost:8080/",
          "height": 136
        },
        "outputId": "4ed222a9-e4a4-4f6a-8d40-692f2047059a"
      },
      "source": [
        "title = soup.find_all('header')[1].contents[1].text\n",
        "print('length of test list: ', len(title), '\\n')\n",
        "print('Title: ', title)"
      ],
      "execution_count": 85,
      "outputs": [
        {
          "output_type": "stream",
          "text": [
            "length of test list:  34 \n",
            "\n",
            "Title:  \n",
            "\n",
            "Nato: No More Excuses, Berlin!\n",
            "\n",
            "\n"
          ],
          "name": "stdout"
        }
      ]
    },
    {
      "cell_type": "code",
      "metadata": {
        "id": "YnT8P0BVsmmq",
        "colab_type": "code",
        "colab": {
          "base_uri": "https://localhost:8080/",
          "height": 232
        },
        "outputId": "f8835d75-b5a8-4da4-a707-36ba097eb778"
      },
      "source": [
        "# start_p = str(p[0]).split()\n",
        "print(title[0])\n",
        "\n",
        "best_word = str(title).split()\n",
        "\n",
        "print('Dude, Check out this word in the title: \\n {}\\n'.format(best_word[8]))"
      ],
      "execution_count": 80,
      "outputs": [
        {
          "output_type": "stream",
          "text": [
            "\n",
            "\n"
          ],
          "name": "stdout"
        },
        {
          "output_type": "error",
          "ename": "IndexError",
          "evalue": "ignored",
          "traceback": [
            "\u001b[0;31m---------------------------------------------------------------------------\u001b[0m",
            "\u001b[0;31mIndexError\u001b[0m                                Traceback (most recent call last)",
            "\u001b[0;32m<ipython-input-80-ba71c7060c7c>\u001b[0m in \u001b[0;36m<module>\u001b[0;34m()\u001b[0m\n\u001b[1;32m      3\u001b[0m \u001b[0mbest_word\u001b[0m \u001b[0;34m=\u001b[0m \u001b[0mstr\u001b[0m\u001b[0;34m(\u001b[0m\u001b[0mtitle\u001b[0m\u001b[0;34m)\u001b[0m\u001b[0;34m.\u001b[0m\u001b[0msplit\u001b[0m\u001b[0;34m(\u001b[0m\u001b[0;34m)\u001b[0m\u001b[0;34m\u001b[0m\u001b[0;34m\u001b[0m\u001b[0m\n\u001b[1;32m      4\u001b[0m \u001b[0;34m\u001b[0m\u001b[0m\n\u001b[0;32m----> 5\u001b[0;31m \u001b[0mprint\u001b[0m\u001b[0;34m(\u001b[0m\u001b[0;34m'Dude, Check out this word in the title: \\n {}\\n'\u001b[0m\u001b[0;34m.\u001b[0m\u001b[0mformat\u001b[0m\u001b[0;34m(\u001b[0m\u001b[0mbest_word\u001b[0m\u001b[0;34m[\u001b[0m\u001b[0;36m8\u001b[0m\u001b[0;34m]\u001b[0m\u001b[0;34m)\u001b[0m\u001b[0;34m)\u001b[0m\u001b[0;34m\u001b[0m\u001b[0;34m\u001b[0m\u001b[0m\n\u001b[0m",
            "\u001b[0;31mIndexError\u001b[0m: list index out of range"
          ]
        }
      ]
    },
    {
      "cell_type": "markdown",
      "metadata": {
        "id": "92tuW95dN6DS",
        "colab_type": "text"
      },
      "source": [
        "Extract all the hyperlinks in the article"
      ]
    },
    {
      "cell_type": "markdown",
      "metadata": {
        "id": "jI50LXd-he6T",
        "colab_type": "raw"
      },
      "source": [
        "Anchors are used in HTML documents for a lot of different things.  One of the primary uses of anchors is to embed hyperlinks.  In the 'a' tag, there is an attribute called 'href' that specifies the hyperlink reference.\n",
        "\n",
        "The above markup will display a hyperlink that points 'hyperlink text' the href value.\n",
        "\n",
        "Beautiful soup can be used to pull specific inforamation from HTML tags.  For example, if you want all hyperlink references from links, you could use the following:\n",
        "\n",
        "links = []\n",
        "for item in anchors:\n",
        "    link = item.get('href')\n",
        "    links.append(link)\n",
        "\n",
        "You've already generated a list of all anchors.  Now, iterate over that list and collect all hyperlinks in the document in the space below, and print the list of hyperlinks."
      ]
    },
    {
      "cell_type": "markdown",
      "metadata": {
        "id": "eEEcBUz0c6bA",
        "colab_type": "text"
      },
      "source": [
        "## Extract hyperlinks for project."
      ]
    },
    {
      "cell_type": "code",
      "metadata": {
        "id": "3ECyoIz2he6U",
        "colab_type": "code",
        "outputId": "0e704517-1288-4757-8cc5-ea648c8bd741",
        "colab": {
          "base_uri": "https://localhost:8080/",
          "height": 54
        }
      },
      "source": [
        "# Extract all href tags\n",
        "links = soup.find_all('link')\n",
        "\n",
        "# Separate hyperlinks from href tags\n",
        "all_hyperlinks = []\n",
        "for item in links:\n",
        "    link = item.get('href')\n",
        "    all_hyperlinks.append(link)\n",
        "print(all_hyperlinks)"
      ],
      "execution_count": 81,
      "outputs": [
        {
          "output_type": "stream",
          "text": [
            "['https://www.zeit.de/amp/politik/2019-12/nato-trust-donald-trump-germany-security-policy', 'https://www.zeit.de/politik/2019-12/nato-trust-donald-trump-germany-security-policy', 'https://www.zeit.de/politik/2019-12/nato-trust-donald-trump-germany-security-policy/seite-2', '//scripts.zeit.de', '//img.zeit.de', '//static.zeit.de', '//de.ioam.de', '//script.ioam.de', '//www.googletagmanager.com', '//www.google-analytics.com', '//scripts.zeit.de', '//img.zeit.de', '//static.zeit.de', '//script.ioam.de', '//iqdigital.demdex.net', '//audev.zeit.de', '//dmp.theadex.com', '//cdn.mateti.net', '//dpm.demdex.net', '//ups.xplosion.de', 'https://www.zeit.de/favicon.ico', 'https://img.zeit.de/static/img/ZO-ipad-114x114.png', 'https://static.zeit.de/assets/3.526/../latest/fonts/tabletgothic/TabletGothic-Regular.woff2?v1', 'https://static.zeit.de/assets/3.526/../latest/fonts/tabletgothic/TabletGothic-Bold.woff2?v1', 'https://static.zeit.de/assets/3.526/../latest/fonts/franziska/FranziskaWebPro.woff', 'https://static.zeit.de/assets/3.526/css/web.core/normalize.css', 'https://static.zeit.de/assets/3.526/css/web.site/base/base.css', 'https://static.zeit.de/assets/3.526/css/web.site/base/sticky-mobile-nav.css', 'https://static.zeit.de/assets/3.526/css/web.site/content/content.css', 'https://static.zeit.de/assets/3.526/css/web.site/content/comments.css', 'https://static.zeit.de/assets/3.526/css/web.site/content/article.css', 'https://static.zeit.de/assets/3.526/css/web.site/content/gallery.css', 'https://static.zeit.de/assets/3.526/css/web.site/base/print.css', 'https://img.zeit.de/politik/deutschland/2019-12/nato/wide__1300x731', 'https://newsfeed.zeit.de/index', 'https://img.zeit.de/2019/51/printcover/original', 'https://img.zeit.de/politik/deutschland/2019-12/nato/wide__822x462', 'https://img.zeit.de/2019/51/keine-ausreden-mehr-berlin-bild-1/square__460x460']\n"
          ],
          "name": "stdout"
        }
      ]
    },
    {
      "cell_type": "markdown",
      "metadata": {
        "id": "MGTAp3UPhe6g",
        "colab_type": "text"
      },
      "source": [
        "Extract all p tabs to pull the article body"
      ]
    },
    {
      "cell_type": "code",
      "metadata": {
        "id": "OF4n7pnEhe6i",
        "colab_type": "code",
        "outputId": "f3bb245a-0ef6-4a74-b659-7427a060cd7c",
        "colab": {
          "base_uri": "https://localhost:8080/",
          "height": 51
        }
      },
      "source": [
        "article_body = soup.find_all('p')\n",
        "print('Article Length: {} lines \\n'.format(len(article_body)))\n",
        "# print(article_body)"
      ],
      "execution_count": 84,
      "outputs": [
        {
          "output_type": "stream",
          "text": [
            "Article Length: 15 lines \n",
            "\n"
          ],
          "name": "stdout"
        }
      ]
    },
    {
      "cell_type": "code",
      "metadata": {
        "colab_type": "code",
        "outputId": "9ed073a3-fffe-4353-bfef-af9a0ba36e44",
        "id": "NenHzzz8MioL",
        "colab": {
          "base_uri": "https://localhost:8080/",
          "height": 1000
        }
      },
      "source": [
        "# Paragragh parser in place \n",
        "\n",
        "value1 = 'article-page'\n",
        "#value2 = 'RichText RichText--iconLinks RichText--lastPmb0 RichText--lastInline lg:w-8/12 md:w-10/12 lg:mx-auto md:mx-auto lg:px-24 md:px-24 sm:px-16 clearfix break-words word-wrap'\n",
        "#value_list = [value1, value2]\n",
        "\n",
        "#article_body = soup.find_all('div',{'class': value_list})\n",
        "article_body = soup.find_all('div',{'class': value1})\n",
        "#print('Length of list: {} items \\n'. format(len(article_body)))\n",
        "\n",
        "# Generate list of paragraphs\n",
        "p = []\n",
        "for item in article_body:\n",
        "    par = item.find_all('p')\n",
        "    p.extend(par)\n",
        "print('Length of article: {} paragraphs \\n'. format(len(p)))\n",
        "\n",
        "# Print last 4 words of last sentende to compare with article\n",
        "\n",
        "start_p = str(p[0]).split()\n",
        "end_p = str(p[len(p) - 1]).split()\n",
        "\n",
        "print('These are the first words of your scrape: \\n {} \\n'.format(start_p[2:10]))\n",
        "\n",
        "print('These are the last 4 words of your scrape: \\n {}\\n \\\n",
        "Compare this with the end of your article to see if \\\n",
        "you scraped everything \\n'.format(end_p[-6:-1]))\n",
        "\n",
        "# Extract content from the html tags\n",
        "\n",
        "file1 = open(\"MyFile.txt\",\"a\") # Open a text file to write to\n",
        "\n",
        "for item in p:\n",
        "    print(item.text)\n",
        "\n",
        "    file1.write(item.text) # write each string to the file \n",
        "\n",
        "file1.close() # close the file\n",
        "\n",
        "# In Colab the file is automatically save where you pointed it.\n",
        "# If you didn't change directories, then it will be here: \\content\\\n",
        "# Make sure you download the file before you close this session because\n",
        "# it will be wiped out when you close the session\n"
      ],
      "execution_count": 91,
      "outputs": [
        {
          "output_type": "stream",
          "text": [
            "Length of article: 12 paragraphs \n",
            "\n",
            "These are the first words of your scrape: \n",
            " ['article__item\"><a', 'class=\"\"', 'href=\"https://www.zeit.de/2019/51/nato-vertrauen-donald-trump-deutschland-sicherheitspolitik\"', 'target=\"_blank\"><em>Lesen', 'Sie', 'diesen', 'Text', 'auf'] \n",
            "\n",
            "These are the last 4 words of your scrape: \n",
            " ['adequate', 'air', 'and', 'missile', 'defense.']\n",
            " Compare this with the end of your article to see if you scraped everything \n",
            "\n",
            "Lesen Sie diesen Text auf Deutsch\n",
            "\n",
            "NATO, the\n",
            "most successful military alliance in history, is brain dead, according to\n",
            "French President Emmanuel Macron. Asked by the Economist if he\n",
            "believed that NATO’s commitment to Article 5 of the alliance's founding treaty\n",
            "– the promise that if one member state were attacked, the others would come its\n",
            "aid – was still functional, the French president replied: \"I don’t know.\"\n",
            "\n",
            "I do know, and\n",
            "the answer is a resounding: \"Yes.\" I served five times in NATO, including stints\n",
            "in the Balkans, in Afghanistan, in Turkey and in Germany. In my last assignment\n",
            "in the Army, from November 2014 until the end of 2017, I served as commanding general\n",
            "of U.S. Army Europe (USAREUR), headquartered in Wiesbaden, Germany. During\n",
            "these many years of service as a NATO officer working with our allies, I never\n",
            "doubted that the alliance would respond to an armed attack on one of its members.\n",
            "\n",
            "\n",
            "The recent\n",
            "statement by President Macron, made on the eve of the just-finished NATO summit\n",
            "in London, was widely criticized by most NATO member states, including Germany.\n",
            "Nonetheless, it has generated serious discussion and it has put additional\n",
            "pressure on the German government. France, after all, has nuclear weapons and a\n",
            "permanent seat on the UN Security Council. It can talk, to a certain extent, about\n",
            "\"strategic autonomy.\" \n",
            "\n",
            "Germany,\n",
            "though, has neither nuclear weapons nor a permanent seat on the Council, which\n",
            "is part of the reason why successive German governments have long regarded NATO\n",
            "as one of its central strategic pillars. If NATO were, in fact, \"brain dead,\"\n",
            "Germany would have much to lose. \n",
            "\n",
            "But if NATO is so\n",
            "important to Germany’s security, why doesn’t Germany do what is required to\n",
            "ensure the alliance's continued strength? Germany needs a more visible, more dynamic\n",
            "presence within NATO, it needs to integrate more with the alliance to make it\n",
            "impossible for the American or French president to undermine NATO or even\n",
            "consider leaving.\n",
            "\n",
            "Instead,\n",
            "there is a frustrating strategic inertia in Berlin, a reluctance to have a\n",
            "serious public debate about Germany’s strategic role in the world. This\n",
            "reluctance has become a major hindrance to the country's full engagement with\n",
            "NATO. \n",
            "\n",
            "61, served until the end of 2017 as commanding general of the U.S. Army in Europe, where he was responsible for around 40,000 soldiers in 51 countries.\n",
            "One of the\n",
            "most visible manifestations of this inertia is Germany's failure to muster the\n",
            "political will to invest more in its own defense, as the country has repeatedly\n",
            "pledged to do. That failure means Germany is not doing its part for NATO's\n",
            "collective security.\n",
            "\n",
            "At present, eight of the 29 NATO member states are fulfilling their\n",
            "obligation to spend at least 2 percent of gross domestic product on defense. This\n",
            "figure is projected to improve significantly by the agreed-upon target date of\n",
            "2024, with most NATO members expected to achieve this target on time. Germany\n",
            "is not one of them.\n",
            "\n",
            "Germans\n",
            "frequently complain that President Trump is \"destroying NATO.\" While that\n",
            "is too strong, it is indeed unhelpful when the U.S. president casts doubt on\n",
            "America’s commitment to NATO and to our European allies.\n",
            "\n",
            "Yet it’s just\n",
            "as damaging to the cohesion of the alliance when one of its most prosperous members\n",
            "fails to fulfil its defense budget obligation. An increase in the defense\n",
            "budget to 2 percent of GDP doesn't have to mean a significantly larger\n",
            "Bundeswehr, as the German military is known. But failing to do so prevents\n",
            "Germany from maintaining an appropriate level of readiness, from providing sufficient\n",
            "cyber defense of critical infrastructure to having enough transportation for\n",
            "military use. Furthermore, it prevents Germany from providing\n",
            "adequate air and missile defense.\n",
            "\n"
          ],
          "name": "stdout"
        }
      ]
    },
    {
      "cell_type": "code",
      "metadata": {
        "id": "tpKJR-nwRDwY",
        "colab_type": "code",
        "colab": {
          "base_uri": "https://localhost:8080/",
          "height": 34
        },
        "outputId": "b98ce2d7-e8cd-4a5c-cb58-7676ca8c05e7"
      },
      "source": [
        "%ls"
      ],
      "execution_count": 94,
      "outputs": [
        {
          "output_type": "stream",
          "text": [
            "MyFile.txt  \u001b[0m\u001b[01;34msample_data\u001b[0m/\n"
          ],
          "name": "stdout"
        }
      ]
    },
    {
      "cell_type": "code",
      "metadata": {
        "id": "L5p1N_4s3Rk5",
        "colab_type": "code",
        "colab": {}
      },
      "source": [
        ""
      ],
      "execution_count": 0,
      "outputs": []
    }
  ]
}