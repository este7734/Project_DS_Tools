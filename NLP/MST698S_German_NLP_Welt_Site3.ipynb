{
  "nbformat": 4,
  "nbformat_minor": 0,
  "metadata": {
    "kernelspec": {
      "name": "python3",
      "display_name": "Python 3"
    },
    "language_info": {
      "codemirror_mode": {
        "name": "ipython",
        "version": 3
      },
      "file_extension": ".py",
      "mimetype": "text/x-python",
      "name": "python",
      "nbconvert_exporter": "python",
      "pygments_lexer": "ipython3",
      "version": "3.6.3"
    },
    "colab": {
      "name": "MST698S_German_NLP_Welt_Site3.ipynb",
      "provenance": [],
      "collapsed_sections": [],
      "toc_visible": true,
      "include_colab_link": true
    },
    "accelerator": "GPU"
  },
  "cells": [
    {
      "cell_type": "markdown",
      "metadata": {
        "id": "view-in-github",
        "colab_type": "text"
      },
      "source": [
        "<a href=\"https://colab.research.google.com/github/este7734/Project_DS_Tools/blob/master/NLP/MST698S_German_NLP_Welt_Site3.ipynb\" target=\"_parent\"><img src=\"https://colab.research.google.com/assets/colab-badge.svg\" alt=\"Open In Colab\"/></a>"
      ]
    },
    {
      "cell_type": "markdown",
      "metadata": {
        "id": "BN9ohTbVivxQ",
        "colab_type": "text"
      },
      "source": [
        "# Data Science Tools and Techniques\n",
        "\n",
        "# Natural Language Processing Exercise"
      ]
    },
    {
      "cell_type": "markdown",
      "metadata": {
        "id": "LpEihNNDivxV",
        "colab_type": "text"
      },
      "source": [
        "Perform the tasks below to demonstrate your understanding of NLP.  You may reference the TextBlob documentation here:\n",
        "\n",
        "https://textblob.readthedocs.io/en/dev/"
      ]
    },
    {
      "cell_type": "markdown",
      "metadata": {
        "id": "eA8rFBFLivxY",
        "colab_type": "text"
      },
      "source": [
        "Natural Language Processing is a very versatile tool in data science.  Among other things, it can be used to quantitate the affect, or emotional content, of text.  This technique is called sentiment analysis, and is often used in industry to measure how customers feel about a particular company or product.\n",
        "\n",
        "Sputnik is a Russian media outlet.  In this exercise, you will measure the sentiment of an English-language Sputnik article that mentions a U.S. political candidates."
      ]
    },
    {
      "cell_type": "markdown",
      "metadata": {
        "id": "GbzUuecdivxb",
        "colab_type": "raw"
      },
      "source": [
        "In the space below, specify the location of the news_text.txt file:"
      ]
    },
    {
      "cell_type": "markdown",
      "metadata": {
        "id": "LBcufb8pYTm2",
        "colab_type": "text"
      },
      "source": [
        "### <font color='green'> Save Text Files </font> to Your Temporary Colab folder"
      ]
    },
    {
      "cell_type": "code",
      "metadata": {
        "id": "SVApwG0AvGkN",
        "colab_type": "code",
        "outputId": "fd8653a8-ed74-4f74-9431-12bf1f8c6a44",
        "colab": {
          "base_uri": "https://localhost:8080/",
          "height": 35
        }
      },
      "source": [
        "%ls # List files in the your temporary folder to verify they are there."
      ],
      "execution_count": 0,
      "outputs": [
        {
          "output_type": "stream",
          "text": [
            "\u001b[0m\u001b[01;34msample_data\u001b[0m/  welt_Code_of_Evil.txt\n"
          ],
          "name": "stdout"
        }
      ]
    },
    {
      "cell_type": "markdown",
      "metadata": {
        "id": "GNYiFN1kYd63",
        "colab_type": "text"
      },
      "source": [
        "### <font color='green'> Read </font> in File(s) to Colab Environment"
      ]
    },
    {
      "cell_type": "code",
      "metadata": {
        "id": "AFU8dqERivxe",
        "colab_type": "code",
        "outputId": "6be85062-beee-48d0-a8d0-bee1165f8d7c",
        "colab": {
          "base_uri": "https://localhost:8080/",
          "height": 35
        }
      },
      "source": [
        "file1 = 'Spiegel_DuetcheBank_Trump.txt'\n",
        "file2 = 'Spiegel_Iran_Protests.txt'\n",
        "file3 = 'Spiegel_Trump_Peace_Plan.txt'\n",
        "\n",
        "file4 = 'Zeit_URL_1_Holocaust.txt'\n",
        "file5 = 'Zeit_URL_2_xenophobic_politicians.txt'\n",
        "file6 = 'Zeit_URL_3_NATO_Germany_contribution.txt'\n",
        "\n",
        "file7 = 'news_text.txt'\n",
        "file8 = 'welt_Putin_Cyberwarfare.txt'\n",
        "file9 = 'welt_inv_battle.txt'\n",
        "file10 = 'welt_Code_of_Evil.txt'\n",
        "file_path = r'welt_Code_of_Evil.txt'\n",
        "file_path"
      ],
      "execution_count": 0,
      "outputs": [
        {
          "output_type": "execute_result",
          "data": {
            "text/plain": [
              "'welt_Code_of_Evil.txt'"
            ]
          },
          "metadata": {
            "tags": []
          },
          "execution_count": 2
        }
      ]
    },
    {
      "cell_type": "code",
      "metadata": {
        "id": "s4EZvBt3ivxr",
        "colab_type": "code",
        "colab": {}
      },
      "source": [
        "#open text\n",
        "def open_text(file_path):\n",
        "    with open(file_path, 'r') as document:\n",
        "        text = document.read()\n",
        "    return text"
      ],
      "execution_count": 0,
      "outputs": []
    },
    {
      "cell_type": "code",
      "metadata": {
        "id": "sv4HrFvKivx3",
        "colab_type": "code",
        "outputId": "641b5e71-3ca0-48b1-f42c-00574e4fc00d",
        "colab": {
          "base_uri": "https://localhost:8080/",
          "height": 55
        }
      },
      "source": [
        "text = open_text(file_path)\n",
        "text"
      ],
      "execution_count": 0,
      "outputs": [
        {
          "output_type": "execute_result",
          "data": {
            "text/plain": [
              "'After weeks of research, one gloomy November afternoon, Christian Rossow found himself in the middle of world politics completely by accident. Sitting in an office just big enough for two desks and a cabinet he was working his way through the mass of numbers blinking on his computer screen when he found something unusual.The numbers came from the basement one level below, from a room without windows. Only four people besides him had a key. The room is the maximum-security lab of the university he worked for at the time. Whenever Rossow had to go down there he tried to be quick. The room was cold and noisy, there was an old air con keeping the temperature at a steady 19 degrees. This was because of the 15 high-performance computers in the lab, big as wardrobes and highly sensible to heat. Rossow used them as guinea pigs. He would infect them with the latest viruses, Trojans and worms, sent to him daily by the manufacturers of anti-virus programmes. On the screen in his office he was able to assess how much harm each virus can do. Only a handful of computers were connected to the lab in the basement, through a special programme.The very first number on Rossow’s screen showed that there was malware raging in the basement of a kind he had rarely witnessed. It was able to connect to hundreds of external computers within minutes. This was exactly what he’d been looking for. Rossow conducted a few tests and checked online whether anyone had dealt with this programme already, a technician, a geek maybe, or another scientist. He couldn‘t find any reference to it. This is it, he thought, finally the perfect case study for his thesis.Without knowing it, this was the afternoon Rossow began his hunt for one of the most wanted cyber criminals in the world. Now, five years later, proud but also pale-faced and a little worried he sits at home on a black leather sofa, able to tell his story. He managed to achieve something rare, but the whole thing has spun out of control.The USA named a phantom, a master of digital theft, as Evgeniy Mikhailovich Bogachev, a 32 year-old Russian citizen with a round face, bald head and dark circles under his eyes. Since then, criminal prosecutors from more than ten countries have tried to catch him, setting undercover agents on him, asking nerds and specialists from the computer industry for help, even talking to companies like Dell and Microsoft. But in the end it was Christian Rossow and his friends who beat Bogachev at his own game. German experts talking about the aggressive trojan „Locky“  Quelle: Die Welt The FBI calls Bogachev a world-class hacker. He, his helpers and his clients have gone on hundreds of thousands of raids with the help of the programmes he wrote and sold.His programme package was called \"Gameover Zeus\". The name mixes the worlds of computer gaming and Greek mythology. It’s all over when the mighty ruler of Mount Olympus gets involved, could be a rough translation. Not exactly a humble name, but quite appropriate. For Bogachev created a digital tool through which he and his helpers were able to raid other people’s bank accounts, lock their computers and paralyse servers, with only a few mouse clicks.According to the FBI‘s findings Bogachev and about twenty of his helpers infected a million computers worldwide using Gameover Zeus. His victims included large companies, banks and private individuals. A Native American tribe in the US state of Washington was reportedly robbed of $277.000, a bank in Florida lost $6.9 million. No one knows exactly how much money was stolen, how much damage was caused. The FBI assumes about $100 million, and that is just in the USA. It is most probably a multiple of that, since Bogachev was also active in Asia and Europe, including Germany.For years Bogachev felt safe. He had found the perfect crime, making sure the perpetrators were protected while the other side, the police and prosecutors, were confronted with a case they couldn’t solve without outside help.Online, or cyber, crime investigators are dealing with ghosts, criminals hiding behind acronyms and pseudonyms. These cases lack pretty much everything the investigators would normally need to solve a case. No physical crime scene, no fingerprints, no traces of skin or hair for DNA analysis. There are no witnesses, no descriptions of the perpetrators.The thieves of the digital age do not have to break into a bank or a house anymore. They can use computer viruses to introduce their digital DNA into external computers who will then, all by themselves, infect other computers and create a whole cluster of connected compromised devices called a botnet. Hackers then operate the botnets in secret to access bank accounts of internet users, stealing first their passwords and then their money. Bogachev’s programme had perfected this. And such botnets can also be used for espionage.Cyber crime investigators work tirelessly, often for years, in a mostly futile fight that’s far from equal. Sometimes things work out, they get a lucky break. Sometimes they find the human being behind the pseudonyms, a person with habits and weaknesses, an offender who becomes traceable, as eventually happened with Bogachev. The USA identified and indicted Bogachev aka \"slavik\", \"lucky12345\" and \"Pollingsoon\". The FBI is very proud of this rare and notable success, but it would never have happened without the work of Christian Rossow.On a clear, cold Friday morning, Rossow is sitting in his top floor flat in Dinslaken, a West-German province, all red brick detached houses. Everything about him is long and thin, his face, his body, his fingers. A black laptop, as small as a piece of paper, lies next to him on the sofa.He can’t help but laugh when he thinks about his very first computer, an IBM, a massive machine. He was nine years old when he programmed his first computer game, from his room in his parents’ house. Eleven when the internet became big and he started building websites for friends to sell films or books. After finishing school he qualified as an IT specialist, went to university and specialised in malware, software designed to cause damage or commit crimes.There are countless viruses, Trojans and malware programmes; every day half a million new ones are released. Some are badly programmed, clumsy and virtually ineffective, but some are dangerous cyber weapons, able to raid banks, shut down power stations, and even sabotage whole countries. Rossow is only interested in the well-programmed ones. He studies dozens of them every day, reads their codes, reads every single command line. He wants to understand how they work, how they enter external computers and how to deactivate them. He is part of a silent battle, fought with keyboards, bytes, codes and fibre optics, programmer against programmer, good against evil. One side invents the cyber weapons; the other studies their plans and tries to render them harmless. \"It’s a game,\" he says.He usually sits at a desk, or on a sofa, in front of a screen, which connects him to the outside world. He studies his enemies, their strategies, so he knows in advance what their next move will be. They could be teenagers or grown men, sitting somewhere in a darkened room, maybe wearing hoodies and goatees, he never knows. Most of them have probably started out just like him, programming or hacking games so they don’t have to pay for them. Rossow decided early on that he wanted to be one of the good guys. A scientist – independent, conscientious, objective.He talks about how professional hackers are getting better and better, their attacks ever more targeted and clever. Whatever they can’t or won’t programme themselves they buy in forums on the Internet, the black market of the digital underworld. There they can also hire computers for attacks, or the access to computers, which have been connected to botnets without the knowledge of their owners. These forums are used by a work-sharing industry to offer components for digital high-performance weapons, sometimes in closed groups only accessible to paying members.It was the middle of November 2011 when Rossow first encountered ‘Gameover Zeus. ‘ Someone had sent him a link to an employee of a company located in the North-West of the US state of Pennsylvania which looked like it came from the employee’s boss. That link was used to gain access to the data and bank accounts of the company. This, it was later discovered, was Bogachev’s first big raid. What they took, around $1 million, was moved to a bank account in London with the help of a series of middlemen, straw men.Rossow didn’t know this yet. The programme he discovered in his lab in the basement was unknown. Its code was written like an almost indecipherable language. It settled deep into his computer, didn‘t send any spam and seemed to just lurk there. On top of that it was also extremely well encrypted. But Rossow wanted to find out more about how this programme worked. He wanted to watch the weapon in action.For weeks, he spent his days working in his grey university office, and the nights at home with his little black laptop, often until very late. He hardly slept and only rarely saw his girlfriend. Only sometimes, when the sun shone, he went for a jog to clear his mind, for half an hour. The German government is thinking about creating a surveillance software called „Bundestrojaner“  Quelle: Die Welt Bit by bit he began to understand the logic of this Trojan: how it communicated with other computers, how it introduced itself and built an enormous botnet. In the high security lab of his university Rossow started to build a copy of the malware to be able to make further tests. Then he came across an article in a specialist blog in Poland. Another scientist had obviously found the same Trojan, analysed it, and had come to the conclusion that it could not be cracked. ‘Gameover Zeus‘ was not only very fast, but its creator had given it a special kind of camouflage.Hackers have to make a number of decisions when developing their malware, for example how infected computers are to receive crucial commands. They can deposit that information inside the code of their cyber weapons. But they can also have the computers, once taken over, be controlled by one or several other devices. The advantage of the first option is its directness and its reliability; the disadvantage is that it leaves behind traces of data that can then be followed by cyber investigators or people like Rossow. Bogachev opted for the second model. The computer sending out the Trojan used infected computers as carriers. This made Bogachev virtually invisible, a computer amongst hundreds of thousands, all constantly sending and forwarding commands.Rossow was impressed. He had rarely seen such an elaborate weapon; the creator had made it extremely difficult for his opponents. Still, Rossow knew that every programme had a weak point. There is no such thing as a perfect code; otherwise system software such as Windows, Mac OS or Linux would be invulnerable.One of those long nights, looking up at the dark blue sky through the window of his study at home, Rossow became convinced he had found the weak link. Bogachev did not control who joined his botnet. He had not built a reliable lock for his network. Maybe he didn’t even anticipate the problem. Or maybe he was too confident and thought that his disguise was perfect.Rossow managed to join Bogachev’s botnet undetected. Now it was his turn to watch his enemy, in disguise. If his assumptions were correct and he succeeded in disabling Bogachev’s Trojans this would certainly be of interest to his professors, to producers of anti-virus software, to the big IT companies and their security branches, the German Federal Office of Criminal Investigation, Europol, maybe even the FBI. But he would not be able to do it alone. He knew it would be too much work and he knew he needed to be quick if he wanted to be first. Two people agreed to help him: one of his students and one of his long-standing colleagues.This small team each sat in their flats in Dinslaken, Amsterdam and Düsseldorf, analysing data, and speaking through video conferences when they found something new, which often happened several times a day. After a few weeks they believed they had found a way of attacking Bogachev’s weapon, and also the best moment for it: a Friday evening.Rossow used his virus lab to find out which computers in Bogachev’s botnet shared the most information with each other. These were most likely the ones Bogachev used to control his botnet. Rossow and his friends also found that any updates for ‘Gameover Zeus‘ were always released during the week, usually early in the morning. This meant that the cyber criminals were not working weekends and probably lived in a similar time zone to them, maybe Europe, but more probably the Ukraine or Russia. A lot of well-educated IT experts live there. In Germany they would be snapped up by big companies and given good salaries, but in Russia there just aren’t enough jobs for all of them.On a Friday evening in May 2012, just after 5pm, Rossow was sitting in his study. There were two windows open on his computer screen, one white and one black. The white one showed the faces of the other two of his team, as tense as his own. They, in turn, were looking at the same black window on their screens, the matrix. Where others would only see a long row of numbers, letters and signs, they could see a whole world.It had taken them almost two months to write the code for their attack. The code was designed to manipulate the connection of the computers and so find a way to break them off Bogachev’s botnet, one by one. But it had to be quick. A computer automatically updates itself every 20-30 minutes. That is all the time they had. If they took longer the computers would destroy the attempt automatically. That is why they used the Internet and the computer system at Rossow’s university. The Internet connection at home would have been too slow.Rossow pressed enter and waited.The white lines on his screen started moving so quickly they began to blur. Every computer that had been broken off from Bogachev sent a line of text as confirmation. There were so many of them and it all happened incredibly quickly. At 2am that night Rossow checked the warning system one more time; everything was in order. He went to bed, happy that it had all gone to plan.The next morning he was up early. The hackers had still not reacted. The weekend passed, then one week, then another week. Rossow was surprised. He had given Bogachev an expensive problem by breaking his control over the computers whose owners he robbed, sometimes more than once. Bogachev would be missing out on goods. On top of that, he had bought some of the elements for his weapon to infect external computers and be able to read bank account data. Now he needed new elements.Then, three weeks after the attack, someone hacked into Rossow’s university and targeted their Internet connection. This was Bogachev‘s counter attack, expected by Rossow, and he in turn stopped his attack. Now he knew that Bogachev and his malware had a weak point. The success of the attack had made him vulnerable. The more computers are linked to a botnet, the harder it is to repair it when someone introduces a mistake; which is exactly what he had done.Within the next few days Bogachev and his people released more than twelve updates. There were some new functions. But they still hadn’t recognised the weak link of their programme. That meant that Rossow and his colleagues could attack again. But this time they would need more effective weapons, a more sophisticated code, bigger computers and more server capacity.In August 2012, Rossow asked his girlfriend to move back in with her parents temporarily. For one week he and the others transformed his flat into what looked like the rooms of their youth. During the day they sat at their laptops, documents and gummy bears all over the dining table, during the night they rolled out camping mats on the floor for a few hours sleep. They started each day early, talked about peer-to-peer-networks, bulletproof hosting and ‘sink holing‘ over breakfast, and continued to work on their code.They then asked two men for help who worked for IT-security companies and whom they had met at conferences. One of them, Tillmann Werner, was now sitting at the table with them. The other, a Californian called Brett Stone-Gross, logged in through Skype in the early evenings. Stone-Gross was known to have exceptional criminal intuition, extraordinary technical abilities and very good contacts with the American National Security Agency. It had turned out that he, too, had been chasing Bogachev for a while.At the end of the week they felt ready to launch their second attack. They found four companies willing to place several servers at their disposal. This time, they had a number of IP addresses, not just the one at the university, which made them much harder to find. Most importantly, Rossow believed that their code was significantly more refined than the last one.Although he believed that there is no such thing as the perfect code he wanted to try to come as close to it as possible. The code is the handwriting, which reveals the programmer, showing his craftsmanship and even his personality. A code shows for example if his creator is vain: he can hide secret messages within it, references to a book or a musician. For Rossow the perfect code is elegant, free of any ornament, it makes the difficult look easy. Bogachev’s code was elegant. The ‘handwriting‘ showed that this man had extraordinary ideas, but was still able to carry them out without adding anything superfluous. Still, Rossow believed his team could beat Bogachev.At this time, a court in the North of the USA, almost 8,000 km away, issued the indictment against whoever was hiding behind the pseudonyms ‘slavik‘, ‘lucky12345‘ and ‘Pollingsoon.‘ The accusations included racketeering, bank fraud and violation of several computer laws. On a Friday evening in September 2012, Rossow and his helpers launched the second attack. The progress was similar to before: Midnight, 1am, 2am, Saturday went by, then the first week, the second. They succeeded in breaking off 90% of the computers from Bogachev’s predatory botnet. At the end of the second week, they realised that the hackers had revised their Trojan several times. But they still hadn‘t fixed the weak link.Now Rossow had pretty much all he needed. He had wanted to know how the programme worked and why it was so successful. Now he knew. He had defeated a Trojan, which people said was invincible, twice. Proof enough. He could easily write his dissertation now. Chances were good that he would be the first scientist to really describe \"Gameover Zeus\". On the other hand, he thought, such a case only crosses your path once as a scientist. Apart from the fact that a lot of people and organisations were still losing a lot of money at the hands of this Trojan every day.\\xa0In May 2013, Rossow found himself on the ground floor of a big concrete block in the middle of San Francisco, in a room with no windows, almost as cold as his virus lab. He was invited as a speaker to IEEE Security and Privacy, arguably the most important conference in the world on computer security. The world’s top researchers, detectives and investigators gather here once a year. Rossow felt blinded by the bright ceiling lights. All the rows were filled with people. About 500 had come to hear him and the others speak about \"Gameover Zeus\". This was the first time a larger audience would hear what happened.For Rossow, this was also the moment when the game became dangerous. The battle was moving from the virtual into the real world. Until now, he had just been a ghost to Bogachev, someone who had access to a university server and some knowledge about botnets. Now, he would be a German scientist, a human being with a name and a face, traceable if Bogachev wanted to find him. Rossow knew that a Firewall could provide more safety than the walls of his own home. He tried not to think about that too much and to stay calm by reminding himself that there were many others who had tried to hack Bogachev’s botnet. He was only one member of a much larger group.\\xa0Rossow had just arrived back in Germany when he received an email from Brett Stone-Gross, the American from his group. Stone-Gross wrote that a man called Elliott Peterson, an FBI special agent and former marine, had heard the speech in San Francisco and got in touch. \"He could use our help,\" Stone-Gross said.During the first video conference, Rossow couldn‘t help but feel that this case was even bigger than he had thought. Peterson was tall, muscular and had a sense of irony – not at all like those grumpy, near-silent investigators from American crime movies. His questions and answers revealed that he had been chasing Bogachev for some time, and was now working with an international army of investigators and security firms. \"We are looking for a way to take away the botnet from those hackers – for good. Can you do that?\" Whatever Rossow‘s team might need, Peterson promised to provide it, if possible. It was clear that a lot would be possible, as the case was of huge importance to the US.This time, Rossow and his group met in an old, but newly refurbished house in Bonn. One more week of sleeping on the floor. One more week of take-away meals. By now Bogachev had made sure their work would be significantly more difficult. He had reprogrammed his Trojan in a way that made it practically impossible to change the code. And to make it even harder, he had generated a kind of massive game of ‘thimblerig‘, or shell game: his Trojan now generated a thousand new domains each week. This meant that their effort would have to be even bigger as they were reliant on the help of all the companies managing the domains. They would have to negotiate with them to get them to shut down all the addresses.But at least they knew what they needed to do. They discussed, tested, adapted and wrote a new code. Once a day they received a call from Peterson checking on their progress. Whenever they needed anything, he organised it. Money was no issue. But then, when they were finally ready for the big showdown, Petersen stopped calling.At first they still heard from him every few days, then weeks and months would go by with no contact. Rossow started to worry. Bogachev’s last update was already very good. What if he used the time to perfect the Trojan even more? What if he found the mistake and eliminated it? This could, after all, happen any day. It was possible that they would miss the chance to stop him.Two and half years after Rossow first discovered the Trojan ‘Gameover Zeus‘ in his lab, and one year after the FBI agent Peterson had asked them for help, Tillmann Werner and Brett Stone-Gross, Rossow’s friends, opened their laptops in an empty conference room in Pittsburgh. On the table in front of them were two big screens, behind them twelve FBI agents and several high-ranking US lawyers.Peterson had been working obsessively towards this day. In just a few moments these two guys, a German and an American, would begin to destroy Bogachev’s botnet. This was why he had asked them to come here, to a green building in the centre of town, the national cyber-defence centre of the US. And whilst their programme kept digging deeper into Bogachev’s network, dismantling his weapon, dozens of investigators in Canada, Germany, France and England, and most of all in Russia and the Ukraine, started to search several houses and apartments. They arrested ten of the men who had helped Bogachev with his raids. This was all part of Peterson’s plan.At just after 8am PST on that Friday morning, Stone-Gross and Werner pressed ‘enter.‘ Seven hours later, Rossow’s mobile phone began to ring. It was now late in Germany, almost 9pm, when he got the call from Tillman Werner. Rossow was sitting on a wooden bench in front of his holiday apartment reading a book. He was on vacation with his girlfriend.When they decided who was going to make the trip to Pittsburgh, Rossow had to think twice. He was the one who had tracked Bogachev down. It was Rossow who had followed his path, got to know his personality, who had formed a picture of him. Now that everything was heading towards the big showdown, and he was in a position to finish what he had started, he was, instead, on holiday. He had been working very hard and had promised his girlfriend months ago that they would have this time together; in three weeks they would get married. Rossow actually preferred working on his own anyway. It made him nervous to have people standing behind him, watching him work. When things became difficult he couldn’t deal with the distraction. And it had never mattered to him whether he was in Gelsenkirchen or Dinslaken, in Bonn or Pittsburgh. The fight against Bogachev was fought in cyber space, not a specific place on the map. All Rossow needed was his laptop and an Internet connection.\\xa0“Something’s wrong“, Werner said.Their programme was running slow, taking a long time to infiltrate Bogachev’s botnet. Much too slow. At this speed, Bogachev wouldn‘t have the slightest problem keeping control of the external computers. They checked everything, tried every solution they could think of. The problem must be the code. They checked that too, again and again, but they couldn’t find a mistake. Now it was all up to Rossow. If he couldn‘t find a solution, it might mean the end of one of the most elaborate investigations in a very long time.Rossow opened his laptop in the holiday apartment, but the Internet connection failed. He got on his bike, rode into town, and found a hotel with Wi-Fi. He sank into a sofa in the lobby and started the two programmes that he had used for the two previous attacks. Then he sat there in the twilight, half human and half shadow. The screen threw a blueish glow on his face. Rossow clicked on the black window and started searching for the spot in their code where he thought the mistake might be. Then he started writing it again. From this moment on he stopped noticing anything around him. When Rossow was finished he pressed ‘enter‘ and watched as their programme began to eat its way into Bogachev’s network.Three days later, a distinguished gentleman with a narrow face, a blow-dry and a moustache, stepped in front of the press, two flags behind him, the Stars and Stripes and the American Eagle. James Cole, Deputy Attorney General, had something sensational to announce. The USA, Cole said, have, with the assistance of an international search team, been able to catch one of the most experienced cyber criminals in the world. Evgeniy Mikhailovich Bogachev had created \"the most complicated system of computer viruses we have ever encountered.“ With the help of Russian and Ukrainian accomplices Bogachev had infected over one million computers, including the servers of US banks. Cole said that a US court would try Bogachev for Internet and bank fraud, blackmailing, data theft and money laundering.That afternoon Rossow talked to Werner and asked him to tell him every detail of what had happened. When he hung up the phone he thought that’s it, the story is over. But since then the story has developed a life of its own. That is the reason why, five years after it all began, Rossow is now sitting in his living room, not quite certain what to make of it all. He has good reason to be proud. He did something truly extraordinary. The FBI has given him a certificate in a dark-blue faux-leather frame, which now sits on the shelf in his office at the university. Right after he finished his studies he was offered his own research group at another university. His lectures are popular. Big IT-companies invite him regularly for presentations in Nice or Silicon Valley. But every time he hears his name publicly announced he flinches. He didn’t take on just any hacker, but a criminal who might be capable of anything. He fears that Bogachev might take revenge. And then, of course, there is the espionage.Deeply hidden within Bogachev’s botnet, Rossow and the others found a number of search warrants, not usually needed by digital bank robbers, and not usually found in their malware.\\xa0Someone was collecting information about Georgia and the Ukraine, about Syria and Turkey, all potentially explosive stuff. Their search terms showed that they were after classified government documents, and after certain employees of foreign intelligence services. This pointed towards Russian involvement. At that time, no one else was as interested in these countries as Russia’s president Vladimir Putin. He had pursued a war against Georgia and their relationship was still tense. The Syrian ruler Bashar al-Assad was bombing his own people and Putin was on his side, Turkey on Europe’s and America’s side. And Putin was also leading a war against the Ukraine.The data collected by Bogachev’s malware pointed towards the possibility of a spy, maybe even one directly assigned by the Russian government, who had settled into Bogachev’s botnet. The quality of his cyber weapon seemed to confirm such a conclusion. \"I would be careful with stuff like that\", says Rossow, noting that there are so many ways to disguise yourself and set someone on the wrong track in the Internet.Still, the American investigators, even FBI agent Peterson, speak of espionage and how Bogachev was behind this search for potentially dangerous information. In the summer of 2014, the USA asked Russia to extradite Bogachev – in vain, as there is no extradition treaty between the two countries. In February 2015, the FBI made Bogachev a wanted person, with a bounty of $3 million. It is the highest reward for capture that US agencies have ever put on a cyber criminal.A lot of evidence suggests that Bogachev still lives in Russia, in Anapa, a spa-town of sixty thousand inhabitants on the coast of the Black Sea. He is officially listed as having an address there, an apartment in a high-rise building, with a police station only a few hundred meters away. He is there regularly, his neighbours told Russian and English journalists. They like him. They talk about how pleasant he is, and that he drives around in an old Volvo with a sticker on the car wing, an advert for computer repairs. He is also supposed to be on his yacht from time to time, which lies just off the coast. Bogachev does not seem particularly bothered about staying hidden – one of the reasons why investigators in the USA and Europe think it possible that Putin’s government is protecting him.This is all pure speculation, but speculation can travel like a computer virus. Elliott Peterson, Bogachev’s FBI hunter, made it all public a few months ago. At a cyber conference in Las Vegas he presented an extensive report about the hunt for Bogachev. Evidence suggested, Peterson claimed, that ‘Gameover Zeus‘ was used to spy from the very beginning. In the epilogue, he thanked Rossow personally.Rossow makes a face when asked about this. Sometimes he feels as though the world has gone up in flames. As though the USA and Russia were back in the Cold War. He fears that in times like these the smallest provocation could be enough to spark an escalation. Espionage, diplomatic complications, cyber war. The whole thing has become too big for him.\\xa0He is a computer scientist. He wanted to figure something out, and do the right thing. But now it seems that no one is interested in that anymore.'"
            ]
          },
          "metadata": {
            "tags": []
          },
          "execution_count": 4
        }
      ]
    },
    {
      "cell_type": "markdown",
      "metadata": {
        "id": "fXKR8_FSX0K9",
        "colab_type": "text"
      },
      "source": [
        "## <font color='green'> Import </font> Dependencies"
      ]
    },
    {
      "cell_type": "code",
      "metadata": {
        "id": "6cVForAwivyC",
        "colab_type": "code",
        "outputId": "3e80810e-d453-4818-b851-83c532450e95",
        "colab": {
          "base_uri": "https://localhost:8080/",
          "height": 72
        }
      },
      "source": [
        "from textblob import TextBlob\n",
        "import numpy as np\n",
        "import matplotlib.pyplot as plt\n",
        "\n",
        "# Import these dependencies if using Google Colab \n",
        "import nltk\n",
        "nltk.download('punkt')"
      ],
      "execution_count": 0,
      "outputs": [
        {
          "output_type": "stream",
          "text": [
            "[nltk_data] Downloading package punkt to /root/nltk_data...\n",
            "[nltk_data]   Unzipping tokenizers/punkt.zip.\n"
          ],
          "name": "stdout"
        },
        {
          "output_type": "execute_result",
          "data": {
            "text/plain": [
              "True"
            ]
          },
          "metadata": {
            "tags": []
          },
          "execution_count": 5
        }
      ]
    },
    {
      "cell_type": "markdown",
      "metadata": {
        "id": "oO3zXBmNX955",
        "colab_type": "text"
      },
      "source": [
        "### <font color='skyblue'> Ingest </font> Text to Analyze"
      ]
    },
    {
      "cell_type": "code",
      "metadata": {
        "id": "mpFugUBuivyJ",
        "colab_type": "code",
        "colab": {}
      },
      "source": [
        "blob = TextBlob(text)"
      ],
      "execution_count": 0,
      "outputs": []
    },
    {
      "cell_type": "markdown",
      "metadata": {
        "id": "id4xUyUDivyQ",
        "colab_type": "text"
      },
      "source": [
        "Now that you have instatiated your text as a TextBlob object, you can perform text manipulations.  First, let's generate a list of all sentences in your TextBlob object:\n",
        "\n",
        "blob_sentences = blob.sentences\n",
        "\n",
        "Do this in the space below, and print the result (you should see a list of sentences):"
      ]
    },
    {
      "cell_type": "code",
      "metadata": {
        "id": "zdGsmdndivyS",
        "colab_type": "code",
        "outputId": "ccfe2dda-178f-4489-fa16-17980403a555",
        "colab": {
          "base_uri": "https://localhost:8080/",
          "height": 1000
        }
      },
      "source": [
        "blob_sentences = blob.sentences\n",
        "blob_sentences"
      ],
      "execution_count": 0,
      "outputs": [
        {
          "output_type": "execute_result",
          "data": {
            "text/plain": [
              "[Sentence(\"After weeks of research, one gloomy November afternoon, Christian Rossow found himself in the middle of world politics completely by accident.\"),\n",
              " Sentence(\"Sitting in an office just big enough for two desks and a cabinet he was working his way through the mass of numbers blinking on his computer screen when he found something unusual.The numbers came from the basement one level below, from a room without windows.\"),\n",
              " Sentence(\"Only four people besides him had a key.\"),\n",
              " Sentence(\"The room is the maximum-security lab of the university he worked for at the time.\"),\n",
              " Sentence(\"Whenever Rossow had to go down there he tried to be quick.\"),\n",
              " Sentence(\"The room was cold and noisy, there was an old air con keeping the temperature at a steady 19 degrees.\"),\n",
              " Sentence(\"This was because of the 15 high-performance computers in the lab, big as wardrobes and highly sensible to heat.\"),\n",
              " Sentence(\"Rossow used them as guinea pigs.\"),\n",
              " Sentence(\"He would infect them with the latest viruses, Trojans and worms, sent to him daily by the manufacturers of anti-virus programmes.\"),\n",
              " Sentence(\"On the screen in his office he was able to assess how much harm each virus can do.\"),\n",
              " Sentence(\"Only a handful of computers were connected to the lab in the basement, through a special programme.The very first number on Rossow’s screen showed that there was malware raging in the basement of a kind he had rarely witnessed.\"),\n",
              " Sentence(\"It was able to connect to hundreds of external computers within minutes.\"),\n",
              " Sentence(\"This was exactly what he’d been looking for.\"),\n",
              " Sentence(\"Rossow conducted a few tests and checked online whether anyone had dealt with this programme already, a technician, a geek maybe, or another scientist.\"),\n",
              " Sentence(\"He couldn‘t find any reference to it.\"),\n",
              " Sentence(\"This is it, he thought, finally the perfect case study for his thesis.Without knowing it, this was the afternoon Rossow began his hunt for one of the most wanted cyber criminals in the world.\"),\n",
              " Sentence(\"Now, five years later, proud but also pale-faced and a little worried he sits at home on a black leather sofa, able to tell his story.\"),\n",
              " Sentence(\"He managed to achieve something rare, but the whole thing has spun out of control.The USA named a phantom, a master of digital theft, as Evgeniy Mikhailovich Bogachev, a 32 year-old Russian citizen with a round face, bald head and dark circles under his eyes.\"),\n",
              " Sentence(\"Since then, criminal prosecutors from more than ten countries have tried to catch him, setting undercover agents on him, asking nerds and specialists from the computer industry for help, even talking to companies like Dell and Microsoft.\"),\n",
              " Sentence(\"But in the end it was Christian Rossow and his friends who beat Bogachev at his own game.\"),\n",
              " Sentence(\"German experts talking about the aggressive trojan „Locky“  Quelle: Die Welt The FBI calls Bogachev a world-class hacker.\"),\n",
              " Sentence(\"He, his helpers and his clients have gone on hundreds of thousands of raids with the help of the programmes he wrote and sold.His programme package was called \"Gameover Zeus\".\"),\n",
              " Sentence(\"The name mixes the worlds of computer gaming and Greek mythology.\"),\n",
              " Sentence(\"It’s all over when the mighty ruler of Mount Olympus gets involved, could be a rough translation.\"),\n",
              " Sentence(\"Not exactly a humble name, but quite appropriate.\"),\n",
              " Sentence(\"For Bogachev created a digital tool through which he and his helpers were able to raid other people’s bank accounts, lock their computers and paralyse servers, with only a few mouse clicks.According to the FBI‘s findings Bogachev and about twenty of his helpers infected a million computers worldwide using Gameover Zeus.\"),\n",
              " Sentence(\"His victims included large companies, banks and private individuals.\"),\n",
              " Sentence(\"A Native American tribe in the US state of Washington was reportedly robbed of $277.000, a bank in Florida lost $6.9 million.\"),\n",
              " Sentence(\"No one knows exactly how much money was stolen, how much damage was caused.\"),\n",
              " Sentence(\"The FBI assumes about $100 million, and that is just in the USA.\"),\n",
              " Sentence(\"It is most probably a multiple of that, since Bogachev was also active in Asia and Europe, including Germany.For years Bogachev felt safe.\"),\n",
              " Sentence(\"He had found the perfect crime, making sure the perpetrators were protected while the other side, the police and prosecutors, were confronted with a case they couldn’t solve without outside help.Online, or cyber, crime investigators are dealing with ghosts, criminals hiding behind acronyms and pseudonyms.\"),\n",
              " Sentence(\"These cases lack pretty much everything the investigators would normally need to solve a case.\"),\n",
              " Sentence(\"No physical crime scene, no fingerprints, no traces of skin or hair for DNA analysis.\"),\n",
              " Sentence(\"There are no witnesses, no descriptions of the perpetrators.The thieves of the digital age do not have to break into a bank or a house anymore.\"),\n",
              " Sentence(\"They can use computer viruses to introduce their digital DNA into external computers who will then, all by themselves, infect other computers and create a whole cluster of connected compromised devices called a botnet.\"),\n",
              " Sentence(\"Hackers then operate the botnets in secret to access bank accounts of internet users, stealing first their passwords and then their money.\"),\n",
              " Sentence(\"Bogachev’s programme had perfected this.\"),\n",
              " Sentence(\"And such botnets can also be used for espionage.Cyber crime investigators work tirelessly, often for years, in a mostly futile fight that’s far from equal.\"),\n",
              " Sentence(\"Sometimes things work out, they get a lucky break.\"),\n",
              " Sentence(\"Sometimes they find the human being behind the pseudonyms, a person with habits and weaknesses, an offender who becomes traceable, as eventually happened with Bogachev.\"),\n",
              " Sentence(\"The USA identified and indicted Bogachev aka \"slavik\", \"lucky12345\" and \"Pollingsoon\".\"),\n",
              " Sentence(\"The FBI is very proud of this rare and notable success, but it would never have happened without the work of Christian Rossow.On a clear, cold Friday morning, Rossow is sitting in his top floor flat in Dinslaken, a West-German province, all red brick detached houses.\"),\n",
              " Sentence(\"Everything about him is long and thin, his face, his body, his fingers.\"),\n",
              " Sentence(\"A black laptop, as small as a piece of paper, lies next to him on the sofa.He can’t help but laugh when he thinks about his very first computer, an IBM, a massive machine.\"),\n",
              " Sentence(\"He was nine years old when he programmed his first computer game, from his room in his parents’ house.\"),\n",
              " Sentence(\"Eleven when the internet became big and he started building websites for friends to sell films or books.\"),\n",
              " Sentence(\"After finishing school he qualified as an IT specialist, went to university and specialised in malware, software designed to cause damage or commit crimes.There are countless viruses, Trojans and malware programmes; every day half a million new ones are released.\"),\n",
              " Sentence(\"Some are badly programmed, clumsy and virtually ineffective, but some are dangerous cyber weapons, able to raid banks, shut down power stations, and even sabotage whole countries.\"),\n",
              " Sentence(\"Rossow is only interested in the well-programmed ones.\"),\n",
              " Sentence(\"He studies dozens of them every day, reads their codes, reads every single command line.\"),\n",
              " Sentence(\"He wants to understand how they work, how they enter external computers and how to deactivate them.\"),\n",
              " Sentence(\"He is part of a silent battle, fought with keyboards, bytes, codes and fibre optics, programmer against programmer, good against evil.\"),\n",
              " Sentence(\"One side invents the cyber weapons; the other studies their plans and tries to render them harmless.\"),\n",
              " Sentence(\"\"It’s a game,\" he says.He usually sits at a desk, or on a sofa, in front of a screen, which connects him to the outside world.\"),\n",
              " Sentence(\"He studies his enemies, their strategies, so he knows in advance what their next move will be.\"),\n",
              " Sentence(\"They could be teenagers or grown men, sitting somewhere in a darkened room, maybe wearing hoodies and goatees, he never knows.\"),\n",
              " Sentence(\"Most of them have probably started out just like him, programming or hacking games so they don’t have to pay for them.\"),\n",
              " Sentence(\"Rossow decided early on that he wanted to be one of the good guys.\"),\n",
              " Sentence(\"A scientist – independent, conscientious, objective.He talks about how professional hackers are getting better and better, their attacks ever more targeted and clever.\"),\n",
              " Sentence(\"Whatever they can’t or won’t programme themselves they buy in forums on the Internet, the black market of the digital underworld.\"),\n",
              " Sentence(\"There they can also hire computers for attacks, or the access to computers, which have been connected to botnets without the knowledge of their owners.\"),\n",
              " Sentence(\"These forums are used by a work-sharing industry to offer components for digital high-performance weapons, sometimes in closed groups only accessible to paying members.It was the middle of November 2011 when Rossow first encountered ‘Gameover Zeus.\"),\n",
              " Sentence(\"‘ Someone had sent him a link to an employee of a company located in the North-West of the US state of Pennsylvania which looked like it came from the employee’s boss.\"),\n",
              " Sentence(\"That link was used to gain access to the data and bank accounts of the company.\"),\n",
              " Sentence(\"This, it was later discovered, was Bogachev’s first big raid.\"),\n",
              " Sentence(\"What they took, around $1 million, was moved to a bank account in London with the help of a series of middlemen, straw men.Rossow didn’t know this yet.\"),\n",
              " Sentence(\"The programme he discovered in his lab in the basement was unknown.\"),\n",
              " Sentence(\"Its code was written like an almost indecipherable language.\"),\n",
              " Sentence(\"It settled deep into his computer, didn‘t send any spam and seemed to just lurk there.\"),\n",
              " Sentence(\"On top of that it was also extremely well encrypted.\"),\n",
              " Sentence(\"But Rossow wanted to find out more about how this programme worked.\"),\n",
              " Sentence(\"He wanted to watch the weapon in action.For weeks, he spent his days working in his grey university office, and the nights at home with his little black laptop, often until very late.\"),\n",
              " Sentence(\"He hardly slept and only rarely saw his girlfriend.\"),\n",
              " Sentence(\"Only sometimes, when the sun shone, he went for a jog to clear his mind, for half an hour.\"),\n",
              " Sentence(\"The German government is thinking about creating a surveillance software called „Bundestrojaner“  Quelle: Die Welt Bit by bit he began to understand the logic of this Trojan: how it communicated with other computers, how it introduced itself and built an enormous botnet.\"),\n",
              " Sentence(\"In the high security lab of his university Rossow started to build a copy of the malware to be able to make further tests.\"),\n",
              " Sentence(\"Then he came across an article in a specialist blog in Poland.\"),\n",
              " Sentence(\"Another scientist had obviously found the same Trojan, analysed it, and had come to the conclusion that it could not be cracked.\"),\n",
              " Sentence(\"‘Gameover Zeus‘ was not only very fast, but its creator had given it a special kind of camouflage.Hackers have to make a number of decisions when developing their malware, for example how infected computers are to receive crucial commands.\"),\n",
              " Sentence(\"They can deposit that information inside the code of their cyber weapons.\"),\n",
              " Sentence(\"But they can also have the computers, once taken over, be controlled by one or several other devices.\"),\n",
              " Sentence(\"The advantage of the first option is its directness and its reliability; the disadvantage is that it leaves behind traces of data that can then be followed by cyber investigators or people like Rossow.\"),\n",
              " Sentence(\"Bogachev opted for the second model.\"),\n",
              " Sentence(\"The computer sending out the Trojan used infected computers as carriers.\"),\n",
              " Sentence(\"This made Bogachev virtually invisible, a computer amongst hundreds of thousands, all constantly sending and forwarding commands.Rossow was impressed.\"),\n",
              " Sentence(\"He had rarely seen such an elaborate weapon; the creator had made it extremely difficult for his opponents.\"),\n",
              " Sentence(\"Still, Rossow knew that every programme had a weak point.\"),\n",
              " Sentence(\"There is no such thing as a perfect code; otherwise system software such as Windows, Mac OS or Linux would be invulnerable.One of those long nights, looking up at the dark blue sky through the window of his study at home, Rossow became convinced he had found the weak link.\"),\n",
              " Sentence(\"Bogachev did not control who joined his botnet.\"),\n",
              " Sentence(\"He had not built a reliable lock for his network.\"),\n",
              " Sentence(\"Maybe he didn’t even anticipate the problem.\"),\n",
              " Sentence(\"Or maybe he was too confident and thought that his disguise was perfect.Rossow managed to join Bogachev’s botnet undetected.\"),\n",
              " Sentence(\"Now it was his turn to watch his enemy, in disguise.\"),\n",
              " Sentence(\"If his assumptions were correct and he succeeded in disabling Bogachev’s Trojans this would certainly be of interest to his professors, to producers of anti-virus software, to the big IT companies and their security branches, the German Federal Office of Criminal Investigation, Europol, maybe even the FBI.\"),\n",
              " Sentence(\"But he would not be able to do it alone.\"),\n",
              " Sentence(\"He knew it would be too much work and he knew he needed to be quick if he wanted to be first.\"),\n",
              " Sentence(\"Two people agreed to help him: one of his students and one of his long-standing colleagues.This small team each sat in their flats in Dinslaken, Amsterdam and Düsseldorf, analysing data, and speaking through video conferences when they found something new, which often happened several times a day.\"),\n",
              " Sentence(\"After a few weeks they believed they had found a way of attacking Bogachev’s weapon, and also the best moment for it: a Friday evening.Rossow used his virus lab to find out which computers in Bogachev’s botnet shared the most information with each other.\"),\n",
              " Sentence(\"These were most likely the ones Bogachev used to control his botnet.\"),\n",
              " Sentence(\"Rossow and his friends also found that any updates for ‘Gameover Zeus‘ were always released during the week, usually early in the morning.\"),\n",
              " Sentence(\"This meant that the cyber criminals were not working weekends and probably lived in a similar time zone to them, maybe Europe, but more probably the Ukraine or Russia.\"),\n",
              " Sentence(\"A lot of well-educated IT experts live there.\"),\n",
              " Sentence(\"In Germany they would be snapped up by big companies and given good salaries, but in Russia there just aren’t enough jobs for all of them.On a Friday evening in May 2012, just after 5pm, Rossow was sitting in his study.\"),\n",
              " Sentence(\"There were two windows open on his computer screen, one white and one black.\"),\n",
              " Sentence(\"The white one showed the faces of the other two of his team, as tense as his own.\"),\n",
              " Sentence(\"They, in turn, were looking at the same black window on their screens, the matrix.\"),\n",
              " Sentence(\"Where others would only see a long row of numbers, letters and signs, they could see a whole world.It had taken them almost two months to write the code for their attack.\"),\n",
              " Sentence(\"The code was designed to manipulate the connection of the computers and so find a way to break them off Bogachev’s botnet, one by one.\"),\n",
              " Sentence(\"But it had to be quick.\"),\n",
              " Sentence(\"A computer automatically updates itself every 20-30 minutes.\"),\n",
              " Sentence(\"That is all the time they had.\"),\n",
              " Sentence(\"If they took longer the computers would destroy the attempt automatically.\"),\n",
              " Sentence(\"That is why they used the Internet and the computer system at Rossow’s university.\"),\n",
              " Sentence(\"The Internet connection at home would have been too slow.Rossow pressed enter and waited.The white lines on his screen started moving so quickly they began to blur.\"),\n",
              " Sentence(\"Every computer that had been broken off from Bogachev sent a line of text as confirmation.\"),\n",
              " Sentence(\"There were so many of them and it all happened incredibly quickly.\"),\n",
              " Sentence(\"At 2am that night Rossow checked the warning system one more time; everything was in order.\"),\n",
              " Sentence(\"He went to bed, happy that it had all gone to plan.The next morning he was up early.\"),\n",
              " Sentence(\"The hackers had still not reacted.\"),\n",
              " Sentence(\"The weekend passed, then one week, then another week.\"),\n",
              " Sentence(\"Rossow was surprised.\"),\n",
              " Sentence(\"He had given Bogachev an expensive problem by breaking his control over the computers whose owners he robbed, sometimes more than once.\"),\n",
              " Sentence(\"Bogachev would be missing out on goods.\"),\n",
              " Sentence(\"On top of that, he had bought some of the elements for his weapon to infect external computers and be able to read bank account data.\"),\n",
              " Sentence(\"Now he needed new elements.Then, three weeks after the attack, someone hacked into Rossow’s university and targeted their Internet connection.\"),\n",
              " Sentence(\"This was Bogachev‘s counter attack, expected by Rossow, and he in turn stopped his attack.\"),\n",
              " Sentence(\"Now he knew that Bogachev and his malware had a weak point.\"),\n",
              " Sentence(\"The success of the attack had made him vulnerable.\"),\n",
              " Sentence(\"The more computers are linked to a botnet, the harder it is to repair it when someone introduces a mistake; which is exactly what he had done.Within the next few days Bogachev and his people released more than twelve updates.\"),\n",
              " Sentence(\"There were some new functions.\"),\n",
              " Sentence(\"But they still hadn’t recognised the weak link of their programme.\"),\n",
              " Sentence(\"That meant that Rossow and his colleagues could attack again.\"),\n",
              " Sentence(\"But this time they would need more effective weapons, a more sophisticated code, bigger computers and more server capacity.In August 2012, Rossow asked his girlfriend to move back in with her parents temporarily.\"),\n",
              " Sentence(\"For one week he and the others transformed his flat into what looked like the rooms of their youth.\"),\n",
              " Sentence(\"During the day they sat at their laptops, documents and gummy bears all over the dining table, during the night they rolled out camping mats on the floor for a few hours sleep.\"),\n",
              " Sentence(\"They started each day early, talked about peer-to-peer-networks, bulletproof hosting and ‘sink holing‘ over breakfast, and continued to work on their code.They then asked two men for help who worked for IT-security companies and whom they had met at conferences.\"),\n",
              " Sentence(\"One of them, Tillmann Werner, was now sitting at the table with them.\"),\n",
              " Sentence(\"The other, a Californian called Brett Stone-Gross, logged in through Skype in the early evenings.\"),\n",
              " Sentence(\"Stone-Gross was known to have exceptional criminal intuition, extraordinary technical abilities and very good contacts with the American National Security Agency.\"),\n",
              " Sentence(\"It had turned out that he, too, had been chasing Bogachev for a while.At the end of the week they felt ready to launch their second attack.\"),\n",
              " Sentence(\"They found four companies willing to place several servers at their disposal.\"),\n",
              " Sentence(\"This time, they had a number of IP addresses, not just the one at the university, which made them much harder to find.\"),\n",
              " Sentence(\"Most importantly, Rossow believed that their code was significantly more refined than the last one.Although he believed that there is no such thing as the perfect code he wanted to try to come as close to it as possible.\"),\n",
              " Sentence(\"The code is the handwriting, which reveals the programmer, showing his craftsmanship and even his personality.\"),\n",
              " Sentence(\"A code shows for example if his creator is vain: he can hide secret messages within it, references to a book or a musician.\"),\n",
              " Sentence(\"For Rossow the perfect code is elegant, free of any ornament, it makes the difficult look easy.\"),\n",
              " Sentence(\"Bogachev’s code was elegant.\"),\n",
              " Sentence(\"The ‘handwriting‘ showed that this man had extraordinary ideas, but was still able to carry them out without adding anything superfluous.\"),\n",
              " Sentence(\"Still, Rossow believed his team could beat Bogachev.At this time, a court in the North of the USA, almost 8,000 km away, issued the indictment against whoever was hiding behind the pseudonyms ‘slavik‘, ‘lucky12345‘ and ‘Pollingsoon.‘ The accusations included racketeering, bank fraud and violation of several computer laws.\"),\n",
              " Sentence(\"On a Friday evening in September 2012, Rossow and his helpers launched the second attack.\"),\n",
              " Sentence(\"The progress was similar to before: Midnight, 1am, 2am, Saturday went by, then the first week, the second.\"),\n",
              " Sentence(\"They succeeded in breaking off 90% of the computers from Bogachev’s predatory botnet.\"),\n",
              " Sentence(\"At the end of the second week, they realised that the hackers had revised their Trojan several times.\"),\n",
              " Sentence(\"But they still hadn‘t fixed the weak link.Now Rossow had pretty much all he needed.\"),\n",
              " Sentence(\"He had wanted to know how the programme worked and why it was so successful.\"),\n",
              " Sentence(\"Now he knew.\"),\n",
              " Sentence(\"He had defeated a Trojan, which people said was invincible, twice.\"),\n",
              " Sentence(\"Proof enough.\"),\n",
              " Sentence(\"He could easily write his dissertation now.\"),\n",
              " Sentence(\"Chances were good that he would be the first scientist to really describe \"Gameover Zeus\".\"),\n",
              " Sentence(\"On the other hand, he thought, such a case only crosses your path once as a scientist.\"),\n",
              " Sentence(\"Apart from the fact that a lot of people and organisations were still losing a lot of money at the hands of this Trojan every day.\"),\n",
              " Sentence(\"In May 2013, Rossow found himself on the ground floor of a big concrete block in the middle of San Francisco, in a room with no windows, almost as cold as his virus lab.\"),\n",
              " Sentence(\"He was invited as a speaker to IEEE Security and Privacy, arguably the most important conference in the world on computer security.\"),\n",
              " Sentence(\"The world’s top researchers, detectives and investigators gather here once a year.\"),\n",
              " Sentence(\"Rossow felt blinded by the bright ceiling lights.\"),\n",
              " Sentence(\"All the rows were filled with people.\"),\n",
              " Sentence(\"About 500 had come to hear him and the others speak about \"Gameover Zeus\".\"),\n",
              " Sentence(\"This was the first time a larger audience would hear what happened.For Rossow, this was also the moment when the game became dangerous.\"),\n",
              " Sentence(\"The battle was moving from the virtual into the real world.\"),\n",
              " Sentence(\"Until now, he had just been a ghost to Bogachev, someone who had access to a university server and some knowledge about botnets.\"),\n",
              " Sentence(\"Now, he would be a German scientist, a human being with a name and a face, traceable if Bogachev wanted to find him.\"),\n",
              " Sentence(\"Rossow knew that a Firewall could provide more safety than the walls of his own home.\"),\n",
              " Sentence(\"He tried not to think about that too much and to stay calm by reminding himself that there were many others who had tried to hack Bogachev’s botnet.\"),\n",
              " Sentence(\"He was only one member of a much larger group.\"),\n",
              " Sentence(\"Rossow had just arrived back in Germany when he received an email from Brett Stone-Gross, the American from his group.\"),\n",
              " Sentence(\"Stone-Gross wrote that a man called Elliott Peterson, an FBI special agent and former marine, had heard the speech in San Francisco and got in touch.\"),\n",
              " Sentence(\"\"He could use our help,\" Stone-Gross said.During the first video conference, Rossow couldn‘t help but feel that this case was even bigger than he had thought.\"),\n",
              " Sentence(\"Peterson was tall, muscular and had a sense of irony – not at all like those grumpy, near-silent investigators from American crime movies.\"),\n",
              " Sentence(\"His questions and answers revealed that he had been chasing Bogachev for some time, and was now working with an international army of investigators and security firms.\"),\n",
              " Sentence(\"\"We are looking for a way to take away the botnet from those hackers – for good.\"),\n",
              " Sentence(\"Can you do that?\"\"),\n",
              " Sentence(\"Whatever Rossow‘s team might need, Peterson promised to provide it, if possible.\"),\n",
              " Sentence(\"It was clear that a lot would be possible, as the case was of huge importance to the US.This time, Rossow and his group met in an old, but newly refurbished house in Bonn.\"),\n",
              " Sentence(\"One more week of sleeping on the floor.\"),\n",
              " Sentence(\"One more week of take-away meals.\"),\n",
              " Sentence(\"By now Bogachev had made sure their work would be significantly more difficult.\"),\n",
              " Sentence(\"He had reprogrammed his Trojan in a way that made it practically impossible to change the code.\"),\n",
              " Sentence(\"And to make it even harder, he had generated a kind of massive game of ‘thimblerig‘, or shell game: his Trojan now generated a thousand new domains each week.\"),\n",
              " Sentence(\"This meant that their effort would have to be even bigger as they were reliant on the help of all the companies managing the domains.\"),\n",
              " Sentence(\"They would have to negotiate with them to get them to shut down all the addresses.But at least they knew what they needed to do.\"),\n",
              " Sentence(\"They discussed, tested, adapted and wrote a new code.\"),\n",
              " Sentence(\"Once a day they received a call from Peterson checking on their progress.\"),\n",
              " Sentence(\"Whenever they needed anything, he organised it.\"),\n",
              " Sentence(\"Money was no issue.\"),\n",
              " Sentence(\"But then, when they were finally ready for the big showdown, Petersen stopped calling.At first they still heard from him every few days, then weeks and months would go by with no contact.\"),\n",
              " Sentence(\"Rossow started to worry.\"),\n",
              " Sentence(\"Bogachev’s last update was already very good.\"),\n",
              " Sentence(\"What if he used the time to perfect the Trojan even more?\"),\n",
              " Sentence(\"What if he found the mistake and eliminated it?\"),\n",
              " Sentence(\"This could, after all, happen any day.\"),\n",
              " Sentence(\"It was possible that they would miss the chance to stop him.Two and half years after Rossow first discovered the Trojan ‘Gameover Zeus‘ in his lab, and one year after the FBI agent Peterson had asked them for help, Tillmann Werner and Brett Stone-Gross, Rossow’s friends, opened their laptops in an empty conference room in Pittsburgh.\"),\n",
              " Sentence(\"On the table in front of them were two big screens, behind them twelve FBI agents and several high-ranking US lawyers.Peterson had been working obsessively towards this day.\"),\n",
              " Sentence(\"In just a few moments these two guys, a German and an American, would begin to destroy Bogachev’s botnet.\"),\n",
              " Sentence(\"This was why he had asked them to come here, to a green building in the centre of town, the national cyber-defence centre of the US.\"),\n",
              " Sentence(\"And whilst their programme kept digging deeper into Bogachev’s network, dismantling his weapon, dozens of investigators in Canada, Germany, France and England, and most of all in Russia and the Ukraine, started to search several houses and apartments.\"),\n",
              " Sentence(\"They arrested ten of the men who had helped Bogachev with his raids.\"),\n",
              " Sentence(\"This was all part of Peterson’s plan.At just after 8am PST on that Friday morning, Stone-Gross and Werner pressed ‘enter.‘ Seven hours later, Rossow’s mobile phone began to ring.\"),\n",
              " Sentence(\"It was now late in Germany, almost 9pm, when he got the call from Tillman Werner.\"),\n",
              " Sentence(\"Rossow was sitting on a wooden bench in front of his holiday apartment reading a book.\"),\n",
              " Sentence(\"He was on vacation with his girlfriend.When they decided who was going to make the trip to Pittsburgh, Rossow had to think twice.\"),\n",
              " Sentence(\"He was the one who had tracked Bogachev down.\"),\n",
              " Sentence(\"It was Rossow who had followed his path, got to know his personality, who had formed a picture of him.\"),\n",
              " Sentence(\"Now that everything was heading towards the big showdown, and he was in a position to finish what he had started, he was, instead, on holiday.\"),\n",
              " Sentence(\"He had been working very hard and had promised his girlfriend months ago that they would have this time together; in three weeks they would get married.\"),\n",
              " Sentence(\"Rossow actually preferred working on his own anyway.\"),\n",
              " Sentence(\"It made him nervous to have people standing behind him, watching him work.\"),\n",
              " Sentence(\"When things became difficult he couldn’t deal with the distraction.\"),\n",
              " Sentence(\"And it had never mattered to him whether he was in Gelsenkirchen or Dinslaken, in Bonn or Pittsburgh.\"),\n",
              " Sentence(\"The fight against Bogachev was fought in cyber space, not a specific place on the map.\"),\n",
              " Sentence(\"All Rossow needed was his laptop and an Internet connection.\"),\n",
              " Sentence(\"“Something’s wrong“, Werner said.Their programme was running slow, taking a long time to infiltrate Bogachev’s botnet.\"),\n",
              " Sentence(\"Much too slow.\"),\n",
              " Sentence(\"At this speed, Bogachev wouldn‘t have the slightest problem keeping control of the external computers.\"),\n",
              " Sentence(\"They checked everything, tried every solution they could think of.\"),\n",
              " Sentence(\"The problem must be the code.\"),\n",
              " Sentence(\"They checked that too, again and again, but they couldn’t find a mistake.\"),\n",
              " Sentence(\"Now it was all up to Rossow.\"),\n",
              " Sentence(\"If he couldn‘t find a solution, it might mean the end of one of the most elaborate investigations in a very long time.Rossow opened his laptop in the holiday apartment, but the Internet connection failed.\"),\n",
              " Sentence(\"He got on his bike, rode into town, and found a hotel with Wi-Fi.\"),\n",
              " Sentence(\"He sank into a sofa in the lobby and started the two programmes that he had used for the two previous attacks.\"),\n",
              " Sentence(\"Then he sat there in the twilight, half human and half shadow.\"),\n",
              " Sentence(\"The screen threw a blueish glow on his face.\"),\n",
              " Sentence(\"Rossow clicked on the black window and started searching for the spot in their code where he thought the mistake might be.\"),\n",
              " Sentence(\"Then he started writing it again.\"),\n",
              " Sentence(\"From this moment on he stopped noticing anything around him.\"),\n",
              " Sentence(\"When Rossow was finished he pressed ‘enter‘ and watched as their programme began to eat its way into Bogachev’s network.Three days later, a distinguished gentleman with a narrow face, a blow-dry and a moustache, stepped in front of the press, two flags behind him, the Stars and Stripes and the American Eagle.\"),\n",
              " Sentence(\"James Cole, Deputy Attorney General, had something sensational to announce.\"),\n",
              " Sentence(\"The USA, Cole said, have, with the assistance of an international search team, been able to catch one of the most experienced cyber criminals in the world.\"),\n",
              " Sentence(\"Evgeniy Mikhailovich Bogachev had created \"the most complicated system of computer viruses we have ever encountered.“ With the help of Russian and Ukrainian accomplices Bogachev had infected over one million computers, including the servers of US banks.\"),\n",
              " Sentence(\"Cole said that a US court would try Bogachev for Internet and bank fraud, blackmailing, data theft and money laundering.That afternoon Rossow talked to Werner and asked him to tell him every detail of what had happened.\"),\n",
              " Sentence(\"When he hung up the phone he thought that’s it, the story is over.\"),\n",
              " Sentence(\"But since then the story has developed a life of its own.\"),\n",
              " Sentence(\"That is the reason why, five years after it all began, Rossow is now sitting in his living room, not quite certain what to make of it all.\"),\n",
              " Sentence(\"He has good reason to be proud.\"),\n",
              " Sentence(\"He did something truly extraordinary.\"),\n",
              " Sentence(\"The FBI has given him a certificate in a dark-blue faux-leather frame, which now sits on the shelf in his office at the university.\"),\n",
              " Sentence(\"Right after he finished his studies he was offered his own research group at another university.\"),\n",
              " Sentence(\"His lectures are popular.\"),\n",
              " Sentence(\"Big IT-companies invite him regularly for presentations in Nice or Silicon Valley.\"),\n",
              " Sentence(\"But every time he hears his name publicly announced he flinches.\"),\n",
              " Sentence(\"He didn’t take on just any hacker, but a criminal who might be capable of anything.\"),\n",
              " Sentence(\"He fears that Bogachev might take revenge.\"),\n",
              " Sentence(\"And then, of course, there is the espionage.Deeply hidden within Bogachev’s botnet, Rossow and the others found a number of search warrants, not usually needed by digital bank robbers, and not usually found in their malware.\"),\n",
              " Sentence(\"Someone was collecting information about Georgia and the Ukraine, about Syria and Turkey, all potentially explosive stuff.\"),\n",
              " Sentence(\"Their search terms showed that they were after classified government documents, and after certain employees of foreign intelligence services.\"),\n",
              " Sentence(\"This pointed towards Russian involvement.\"),\n",
              " Sentence(\"At that time, no one else was as interested in these countries as Russia’s president Vladimir Putin.\"),\n",
              " Sentence(\"He had pursued a war against Georgia and their relationship was still tense.\"),\n",
              " Sentence(\"The Syrian ruler Bashar al-Assad was bombing his own people and Putin was on his side, Turkey on Europe’s and America’s side.\"),\n",
              " Sentence(\"And Putin was also leading a war against the Ukraine.The data collected by Bogachev’s malware pointed towards the possibility of a spy, maybe even one directly assigned by the Russian government, who had settled into Bogachev’s botnet.\"),\n",
              " Sentence(\"The quality of his cyber weapon seemed to confirm such a conclusion.\"),\n",
              " Sentence(\"\"I would be careful with stuff like that\", says Rossow, noting that there are so many ways to disguise yourself and set someone on the wrong track in the Internet.Still, the American investigators, even FBI agent Peterson, speak of espionage and how Bogachev was behind this search for potentially dangerous information.\"),\n",
              " Sentence(\"In the summer of 2014, the USA asked Russia to extradite Bogachev – in vain, as there is no extradition treaty between the two countries.\"),\n",
              " Sentence(\"In February 2015, the FBI made Bogachev a wanted person, with a bounty of $3 million.\"),\n",
              " Sentence(\"It is the highest reward for capture that US agencies have ever put on a cyber criminal.A lot of evidence suggests that Bogachev still lives in Russia, in Anapa, a spa-town of sixty thousand inhabitants on the coast of the Black Sea.\"),\n",
              " Sentence(\"He is officially listed as having an address there, an apartment in a high-rise building, with a police station only a few hundred meters away.\"),\n",
              " Sentence(\"He is there regularly, his neighbours told Russian and English journalists.\"),\n",
              " Sentence(\"They like him.\"),\n",
              " Sentence(\"They talk about how pleasant he is, and that he drives around in an old Volvo with a sticker on the car wing, an advert for computer repairs.\"),\n",
              " Sentence(\"He is also supposed to be on his yacht from time to time, which lies just off the coast.\"),\n",
              " Sentence(\"Bogachev does not seem particularly bothered about staying hidden – one of the reasons why investigators in the USA and Europe think it possible that Putin’s government is protecting him.This is all pure speculation, but speculation can travel like a computer virus.\"),\n",
              " Sentence(\"Elliott Peterson, Bogachev’s FBI hunter, made it all public a few months ago.\"),\n",
              " Sentence(\"At a cyber conference in Las Vegas he presented an extensive report about the hunt for Bogachev.\"),\n",
              " Sentence(\"Evidence suggested, Peterson claimed, that ‘Gameover Zeus‘ was used to spy from the very beginning.\"),\n",
              " Sentence(\"In the epilogue, he thanked Rossow personally.Rossow makes a face when asked about this.\"),\n",
              " Sentence(\"Sometimes he feels as though the world has gone up in flames.\"),\n",
              " Sentence(\"As though the USA and Russia were back in the Cold War.\"),\n",
              " Sentence(\"He fears that in times like these the smallest provocation could be enough to spark an escalation.\"),\n",
              " Sentence(\"Espionage, diplomatic complications, cyber war.\"),\n",
              " Sentence(\"The whole thing has become too big for him.\"),\n",
              " Sentence(\"He is a computer scientist.\"),\n",
              " Sentence(\"He wanted to figure something out, and do the right thing.\"),\n",
              " Sentence(\"But now it seems that no one is interested in that anymore.\")]"
            ]
          },
          "metadata": {
            "tags": []
          },
          "execution_count": 7
        }
      ]
    },
    {
      "cell_type": "code",
      "metadata": {
        "id": "2xN0ZSBJ510j",
        "colab_type": "code",
        "outputId": "dd3b70ac-c74d-4e05-fd23-d141d4f135e8",
        "colab": {
          "base_uri": "https://localhost:8080/",
          "height": 35
        }
      },
      "source": [
        "# Allow user to type in key words to search the text for\n",
        "filter_list = input('Enter words to filter by separated by commas: ').title() # This is still a string... not a list yet"
      ],
      "execution_count": 0,
      "outputs": [
        {
          "output_type": "stream",
          "text": [
            "Enter words to filter by separated by commas: rossow,bogachev,russia\n"
          ],
          "name": "stdout"
        }
      ]
    },
    {
      "cell_type": "markdown",
      "metadata": {
        "id": "tGJmYoaJYF_n",
        "colab_type": "text"
      },
      "source": [
        "### <font color='skyblue'> Enter </font>  Key Words to Search in Text"
      ]
    },
    {
      "cell_type": "code",
      "metadata": {
        "id": "49R1H35B7aH8",
        "colab_type": "code",
        "outputId": "65ff135a-847a-47dc-9f0e-4f9817949ee5",
        "colab": {
          "base_uri": "https://localhost:8080/",
          "height": 35
        }
      },
      "source": [
        "fliter_list = list(filter_list) # Convert string to a list (it currently has 1 long string element of key words)\n",
        "\n",
        "f = []\n",
        "for word in (filter_list.split(\",\")):  # Split string into separate words, separate by comma\n",
        "  f.append(word)                       # Generate new list containing each key word\n",
        "f # This is now a list of key words that the user typed in"
      ],
      "execution_count": 0,
      "outputs": [
        {
          "output_type": "execute_result",
          "data": {
            "text/plain": [
              "['Rossow', 'Bogachev', 'Russia']"
            ]
          },
          "metadata": {
            "tags": []
          },
          "execution_count": 9
        }
      ]
    },
    {
      "cell_type": "markdown",
      "metadata": {
        "id": "GTNasDzQLinR",
        "colab_type": "text"
      },
      "source": [
        "## <font color='skyblue'> Search </font>  Sentences for Key Words\n",
        "\n"
      ]
    },
    {
      "cell_type": "code",
      "metadata": {
        "id": "MXjYMd1-LUrT",
        "colab_type": "code",
        "outputId": "7eb7199c-7296-473d-bdf7-1865828d7d4c",
        "colab": {
          "base_uri": "https://localhost:8080/",
          "height": 1000
        }
      },
      "source": [
        "# Instantiate list for holding the sentences\n",
        "sentences = []\n",
        "\n",
        "# Generate empty list of lists \n",
        "for i in range(len(f)):\n",
        "  sentences.append([])\n",
        "print('Here is what you just made, and empty list of lists: ', sentences, '\\n')\n",
        "\n",
        "# Generate lists of sentences for each key word and plug them into the list of lists from above            \n",
        "for i in range(len(f)):\n",
        "  for sentence in blob_sentences:\n",
        "    if f[i] in sentence:\n",
        "        sentences[i].append(sentence)\n",
        "        \n",
        "# Print number of sentences containing each key word\n",
        "# Print out all sentences containing each key word\n",
        "for i in range(len(f)):\n",
        "  print('-----------------------------------------------------------------')   \n",
        "  print('There are {} sentences in containing the word: {} '.format(len(sentences[i]), f[i]), '\\n') \n",
        "  for sentence in sentences[i]:\n",
        "      print(sentence)\n"
      ],
      "execution_count": 0,
      "outputs": [
        {
          "output_type": "stream",
          "text": [
            "Here is what you just made, and empty list of lists:  [[], [], []] \n",
            "\n",
            "-----------------------------------------------------------------\n",
            "There are 60 sentences in containing the word: Rossow  \n",
            "\n",
            "After weeks of research, one gloomy November afternoon, Christian Rossow found himself in the middle of world politics completely by accident.\n",
            "Whenever Rossow had to go down there he tried to be quick.\n",
            "Rossow used them as guinea pigs.\n",
            "Only a handful of computers were connected to the lab in the basement, through a special programme.The very first number on Rossow’s screen showed that there was malware raging in the basement of a kind he had rarely witnessed.\n",
            "Rossow conducted a few tests and checked online whether anyone had dealt with this programme already, a technician, a geek maybe, or another scientist.\n",
            "This is it, he thought, finally the perfect case study for his thesis.Without knowing it, this was the afternoon Rossow began his hunt for one of the most wanted cyber criminals in the world.\n",
            "But in the end it was Christian Rossow and his friends who beat Bogachev at his own game.\n",
            "The FBI is very proud of this rare and notable success, but it would never have happened without the work of Christian Rossow.On a clear, cold Friday morning, Rossow is sitting in his top floor flat in Dinslaken, a West-German province, all red brick detached houses.\n",
            "Rossow is only interested in the well-programmed ones.\n",
            "Rossow decided early on that he wanted to be one of the good guys.\n",
            "These forums are used by a work-sharing industry to offer components for digital high-performance weapons, sometimes in closed groups only accessible to paying members.It was the middle of November 2011 when Rossow first encountered ‘Gameover Zeus.\n",
            "What they took, around $1 million, was moved to a bank account in London with the help of a series of middlemen, straw men.Rossow didn’t know this yet.\n",
            "But Rossow wanted to find out more about how this programme worked.\n",
            "In the high security lab of his university Rossow started to build a copy of the malware to be able to make further tests.\n",
            "The advantage of the first option is its directness and its reliability; the disadvantage is that it leaves behind traces of data that can then be followed by cyber investigators or people like Rossow.\n",
            "This made Bogachev virtually invisible, a computer amongst hundreds of thousands, all constantly sending and forwarding commands.Rossow was impressed.\n",
            "Still, Rossow knew that every programme had a weak point.\n",
            "There is no such thing as a perfect code; otherwise system software such as Windows, Mac OS or Linux would be invulnerable.One of those long nights, looking up at the dark blue sky through the window of his study at home, Rossow became convinced he had found the weak link.\n",
            "Or maybe he was too confident and thought that his disguise was perfect.Rossow managed to join Bogachev’s botnet undetected.\n",
            "After a few weeks they believed they had found a way of attacking Bogachev’s weapon, and also the best moment for it: a Friday evening.Rossow used his virus lab to find out which computers in Bogachev’s botnet shared the most information with each other.\n",
            "Rossow and his friends also found that any updates for ‘Gameover Zeus‘ were always released during the week, usually early in the morning.\n",
            "In Germany they would be snapped up by big companies and given good salaries, but in Russia there just aren’t enough jobs for all of them.On a Friday evening in May 2012, just after 5pm, Rossow was sitting in his study.\n",
            "That is why they used the Internet and the computer system at Rossow’s university.\n",
            "The Internet connection at home would have been too slow.Rossow pressed enter and waited.The white lines on his screen started moving so quickly they began to blur.\n",
            "At 2am that night Rossow checked the warning system one more time; everything was in order.\n",
            "Rossow was surprised.\n",
            "Now he needed new elements.Then, three weeks after the attack, someone hacked into Rossow’s university and targeted their Internet connection.\n",
            "This was Bogachev‘s counter attack, expected by Rossow, and he in turn stopped his attack.\n",
            "That meant that Rossow and his colleagues could attack again.\n",
            "But this time they would need more effective weapons, a more sophisticated code, bigger computers and more server capacity.In August 2012, Rossow asked his girlfriend to move back in with her parents temporarily.\n",
            "Most importantly, Rossow believed that their code was significantly more refined than the last one.Although he believed that there is no such thing as the perfect code he wanted to try to come as close to it as possible.\n",
            "For Rossow the perfect code is elegant, free of any ornament, it makes the difficult look easy.\n",
            "Still, Rossow believed his team could beat Bogachev.At this time, a court in the North of the USA, almost 8,000 km away, issued the indictment against whoever was hiding behind the pseudonyms ‘slavik‘, ‘lucky12345‘ and ‘Pollingsoon.‘ The accusations included racketeering, bank fraud and violation of several computer laws.\n",
            "On a Friday evening in September 2012, Rossow and his helpers launched the second attack.\n",
            "But they still hadn‘t fixed the weak link.Now Rossow had pretty much all he needed.\n",
            "In May 2013, Rossow found himself on the ground floor of a big concrete block in the middle of San Francisco, in a room with no windows, almost as cold as his virus lab.\n",
            "Rossow felt blinded by the bright ceiling lights.\n",
            "This was the first time a larger audience would hear what happened.For Rossow, this was also the moment when the game became dangerous.\n",
            "Rossow knew that a Firewall could provide more safety than the walls of his own home.\n",
            "Rossow had just arrived back in Germany when he received an email from Brett Stone-Gross, the American from his group.\n",
            "\"He could use our help,\" Stone-Gross said.During the first video conference, Rossow couldn‘t help but feel that this case was even bigger than he had thought.\n",
            "Whatever Rossow‘s team might need, Peterson promised to provide it, if possible.\n",
            "It was clear that a lot would be possible, as the case was of huge importance to the US.This time, Rossow and his group met in an old, but newly refurbished house in Bonn.\n",
            "Rossow started to worry.\n",
            "It was possible that they would miss the chance to stop him.Two and half years after Rossow first discovered the Trojan ‘Gameover Zeus‘ in his lab, and one year after the FBI agent Peterson had asked them for help, Tillmann Werner and Brett Stone-Gross, Rossow’s friends, opened their laptops in an empty conference room in Pittsburgh.\n",
            "This was all part of Peterson’s plan.At just after 8am PST on that Friday morning, Stone-Gross and Werner pressed ‘enter.‘ Seven hours later, Rossow’s mobile phone began to ring.\n",
            "Rossow was sitting on a wooden bench in front of his holiday apartment reading a book.\n",
            "He was on vacation with his girlfriend.When they decided who was going to make the trip to Pittsburgh, Rossow had to think twice.\n",
            "It was Rossow who had followed his path, got to know his personality, who had formed a picture of him.\n",
            "Rossow actually preferred working on his own anyway.\n",
            "All Rossow needed was his laptop and an Internet connection.\n",
            "Now it was all up to Rossow.\n",
            "If he couldn‘t find a solution, it might mean the end of one of the most elaborate investigations in a very long time.Rossow opened his laptop in the holiday apartment, but the Internet connection failed.\n",
            "Rossow clicked on the black window and started searching for the spot in their code where he thought the mistake might be.\n",
            "When Rossow was finished he pressed ‘enter‘ and watched as their programme began to eat its way into Bogachev’s network.Three days later, a distinguished gentleman with a narrow face, a blow-dry and a moustache, stepped in front of the press, two flags behind him, the Stars and Stripes and the American Eagle.\n",
            "Cole said that a US court would try Bogachev for Internet and bank fraud, blackmailing, data theft and money laundering.That afternoon Rossow talked to Werner and asked him to tell him every detail of what had happened.\n",
            "That is the reason why, five years after it all began, Rossow is now sitting in his living room, not quite certain what to make of it all.\n",
            "And then, of course, there is the espionage.Deeply hidden within Bogachev’s botnet, Rossow and the others found a number of search warrants, not usually needed by digital bank robbers, and not usually found in their malware.\n",
            "\"I would be careful with stuff like that\", says Rossow, noting that there are so many ways to disguise yourself and set someone on the wrong track in the Internet.Still, the American investigators, even FBI agent Peterson, speak of espionage and how Bogachev was behind this search for potentially dangerous information.\n",
            "In the epilogue, he thanked Rossow personally.Rossow makes a face when asked about this.\n",
            "-----------------------------------------------------------------\n",
            "There are 53 sentences in containing the word: Bogachev  \n",
            "\n",
            "He managed to achieve something rare, but the whole thing has spun out of control.The USA named a phantom, a master of digital theft, as Evgeniy Mikhailovich Bogachev, a 32 year-old Russian citizen with a round face, bald head and dark circles under his eyes.\n",
            "But in the end it was Christian Rossow and his friends who beat Bogachev at his own game.\n",
            "German experts talking about the aggressive trojan „Locky“  Quelle: Die Welt The FBI calls Bogachev a world-class hacker.\n",
            "For Bogachev created a digital tool through which he and his helpers were able to raid other people’s bank accounts, lock their computers and paralyse servers, with only a few mouse clicks.According to the FBI‘s findings Bogachev and about twenty of his helpers infected a million computers worldwide using Gameover Zeus.\n",
            "It is most probably a multiple of that, since Bogachev was also active in Asia and Europe, including Germany.For years Bogachev felt safe.\n",
            "Bogachev’s programme had perfected this.\n",
            "Sometimes they find the human being behind the pseudonyms, a person with habits and weaknesses, an offender who becomes traceable, as eventually happened with Bogachev.\n",
            "The USA identified and indicted Bogachev aka \"slavik\", \"lucky12345\" and \"Pollingsoon\".\n",
            "This, it was later discovered, was Bogachev’s first big raid.\n",
            "Bogachev opted for the second model.\n",
            "This made Bogachev virtually invisible, a computer amongst hundreds of thousands, all constantly sending and forwarding commands.Rossow was impressed.\n",
            "Bogachev did not control who joined his botnet.\n",
            "Or maybe he was too confident and thought that his disguise was perfect.Rossow managed to join Bogachev’s botnet undetected.\n",
            "If his assumptions were correct and he succeeded in disabling Bogachev’s Trojans this would certainly be of interest to his professors, to producers of anti-virus software, to the big IT companies and their security branches, the German Federal Office of Criminal Investigation, Europol, maybe even the FBI.\n",
            "After a few weeks they believed they had found a way of attacking Bogachev’s weapon, and also the best moment for it: a Friday evening.Rossow used his virus lab to find out which computers in Bogachev’s botnet shared the most information with each other.\n",
            "These were most likely the ones Bogachev used to control his botnet.\n",
            "The code was designed to manipulate the connection of the computers and so find a way to break them off Bogachev’s botnet, one by one.\n",
            "Every computer that had been broken off from Bogachev sent a line of text as confirmation.\n",
            "He had given Bogachev an expensive problem by breaking his control over the computers whose owners he robbed, sometimes more than once.\n",
            "Bogachev would be missing out on goods.\n",
            "This was Bogachev‘s counter attack, expected by Rossow, and he in turn stopped his attack.\n",
            "Now he knew that Bogachev and his malware had a weak point.\n",
            "The more computers are linked to a botnet, the harder it is to repair it when someone introduces a mistake; which is exactly what he had done.Within the next few days Bogachev and his people released more than twelve updates.\n",
            "It had turned out that he, too, had been chasing Bogachev for a while.At the end of the week they felt ready to launch their second attack.\n",
            "Bogachev’s code was elegant.\n",
            "Still, Rossow believed his team could beat Bogachev.At this time, a court in the North of the USA, almost 8,000 km away, issued the indictment against whoever was hiding behind the pseudonyms ‘slavik‘, ‘lucky12345‘ and ‘Pollingsoon.‘ The accusations included racketeering, bank fraud and violation of several computer laws.\n",
            "They succeeded in breaking off 90% of the computers from Bogachev’s predatory botnet.\n",
            "Until now, he had just been a ghost to Bogachev, someone who had access to a university server and some knowledge about botnets.\n",
            "Now, he would be a German scientist, a human being with a name and a face, traceable if Bogachev wanted to find him.\n",
            "He tried not to think about that too much and to stay calm by reminding himself that there were many others who had tried to hack Bogachev’s botnet.\n",
            "His questions and answers revealed that he had been chasing Bogachev for some time, and was now working with an international army of investigators and security firms.\n",
            "By now Bogachev had made sure their work would be significantly more difficult.\n",
            "Bogachev’s last update was already very good.\n",
            "In just a few moments these two guys, a German and an American, would begin to destroy Bogachev’s botnet.\n",
            "And whilst their programme kept digging deeper into Bogachev’s network, dismantling his weapon, dozens of investigators in Canada, Germany, France and England, and most of all in Russia and the Ukraine, started to search several houses and apartments.\n",
            "They arrested ten of the men who had helped Bogachev with his raids.\n",
            "He was the one who had tracked Bogachev down.\n",
            "The fight against Bogachev was fought in cyber space, not a specific place on the map.\n",
            "“Something’s wrong“, Werner said.Their programme was running slow, taking a long time to infiltrate Bogachev’s botnet.\n",
            "At this speed, Bogachev wouldn‘t have the slightest problem keeping control of the external computers.\n",
            "When Rossow was finished he pressed ‘enter‘ and watched as their programme began to eat its way into Bogachev’s network.Three days later, a distinguished gentleman with a narrow face, a blow-dry and a moustache, stepped in front of the press, two flags behind him, the Stars and Stripes and the American Eagle.\n",
            "Evgeniy Mikhailovich Bogachev had created \"the most complicated system of computer viruses we have ever encountered.“ With the help of Russian and Ukrainian accomplices Bogachev had infected over one million computers, including the servers of US banks.\n",
            "Cole said that a US court would try Bogachev for Internet and bank fraud, blackmailing, data theft and money laundering.That afternoon Rossow talked to Werner and asked him to tell him every detail of what had happened.\n",
            "He fears that Bogachev might take revenge.\n",
            "And then, of course, there is the espionage.Deeply hidden within Bogachev’s botnet, Rossow and the others found a number of search warrants, not usually needed by digital bank robbers, and not usually found in their malware.\n",
            "And Putin was also leading a war against the Ukraine.The data collected by Bogachev’s malware pointed towards the possibility of a spy, maybe even one directly assigned by the Russian government, who had settled into Bogachev’s botnet.\n",
            "\"I would be careful with stuff like that\", says Rossow, noting that there are so many ways to disguise yourself and set someone on the wrong track in the Internet.Still, the American investigators, even FBI agent Peterson, speak of espionage and how Bogachev was behind this search for potentially dangerous information.\n",
            "In the summer of 2014, the USA asked Russia to extradite Bogachev – in vain, as there is no extradition treaty between the two countries.\n",
            "In February 2015, the FBI made Bogachev a wanted person, with a bounty of $3 million.\n",
            "It is the highest reward for capture that US agencies have ever put on a cyber criminal.A lot of evidence suggests that Bogachev still lives in Russia, in Anapa, a spa-town of sixty thousand inhabitants on the coast of the Black Sea.\n",
            "Bogachev does not seem particularly bothered about staying hidden – one of the reasons why investigators in the USA and Europe think it possible that Putin’s government is protecting him.This is all pure speculation, but speculation can travel like a computer virus.\n",
            "Elliott Peterson, Bogachev’s FBI hunter, made it all public a few months ago.\n",
            "At a cyber conference in Las Vegas he presented an extensive report about the hunt for Bogachev.\n",
            "-----------------------------------------------------------------\n",
            "There are 12 sentences in containing the word: Russia  \n",
            "\n",
            "He managed to achieve something rare, but the whole thing has spun out of control.The USA named a phantom, a master of digital theft, as Evgeniy Mikhailovich Bogachev, a 32 year-old Russian citizen with a round face, bald head and dark circles under his eyes.\n",
            "This meant that the cyber criminals were not working weekends and probably lived in a similar time zone to them, maybe Europe, but more probably the Ukraine or Russia.\n",
            "In Germany they would be snapped up by big companies and given good salaries, but in Russia there just aren’t enough jobs for all of them.On a Friday evening in May 2012, just after 5pm, Rossow was sitting in his study.\n",
            "And whilst their programme kept digging deeper into Bogachev’s network, dismantling his weapon, dozens of investigators in Canada, Germany, France and England, and most of all in Russia and the Ukraine, started to search several houses and apartments.\n",
            "Evgeniy Mikhailovich Bogachev had created \"the most complicated system of computer viruses we have ever encountered.“ With the help of Russian and Ukrainian accomplices Bogachev had infected over one million computers, including the servers of US banks.\n",
            "This pointed towards Russian involvement.\n",
            "At that time, no one else was as interested in these countries as Russia’s president Vladimir Putin.\n",
            "And Putin was also leading a war against the Ukraine.The data collected by Bogachev’s malware pointed towards the possibility of a spy, maybe even one directly assigned by the Russian government, who had settled into Bogachev’s botnet.\n",
            "In the summer of 2014, the USA asked Russia to extradite Bogachev – in vain, as there is no extradition treaty between the two countries.\n",
            "It is the highest reward for capture that US agencies have ever put on a cyber criminal.A lot of evidence suggests that Bogachev still lives in Russia, in Anapa, a spa-town of sixty thousand inhabitants on the coast of the Black Sea.\n",
            "He is there regularly, his neighbours told Russian and English journalists.\n",
            "As though the USA and Russia were back in the Cold War.\n"
          ],
          "name": "stdout"
        }
      ]
    },
    {
      "cell_type": "markdown",
      "metadata": {
        "id": "MwLPnUsBLmjI",
        "colab_type": "text"
      },
      "source": [
        "\n",
        "\n",
        "---\n",
        "\n",
        "\n",
        "\n",
        "\n",
        "\n"
      ]
    },
    {
      "cell_type": "markdown",
      "metadata": {
        "id": "_PJsXX2zFVZC",
        "colab_type": "text"
      },
      "source": [
        "## Print <font color='skyblue'> Statistics </font> "
      ]
    },
    {
      "cell_type": "code",
      "metadata": {
        "id": "q4b-c7vyivyo",
        "colab_type": "code",
        "outputId": "0d886c79-1f65-4b1e-bf10-efc9d6c441da",
        "colab": {
          "base_uri": "https://localhost:8080/",
          "height": 53
        }
      },
      "source": [
        "print('Article', blob.sentiment) # Overall article sentiment\n",
        "pol = blob.sentiment[0]\n",
        "sub = blob.sentiment[1]\n",
        "bailey_sent = pol*sub\n",
        "print('This is the Bailey Sentiment: {}'.format(bailey_sent))"
      ],
      "execution_count": 0,
      "outputs": [
        {
          "output_type": "stream",
          "text": [
            "Article Sentiment(polarity=0.09685306616544344, subjectivity=0.4528317851107636)\n",
            "This is the Bailey Sentiment: 0.04385814684514865\n"
          ],
          "name": "stdout"
        }
      ]
    },
    {
      "cell_type": "code",
      "metadata": {
        "id": "TvmVrqVxbAqb",
        "colab_type": "code",
        "outputId": "d840c9e4-925b-463c-8f8d-d3896d7849f8",
        "colab": {
          "base_uri": "https://localhost:8080/",
          "height": 1000
        }
      },
      "source": [
        "# Print out sentiment values for each key word\n",
        "print('Sentence | Polarity | Subjectivity | Sentiment | Avg Sentiment')\n",
        "for i in range(len(f)):\n",
        "  print('\\n----------------------', f[i], '--------------------------------')\n",
        "  for j in range(len(sentences[i])):\n",
        "    polarity = sentences[i][j].sentiment[0]\n",
        "    subjectivity = sentences[i][j].sentiment[1]\n",
        "    bailey_sentiment = polarity * subjectivity\n",
        "\n",
        "    print(j, '       |', round(polarity, 2), '    |', round(subjectivity, 2), '        |', round(bailey_sentiment, 2), '     |', 'avg')\n",
        "  print('=============================================================')"
      ],
      "execution_count": 0,
      "outputs": [
        {
          "output_type": "stream",
          "text": [
            "Sentence | Polarity | Subjectivity | Sentiment | Avg Sentiment\n",
            "\n",
            "---------------------- Rossow --------------------------------\n",
            "0        | 0.03     | 0.13         | 0.0      | avg\n",
            "1        | 0.09     | 0.39         | 0.04      | avg\n",
            "2        | 0.0     | 0.0         | 0.0      | avg\n",
            "3        | 0.32     | 0.76         | 0.24      | avg\n",
            "4        | -0.2     | 0.1         | -0.02      | avg\n",
            "5        | 0.5     | 0.83         | 0.42      | avg\n",
            "6        | 0.07     | 0.47         | 0.03      | avg\n",
            "7        | 0.21     | 0.44         | 0.09      | avg\n",
            "8        | 0.12     | 0.75         | 0.09      | avg\n",
            "9        | 0.4     | 0.45         | 0.18      | avg\n",
            "10        | 0.09     | 0.3         | 0.03      | avg\n",
            "11        | 0.0     | 0.0         | 0.0      | avg\n",
            "12        | 0.5     | 0.5         | 0.25      | avg\n",
            "13        | 0.22     | 0.56         | 0.12      | avg\n",
            "14        | -0.08     | 0.52         | -0.04      | avg\n",
            "15        | 0.5     | 0.67         | 0.33      | avg\n",
            "16        | -0.38     | 0.62         | -0.23      | avg\n",
            "17        | 0.06     | 0.5         | 0.03      | avg\n",
            "18        | 0.5     | 0.83         | 0.42      | avg\n",
            "19        | 0.29     | 0.32         | 0.09      | avg\n",
            "20        | 0.1     | 0.3         | 0.03      | avg\n",
            "21        | 0.23     | 0.4         | 0.09      | avg\n",
            "22        | 0.0     | 0.0         | 0.0      | avg\n",
            "23        | 0.17     | 0.25         | 0.04      | avg\n",
            "24        | 0.5     | 0.5         | 0.25      | avg\n",
            "25        | 0.1     | 0.9         | 0.09      | avg\n",
            "26        | 0.14     | 0.45         | 0.06      | avg\n",
            "27        | -0.1     | 0.4         | -0.04      | avg\n",
            "28        | 0.0     | 0.0         | 0.0      | avg\n",
            "29        | 0.37     | 0.54         | 0.2      | avg\n",
            "30        | 0.34     | 0.65         | 0.22      | avg\n",
            "31        | 0.37     | 0.93         | 0.34      | avg\n",
            "32        | -0.2     | 0.35         | -0.07      | avg\n",
            "33        | 0.0     | 0.0         | 0.0      | avg\n",
            "34        | 0.04     | 0.51         | 0.02      | avg\n",
            "35        | -0.11     | 0.35         | -0.04      | avg\n",
            "36        | 0.7     | 0.8         | 0.56      | avg\n",
            "37        | -0.19     | 0.53         | -0.1      | avg\n",
            "38        | 0.55     | 0.75         | 0.41      | avg\n",
            "39        | 0.0     | 0.0         | 0.0      | avg\n",
            "40        | 0.12     | 0.42         | 0.05      | avg\n",
            "41        | 0.0     | 1.0         | 0.0      | avg\n",
            "42        | 0.15     | 0.59         | 0.09      | avg\n",
            "43        | 0.0     | 0.0         | 0.0      | avg\n",
            "44        | -0.0     | 0.5         | -0.0      | avg\n",
            "45        | 0.0     | 0.0         | 0.0      | avg\n",
            "46        | 0.0     | 0.0         | 0.0      | avg\n",
            "47        | 0.0     | 0.0         | 0.0      | avg\n",
            "48        | 0.0     | 0.0         | 0.0      | avg\n",
            "49        | 0.3     | 0.55         | 0.17      | avg\n",
            "50        | 0.0     | 0.0         | 0.0      | avg\n",
            "51        | 0.0     | 0.0         | 0.0      | avg\n",
            "52        | 0.02     | 0.6         | 0.01      | avg\n",
            "53        | -0.17     | 0.43         | -0.07      | avg\n",
            "54        | -0.15     | 0.28         | -0.04      | avg\n",
            "55        | 0.0     | 0.0         | 0.0      | avg\n",
            "56        | 0.21     | 0.57         | 0.12      | avg\n",
            "57        | 0.02     | 0.21         | 0.0      | avg\n",
            "58        | -0.18     | 0.67         | -0.12      | avg\n",
            "59        | 0.0     | 0.0         | 0.0      | avg\n",
            "=============================================================\n",
            "\n",
            "---------------------- Bogachev --------------------------------\n",
            "0        | 0.02     | 0.35         | 0.01      | avg\n",
            "1        | 0.07     | 0.47         | 0.03      | avg\n",
            "2        | 0.0     | 0.0         | 0.0      | avg\n",
            "3        | 0.03     | 0.42         | 0.01      | avg\n",
            "4        | 0.22     | 0.4         | 0.09      | avg\n",
            "5        | 0.0     | 0.0         | 0.0      | avg\n",
            "6        | -0.2     | 0.4         | -0.08      | avg\n",
            "7        | 0.0     | 0.0         | 0.0      | avg\n",
            "8        | 0.08     | 0.14         | 0.01      | avg\n",
            "9        | 0.0     | 0.0         | 0.0      | avg\n",
            "10        | 0.5     | 0.67         | 0.33      | avg\n",
            "11        | 0.0     | 0.0         | 0.0      | avg\n",
            "12        | 0.5     | 0.83         | 0.42      | avg\n",
            "13        | -0.05     | 0.31         | -0.01      | avg\n",
            "14        | 0.29     | 0.32         | 0.09      | avg\n",
            "15        | 0.25     | 0.75         | 0.19      | avg\n",
            "16        | 0.0     | 0.0         | 0.0      | avg\n",
            "17        | -0.4     | 0.4         | -0.16      | avg\n",
            "18        | 0.0     | 0.6         | 0.0      | avg\n",
            "19        | -0.2     | 0.05         | -0.01      | avg\n",
            "20        | -0.1     | 0.4         | -0.04      | avg\n",
            "21        | -0.38     | 0.62         | -0.23      | avg\n",
            "22        | 0.16     | 0.23         | 0.04      | avg\n",
            "23        | 0.1     | 0.25         | 0.03      | avg\n",
            "24        | 0.5     | 1.0         | 0.5      | avg\n",
            "25        | -0.2     | 0.35         | -0.07      | avg\n",
            "26        | 0.0     | 0.0         | 0.0      | avg\n",
            "27        | 0.0     | 0.0         | 0.0      | avg\n",
            "28        | 0.0     | 0.05         | 0.0      | avg\n",
            "29        | 0.33     | 0.48         | 0.16      | avg\n",
            "30        | 0.0     | 0.0         | 0.0      | avg\n",
            "31        | 0.17     | 0.8         | 0.13      | avg\n",
            "32        | 0.45     | 0.42         | 0.19      | avg\n",
            "33        | -0.1     | 0.03         | -0.0      | avg\n",
            "34        | 0.25     | 0.25         | 0.06      | avg\n",
            "35        | 0.0     | 0.0         | 0.0      | avg\n",
            "36        | -0.16     | 0.29         | -0.04      | avg\n",
            "37        | 0.0     | 0.12         | 0.0      | avg\n",
            "38        | -0.28     | 0.57         | -0.16      | avg\n",
            "39        | 0.0     | 0.1         | 0.0      | avg\n",
            "40        | -0.15     | 0.28         | -0.04      | avg\n",
            "41        | 0.0     | 0.5         | 0.0      | avg\n",
            "42        | 0.0     | 0.0         | 0.0      | avg\n",
            "43        | 0.0     | 0.0         | 0.0      | avg\n",
            "44        | 0.02     | 0.21         | 0.0      | avg\n",
            "45        | 0.05     | 0.2         | 0.01      | avg\n",
            "46        | -0.18     | 0.67         | -0.12      | avg\n",
            "47        | 0.0     | 0.0         | 0.0      | avg\n",
            "48        | 0.0     | 0.0         | 0.0      | avg\n",
            "49        | -0.17     | 0.43         | -0.07      | avg\n",
            "50        | 0.05     | 0.54         | 0.03      | avg\n",
            "51        | -0.1     | 0.08         | -0.01      | avg\n",
            "52        | 0.0     | 0.33         | 0.0      | avg\n",
            "=============================================================\n",
            "\n",
            "---------------------- Russia --------------------------------\n",
            "0        | 0.02     | 0.35         | 0.01      | avg\n",
            "1        | 0.25     | 0.45         | 0.11      | avg\n",
            "2        | 0.23     | 0.4         | 0.09      | avg\n",
            "3        | 0.25     | 0.25         | 0.06      | avg\n",
            "4        | 0.0     | 0.5         | 0.0      | avg\n",
            "5        | 0.0     | 0.0         | 0.0      | avg\n",
            "6        | 0.25     | 0.5         | 0.12      | avg\n",
            "7        | 0.05     | 0.2         | 0.01      | avg\n",
            "8        | 0.0     | 0.0         | 0.0      | avg\n",
            "9        | -0.17     | 0.43         | -0.07      | avg\n",
            "10        | 0.0     | 0.03         | 0.0      | avg\n",
            "11        | -0.3     | 0.5         | -0.15      | avg\n",
            "=============================================================\n"
          ],
          "name": "stdout"
        }
      ]
    },
    {
      "cell_type": "code",
      "metadata": {
        "id": "wUiWMWeYneoo",
        "colab_type": "code",
        "outputId": "5d7e9d29-09c9-4226-adad-9e03f66e7672",
        "colab": {
          "base_uri": "https://localhost:8080/",
          "height": 72
        }
      },
      "source": [
        "# Test Section - This is used to test and see individual values to see if everything makes sense\n",
        "# Change the indicies in between the brackets to compare the different outputs\n",
        "print(sentences[0][0].sentiment)\n",
        "print(np.average(sentences[0][0].sentiment))\n",
        "print(round(np.average(sentences[0][0].sentiment), 3))"
      ],
      "execution_count": 0,
      "outputs": [
        {
          "output_type": "stream",
          "text": [
            "Sentiment(polarity=0.03333333333333333, subjectivity=0.13333333333333333)\n",
            "0.08333333333333333\n",
            "0.083\n"
          ],
          "name": "stdout"
        }
      ]
    },
    {
      "cell_type": "markdown",
      "metadata": {
        "id": "iq9KqPFuD2Z7",
        "colab_type": "text"
      },
      "source": [
        "## Calculate <font color='yellow'> Sentiment </font>  for Each Key Word\n",
        "\n"
      ]
    },
    {
      "cell_type": "code",
      "metadata": {
        "id": "RAMTvqB3qNz5",
        "colab_type": "code",
        "outputId": "fe51d8f5-6fe6-493b-979c-482cc2e0471e",
        "colab": {
          "base_uri": "https://localhost:8080/",
          "height": 90
        }
      },
      "source": [
        "sentiment = [[],[],[],[],[],[]]\n",
        "print('---Average Sentiment---')\n",
        "for i in range(len(f)):\n",
        "  try:\n",
        "    for j in range(len(sentences[i])):\n",
        "      sentiment[i].append(sentences[i][j].sentiment[0] * sentences[i][j].sentiment[1])  \n",
        "      np.average(sentiment[i]) \n",
        "  except:\n",
        "    print('The List is Empty')\n",
        "  print(f[i], np.average(sentiment[i])) "
      ],
      "execution_count": 0,
      "outputs": [
        {
          "output_type": "stream",
          "text": [
            "---Average Sentiment---\n",
            "Rossow 0.07262589196678876\n",
            "Bogachev 0.024089635632817068\n",
            "Russia 0.015821759259259265\n"
          ],
          "name": "stdout"
        }
      ]
    },
    {
      "cell_type": "code",
      "metadata": {
        "id": "svccbOHJ2pp9",
        "colab_type": "code",
        "outputId": "7be71a85-6947-425c-b606-9e54280b7390",
        "colab": {
          "base_uri": "https://localhost:8080/",
          "height": 183
        }
      },
      "source": [
        "# Test Section - This is used to test and see individual values to see if everything makes sense\n",
        "# Change the indicies in between the brackets to compare the different outputs\n",
        "print('1', np.average(sentiment[0]))\n",
        "print('2', np.average(sentiment[1]))\n",
        "print('3', np.average(sentiment[2]))\n",
        "print('4', np.average(sentiment[3]))"
      ],
      "execution_count": 0,
      "outputs": [
        {
          "output_type": "stream",
          "text": [
            "1 0.07262589196678876\n",
            "2 0.024089635632817068\n",
            "3 0.015821759259259265\n",
            "4 nan\n"
          ],
          "name": "stdout"
        },
        {
          "output_type": "stream",
          "text": [
            "/usr/local/lib/python3.6/dist-packages/numpy/lib/function_base.py:393: RuntimeWarning: Mean of empty slice.\n",
            "  avg = a.mean(axis)\n",
            "/usr/local/lib/python3.6/dist-packages/numpy/core/_methods.py:161: RuntimeWarning: invalid value encountered in double_scalars\n",
            "  ret = ret.dtype.type(ret / rcount)\n"
          ],
          "name": "stderr"
        }
      ]
    },
    {
      "cell_type": "markdown",
      "metadata": {
        "id": "zeheY8NR5Wfq",
        "colab_type": "text"
      },
      "source": [
        "## <font color='orange'> Plot Resutls  </font> \n",
        "\n",
        "---\n",
        "\n"
      ]
    },
    {
      "cell_type": "code",
      "metadata": {
        "colab_type": "code",
        "outputId": "2c33c444-7887-416e-fbe1-052f6aff96b1",
        "id": "67x90m1TBxe_",
        "colab": {
          "base_uri": "https://localhost:8080/",
          "height": 55
        }
      },
      "source": [
        "xaxis = []\n",
        "for i in range(len(sentiment[0])): # sentiment[0] is the list of sentiments for the first key word\n",
        "  xaxis.append(i)\n",
        "print(\"The xaxis is {}.\".format(xaxis))"
      ],
      "execution_count": 0,
      "outputs": [
        {
          "output_type": "stream",
          "text": [
            "The xaxis is [0, 1, 2, 3, 4, 5, 6, 7, 8, 9, 10, 11, 12, 13, 14, 15, 16, 17, 18, 19, 20, 21, 22, 23, 24, 25, 26, 27, 28, 29, 30, 31, 32, 33, 34, 35, 36, 37, 38, 39, 40, 41, 42, 43, 44, 45, 46, 47, 48, 49, 50, 51, 52, 53, 54, 55, 56, 57, 58, 59].\n"
          ],
          "name": "stdout"
        }
      ]
    },
    {
      "cell_type": "code",
      "metadata": {
        "colab_type": "code",
        "outputId": "3da96372-a8bf-42d6-b0ef-fd1fa9f9f253",
        "id": "ttvo-BHkBy4f",
        "colab": {
          "base_uri": "https://localhost:8080/",
          "height": 313
        }
      },
      "source": [
        "plt.scatter(xaxis, sentiment[0])\n",
        "plt.grid()\n",
        "plt.title(f[0] + ' Sentiment Per Sentence', color='w')\n",
        "plt.xlabel('Sentence', color='w')\n",
        "plt.ylabel('Sentiment', color='w')\n",
        "plt.xticks(color='w')\n",
        "plt.yticks(color='w')\n",
        "plt.ylim(-1,1)"
      ],
      "execution_count": 0,
      "outputs": [
        {
          "output_type": "execute_result",
          "data": {
            "text/plain": [
              "(-1.0, 1.0)"
            ]
          },
          "metadata": {
            "tags": []
          },
          "execution_count": 17
        },
        {
          "output_type": "display_data",
          "data": {
            "image/png": "[encoded data removed]",
            "text/plain": [
              "<Figure size 432x288 with 1 Axes>"
            ]
          },
          "metadata": {
            "tags": []
          }
        }
      ]
    },
    {
      "cell_type": "code",
      "metadata": {
        "colab_type": "code",
        "outputId": "49bc9a7b-af26-4ef7-ea1b-846d3f2f22ed",
        "id": "nkvKbMWP7QTO",
        "colab": {
          "base_uri": "https://localhost:8080/",
          "height": 35
        }
      },
      "source": [
        "xaxis = []\n",
        "for i in range(len(sentiment[2])): # sentiment[0] is the list of sentiments for the first key word\n",
        "  xaxis.append(i)\n",
        "print(\"The xaxis is {}.\".format(xaxis))"
      ],
      "execution_count": 0,
      "outputs": [
        {
          "output_type": "stream",
          "text": [
            "The xaxis is [0, 1, 2, 3, 4, 5, 6, 7, 8, 9, 10, 11].\n"
          ],
          "name": "stdout"
        }
      ]
    },
    {
      "cell_type": "code",
      "metadata": {
        "colab_type": "code",
        "outputId": "a0e9cb61-cdeb-4da5-c461-4da8f9cc0767",
        "id": "-myfLEP_7Yq0",
        "colab": {
          "base_uri": "https://localhost:8080/",
          "height": 313
        }
      },
      "source": [
        "plt.scatter(xaxis, sentiment[2])\n",
        "plt.grid()\n",
        "plt.title(f[2] + ' Sentiment Per Sentence', color='w')\n",
        "plt.xlabel('Sentence', color='w')\n",
        "plt.ylabel('Sentiment', color='w')\n",
        "plt.xticks(color='w')\n",
        "plt.yticks(color='w')\n",
        "plt.ylim(-1,1)"
      ],
      "execution_count": 0,
      "outputs": [
        {
          "output_type": "execute_result",
          "data": {
            "text/plain": [
              "(-1.0, 1.0)"
            ]
          },
          "metadata": {
            "tags": []
          },
          "execution_count": 19
        },
        {
          "output_type": "display_data",
          "data": {
            "image/png": "[encoded data removed]",
            "text/plain": [
              "<Figure size 432x288 with 1 Axes>"
            ]
          },
          "metadata": {
            "tags": []
          }
        }
      ]
    },
    {
      "cell_type": "markdown",
      "metadata": {
        "id": "siPJbaebEX90",
        "colab_type": "text"
      },
      "source": [
        "## <font color='red'> UNDER CONSTRUCTION </font> "
      ]
    },
    {
      "cell_type": "code",
      "metadata": {
        "id": "D6vAmy6hLzoA",
        "colab_type": "code",
        "outputId": "4409d981-5590-4d92-dbec-4f7a7169139e",
        "colab": {
          "base_uri": "https://localhost:8080/",
          "height": 35
        }
      },
      "source": [
        "xaxis1 = []\n",
        "for i in range(len(sentiment[0])): # sentiment[0] is the list of sentiments for the first key word\n",
        "  xaxis1.append(i)\n",
        "print(\"The xaxis is {}.\".format(xaxis1))"
      ],
      "execution_count": 0,
      "outputs": [
        {
          "output_type": "stream",
          "text": [
            "The xaxis is [0, 1, 2, 3, 4, 5].\n"
          ],
          "name": "stdout"
        }
      ]
    },
    {
      "cell_type": "code",
      "metadata": {
        "id": "QZDzNHJ59aFP",
        "colab_type": "code",
        "outputId": "eadacbfa-aed2-43e5-ae8b-a413de7ce87d",
        "colab": {
          "base_uri": "https://localhost:8080/",
          "height": 35
        }
      },
      "source": [
        "xaxis2 = []\n",
        "for i in range(len(sentiment[1])): # sentiment[0] is the list of sentiments for the first key word\n",
        "  xaxis2.append(i)\n",
        "print(\"The xaxis is {}.\".format(xaxis2))"
      ],
      "execution_count": 0,
      "outputs": [
        {
          "output_type": "stream",
          "text": [
            "The xaxis is [].\n"
          ],
          "name": "stdout"
        }
      ]
    },
    {
      "cell_type": "code",
      "metadata": {
        "id": "k7JCRyJMAVnu",
        "colab_type": "code",
        "outputId": "78cac5dc-a9b9-4bf7-b9fd-3c0d4d7063de",
        "colab": {
          "base_uri": "https://localhost:8080/",
          "height": 723
        }
      },
      "source": [
        "x1 = xaxis1 \n",
        "x2 = xaxis2\n",
        "y1 = sentiment[0]\n",
        "y2 = sentiment[2]\n",
        "\n",
        "fit, axes = plt.subplots(nrows=1, ncols=2,figsize=(10,5))\n",
        "plt.grid()\n",
        "axes[0].scatter(x1,y1)\n",
        "#plt.grid()\n",
        "axes[1].scatter(x2,y2)\n",
        "\n",
        "\n",
        "fig.tight_layout()"
      ],
      "execution_count": 0,
      "outputs": [
        {
          "output_type": "error",
          "ename": "ValueError",
          "evalue": "ignored",
          "traceback": [
            "\u001b[0;31m---------------------------------------------------------------------------\u001b[0m",
            "\u001b[0;31mValueError\u001b[0m                                Traceback (most recent call last)",
            "\u001b[0;32m<ipython-input-55-75eda9479d30>\u001b[0m in \u001b[0;36m<module>\u001b[0;34m()\u001b[0m\n\u001b[1;32m      8\u001b[0m \u001b[0maxes\u001b[0m\u001b[0;34m[\u001b[0m\u001b[0;36m0\u001b[0m\u001b[0;34m]\u001b[0m\u001b[0;34m.\u001b[0m\u001b[0mscatter\u001b[0m\u001b[0;34m(\u001b[0m\u001b[0mx1\u001b[0m\u001b[0;34m,\u001b[0m\u001b[0my1\u001b[0m\u001b[0;34m)\u001b[0m\u001b[0;34m\u001b[0m\u001b[0;34m\u001b[0m\u001b[0m\n\u001b[1;32m      9\u001b[0m \u001b[0;31m#plt.grid()\u001b[0m\u001b[0;34m\u001b[0m\u001b[0;34m\u001b[0m\u001b[0;34m\u001b[0m\u001b[0m\n\u001b[0;32m---> 10\u001b[0;31m \u001b[0maxes\u001b[0m\u001b[0;34m[\u001b[0m\u001b[0;36m1\u001b[0m\u001b[0;34m]\u001b[0m\u001b[0;34m.\u001b[0m\u001b[0mscatter\u001b[0m\u001b[0;34m(\u001b[0m\u001b[0mx2\u001b[0m\u001b[0;34m,\u001b[0m\u001b[0my2\u001b[0m\u001b[0;34m)\u001b[0m\u001b[0;34m\u001b[0m\u001b[0;34m\u001b[0m\u001b[0m\n\u001b[0m\u001b[1;32m     11\u001b[0m \u001b[0;34m\u001b[0m\u001b[0m\n\u001b[1;32m     12\u001b[0m \u001b[0;34m\u001b[0m\u001b[0m\n",
            "\u001b[0;32m/usr/local/lib/python3.6/dist-packages/matplotlib/__init__.py\u001b[0m in \u001b[0;36minner\u001b[0;34m(ax, data, *args, **kwargs)\u001b[0m\n\u001b[1;32m   1541\u001b[0m     \u001b[0;32mdef\u001b[0m \u001b[0minner\u001b[0m\u001b[0;34m(\u001b[0m\u001b[0max\u001b[0m\u001b[0;34m,\u001b[0m \u001b[0;34m*\u001b[0m\u001b[0margs\u001b[0m\u001b[0;34m,\u001b[0m \u001b[0mdata\u001b[0m\u001b[0;34m=\u001b[0m\u001b[0;32mNone\u001b[0m\u001b[0;34m,\u001b[0m \u001b[0;34m**\u001b[0m\u001b[0mkwargs\u001b[0m\u001b[0;34m)\u001b[0m\u001b[0;34m:\u001b[0m\u001b[0;34m\u001b[0m\u001b[0;34m\u001b[0m\u001b[0m\n\u001b[1;32m   1542\u001b[0m         \u001b[0;32mif\u001b[0m \u001b[0mdata\u001b[0m \u001b[0;32mis\u001b[0m \u001b[0;32mNone\u001b[0m\u001b[0;34m:\u001b[0m\u001b[0;34m\u001b[0m\u001b[0;34m\u001b[0m\u001b[0m\n\u001b[0;32m-> 1543\u001b[0;31m             \u001b[0;32mreturn\u001b[0m \u001b[0mfunc\u001b[0m\u001b[0;34m(\u001b[0m\u001b[0max\u001b[0m\u001b[0;34m,\u001b[0m \u001b[0;34m*\u001b[0m\u001b[0mmap\u001b[0m\u001b[0;34m(\u001b[0m\u001b[0msanitize_sequence\u001b[0m\u001b[0;34m,\u001b[0m \u001b[0margs\u001b[0m\u001b[0;34m)\u001b[0m\u001b[0;34m,\u001b[0m \u001b[0;34m**\u001b[0m\u001b[0mkwargs\u001b[0m\u001b[0;34m)\u001b[0m\u001b[0;34m\u001b[0m\u001b[0;34m\u001b[0m\u001b[0m\n\u001b[0m\u001b[1;32m   1544\u001b[0m \u001b[0;34m\u001b[0m\u001b[0m\n\u001b[1;32m   1545\u001b[0m         \u001b[0mbound\u001b[0m \u001b[0;34m=\u001b[0m \u001b[0mnew_sig\u001b[0m\u001b[0;34m.\u001b[0m\u001b[0mbind\u001b[0m\u001b[0;34m(\u001b[0m\u001b[0max\u001b[0m\u001b[0;34m,\u001b[0m \u001b[0;34m*\u001b[0m\u001b[0margs\u001b[0m\u001b[0;34m,\u001b[0m \u001b[0;34m**\u001b[0m\u001b[0mkwargs\u001b[0m\u001b[0;34m)\u001b[0m\u001b[0;34m\u001b[0m\u001b[0;34m\u001b[0m\u001b[0m\n",
            "\u001b[0;32m/usr/local/lib/python3.6/dist-packages/matplotlib/cbook/deprecation.py\u001b[0m in \u001b[0;36mwrapper\u001b[0;34m(*args, **kwargs)\u001b[0m\n\u001b[1;32m    356\u001b[0m                 \u001b[0;34mf\"%(removal)s.  If any parameter follows {name!r}, they \"\u001b[0m\u001b[0;34m\u001b[0m\u001b[0;34m\u001b[0m\u001b[0m\n\u001b[1;32m    357\u001b[0m                 f\"should be pass as keyword, not positionally.\")\n\u001b[0;32m--> 358\u001b[0;31m         \u001b[0;32mreturn\u001b[0m \u001b[0mfunc\u001b[0m\u001b[0;34m(\u001b[0m\u001b[0;34m*\u001b[0m\u001b[0margs\u001b[0m\u001b[0;34m,\u001b[0m \u001b[0;34m**\u001b[0m\u001b[0mkwargs\u001b[0m\u001b[0;34m)\u001b[0m\u001b[0;34m\u001b[0m\u001b[0;34m\u001b[0m\u001b[0m\n\u001b[0m\u001b[1;32m    359\u001b[0m \u001b[0;34m\u001b[0m\u001b[0m\n\u001b[1;32m    360\u001b[0m     \u001b[0;32mreturn\u001b[0m \u001b[0mwrapper\u001b[0m\u001b[0;34m\u001b[0m\u001b[0;34m\u001b[0m\u001b[0m\n",
            "\u001b[0;32m/usr/local/lib/python3.6/dist-packages/matplotlib/axes/_axes.py\u001b[0m in \u001b[0;36mscatter\u001b[0;34m(self, x, y, s, c, marker, cmap, norm, vmin, vmax, alpha, linewidths, verts, edgecolors, plotnonfinite, **kwargs)\u001b[0m\n\u001b[1;32m   4378\u001b[0m         \u001b[0my\u001b[0m \u001b[0;34m=\u001b[0m \u001b[0mnp\u001b[0m\u001b[0;34m.\u001b[0m\u001b[0mma\u001b[0m\u001b[0;34m.\u001b[0m\u001b[0mravel\u001b[0m\u001b[0;34m(\u001b[0m\u001b[0my\u001b[0m\u001b[0;34m)\u001b[0m\u001b[0;34m\u001b[0m\u001b[0;34m\u001b[0m\u001b[0m\n\u001b[1;32m   4379\u001b[0m         \u001b[0;32mif\u001b[0m \u001b[0mx\u001b[0m\u001b[0;34m.\u001b[0m\u001b[0msize\u001b[0m \u001b[0;34m!=\u001b[0m \u001b[0my\u001b[0m\u001b[0;34m.\u001b[0m\u001b[0msize\u001b[0m\u001b[0;34m:\u001b[0m\u001b[0;34m\u001b[0m\u001b[0;34m\u001b[0m\u001b[0m\n\u001b[0;32m-> 4380\u001b[0;31m             \u001b[0;32mraise\u001b[0m \u001b[0mValueError\u001b[0m\u001b[0;34m(\u001b[0m\u001b[0;34m\"x and y must be the same size\"\u001b[0m\u001b[0;34m)\u001b[0m\u001b[0;34m\u001b[0m\u001b[0;34m\u001b[0m\u001b[0m\n\u001b[0m\u001b[1;32m   4381\u001b[0m \u001b[0;34m\u001b[0m\u001b[0m\n\u001b[1;32m   4382\u001b[0m         \u001b[0;32mif\u001b[0m \u001b[0ms\u001b[0m \u001b[0;32mis\u001b[0m \u001b[0;32mNone\u001b[0m\u001b[0;34m:\u001b[0m\u001b[0;34m\u001b[0m\u001b[0;34m\u001b[0m\u001b[0m\n",
            "\u001b[0;31mValueError\u001b[0m: x and y must be the same size"
          ]
        },
        {
          "output_type": "display_data",
          "data": {
            "image/png": "[encoded data removed]",
            "text/plain": [
              "<Figure size 720x360 with 2 Axes>"
            ]
          },
          "metadata": {
            "tags": []
          }
        }
      ]
    },
    {
      "cell_type": "code",
      "metadata": {
        "id": "7AJ160-6qg5X",
        "colab_type": "code",
        "outputId": "2c7bf350-240e-43eb-b30b-91833527434e",
        "colab": {
          "base_uri": "https://localhost:8080/",
          "height": 442
        }
      },
      "source": [
        "\n",
        "x1 = xaxis1 \n",
        "x2 = xaxis2\n",
        "y1 = sentiment[0]\n",
        "y2 = sentiment[2]\n",
        "\n",
        "fit, axes = plt.subplots(nrows=2, ncols=2,figsize=(5,3))\n",
        "axes[0].plot(x1,y1)\n",
        "axes[2].plot(x2,y2)\n",
        "\n",
        "# First Subplot\n",
        "#plt.subplot(1,2,1)\n",
        "plt.scatter(x1, y1)\n",
        "plt.grid()\n",
        "plt.title(f[0] + ' Sentiment Per Sentence', color='w')\n",
        "plt.ylabel('Sentiment', color='w')\n",
        "plt.yticks(color='w')\n",
        "plt.ylim(-1,1)\n",
        "\n",
        "# Second Subplot\n",
        "#plt.subplot(1,2,2) \n",
        "plt.scatter(x2, y2)\n",
        "plt.grid()\n",
        "plt.title(f[2] + ' Sentiment Per Sentence', color='w')\n",
        "plt.xticks(color='w')\n",
        "\n",
        "plt.xlabel('Sentence', color='w')\n",
        "plt.ylabel('Sentiment', color='w')\n",
        "\n",
        "plt.yticks(color='w')\n",
        "plt.ylim(-1,1)\n",
        "\n",
        "plt.tight_layout() # This spaces the graphs out"
      ],
      "execution_count": 0,
      "outputs": [
        {
          "output_type": "error",
          "ename": "AttributeError",
          "evalue": "ignored",
          "traceback": [
            "\u001b[0;31m---------------------------------------------------------------------------\u001b[0m",
            "\u001b[0;31mAttributeError\u001b[0m                            Traceback (most recent call last)",
            "\u001b[0;32m<ipython-input-59-90a3cf013302>\u001b[0m in \u001b[0;36m<module>\u001b[0;34m()\u001b[0m\n\u001b[1;32m      6\u001b[0m \u001b[0;34m\u001b[0m\u001b[0m\n\u001b[1;32m      7\u001b[0m \u001b[0mfit\u001b[0m\u001b[0;34m,\u001b[0m \u001b[0maxes\u001b[0m \u001b[0;34m=\u001b[0m \u001b[0mplt\u001b[0m\u001b[0;34m.\u001b[0m\u001b[0msubplots\u001b[0m\u001b[0;34m(\u001b[0m\u001b[0mnrows\u001b[0m\u001b[0;34m=\u001b[0m\u001b[0;36m2\u001b[0m\u001b[0;34m,\u001b[0m \u001b[0mncols\u001b[0m\u001b[0;34m=\u001b[0m\u001b[0;36m2\u001b[0m\u001b[0;34m,\u001b[0m\u001b[0mfigsize\u001b[0m\u001b[0;34m=\u001b[0m\u001b[0;34m(\u001b[0m\u001b[0;36m5\u001b[0m\u001b[0;34m,\u001b[0m\u001b[0;36m3\u001b[0m\u001b[0;34m)\u001b[0m\u001b[0;34m)\u001b[0m\u001b[0;34m\u001b[0m\u001b[0;34m\u001b[0m\u001b[0m\n\u001b[0;32m----> 8\u001b[0;31m \u001b[0maxes\u001b[0m\u001b[0;34m[\u001b[0m\u001b[0;36m0\u001b[0m\u001b[0;34m]\u001b[0m\u001b[0;34m.\u001b[0m\u001b[0mplot\u001b[0m\u001b[0;34m(\u001b[0m\u001b[0mx1\u001b[0m\u001b[0;34m,\u001b[0m\u001b[0my1\u001b[0m\u001b[0;34m)\u001b[0m\u001b[0;34m\u001b[0m\u001b[0;34m\u001b[0m\u001b[0m\n\u001b[0m\u001b[1;32m      9\u001b[0m \u001b[0maxes\u001b[0m\u001b[0;34m[\u001b[0m\u001b[0;36m2\u001b[0m\u001b[0;34m]\u001b[0m\u001b[0;34m.\u001b[0m\u001b[0mplot\u001b[0m\u001b[0;34m(\u001b[0m\u001b[0mx2\u001b[0m\u001b[0;34m,\u001b[0m\u001b[0my2\u001b[0m\u001b[0;34m)\u001b[0m\u001b[0;34m\u001b[0m\u001b[0;34m\u001b[0m\u001b[0m\n\u001b[1;32m     10\u001b[0m \u001b[0;34m\u001b[0m\u001b[0m\n",
            "\u001b[0;31mAttributeError\u001b[0m: 'numpy.ndarray' object has no attribute 'plot'"
          ]
        },
        {
          "output_type": "display_data",
          "data": {
            "image/png": "[encoded data removed]",
            "text/plain": [
              "<Figure size 360x216 with 4 Axes>"
            ]
          },
          "metadata": {
            "tags": []
          }
        }
      ]
    },
    {
      "cell_type": "code",
      "metadata": {
        "id": "EUB59fC2r4oI",
        "colab_type": "code",
        "colab": {}
      },
      "source": [
        ""
      ],
      "execution_count": 0,
      "outputs": []
    }
  ]
}