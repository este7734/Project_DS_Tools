{
  "nbformat": 4,
  "nbformat_minor": 0,
  "metadata": {
    "kernelspec": {
      "name": "python3",
      "display_name": "Python 3"
    },
    "language_info": {
      "codemirror_mode": {
        "name": "ipython",
        "version": 3
      },
      "file_extension": ".py",
      "mimetype": "text/x-python",
      "name": "python",
      "nbconvert_exporter": "python",
      "pygments_lexer": "ipython3",
      "version": "3.6.3"
    },
    "colab": {
      "name": "MST698S_German_NLP_Welt_Site2.ipynb",
      "provenance": [],
      "collapsed_sections": [
        "LBcufb8pYTm2"
      ],
      "toc_visible": true,
      "include_colab_link": true
    },
    "accelerator": "GPU"
  },
  "cells": [
    {
      "cell_type": "markdown",
      "metadata": {
        "id": "view-in-github",
        "colab_type": "text"
      },
      "source": [
        "<a href=\"https://colab.research.google.com/github/este7734/Project_DS_Tools/blob/master/NLP/MST698S_German_NLP_Welt_Site2.ipynb\" target=\"_parent\"><img src=\"https://colab.research.google.com/assets/colab-badge.svg\" alt=\"Open In Colab\"/></a>"
      ]
    },
    {
      "cell_type": "markdown",
      "metadata": {
        "id": "BN9ohTbVivxQ",
        "colab_type": "text"
      },
      "source": [
        "# Data Science Tools and Techniques\n",
        "\n",
        "# Natural Language Processing Exercise"
      ]
    },
    {
      "cell_type": "markdown",
      "metadata": {
        "id": "LpEihNNDivxV",
        "colab_type": "text"
      },
      "source": [
        "Perform the tasks below to demonstrate your understanding of NLP.  You may reference the TextBlob documentation here:\n",
        "\n",
        "https://textblob.readthedocs.io/en/dev/"
      ]
    },
    {
      "cell_type": "markdown",
      "metadata": {
        "id": "eA8rFBFLivxY",
        "colab_type": "text"
      },
      "source": [
        "Natural Language Processing is a very versatile tool in data science.  Among other things, it can be used to quantitate the affect, or emotional content, of text.  This technique is called sentiment analysis, and is often used in industry to measure how customers feel about a particular company or product.\n",
        "\n",
        "Sputnik is a Russian media outlet.  In this exercise, you will measure the sentiment of an English-language Sputnik article that mentions a U.S. political candidates."
      ]
    },
    {
      "cell_type": "markdown",
      "metadata": {
        "id": "GbzUuecdivxb",
        "colab_type": "raw"
      },
      "source": [
        "In the space below, specify the location of the news_text.txt file:"
      ]
    },
    {
      "cell_type": "markdown",
      "metadata": {
        "id": "LBcufb8pYTm2",
        "colab_type": "text"
      },
      "source": [
        "### <font color='green'> Save Text Files </font> to Your Temporary Colab folder"
      ]
    },
    {
      "cell_type": "code",
      "metadata": {
        "id": "SVApwG0AvGkN",
        "colab_type": "code",
        "outputId": "a2d940a5-9937-4501-f259-b4f00f9cf770",
        "colab": {
          "base_uri": "https://localhost:8080/",
          "height": 35
        }
      },
      "source": [
        "%ls # List files in the your temporary folder to verify they are there."
      ],
      "execution_count": 0,
      "outputs": [
        {
          "output_type": "stream",
          "text": [
            "\u001b[0m\u001b[01;34msample_data\u001b[0m/  welt_inv_battle.txt\n"
          ],
          "name": "stdout"
        }
      ]
    },
    {
      "cell_type": "markdown",
      "metadata": {
        "id": "GNYiFN1kYd63",
        "colab_type": "text"
      },
      "source": [
        "### <font color='green'> Read </font> in File(s) to Colab Environment"
      ]
    },
    {
      "cell_type": "code",
      "metadata": {
        "id": "AFU8dqERivxe",
        "colab_type": "code",
        "outputId": "d37b96d8-4171-4038-be6d-97c6fb843985",
        "colab": {
          "base_uri": "https://localhost:8080/",
          "height": 35
        }
      },
      "source": [
        "file1 = 'Spiegel_DuetcheBank_Trump.txt'\n",
        "file2 = 'Spiegel_Iran_Protests.txt'\n",
        "file3 = 'Spiegel_Trump_Peace_Plan.txt'\n",
        "\n",
        "file4 = 'Zeit_URL_1_Holocaust.txt'\n",
        "file5 = 'Zeit_URL_2_xenophobic_politicians.txt'\n",
        "file6 = 'Zeit_URL_3_NATO_Germany_contribution.txt'\n",
        "\n",
        "file7 = 'news_text.txt'\n",
        "file8 = 'welt_Putin_Cyberwarfare.txt'\n",
        "file9 = 'welt_inv_battle.txt'\n",
        "file_path = r'welt_inv_battle.txt'\n",
        "file_path"
      ],
      "execution_count": 0,
      "outputs": [
        {
          "output_type": "execute_result",
          "data": {
            "text/plain": [
              "'welt_inv_battle.txt'"
            ]
          },
          "metadata": {
            "tags": []
          },
          "execution_count": 6
        }
      ]
    },
    {
      "cell_type": "code",
      "metadata": {
        "id": "s4EZvBt3ivxr",
        "colab_type": "code",
        "colab": {}
      },
      "source": [
        "#open text\n",
        "def open_text(file_path):\n",
        "    with open(file_path, 'r') as document:\n",
        "        text = document.read()\n",
        "    return text"
      ],
      "execution_count": 0,
      "outputs": []
    },
    {
      "cell_type": "code",
      "metadata": {
        "id": "sv4HrFvKivx3",
        "colab_type": "code",
        "outputId": "7182647e-2a16-401b-f436-0a2458ba3454",
        "colab": {
          "base_uri": "https://localhost:8080/",
          "height": 55
        }
      },
      "source": [
        "text = open_text(file_path)\n",
        "text"
      ],
      "execution_count": 0,
      "outputs": [
        {
          "output_type": "execute_result",
          "data": {
            "text/plain": [
              "'One frosty January morning, it dawned on Laura Galante that the secret mission she’d been working on would lead her right into the heart of world politics, and soon. She was sitting in a suburb of Washington DC, in an office with white walls, empty shelves and large windows. It was the year 2013 and Galante was tired, as so often during that time. Quite apart from the difficult mission she was working on, she was also pregnant. Together with a small team she was trying to uncover something. No one besides them and their boss were allowed know about it, not even within their own company.This, it occured to Galante while a cold wind sweeped across the empty streets outside, will change my life. She was about to make a global power into a personal enemy.It was only a few months ago that she had received a phone call. A computer security company was looking for specialists able to filter specific electronic data out of a huge amount showing how exactly criminals and governments attempt to overpower other states. She didn’t have to consider for very long.The boss, Kevin Mandia, a man in his early 40s with a square face, previously a U.S. Air Force officer, had an air of fearlessness. And she had exactly what he was looking for. She was 28 years old, a fast talker and was said to think just as fast. She had a degree in Politics and Law and had previously been analysing cyber attacks in the US Department of Defence.This is how Galante became a warrior in an invisible war, the cyber war.She is now head of her department at FireEye, an American company for computer security. Her clients are companies, known worldwide by almost every child; other clients include public authorities, Ministries and Governments. All of them can potentially come under fire in this new conflict. They get attacked by dangerous and destructive weapons which can’t be seen, heard or smelled. This war isn’t loud and bloody, it is fought on screens, with keyboards and fibre optics. Whoever loses control of his computers, loses power. This is where Laura Galante comes in.Sitting at their computers, the enemies send out malware through the Internet. They send instructions to external computers, often in email attachements. This is their way to steal passwords, email correspondence and documents, mostly unnoticed; this is how they gain access to the computers of generals and ministers to record conversations; this is how hackers manipulate elections or paralyse government authorities and power stations. These are attacks meant to damage what keeps countries together at their very core: their economy, their internal security, everyday life.This conflict has intensified steadily over the last years; right now, it looks as though it might be stearing towards escalation. Espionage, sabotage, destabilisation are all happening already, every day. The question is what comes next. How long will it take until someone reprogrammes drones or sabotages a nuclear programme?Galante has a special programme on her computer which opens a map of the world. On this map, there are yellow and green arrows, moving from one country to another, from one continent to the next. This shows her where the attacks are happening, which country the attackers are in, and which country the attack is aimed at. Over the next weeks and months a lot of those arrows will be pointing to Germany. The German secret services warned the chancellery weeks ago: there will be an election in September, having an effect on the world order of the future. German government is preparing for cyber attacks  Quelle: Die Welt This means that Germany will become part of an unequal fight, where the attacked countries face a problem they didn’t have on the battlefields of the past: they’re under attack, but they don’t know who the attackers are. They are dealing with phantoms, hiding behind acronyms or pseudonyms, leaving behind red herrings and disguising their origin. Most states won’t admit that they are part of the cyber war, even less what kinds of troops or arsenal they might have at their disposal. Exposing the enemy takes months, sometimes years, if it happens at all.Governments therefore recruit their own cyber warriors and employ highly specialised companies to destroy dangerous Internet programmes, ideally before they can cause any damage. These companies have special units with hightech forensics who will even find and secure traces where supposedly there were none. Their warriors roam through the digital underworld, under false identities, in order to find incriminatory evidence. They analyse hard drives and dissect viruses and other malware; they need to find out who sent out which cyber weapons – and from where.There are hundreds of those companies worlwide. But when things become serious Laura Galante’s company is first choice. FireEye has become a power in its own right, some even say it is a kind of Blackwater of the Internet. The company has 3,200 employees, amongst them former spies, high-ranking secret service agents and US-Government employees, and it has an annual turn-over of almost 600 millionen Euros.The reputation of the company is partly down to the secret mission that Laura Galante received from her boss in January 2013. Together with her special cyber unit she managed to do something that’s rarely been done before.Nine data experts and cyber agents, as well as several undercover agents, uncovered something that up until then only extremely experienced security experts could even imagine. They exposed a very well-organised, state-run secret army, equipped with hundreds, if not thousands of cyber soldiers, which had spent years of spying on and fighting against a global power with mind-blowing precision. Back then they were working\\xa0 for a company called Mandiant, which was then taken over by FireEye.This case says a lot about the state of our world and about how cyber war works. It shows the immense effort states have to make in order to harm their enemies. Usually, no one ever hears about these battles; cyber warriors don’t talk, not least to protect themselves. But Laura Galante is prepared to tell the whole story.It was the Summer of 2012 when Mandia, her boss, came up with a plan. He’d had his company for eight years now. His computer specialists, some of them in their 30s, had grown up with a Commodore 64 or an Atari-Computer and had worked on thousands of cases. They had been called in to help when big companies were being attacked, in Europe, Asia, but mainly in the US. They analysed malware, read codes and found the server or IP-addresses of the attackers. Slowly, but surely they understood the character of the hackers and were able to reconstruct when and how they managed to infiltrate external computers. And finally, they wrote their reports for each case.Mandia knew that this meant that they had collected a whole treasure of data and information. The thing he was missing was the link connecting all these cases. A bigger picture which would show him what was really happening on the dark side of the web.He decided to employ a number of specialists from the Government, people who knew how to make sense out of a seemingly inextricable cluster of codes, commands and IP-addresses, and to extract something that would help them understand the plans and motives of the attackers better. One of his new elite soldiers was Laura Galante.She moved into an office just about big enough for a desk, a small, round coffee table for meetings and a bookshelf. On her laptop she would order and filter data, looking for similarities, and draw dozens of graphs on her flip chart to keep track. Some of her colleagues woulnd’t even bother going home anymore, they would just fall asleep on their office floors whenever they needed a rest.After a few days, and many meetings later, based on clues they found in the forensic reports and on tracks they found in the Internet, they finally had a pretty good idea who it was they were after.After examining hundreds of cases they came across a group of hackers more insatiable and bold than any they had dealt with before. This group managed to infiltrate 150 companies and organisations over the last few years. First, they were after companies like Coca-Cola or the \"New York Times\". But after a while they also started targeting governments and companies managing power supplies, gas pipes and waterworks; all things that are essential for running a country. One of those companies runs more than 60% of oil and gas pipes in the US, others included high-tech, defense and aerospace companies.The hackers were extremely disciplined. After breaking into computer networks they just settled in there for months, sometimes even years, without being noticed. Whenever they wanted something specific they seemed to know exactly where to find it. That way, they were able to steal pretty much everything that’s supposed to stay secret: business plans, calculations, contracts, technical blueprints and construction plans for new products, even for high-tech weapons. And of course emails and contacts of managers and employees.It was clear to Galante and her colleagues that they were dealing with several hundred terrabytes of data. If they were to print all of it out, they would end up with more than a billion A4-sheets, a pile much higher than the Himalayas.Galante and her colleagues were certain that only a state trying to spy on another would work in such a methodical way. It had to be a wealthy state as well: it takes a lot of money to put together a troop able to fulfill such a mission over years.Galante knew that there weren’t many possible candidates.There’s a rumour that’s been going round the government district of Washington DC, half an hour drive from her office. The US-government is said to be very concerned.\\xa0 They don’t fear the nuclear command centres in Moscow anymore, like they did in the Cold War. They now fear servers in China or Russia, being used by an army of specialists, with the knowledge of their governments – or maybe even by their command.There’s also been a dossier around for weeks, written by all of the 16 US secret services, which Galante has read. It says that there are some Chinese hacker groups operating as contractual partners of the Chinese military; and that there are also some, which are actually lead by military officers. Amongst them is supposed to be a unit number 61398, supposedly a part of the second bureau of the People’s Liberation Army, section 3.To all of Galante’s knowledge, this section hasn’t appeared in any official documents. But the forensics doing the preliminary work for Galante’s team have found something interesting.The hackers used practically the same digital high-tech weapons for all their attacks; even the way they executed their attacks had been identical. And the traces they left behind were leading to Asia.When hackers want to take over an external computer network they have to make a number of decisions. For example how to sneak in and give commands to those computers. They can deposit this information within the code of their cyber weapons. This enables them to keep direct and reliable control. Or they decide to link together several computers to clusters, so-called botnets, in which all computers constantly send out and forward commands. This leaves considerably less traces of data which could be followed by cyber warriors such as Galante and her colleagues. They are practically invisible.In this case, the hackers decided for the second option, but they still left some traces. Their codes, and the times when they stole something or updated their programmes contained information, clues, which Galante and her colleagues were able to pursue.The code of the malware was written in perfect English. But the spam emails used by the attackers to get access to external computers showed some grammatical mistakes that suggested they weren’t written by a native speaker. The fact they they worked Monday to Friday during office hours also pointed towards that fact: their working hours, almost like punching the clock, were within the time zone of China.Galante had to think about this. These were very interesting leads, but no real evidence. After all, she knew how easy it was to hide within the Internet, to put out misleading tracks. They needed more.Once more she scrolled through the forensics’ technical reports on her laptop and arranged them again using her special programme. Her colleagues started reading China’s five-year plans, which they had obtained and translated, and looked through official Chinese sources in the Internet. Slowly they started to see a pattern behind the attacks.The hackers had created an enormous machine to cover their identities; over the last couple of years alone they had used almost 1,000 command-and-control-servers and almost 900 different IP-addresses. Almost all the parts of this machine, the servers and the IP-addresses were registered in China. The data also showed that the hackers mainly used two big servers to control their attacks. These were also located in China, in Pudong, a suburb in the North-East of Shanghai.In that suburb stands a white high-rise building which had made Galante curious. It has 12 floors and is surrounded by restaurants, massage parlours and a wine merchant. It is like a tower with narrow windows like loopholes. The tower is secured with surveillance cameras and to get in you have to go through security first. There are pictures and videos on the Internet which show a conspicuous amount of young men in dark green uniforms in front of the tower – the uniforms of Chinese soldiers.Galante and her colleagues had a suspicion that seemed outrageous: This tower, they believed, could be the seat of the ominous unit 61398, a command centre and one of the largest arms factories of cyber war worldwide. In some remote corners of the Internet they found further evidence that the hackers were working under Chinese military – and therefore the government in Beijing. They had to use special programmes again to restore old version of some websites which had been overwritten.One document that seemed of particular value was an internal letter of a Chinese telecommunications company. Galante could hardly believe what it said.The Chinese military, it’s unit 61398, had built the tower only a few years back as Galante’s colleagues found out through satellite pictures which showed the different building phases. But the letter said that the tower had been given special technical equipment, so secure that all telephone calls and emails of the military would stay confidential. The tower had a\\xa0 floor space of 130.000 sqm, enough space for about 2,000 employees.This letter made Galante’s most important speculations into certainties. To top this, they also found out that unit 61398 was hiring the best computer scientists and IT-technicians from well-known elite universities and put special value on good knowledge of the English language.One late night in the office of a colleague and friend, Galante asked him the question: \"How certain are you that we are drawing the right conclusions and haven’t missed anything important?“\"One hundred percent certain\", was his answer.What they found out about the tower wasn’t everything: The hightech forensics had found something else, something rare. They managed to find the human being behind one of the pseudonyms, with habits and weaknesses, one of the potential suspects. It all pointed towards the fact that he had played a key role in the attacks against the USA.He called himself \"UglyGorilla\". There were email addresses and servers registrered in that pseudonym, many of which were used for attacks against the US. He seemed to have programmed some of the cyber weapons that the hackers used himself. In his code they found a signature, with a little greeting to his victims at the end, written in bad English: \"No Doubt to Hack You, Writed by UglyGorilla\".Galante’s colleagues found an email address and restored comments that he had posted in certain forums. They worked out that \"UglyGorilla\" had been active in the digital underground since at least 2004. Still, he made a mistake that shouldn’t really happen to an experienced professional like him. He started to leave a signature behind, sometimes even a name: Jack Wang. Maybe he was so sure of himself that he thought no one would ever catch him; maybe he just didn’t care. Galante and her colleagues thought it possible that Jack Wang was his real name.Most importantly, his tracks and those of two other hackers called \"dota\" and \"SuperHard\", which came up in many of the investigators’ reports, lead to Shanghai, directly to the white tower.A little more than three weeks later, Laura Galante sat down in her office chair in a thoughtful mood. She was certain that they had everything they needed. Again and again she had drawn graphs on her flip chart, trying to find the bigger picture behind all the details, clues and suspicions. She had come across contradictions, inconsistencies. She had sat in countless meetings with her team, doubting their own results, checking everything over and over. Now, finally, everything seems to fit.The facts didn’t leave any more room for reasonable doubt. The phantom they had been hunting was a Chinese cyber army. But knowing the truth was one thing; it was quite another to say it out loud. This was the moment when the cyber war would leave the digital world and their results would have real consequences.They had caught a global power in the act of spying on another global power, the United States of America, their country, on a jaw-dropping level. They had summed up their results in a report, 74 pages long. Their boss seemed determined to publish the report. It would expose the Chinese government in front of the whole world. They would of course deny everything and try to make it look like a big American conspiracy against them. Their relationship with the US was, after all, already very tense.This meant that Laura Galante and her colleagues, employees of a private enterprise company for computer safety, would get involved in world politicsWhat a huge responsibility, was all Galante could think.Kevin Mandia, her boss, was also nervous. With all he knew now, China could easily ruin his company, or harm him and his employees personally. If the Chinese cyber army were to take on his company, they would be so busy to fight them off that there would be no time left for their daily business. Or, even worse, there would be pictures of his undercover investigators all over the Internet. A company for computer safety that isn’t able to protect itself would be finished in no time.But Mandia simply couldn’t forget the anger he felt every time China denied unapologetically fighting the US in cyber space. He was a patriot, had left the Air Force because he couldn’t stand the rigid hierarchy. What his people had found out didn’t leave him any choice, he felt. Of course it was possible that he would harm his own country; but it was also possible that he would do it a great service.He didn’t have to wait too long for an opportunity. On 12 February 2013, a Tuesday, President Obama gave his government declaration in Congress, saying that America was under threat, it’s national security in danger. He talked about hackers in China and Russia who were after American technologies and companies, those that make the American military the technically leading one in the world.All of a sudden, the cyber war wasn’t just something that’s played out in secrecy anymore, watched only by a few nerds. The President of the United States had directed the attention of the American public towards the battle field of the 21st century. He talked publicly about what’s at stake, to be seen and heard by everyone, on television, the radio, the Internet.Perhaps it was a coincidence that Galante’s boss was presented with this once in a lifetime opportunity, or perhaps there was something else behind it. Either way, Mandia knew what had to be done. The report that Galante and her colleagues had been working on for weeks, summarising the experience of his cyber warriors from over six years, ended up in the \"New York Times\". They decided to make it their cover headline, one week after Obama’s speech, with a long feature on a hacker group called APT1, a cyber division of the Chinese military.Galante and her colleagues had needed a name; the acronym APT stands for \"Advanced Persistent Threat\". From then on it also stood for the fact that the US dared to publicly accuse another country of leading a cyber war against them, as clearly as it had never been done before by any state. High ranking members of the government and of the American security services proceded to confirm the facts that Galante and her team had found about China’s hackers.Four years later, February 2017. Laura Galante watches from her office in Washington DC how planes take off in short cycles, soaring up into the perfectly blue sky.\"Thank God, we got off lightly in the end\", she says. Whilst APT1 did attack her company, they clearly didn’t mean to destroy it completely. China has ceased to deny that they attack other countries with cyber weapons, and they have started diplomatic negotiations with the US. These are only words for now, but she can also see that the attacks from China have decreased considerably.Stil – China is only part of the whole truth.For quite some time now, Galante has been watching an enemy which worries her, her company and the US-governement much more than the Chinese by now. She is now constantly dealing with Russian hacker groups, called APT 28 or APT 29, Cozy Bear or Fancy Bear. Nothing seems to be able to stop them.In January 2015 the server of the Department of Defense of the USA was hacked.\\xa0 Months later the White House admitted that Russian hackers had also managed to get access to Obama’s emails.Then the French television channel TV5 Monde failed, there was only a black screen.A few weeks later a group of unkown suspects broke into the server of the German Bundestag and stole a large amount of data.Today, the National Security Authorities of several countries agree that Russian secret services were behind both cases.Then, a computer virus was discovered in a nuclear power station in Gundremmingen, Germany.Finally, in November 2016, shortly before the presidential election in the USA, emails appeared that had been stolen by hackers from the office of Democratic candidate Hillary Clinton. The whole thing grew into an affair that possibly helped swing the votes towards Donald Trump. Obama held President Vladimir Putin personally responsible, expelled 35 of his spies from the US and imposed sanctions against Russia.Galante has studied all the most important Russian hacker groups, their weapons, their methods, their goals, again and again. They say that no one in the US knows more about them. She also studied the attack on the government district in Berlin in detail; she can say the word \"Bundestag\" with hardly any accent at all by now.She would need an office at least twice the size of hers to physically show the picture of the organisation that German intelligence agents and cyber experts have created for internal use. It is full of computers, servers, domain addresses and lots of technical terms.There are times when Galante thinks about the incredibly strategic ways these Russian fighters operate in – as though controlled by an invisible power. It reminds her of the Chinese army in the white tower in Shanghai. Secret services all over the world are convinced that these Russian hackers work on behalf of Putin.\"Everything points towards that fact\", Galante agrees.However, there is an essential difference between China’s and Russia’s cyber warriors. It is the main reason why Galante is so worried. The Russian hackers are more aggressive than anything she has seen before. They have attacked ministries all over the world, military networks, embassies and arms factories. They don’t only spy, or steal secret documents, they manipulate elections and fabricate false news in order to put pressure on other governments.Galante sees an arms race developing in cyber space, capable to unhinge the whole world. The president of the United States is under suspicion to have knowingly used the support of a Russian army of hackers to win the election. And the next aim of those Russian cyber warriors in their invisible war is likely to be Germany. The government district in Berlin and the party headquarters will be their target, everyone from German agencies and politicians to Galante herself agree on that.Just recently one of the investigators came to Berlin and Frankfurt to get a better idea of the situation. When he came back, he had also learned to say a German word without accent. The word was \"Angst\" - fear.'"
            ]
          },
          "metadata": {
            "tags": []
          },
          "execution_count": 8
        }
      ]
    },
    {
      "cell_type": "markdown",
      "metadata": {
        "id": "fXKR8_FSX0K9",
        "colab_type": "text"
      },
      "source": [
        "## <font color='green'> Import </font> Dependencies"
      ]
    },
    {
      "cell_type": "code",
      "metadata": {
        "id": "6cVForAwivyC",
        "colab_type": "code",
        "outputId": "d134f815-81cc-4dd4-d313-ccfcc434c7c9",
        "colab": {
          "base_uri": "https://localhost:8080/",
          "height": 72
        }
      },
      "source": [
        "from textblob import TextBlob\n",
        "import numpy as np\n",
        "import matplotlib.pyplot as plt\n",
        "\n",
        "# Import these dependencies if using Google Colab \n",
        "import nltk\n",
        "nltk.download('punkt')"
      ],
      "execution_count": 0,
      "outputs": [
        {
          "output_type": "stream",
          "text": [
            "[nltk_data] Downloading package punkt to /root/nltk_data...\n",
            "[nltk_data]   Unzipping tokenizers/punkt.zip.\n"
          ],
          "name": "stdout"
        },
        {
          "output_type": "execute_result",
          "data": {
            "text/plain": [
              "True"
            ]
          },
          "metadata": {
            "tags": []
          },
          "execution_count": 9
        }
      ]
    },
    {
      "cell_type": "markdown",
      "metadata": {
        "id": "oO3zXBmNX955",
        "colab_type": "text"
      },
      "source": [
        "### <font color='skyblue'> Ingest </font> Text to Analyze"
      ]
    },
    {
      "cell_type": "code",
      "metadata": {
        "id": "mpFugUBuivyJ",
        "colab_type": "code",
        "colab": {}
      },
      "source": [
        "blob = TextBlob(text)"
      ],
      "execution_count": 0,
      "outputs": []
    },
    {
      "cell_type": "markdown",
      "metadata": {
        "id": "id4xUyUDivyQ",
        "colab_type": "text"
      },
      "source": [
        "Now that you have instatiated your text as a TextBlob object, you can perform text manipulations.  First, let's generate a list of all sentences in your TextBlob object:\n",
        "\n",
        "blob_sentences = blob.sentences\n",
        "\n",
        "Do this in the space below, and print the result (you should see a list of sentences):"
      ]
    },
    {
      "cell_type": "code",
      "metadata": {
        "id": "zdGsmdndivyS",
        "colab_type": "code",
        "outputId": "a86ad402-8bc1-4dd9-fbfe-0648dcd7e606",
        "colab": {
          "base_uri": "https://localhost:8080/",
          "height": 1000
        }
      },
      "source": [
        "blob_sentences = blob.sentences\n",
        "blob_sentences"
      ],
      "execution_count": 0,
      "outputs": [
        {
          "output_type": "execute_result",
          "data": {
            "text/plain": [
              "[Sentence(\"One frosty January morning, it dawned on Laura Galante that the secret mission she’d been working on would lead her right into the heart of world politics, and soon.\"),\n",
              " Sentence(\"She was sitting in a suburb of Washington DC, in an office with white walls, empty shelves and large windows.\"),\n",
              " Sentence(\"It was the year 2013 and Galante was tired, as so often during that time.\"),\n",
              " Sentence(\"Quite apart from the difficult mission she was working on, she was also pregnant.\"),\n",
              " Sentence(\"Together with a small team she was trying to uncover something.\"),\n",
              " Sentence(\"No one besides them and their boss were allowed know about it, not even within their own company.This, it occured to Galante while a cold wind sweeped across the empty streets outside, will change my life.\"),\n",
              " Sentence(\"She was about to make a global power into a personal enemy.It was only a few months ago that she had received a phone call.\"),\n",
              " Sentence(\"A computer security company was looking for specialists able to filter specific electronic data out of a huge amount showing how exactly criminals and governments attempt to overpower other states.\"),\n",
              " Sentence(\"She didn’t have to consider for very long.The boss, Kevin Mandia, a man in his early 40s with a square face, previously a U.S. Air Force officer, had an air of fearlessness.\"),\n",
              " Sentence(\"And she had exactly what he was looking for.\"),\n",
              " Sentence(\"She was 28 years old, a fast talker and was said to think just as fast.\"),\n",
              " Sentence(\"She had a degree in Politics and Law and had previously been analysing cyber attacks in the US Department of Defence.This is how Galante became a warrior in an invisible war, the cyber war.She is now head of her department at FireEye, an American company for computer security.\"),\n",
              " Sentence(\"Her clients are companies, known worldwide by almost every child; other clients include public authorities, Ministries and Governments.\"),\n",
              " Sentence(\"All of them can potentially come under fire in this new conflict.\"),\n",
              " Sentence(\"They get attacked by dangerous and destructive weapons which can’t be seen, heard or smelled.\"),\n",
              " Sentence(\"This war isn’t loud and bloody, it is fought on screens, with keyboards and fibre optics.\"),\n",
              " Sentence(\"Whoever loses control of his computers, loses power.\"),\n",
              " Sentence(\"This is where Laura Galante comes in.Sitting at their computers, the enemies send out malware through the Internet.\"),\n",
              " Sentence(\"They send instructions to external computers, often in email attachements.\"),\n",
              " Sentence(\"This is their way to steal passwords, email correspondence and documents, mostly unnoticed; this is how they gain access to the computers of generals and ministers to record conversations; this is how hackers manipulate elections or paralyse government authorities and power stations.\"),\n",
              " Sentence(\"These are attacks meant to damage what keeps countries together at their very core: their economy, their internal security, everyday life.This conflict has intensified steadily over the last years; right now, it looks as though it might be stearing towards escalation.\"),\n",
              " Sentence(\"Espionage, sabotage, destabilisation are all happening already, every day.\"),\n",
              " Sentence(\"The question is what comes next.\"),\n",
              " Sentence(\"How long will it take until someone reprogrammes drones or sabotages a nuclear programme?Galante has a special programme on her computer which opens a map of the world.\"),\n",
              " Sentence(\"On this map, there are yellow and green arrows, moving from one country to another, from one continent to the next.\"),\n",
              " Sentence(\"This shows her where the attacks are happening, which country the attackers are in, and which country the attack is aimed at.\"),\n",
              " Sentence(\"Over the next weeks and months a lot of those arrows will be pointing to Germany.\"),\n",
              " Sentence(\"The German secret services warned the chancellery weeks ago: there will be an election in September, having an effect on the world order of the future.\"),\n",
              " Sentence(\"German government is preparing for cyber attacks  Quelle: Die Welt This means that Germany will become part of an unequal fight, where the attacked countries face a problem they didn’t have on the battlefields of the past: they’re under attack, but they don’t know who the attackers are.\"),\n",
              " Sentence(\"They are dealing with phantoms, hiding behind acronyms or pseudonyms, leaving behind red herrings and disguising their origin.\"),\n",
              " Sentence(\"Most states won’t admit that they are part of the cyber war, even less what kinds of troops or arsenal they might have at their disposal.\"),\n",
              " Sentence(\"Exposing the enemy takes months, sometimes years, if it happens at all.Governments therefore recruit their own cyber warriors and employ highly specialised companies to destroy dangerous Internet programmes, ideally before they can cause any damage.\"),\n",
              " Sentence(\"These companies have special units with hightech forensics who will even find and secure traces where supposedly there were none.\"),\n",
              " Sentence(\"Their warriors roam through the digital underworld, under false identities, in order to find incriminatory evidence.\"),\n",
              " Sentence(\"They analyse hard drives and dissect viruses and other malware; they need to find out who sent out which cyber weapons – and from where.There are hundreds of those companies worlwide.\"),\n",
              " Sentence(\"But when things become serious Laura Galante’s company is first choice.\"),\n",
              " Sentence(\"FireEye has become a power in its own right, some even say it is a kind of Blackwater of the Internet.\"),\n",
              " Sentence(\"The company has 3,200 employees, amongst them former spies, high-ranking secret service agents and US-Government employees, and it has an annual turn-over of almost 600 millionen Euros.The reputation of the company is partly down to the secret mission that Laura Galante received from her boss in January 2013.\"),\n",
              " Sentence(\"Together with her special cyber unit she managed to do something that’s rarely been done before.Nine data experts and cyber agents, as well as several undercover agents, uncovered something that up until then only extremely experienced security experts could even imagine.\"),\n",
              " Sentence(\"They exposed a very well-organised, state-run secret army, equipped with hundreds, if not thousands of cyber soldiers, which had spent years of spying on and fighting against a global power with mind-blowing precision.\"),\n",
              " Sentence(\"Back then they were working  for a company called Mandiant, which was then taken over by FireEye.This case says a lot about the state of our world and about how cyber war works.\"),\n",
              " Sentence(\"It shows the immense effort states have to make in order to harm their enemies.\"),\n",
              " Sentence(\"Usually, no one ever hears about these battles; cyber warriors don’t talk, not least to protect themselves.\"),\n",
              " Sentence(\"But Laura Galante is prepared to tell the whole story.It was the Summer of 2012 when Mandia, her boss, came up with a plan.\"),\n",
              " Sentence(\"He’d had his company for eight years now.\"),\n",
              " Sentence(\"His computer specialists, some of them in their 30s, had grown up with a Commodore 64 or an Atari-Computer and had worked on thousands of cases.\"),\n",
              " Sentence(\"They had been called in to help when big companies were being attacked, in Europe, Asia, but mainly in the US.\"),\n",
              " Sentence(\"They analysed malware, read codes and found the server or IP-addresses of the attackers.\"),\n",
              " Sentence(\"Slowly, but surely they understood the character of the hackers and were able to reconstruct when and how they managed to infiltrate external computers.\"),\n",
              " Sentence(\"And finally, they wrote their reports for each case.Mandia knew that this meant that they had collected a whole treasure of data and information.\"),\n",
              " Sentence(\"The thing he was missing was the link connecting all these cases.\"),\n",
              " Sentence(\"A bigger picture which would show him what was really happening on the dark side of the web.He decided to employ a number of specialists from the Government, people who knew how to make sense out of a seemingly inextricable cluster of codes, commands and IP-addresses, and to extract something that would help them understand the plans and motives of the attackers better.\"),\n",
              " Sentence(\"One of his new elite soldiers was Laura Galante.She moved into an office just about big enough for a desk, a small, round coffee table for meetings and a bookshelf.\"),\n",
              " Sentence(\"On her laptop she would order and filter data, looking for similarities, and draw dozens of graphs on her flip chart to keep track.\"),\n",
              " Sentence(\"Some of her colleagues woulnd’t even bother going home anymore, they would just fall asleep on their office floors whenever they needed a rest.After a few days, and many meetings later, based on clues they found in the forensic reports and on tracks they found in the Internet, they finally had a pretty good idea who it was they were after.After examining hundreds of cases they came across a group of hackers more insatiable and bold than any they had dealt with before.\"),\n",
              " Sentence(\"This group managed to infiltrate 150 companies and organisations over the last few years.\"),\n",
              " Sentence(\"First, they were after companies like Coca-Cola or the \"New York Times\".\"),\n",
              " Sentence(\"But after a while they also started targeting governments and companies managing power supplies, gas pipes and waterworks; all things that are essential for running a country.\"),\n",
              " Sentence(\"One of those companies runs more than 60% of oil and gas pipes in the US, others included high-tech, defense and aerospace companies.The hackers were extremely disciplined.\"),\n",
              " Sentence(\"After breaking into computer networks they just settled in there for months, sometimes even years, without being noticed.\"),\n",
              " Sentence(\"Whenever they wanted something specific they seemed to know exactly where to find it.\"),\n",
              " Sentence(\"That way, they were able to steal pretty much everything that’s supposed to stay secret: business plans, calculations, contracts, technical blueprints and construction plans for new products, even for high-tech weapons.\"),\n",
              " Sentence(\"And of course emails and contacts of managers and employees.It was clear to Galante and her colleagues that they were dealing with several hundred terrabytes of data.\"),\n",
              " Sentence(\"If they were to print all of it out, they would end up with more than a billion A4-sheets, a pile much higher than the Himalayas.Galante and her colleagues were certain that only a state trying to spy on another would work in such a methodical way.\"),\n",
              " Sentence(\"It had to be a wealthy state as well: it takes a lot of money to put together a troop able to fulfill such a mission over years.Galante knew that there weren’t many possible candidates.There’s a rumour that’s been going round the government district of Washington DC, half an hour drive from her office.\"),\n",
              " Sentence(\"The US-government is said to be very concerned.\"),\n",
              " Sentence(\"They don’t fear the nuclear command centres in Moscow anymore, like they did in the Cold War.\"),\n",
              " Sentence(\"They now fear servers in China or Russia, being used by an army of specialists, with the knowledge of their governments – or maybe even by their command.There’s also been a dossier around for weeks, written by all of the 16 US secret services, which Galante has read.\"),\n",
              " Sentence(\"It says that there are some Chinese hacker groups operating as contractual partners of the Chinese military; and that there are also some, which are actually lead by military officers.\"),\n",
              " Sentence(\"Amongst them is supposed to be a unit number 61398, supposedly a part of the second bureau of the People’s Liberation Army, section 3.To all of Galante’s knowledge, this section hasn’t appeared in any official documents.\"),\n",
              " Sentence(\"But the forensics doing the preliminary work for Galante’s team have found something interesting.The hackers used practically the same digital high-tech weapons for all their attacks; even the way they executed their attacks had been identical.\"),\n",
              " Sentence(\"And the traces they left behind were leading to Asia.When hackers want to take over an external computer network they have to make a number of decisions.\"),\n",
              " Sentence(\"For example how to sneak in and give commands to those computers.\"),\n",
              " Sentence(\"They can deposit this information within the code of their cyber weapons.\"),\n",
              " Sentence(\"This enables them to keep direct and reliable control.\"),\n",
              " Sentence(\"Or they decide to link together several computers to clusters, so-called botnets, in which all computers constantly send out and forward commands.\"),\n",
              " Sentence(\"This leaves considerably less traces of data which could be followed by cyber warriors such as Galante and her colleagues.\"),\n",
              " Sentence(\"They are practically invisible.In this case, the hackers decided for the second option, but they still left some traces.\"),\n",
              " Sentence(\"Their codes, and the times when they stole something or updated their programmes contained information, clues, which Galante and her colleagues were able to pursue.The code of the malware was written in perfect English.\"),\n",
              " Sentence(\"But the spam emails used by the attackers to get access to external computers showed some grammatical mistakes that suggested they weren’t written by a native speaker.\"),\n",
              " Sentence(\"The fact they they worked Monday to Friday during office hours also pointed towards that fact: their working hours, almost like punching the clock, were within the time zone of China.Galante had to think about this.\"),\n",
              " Sentence(\"These were very interesting leads, but no real evidence.\"),\n",
              " Sentence(\"After all, she knew how easy it was to hide within the Internet, to put out misleading tracks.\"),\n",
              " Sentence(\"They needed more.Once more she scrolled through the forensics’ technical reports on her laptop and arranged them again using her special programme.\"),\n",
              " Sentence(\"Her colleagues started reading China’s five-year plans, which they had obtained and translated, and looked through official Chinese sources in the Internet.\"),\n",
              " Sentence(\"Slowly they started to see a pattern behind the attacks.The hackers had created an enormous machine to cover their identities; over the last couple of years alone they had used almost 1,000 command-and-control-servers and almost 900 different IP-addresses.\"),\n",
              " Sentence(\"Almost all the parts of this machine, the servers and the IP-addresses were registered in China.\"),\n",
              " Sentence(\"The data also showed that the hackers mainly used two big servers to control their attacks.\"),\n",
              " Sentence(\"These were also located in China, in Pudong, a suburb in the North-East of Shanghai.In that suburb stands a white high-rise building which had made Galante curious.\"),\n",
              " Sentence(\"It has 12 floors and is surrounded by restaurants, massage parlours and a wine merchant.\"),\n",
              " Sentence(\"It is like a tower with narrow windows like loopholes.\"),\n",
              " Sentence(\"The tower is secured with surveillance cameras and to get in you have to go through security first.\"),\n",
              " Sentence(\"There are pictures and videos on the Internet which show a conspicuous amount of young men in dark green uniforms in front of the tower – the uniforms of Chinese soldiers.Galante and her colleagues had a suspicion that seemed outrageous: This tower, they believed, could be the seat of the ominous unit 61398, a command centre and one of the largest arms factories of cyber war worldwide.\"),\n",
              " Sentence(\"In some remote corners of the Internet they found further evidence that the hackers were working under Chinese military – and therefore the government in Beijing.\"),\n",
              " Sentence(\"They had to use special programmes again to restore old version of some websites which had been overwritten.One document that seemed of particular value was an internal letter of a Chinese telecommunications company.\"),\n",
              " Sentence(\"Galante could hardly believe what it said.The Chinese military, it’s unit 61398, had built the tower only a few years back as Galante’s colleagues found out through satellite pictures which showed the different building phases.\"),\n",
              " Sentence(\"But the letter said that the tower had been given special technical equipment, so secure that all telephone calls and emails of the military would stay confidential.\"),\n",
              " Sentence(\"The tower had a  floor space of 130.000 sqm, enough space for about 2,000 employees.This letter made Galante’s most important speculations into certainties.\"),\n",
              " Sentence(\"To top this, they also found out that unit 61398 was hiring the best computer scientists and IT-technicians from well-known elite universities and put special value on good knowledge of the English language.One late night in the office of a colleague and friend, Galante asked him the question: \"How certain are you that we are drawing the right conclusions and haven’t missed anything important?“\"One hundred percent certain\", was his answer.What they found out about the tower wasn’t everything: The hightech forensics had found something else, something rare.\"),\n",
              " Sentence(\"They managed to find the human being behind one of the pseudonyms, with habits and weaknesses, one of the potential suspects.\"),\n",
              " Sentence(\"It all pointed towards the fact that he had played a key role in the attacks against the USA.He called himself \"UglyGorilla\".\"),\n",
              " Sentence(\"There were email addresses and servers registrered in that pseudonym, many of which were used for attacks against the US.\"),\n",
              " Sentence(\"He seemed to have programmed some of the cyber weapons that the hackers used himself.\"),\n",
              " Sentence(\"In his code they found a signature, with a little greeting to his victims at the end, written in bad English: \"No Doubt to Hack You, Writed by UglyGorilla\".Galante’s colleagues found an email address and restored comments that he had posted in certain forums.\"),\n",
              " Sentence(\"They worked out that \"UglyGorilla\" had been active in the digital underground since at least 2004.\"),\n",
              " Sentence(\"Still, he made a mistake that shouldn’t really happen to an experienced professional like him.\"),\n",
              " Sentence(\"He started to leave a signature behind, sometimes even a name: Jack Wang.\"),\n",
              " Sentence(\"Maybe he was so sure of himself that he thought no one would ever catch him; maybe he just didn’t care.\"),\n",
              " Sentence(\"Galante and her colleagues thought it possible that Jack Wang was his real name.Most importantly, his tracks and those of two other hackers called \"dota\" and \"SuperHard\", which came up in many of the investigators’ reports, lead to Shanghai, directly to the white tower.A little more than three weeks later, Laura Galante sat down in her office chair in a thoughtful mood.\"),\n",
              " Sentence(\"She was certain that they had everything they needed.\"),\n",
              " Sentence(\"Again and again she had drawn graphs on her flip chart, trying to find the bigger picture behind all the details, clues and suspicions.\"),\n",
              " Sentence(\"She had come across contradictions, inconsistencies.\"),\n",
              " Sentence(\"She had sat in countless meetings with her team, doubting their own results, checking everything over and over.\"),\n",
              " Sentence(\"Now, finally, everything seems to fit.The facts didn’t leave any more room for reasonable doubt.\"),\n",
              " Sentence(\"The phantom they had been hunting was a Chinese cyber army.\"),\n",
              " Sentence(\"But knowing the truth was one thing; it was quite another to say it out loud.\"),\n",
              " Sentence(\"This was the moment when the cyber war would leave the digital world and their results would have real consequences.They had caught a global power in the act of spying on another global power, the United States of America, their country, on a jaw-dropping level.\"),\n",
              " Sentence(\"They had summed up their results in a report, 74 pages long.\"),\n",
              " Sentence(\"Their boss seemed determined to publish the report.\"),\n",
              " Sentence(\"It would expose the Chinese government in front of the whole world.\"),\n",
              " Sentence(\"They would of course deny everything and try to make it look like a big American conspiracy against them.\"),\n",
              " Sentence(\"Their relationship with the US was, after all, already very tense.This meant that Laura Galante and her colleagues, employees of a private enterprise company for computer safety, would get involved in world politicsWhat a huge responsibility, was all Galante could think.Kevin Mandia, her boss, was also nervous.\"),\n",
              " Sentence(\"With all he knew now, China could easily ruin his company, or harm him and his employees personally.\"),\n",
              " Sentence(\"If the Chinese cyber army were to take on his company, they would be so busy to fight them off that there would be no time left for their daily business.\"),\n",
              " Sentence(\"Or, even worse, there would be pictures of his undercover investigators all over the Internet.\"),\n",
              " Sentence(\"A company for computer safety that isn’t able to protect itself would be finished in no time.But Mandia simply couldn’t forget the anger he felt every time China denied unapologetically fighting the US in cyber space.\"),\n",
              " Sentence(\"He was a patriot, had left the Air Force because he couldn’t stand the rigid hierarchy.\"),\n",
              " Sentence(\"What his people had found out didn’t leave him any choice, he felt.\"),\n",
              " Sentence(\"Of course it was possible that he would harm his own country; but it was also possible that he would do it a great service.He didn’t have to wait too long for an opportunity.\"),\n",
              " Sentence(\"On 12 February 2013, a Tuesday, President Obama gave his government declaration in Congress, saying that America was under threat, it’s national security in danger.\"),\n",
              " Sentence(\"He talked about hackers in China and Russia who were after American technologies and companies, those that make the American military the technically leading one in the world.All of a sudden, the cyber war wasn’t just something that’s played out in secrecy anymore, watched only by a few nerds.\"),\n",
              " Sentence(\"The President of the United States had directed the attention of the American public towards the battle field of the 21st century.\"),\n",
              " Sentence(\"He talked publicly about what’s at stake, to be seen and heard by everyone, on television, the radio, the Internet.Perhaps it was a coincidence that Galante’s boss was presented with this once in a lifetime opportunity, or perhaps there was something else behind it.\"),\n",
              " Sentence(\"Either way, Mandia knew what had to be done.\"),\n",
              " Sentence(\"The report that Galante and her colleagues had been working on for weeks, summarising the experience of his cyber warriors from over six years, ended up in the \"New York Times\".\"),\n",
              " Sentence(\"They decided to make it their cover headline, one week after Obama’s speech, with a long feature on a hacker group called APT1, a cyber division of the Chinese military.Galante and her colleagues had needed a name; the acronym APT stands for \"Advanced Persistent Threat\".\"),\n",
              " Sentence(\"From then on it also stood for the fact that the US dared to publicly accuse another country of leading a cyber war against them, as clearly as it had never been done before by any state.\"),\n",
              " Sentence(\"High ranking members of the government and of the American security services proceded to confirm the facts that Galante and her team had found about China’s hackers.Four years later, February 2017.\"),\n",
              " Sentence(\"Laura Galante watches from her office in Washington DC how planes take off in short cycles, soaring up into the perfectly blue sky.\"),\n",
              " Sentence(\"\"Thank God, we got off lightly in the end\", she says.\"),\n",
              " Sentence(\"Whilst APT1 did attack her company, they clearly didn’t mean to destroy it completely.\"),\n",
              " Sentence(\"China has ceased to deny that they attack other countries with cyber weapons, and they have started diplomatic negotiations with the US.\"),\n",
              " Sentence(\"These are only words for now, but she can also see that the attacks from China have decreased considerably.Stil – China is only part of the whole truth.For quite some time now, Galante has been watching an enemy which worries her, her company and the US-governement much more than the Chinese by now.\"),\n",
              " Sentence(\"She is now constantly dealing with Russian hacker groups, called APT 28 or APT 29, Cozy Bear or Fancy Bear.\"),\n",
              " Sentence(\"Nothing seems to be able to stop them.In January 2015 the server of the Department of Defense of the USA was hacked.\"),\n",
              " Sentence(\"Months later the White House admitted that Russian hackers had also managed to get access to Obama’s emails.Then the French television channel TV5 Monde failed, there was only a black screen.A few weeks later a group of unkown suspects broke into the server of the German Bundestag and stole a large amount of data.Today, the National Security Authorities of several countries agree that Russian secret services were behind both cases.Then, a computer virus was discovered in a nuclear power station in Gundremmingen, Germany.Finally, in November 2016, shortly before the presidential election in the USA, emails appeared that had been stolen by hackers from the office of Democratic candidate Hillary Clinton.\"),\n",
              " Sentence(\"The whole thing grew into an affair that possibly helped swing the votes towards Donald Trump.\"),\n",
              " Sentence(\"Obama held President Vladimir Putin personally responsible, expelled 35 of his spies from the US and imposed sanctions against Russia.Galante has studied all the most important Russian hacker groups, their weapons, their methods, their goals, again and again.\"),\n",
              " Sentence(\"They say that no one in the US knows more about them.\"),\n",
              " Sentence(\"She also studied the attack on the government district in Berlin in detail; she can say the word \"Bundestag\" with hardly any accent at all by now.She would need an office at least twice the size of hers to physically show the picture of the organisation that German intelligence agents and cyber experts have created for internal use.\"),\n",
              " Sentence(\"It is full of computers, servers, domain addresses and lots of technical terms.There are times when Galante thinks about the incredibly strategic ways these Russian fighters operate in – as though controlled by an invisible power.\"),\n",
              " Sentence(\"It reminds her of the Chinese army in the white tower in Shanghai.\"),\n",
              " Sentence(\"Secret services all over the world are convinced that these Russian hackers work on behalf of Putin.\"),\n",
              " Sentence(\"\"Everything points towards that fact\", Galante agrees.However, there is an essential difference between China’s and Russia’s cyber warriors.\"),\n",
              " Sentence(\"It is the main reason why Galante is so worried.\"),\n",
              " Sentence(\"The Russian hackers are more aggressive than anything she has seen before.\"),\n",
              " Sentence(\"They have attacked ministries all over the world, military networks, embassies and arms factories.\"),\n",
              " Sentence(\"They don’t only spy, or steal secret documents, they manipulate elections and fabricate false news in order to put pressure on other governments.Galante sees an arms race developing in cyber space, capable to unhinge the whole world.\"),\n",
              " Sentence(\"The president of the United States is under suspicion to have knowingly used the support of a Russian army of hackers to win the election.\"),\n",
              " Sentence(\"And the next aim of those Russian cyber warriors in their invisible war is likely to be Germany.\"),\n",
              " Sentence(\"The government district in Berlin and the party headquarters will be their target, everyone from German agencies and politicians to Galante herself agree on that.Just recently one of the investigators came to Berlin and Frankfurt to get a better idea of the situation.\"),\n",
              " Sentence(\"When he came back, he had also learned to say a German word without accent.\"),\n",
              " Sentence(\"The word was \"Angst\" - fear.\")]"
            ]
          },
          "metadata": {
            "tags": []
          },
          "execution_count": 11
        }
      ]
    },
    {
      "cell_type": "code",
      "metadata": {
        "id": "2xN0ZSBJ510j",
        "colab_type": "code",
        "outputId": "19c6b249-68be-48c9-a993-1adca9b9e24f",
        "colab": {
          "base_uri": "https://localhost:8080/",
          "height": 35
        }
      },
      "source": [
        "# Allow user to type in key words to search the text for\n",
        "filter_list = input('Enter words to filter by separated by commas: ').title() # This is still a string... not a list yet"
      ],
      "execution_count": 0,
      "outputs": [
        {
          "output_type": "stream",
          "text": [
            "Enter words to filter by separated by commas: galante,mandia\n"
          ],
          "name": "stdout"
        }
      ]
    },
    {
      "cell_type": "markdown",
      "metadata": {
        "id": "tGJmYoaJYF_n",
        "colab_type": "text"
      },
      "source": [
        "### <font color='skyblue'> Enter </font>  Key Words to Search in Text"
      ]
    },
    {
      "cell_type": "code",
      "metadata": {
        "id": "49R1H35B7aH8",
        "colab_type": "code",
        "outputId": "fac89bc1-a68d-45e1-fa84-e67e70584a0a",
        "colab": {
          "base_uri": "https://localhost:8080/",
          "height": 35
        }
      },
      "source": [
        "fliter_list = list(filter_list) # Convert string to a list (it currently has 1 long string element of key words)\n",
        "\n",
        "f = []\n",
        "for word in (filter_list.split(\",\")):  # Split string into separate words, separate by comma\n",
        "  f.append(word)                       # Generate new list containing each key word\n",
        "f # This is now a list of key words that the user typed in"
      ],
      "execution_count": 0,
      "outputs": [
        {
          "output_type": "execute_result",
          "data": {
            "text/plain": [
              "['Galante', 'Mandia']"
            ]
          },
          "metadata": {
            "tags": []
          },
          "execution_count": 13
        }
      ]
    },
    {
      "cell_type": "markdown",
      "metadata": {
        "id": "GTNasDzQLinR",
        "colab_type": "text"
      },
      "source": [
        "## <font color='skyblue'> Search </font>  Sentences for Key Words\n",
        "\n"
      ]
    },
    {
      "cell_type": "code",
      "metadata": {
        "id": "MXjYMd1-LUrT",
        "colab_type": "code",
        "outputId": "56bd11aa-c567-4303-8f62-6e67b595aa9d",
        "colab": {
          "base_uri": "https://localhost:8080/",
          "height": 1000
        }
      },
      "source": [
        "# Instantiate list for holding the sentences\n",
        "sentences = []\n",
        "\n",
        "# Generate empty list of lists \n",
        "for i in range(len(f)):\n",
        "  sentences.append([])\n",
        "print('Here is what you just made, and empty list of lists: ', sentences, '\\n')\n",
        "\n",
        "# Generate lists of sentences for each key word and plug them into the list of lists from above            \n",
        "for i in range(len(f)):\n",
        "  for sentence in blob_sentences:\n",
        "    if f[i] in sentence:\n",
        "        sentences[i].append(sentence)\n",
        "        \n",
        "# Print number of sentences containing each key word\n",
        "# Print out all sentences containing each key word\n",
        "for i in range(len(f)):\n",
        "  print('-----------------------------------------------------------------')   \n",
        "  print('There are {} sentences in containing the word: {} '.format(len(sentences[i]), f[i]), '\\n') \n",
        "  for sentence in sentences[i]:\n",
        "      print(sentence)\n"
      ],
      "execution_count": 0,
      "outputs": [
        {
          "output_type": "stream",
          "text": [
            "Here is what you just made, and empty list of lists:  [[], []] \n",
            "\n",
            "-----------------------------------------------------------------\n",
            "There are 39 sentences in containing the word: Galante  \n",
            "\n",
            "One frosty January morning, it dawned on Laura Galante that the secret mission she’d been working on would lead her right into the heart of world politics, and soon.\n",
            "It was the year 2013 and Galante was tired, as so often during that time.\n",
            "No one besides them and their boss were allowed know about it, not even within their own company.This, it occured to Galante while a cold wind sweeped across the empty streets outside, will change my life.\n",
            "She had a degree in Politics and Law and had previously been analysing cyber attacks in the US Department of Defence.This is how Galante became a warrior in an invisible war, the cyber war.She is now head of her department at FireEye, an American company for computer security.\n",
            "This is where Laura Galante comes in.Sitting at their computers, the enemies send out malware through the Internet.\n",
            "How long will it take until someone reprogrammes drones or sabotages a nuclear programme?Galante has a special programme on her computer which opens a map of the world.\n",
            "But when things become serious Laura Galante’s company is first choice.\n",
            "The company has 3,200 employees, amongst them former spies, high-ranking secret service agents and US-Government employees, and it has an annual turn-over of almost 600 millionen Euros.The reputation of the company is partly down to the secret mission that Laura Galante received from her boss in January 2013.\n",
            "But Laura Galante is prepared to tell the whole story.It was the Summer of 2012 when Mandia, her boss, came up with a plan.\n",
            "One of his new elite soldiers was Laura Galante.She moved into an office just about big enough for a desk, a small, round coffee table for meetings and a bookshelf.\n",
            "And of course emails and contacts of managers and employees.It was clear to Galante and her colleagues that they were dealing with several hundred terrabytes of data.\n",
            "If they were to print all of it out, they would end up with more than a billion A4-sheets, a pile much higher than the Himalayas.Galante and her colleagues were certain that only a state trying to spy on another would work in such a methodical way.\n",
            "It had to be a wealthy state as well: it takes a lot of money to put together a troop able to fulfill such a mission over years.Galante knew that there weren’t many possible candidates.There’s a rumour that’s been going round the government district of Washington DC, half an hour drive from her office.\n",
            "They now fear servers in China or Russia, being used by an army of specialists, with the knowledge of their governments – or maybe even by their command.There’s also been a dossier around for weeks, written by all of the 16 US secret services, which Galante has read.\n",
            "Amongst them is supposed to be a unit number 61398, supposedly a part of the second bureau of the People’s Liberation Army, section 3.To all of Galante’s knowledge, this section hasn’t appeared in any official documents.\n",
            "But the forensics doing the preliminary work for Galante’s team have found something interesting.The hackers used practically the same digital high-tech weapons for all their attacks; even the way they executed their attacks had been identical.\n",
            "This leaves considerably less traces of data which could be followed by cyber warriors such as Galante and her colleagues.\n",
            "Their codes, and the times when they stole something or updated their programmes contained information, clues, which Galante and her colleagues were able to pursue.The code of the malware was written in perfect English.\n",
            "The fact they they worked Monday to Friday during office hours also pointed towards that fact: their working hours, almost like punching the clock, were within the time zone of China.Galante had to think about this.\n",
            "These were also located in China, in Pudong, a suburb in the North-East of Shanghai.In that suburb stands a white high-rise building which had made Galante curious.\n",
            "There are pictures and videos on the Internet which show a conspicuous amount of young men in dark green uniforms in front of the tower – the uniforms of Chinese soldiers.Galante and her colleagues had a suspicion that seemed outrageous: This tower, they believed, could be the seat of the ominous unit 61398, a command centre and one of the largest arms factories of cyber war worldwide.\n",
            "Galante could hardly believe what it said.The Chinese military, it’s unit 61398, had built the tower only a few years back as Galante’s colleagues found out through satellite pictures which showed the different building phases.\n",
            "The tower had a  floor space of 130.000 sqm, enough space for about 2,000 employees.This letter made Galante’s most important speculations into certainties.\n",
            "To top this, they also found out that unit 61398 was hiring the best computer scientists and IT-technicians from well-known elite universities and put special value on good knowledge of the English language.One late night in the office of a colleague and friend, Galante asked him the question: \"How certain are you that we are drawing the right conclusions and haven’t missed anything important?“\"One hundred percent certain\", was his answer.What they found out about the tower wasn’t everything: The hightech forensics had found something else, something rare.\n",
            "In his code they found a signature, with a little greeting to his victims at the end, written in bad English: \"No Doubt to Hack You, Writed by UglyGorilla\".Galante’s colleagues found an email address and restored comments that he had posted in certain forums.\n",
            "Galante and her colleagues thought it possible that Jack Wang was his real name.Most importantly, his tracks and those of two other hackers called \"dota\" and \"SuperHard\", which came up in many of the investigators’ reports, lead to Shanghai, directly to the white tower.A little more than three weeks later, Laura Galante sat down in her office chair in a thoughtful mood.\n",
            "Their relationship with the US was, after all, already very tense.This meant that Laura Galante and her colleagues, employees of a private enterprise company for computer safety, would get involved in world politicsWhat a huge responsibility, was all Galante could think.Kevin Mandia, her boss, was also nervous.\n",
            "He talked publicly about what’s at stake, to be seen and heard by everyone, on television, the radio, the Internet.Perhaps it was a coincidence that Galante’s boss was presented with this once in a lifetime opportunity, or perhaps there was something else behind it.\n",
            "The report that Galante and her colleagues had been working on for weeks, summarising the experience of his cyber warriors from over six years, ended up in the \"New York Times\".\n",
            "They decided to make it their cover headline, one week after Obama’s speech, with a long feature on a hacker group called APT1, a cyber division of the Chinese military.Galante and her colleagues had needed a name; the acronym APT stands for \"Advanced Persistent Threat\".\n",
            "High ranking members of the government and of the American security services proceded to confirm the facts that Galante and her team had found about China’s hackers.Four years later, February 2017.\n",
            "Laura Galante watches from her office in Washington DC how planes take off in short cycles, soaring up into the perfectly blue sky.\n",
            "These are only words for now, but she can also see that the attacks from China have decreased considerably.Stil – China is only part of the whole truth.For quite some time now, Galante has been watching an enemy which worries her, her company and the US-governement much more than the Chinese by now.\n",
            "Obama held President Vladimir Putin personally responsible, expelled 35 of his spies from the US and imposed sanctions against Russia.Galante has studied all the most important Russian hacker groups, their weapons, their methods, their goals, again and again.\n",
            "It is full of computers, servers, domain addresses and lots of technical terms.There are times when Galante thinks about the incredibly strategic ways these Russian fighters operate in – as though controlled by an invisible power.\n",
            "\"Everything points towards that fact\", Galante agrees.However, there is an essential difference between China’s and Russia’s cyber warriors.\n",
            "It is the main reason why Galante is so worried.\n",
            "They don’t only spy, or steal secret documents, they manipulate elections and fabricate false news in order to put pressure on other governments.Galante sees an arms race developing in cyber space, capable to unhinge the whole world.\n",
            "The government district in Berlin and the party headquarters will be their target, everyone from German agencies and politicians to Galante herself agree on that.Just recently one of the investigators came to Berlin and Frankfurt to get a better idea of the situation.\n",
            "-----------------------------------------------------------------\n",
            "There are 7 sentences in containing the word: Mandia  \n",
            "\n",
            "She didn’t have to consider for very long.The boss, Kevin Mandia, a man in his early 40s with a square face, previously a U.S. Air Force officer, had an air of fearlessness.\n",
            "Back then they were working  for a company called Mandiant, which was then taken over by FireEye.This case says a lot about the state of our world and about how cyber war works.\n",
            "But Laura Galante is prepared to tell the whole story.It was the Summer of 2012 when Mandia, her boss, came up with a plan.\n",
            "And finally, they wrote their reports for each case.Mandia knew that this meant that they had collected a whole treasure of data and information.\n",
            "Their relationship with the US was, after all, already very tense.This meant that Laura Galante and her colleagues, employees of a private enterprise company for computer safety, would get involved in world politicsWhat a huge responsibility, was all Galante could think.Kevin Mandia, her boss, was also nervous.\n",
            "A company for computer safety that isn’t able to protect itself would be finished in no time.But Mandia simply couldn’t forget the anger he felt every time China denied unapologetically fighting the US in cyber space.\n",
            "Either way, Mandia knew what had to be done.\n"
          ],
          "name": "stdout"
        }
      ]
    },
    {
      "cell_type": "markdown",
      "metadata": {
        "id": "MwLPnUsBLmjI",
        "colab_type": "text"
      },
      "source": [
        "\n",
        "\n",
        "---\n",
        "\n",
        "\n",
        "\n",
        "\n",
        "\n"
      ]
    },
    {
      "cell_type": "markdown",
      "metadata": {
        "id": "_PJsXX2zFVZC",
        "colab_type": "text"
      },
      "source": [
        "## Print <font color='skyblue'> Statistics </font> "
      ]
    },
    {
      "cell_type": "code",
      "metadata": {
        "id": "q4b-c7vyivyo",
        "colab_type": "code",
        "outputId": "02fecc7e-7808-4bd3-af92-946d8b7d425b",
        "colab": {
          "base_uri": "https://localhost:8080/",
          "height": 53
        }
      },
      "source": [
        "print('Article', blob.sentiment) # Overall article sentiment\n",
        "pol = blob.sentiment[0]\n",
        "sub = blob.sentiment[1]\n",
        "bailey_sent = pol*sub\n",
        "print('This is the Bailey Sentiment: {}'.format(bailey_sent))"
      ],
      "execution_count": 0,
      "outputs": [
        {
          "output_type": "stream",
          "text": [
            "Article Sentiment(polarity=0.05388877280585204, subjectivity=0.4061334794193703)\n",
            "This is the Bailey Sentiment: 0.02188603480128063\n"
          ],
          "name": "stdout"
        }
      ]
    },
    {
      "cell_type": "code",
      "metadata": {
        "id": "TvmVrqVxbAqb",
        "colab_type": "code",
        "outputId": "d4152486-adca-464e-85af-c22ce51cd857",
        "colab": {
          "base_uri": "https://localhost:8080/",
          "height": 982
        }
      },
      "source": [
        "# Print out sentiment values for each key word\n",
        "print('Sentence | Polarity | Subjectivity | Sentiment | Avg Sentiment')\n",
        "for i in range(len(f)):\n",
        "  print('\\n----------------------', f[i], '--------------------------------')\n",
        "  for j in range(len(sentences[i])):\n",
        "    polarity = sentences[i][j].sentiment[0]\n",
        "    subjectivity = sentences[i][j].sentiment[1]\n",
        "    bailey_sentiment = polarity * subjectivity\n",
        "\n",
        "    print(j, '       |', round(polarity, 2), '    |', round(subjectivity, 2), '        |', round(bailey_sentiment, 2), '     |', 'avg')\n",
        "  print('=============================================================')"
      ],
      "execution_count": 0,
      "outputs": [
        {
          "output_type": "stream",
          "text": [
            "Sentence | Polarity | Subjectivity | Sentiment | Avg Sentiment\n",
            "\n",
            "---------------------- Galante --------------------------------\n",
            "0        | -0.06     | 0.62         | -0.04      | avg\n",
            "1        | -0.4     | 0.7         | -0.28      | avg\n",
            "2        | -0.03     | 0.64         | -0.02      | avg\n",
            "3        | -0.08     | 0.08         | -0.01      | avg\n",
            "4        | 0.0     | 0.0         | 0.0      | avg\n",
            "5        | 0.15     | 0.49         | 0.07      | avg\n",
            "6        | -0.04     | 0.5         | -0.02      | avg\n",
            "7        | -0.24     | 0.42         | -0.1      | avg\n",
            "8        | 0.2     | 0.4         | 0.08      | avg\n",
            "9        | -0.06     | 0.37         | -0.02      | avg\n",
            "10        | 0.05     | 0.19         | 0.01      | avg\n",
            "11        | 0.19     | 0.61         | 0.12      | avg\n",
            "12        | 0.16     | 0.6         | 0.1      | avg\n",
            "13        | -0.4     | 0.7         | -0.28      | avg\n",
            "14        | 0.0     | 0.0         | 0.0      | avg\n",
            "15        | 0.0     | 0.06         | 0.0      | avg\n",
            "16        | -0.08     | 0.28         | -0.02      | avg\n",
            "17        | 0.5     | 0.54         | 0.27      | avg\n",
            "18        | 0.0     | 0.0         | 0.0      | avg\n",
            "19        | -0.05     | 0.5         | -0.03      | avg\n",
            "20        | -0.25     | 0.42         | -0.11      | avg\n",
            "21        | -0.08     | 0.33         | -0.03      | avg\n",
            "22        | 0.3     | 0.67         | 0.2      | avg\n",
            "23        | 0.33     | 0.56         | 0.19      | avg\n",
            "24        | -0.17     | 0.43         | -0.07      | avg\n",
            "25        | 0.14     | 0.45         | 0.06      | avg\n",
            "26        | 0.2     | 0.53         | 0.11      | avg\n",
            "27        | -0.2     | 0.38         | -0.08      | avg\n",
            "28        | 0.14     | 0.45         | 0.06      | avg\n",
            "29        | 0.24     | 0.5         | 0.12      | avg\n",
            "30        | 0.05     | 0.18         | 0.01      | avg\n",
            "31        | 0.0     | 0.2         | 0.0      | avg\n",
            "32        | 0.05     | 0.6         | 0.03      | avg\n",
            "33        | 0.28     | 0.51         | 0.14      | avg\n",
            "34        | 0.31     | 0.39         | 0.12      | avg\n",
            "35        | 0.0     | 0.3         | 0.0      | avg\n",
            "36        | 0.17     | 0.33         | 0.06      | avg\n",
            "37        | -0.09     | 0.58         | -0.05      | avg\n",
            "38        | 0.17     | 0.25         | 0.04      | avg\n",
            "=============================================================\n",
            "\n",
            "---------------------- Mandia --------------------------------\n",
            "0        | 0.04     | 0.26         | 0.01      | avg\n",
            "1        | 0.0     | 0.0         | 0.0      | avg\n",
            "2        | 0.2     | 0.4         | 0.08      | avg\n",
            "3        | 0.1     | 0.7         | 0.07      | avg\n",
            "4        | 0.2     | 0.53         | 0.11      | avg\n",
            "5        | -0.07     | 0.39         | -0.03      | avg\n",
            "6        | 0.0     | 0.0         | 0.0      | avg\n",
            "=============================================================\n"
          ],
          "name": "stdout"
        }
      ]
    },
    {
      "cell_type": "code",
      "metadata": {
        "id": "wUiWMWeYneoo",
        "colab_type": "code",
        "outputId": "e78f9bd6-a9c4-473d-a0df-a423f6848e33",
        "colab": {
          "base_uri": "https://localhost:8080/",
          "height": 72
        }
      },
      "source": [
        "# Test Section - This is used to test and see individual values to see if everything makes sense\n",
        "# Change the indicies in between the brackets to compare the different outputs\n",
        "print(sentences[0][0].sentiment)\n",
        "print(np.average(sentences[0][0].sentiment))\n",
        "print(round(np.average(sentences[0][0].sentiment), 3))"
      ],
      "execution_count": 0,
      "outputs": [
        {
          "output_type": "stream",
          "text": [
            "Sentiment(polarity=-0.05714285714285716, subjectivity=0.6178571428571429)\n",
            "0.28035714285714286\n",
            "0.28\n"
          ],
          "name": "stdout"
        }
      ]
    },
    {
      "cell_type": "markdown",
      "metadata": {
        "id": "iq9KqPFuD2Z7",
        "colab_type": "text"
      },
      "source": [
        "## Calculate <font color='yellow'> Sentiment </font>  for Each Key Word\n",
        "\n"
      ]
    },
    {
      "cell_type": "code",
      "metadata": {
        "id": "RAMTvqB3qNz5",
        "colab_type": "code",
        "outputId": "6bcd7292-25df-43b3-c8c5-f4ba7f0476c5",
        "colab": {
          "base_uri": "https://localhost:8080/",
          "height": 72
        }
      },
      "source": [
        "sentiment = [[],[],[],[],[],[]]\n",
        "print('---Average Sentiment---')\n",
        "for i in range(len(f)):\n",
        "  try:\n",
        "    for j in range(len(sentences[i])):\n",
        "      sentiment[i].append(sentences[i][j].sentiment[0] * sentences[i][j].sentiment[1])  \n",
        "      np.average(sentiment[i]) \n",
        "  except:\n",
        "    print('The List is Empty')\n",
        "  print(f[i], np.average(sentiment[i])) "
      ],
      "execution_count": 0,
      "outputs": [
        {
          "output_type": "stream",
          "text": [
            "---Average Sentiment---\n",
            "Galante 0.016330655792024064\n",
            "Mandia 0.03429831191735954\n"
          ],
          "name": "stdout"
        }
      ]
    },
    {
      "cell_type": "code",
      "metadata": {
        "id": "svccbOHJ2pp9",
        "colab_type": "code",
        "outputId": "a690329d-a56f-403a-af2c-59d0a351fbda",
        "colab": {
          "base_uri": "https://localhost:8080/",
          "height": 183
        }
      },
      "source": [
        "# Test Section - This is used to test and see individual values to see if everything makes sense\n",
        "# Change the indicies in between the brackets to compare the different outputs\n",
        "print('1', np.average(sentiment[0]))\n",
        "print('2', np.average(sentiment[1]))\n",
        "print('3', np.average(sentiment[2]))\n",
        "print('4', np.average(sentiment[3]))"
      ],
      "execution_count": 0,
      "outputs": [
        {
          "output_type": "stream",
          "text": [
            "1 0.016330655792024064\n",
            "2 0.03429831191735954\n",
            "3 nan\n",
            "4 nan\n"
          ],
          "name": "stdout"
        },
        {
          "output_type": "stream",
          "text": [
            "/usr/local/lib/python3.6/dist-packages/numpy/lib/function_base.py:393: RuntimeWarning: Mean of empty slice.\n",
            "  avg = a.mean(axis)\n",
            "/usr/local/lib/python3.6/dist-packages/numpy/core/_methods.py:161: RuntimeWarning: invalid value encountered in double_scalars\n",
            "  ret = ret.dtype.type(ret / rcount)\n"
          ],
          "name": "stderr"
        }
      ]
    },
    {
      "cell_type": "markdown",
      "metadata": {
        "id": "zeheY8NR5Wfq",
        "colab_type": "text"
      },
      "source": [
        "## <font color='orange'> Plot Resutls  </font> \n",
        "\n",
        "---\n",
        "\n"
      ]
    },
    {
      "cell_type": "code",
      "metadata": {
        "colab_type": "code",
        "outputId": "340b4889-a081-4e64-fb0e-2a22b92a3d75",
        "id": "67x90m1TBxe_",
        "colab": {
          "base_uri": "https://localhost:8080/",
          "height": 55
        }
      },
      "source": [
        "xaxis = []\n",
        "for i in range(len(sentiment[0])): # sentiment[0] is the list of sentiments for the first key word\n",
        "  xaxis.append(i)\n",
        "print(\"The xaxis is {}.\".format(xaxis))"
      ],
      "execution_count": 0,
      "outputs": [
        {
          "output_type": "stream",
          "text": [
            "The xaxis is [0, 1, 2, 3, 4, 5, 6, 7, 8, 9, 10, 11, 12, 13, 14, 15, 16, 17, 18, 19, 20, 21, 22, 23, 24, 25, 26, 27, 28, 29, 30, 31, 32, 33, 34, 35, 36, 37, 38].\n"
          ],
          "name": "stdout"
        }
      ]
    },
    {
      "cell_type": "code",
      "metadata": {
        "colab_type": "code",
        "outputId": "06958b44-9b37-478a-818d-bb43a20ea9a8",
        "id": "ttvo-BHkBy4f",
        "colab": {
          "base_uri": "https://localhost:8080/",
          "height": 313
        }
      },
      "source": [
        "plt.scatter(xaxis, sentiment[0])\n",
        "plt.grid()\n",
        "plt.title(f[0] + ' Sentiment Per Sentence', color='w')\n",
        "plt.xlabel('Sentence', color='w')\n",
        "plt.ylabel('Sentiment', color='w')\n",
        "plt.xticks(color='w')\n",
        "plt.yticks(color='w')\n",
        "plt.ylim(-1,1)"
      ],
      "execution_count": 0,
      "outputs": [
        {
          "output_type": "execute_result",
          "data": {
            "text/plain": [
              "(-1.0, 1.0)"
            ]
          },
          "metadata": {
            "tags": []
          },
          "execution_count": 22
        },
        {
          "output_type": "display_data",
          "data": {
            "image/png": "[encoded data removed]",
            "text/plain": [
              "<Figure size 432x288 with 1 Axes>"
            ]
          },
          "metadata": {
            "tags": []
          }
        }
      ]
    },
    {
      "cell_type": "code",
      "metadata": {
        "colab_type": "code",
        "outputId": "70a0c537-9854-4006-cec5-1419480b5422",
        "id": "nkvKbMWP7QTO",
        "colab": {
          "base_uri": "https://localhost:8080/",
          "height": 35
        }
      },
      "source": [
        "xaxis = []\n",
        "for i in range(len(sentiment[2])): # sentiment[0] is the list of sentiments for the first key word\n",
        "  xaxis.append(i)\n",
        "print(\"The xaxis is {}.\".format(xaxis))"
      ],
      "execution_count": 0,
      "outputs": [
        {
          "output_type": "stream",
          "text": [
            "The xaxis is [0, 1, 2, 3].\n"
          ],
          "name": "stdout"
        }
      ]
    },
    {
      "cell_type": "code",
      "metadata": {
        "colab_type": "code",
        "outputId": "4b7704e9-039a-4f25-d499-5d5cd80672e9",
        "id": "-myfLEP_7Yq0",
        "colab": {
          "base_uri": "https://localhost:8080/",
          "height": 313
        }
      },
      "source": [
        "plt.scatter(xaxis, sentiment[2])\n",
        "plt.grid()\n",
        "plt.title(f[2] + ' Sentiment Per Sentence', color='w')\n",
        "plt.xlabel('Sentence', color='w')\n",
        "plt.ylabel('Sentiment', color='w')\n",
        "plt.xticks(color='w')\n",
        "plt.yticks(color='w')\n",
        "plt.ylim(-1,1)"
      ],
      "execution_count": 0,
      "outputs": [
        {
          "output_type": "execute_result",
          "data": {
            "text/plain": [
              "(-1.0, 1.0)"
            ]
          },
          "metadata": {
            "tags": []
          },
          "execution_count": 50
        },
        {
          "output_type": "display_data",
          "data": {
            "image/png": "[encoded data removed]",
            "text/plain": [
              "<Figure size 432x288 with 1 Axes>"
            ]
          },
          "metadata": {
            "tags": []
          }
        }
      ]
    },
    {
      "cell_type": "markdown",
      "metadata": {
        "id": "siPJbaebEX90",
        "colab_type": "text"
      },
      "source": [
        "## <font color='red'> UNDER CONSTRUCTION </font> "
      ]
    },
    {
      "cell_type": "code",
      "metadata": {
        "id": "D6vAmy6hLzoA",
        "colab_type": "code",
        "outputId": "4409d981-5590-4d92-dbec-4f7a7169139e",
        "colab": {
          "base_uri": "https://localhost:8080/",
          "height": 35
        }
      },
      "source": [
        "xaxis1 = []\n",
        "for i in range(len(sentiment[0])): # sentiment[0] is the list of sentiments for the first key word\n",
        "  xaxis1.append(i)\n",
        "print(\"The xaxis is {}.\".format(xaxis1))"
      ],
      "execution_count": 0,
      "outputs": [
        {
          "output_type": "stream",
          "text": [
            "The xaxis is [0, 1, 2, 3, 4, 5].\n"
          ],
          "name": "stdout"
        }
      ]
    },
    {
      "cell_type": "code",
      "metadata": {
        "id": "QZDzNHJ59aFP",
        "colab_type": "code",
        "outputId": "eadacbfa-aed2-43e5-ae8b-a413de7ce87d",
        "colab": {
          "base_uri": "https://localhost:8080/",
          "height": 35
        }
      },
      "source": [
        "xaxis2 = []\n",
        "for i in range(len(sentiment[1])): # sentiment[0] is the list of sentiments for the first key word\n",
        "  xaxis2.append(i)\n",
        "print(\"The xaxis is {}.\".format(xaxis2))"
      ],
      "execution_count": 0,
      "outputs": [
        {
          "output_type": "stream",
          "text": [
            "The xaxis is [].\n"
          ],
          "name": "stdout"
        }
      ]
    },
    {
      "cell_type": "code",
      "metadata": {
        "id": "k7JCRyJMAVnu",
        "colab_type": "code",
        "outputId": "78cac5dc-a9b9-4bf7-b9fd-3c0d4d7063de",
        "colab": {
          "base_uri": "https://localhost:8080/",
          "height": 723
        }
      },
      "source": [
        "x1 = xaxis1 \n",
        "x2 = xaxis2\n",
        "y1 = sentiment[0]\n",
        "y2 = sentiment[2]\n",
        "\n",
        "fit, axes = plt.subplots(nrows=1, ncols=2,figsize=(10,5))\n",
        "plt.grid()\n",
        "axes[0].scatter(x1,y1)\n",
        "#plt.grid()\n",
        "axes[1].scatter(x2,y2)\n",
        "\n",
        "\n",
        "fig.tight_layout()"
      ],
      "execution_count": 0,
      "outputs": [
        {
          "output_type": "error",
          "ename": "ValueError",
          "evalue": "ignored",
          "traceback": [
            "\u001b[0;31m---------------------------------------------------------------------------\u001b[0m",
            "\u001b[0;31mValueError\u001b[0m                                Traceback (most recent call last)",
            "\u001b[0;32m<ipython-input-55-75eda9479d30>\u001b[0m in \u001b[0;36m<module>\u001b[0;34m()\u001b[0m\n\u001b[1;32m      8\u001b[0m \u001b[0maxes\u001b[0m\u001b[0;34m[\u001b[0m\u001b[0;36m0\u001b[0m\u001b[0;34m]\u001b[0m\u001b[0;34m.\u001b[0m\u001b[0mscatter\u001b[0m\u001b[0;34m(\u001b[0m\u001b[0mx1\u001b[0m\u001b[0;34m,\u001b[0m\u001b[0my1\u001b[0m\u001b[0;34m)\u001b[0m\u001b[0;34m\u001b[0m\u001b[0;34m\u001b[0m\u001b[0m\n\u001b[1;32m      9\u001b[0m \u001b[0;31m#plt.grid()\u001b[0m\u001b[0;34m\u001b[0m\u001b[0;34m\u001b[0m\u001b[0;34m\u001b[0m\u001b[0m\n\u001b[0;32m---> 10\u001b[0;31m \u001b[0maxes\u001b[0m\u001b[0;34m[\u001b[0m\u001b[0;36m1\u001b[0m\u001b[0;34m]\u001b[0m\u001b[0;34m.\u001b[0m\u001b[0mscatter\u001b[0m\u001b[0;34m(\u001b[0m\u001b[0mx2\u001b[0m\u001b[0;34m,\u001b[0m\u001b[0my2\u001b[0m\u001b[0;34m)\u001b[0m\u001b[0;34m\u001b[0m\u001b[0;34m\u001b[0m\u001b[0m\n\u001b[0m\u001b[1;32m     11\u001b[0m \u001b[0;34m\u001b[0m\u001b[0m\n\u001b[1;32m     12\u001b[0m \u001b[0;34m\u001b[0m\u001b[0m\n",
            "\u001b[0;32m/usr/local/lib/python3.6/dist-packages/matplotlib/__init__.py\u001b[0m in \u001b[0;36minner\u001b[0;34m(ax, data, *args, **kwargs)\u001b[0m\n\u001b[1;32m   1541\u001b[0m     \u001b[0;32mdef\u001b[0m \u001b[0minner\u001b[0m\u001b[0;34m(\u001b[0m\u001b[0max\u001b[0m\u001b[0;34m,\u001b[0m \u001b[0;34m*\u001b[0m\u001b[0margs\u001b[0m\u001b[0;34m,\u001b[0m \u001b[0mdata\u001b[0m\u001b[0;34m=\u001b[0m\u001b[0;32mNone\u001b[0m\u001b[0;34m,\u001b[0m \u001b[0;34m**\u001b[0m\u001b[0mkwargs\u001b[0m\u001b[0;34m)\u001b[0m\u001b[0;34m:\u001b[0m\u001b[0;34m\u001b[0m\u001b[0;34m\u001b[0m\u001b[0m\n\u001b[1;32m   1542\u001b[0m         \u001b[0;32mif\u001b[0m \u001b[0mdata\u001b[0m \u001b[0;32mis\u001b[0m \u001b[0;32mNone\u001b[0m\u001b[0;34m:\u001b[0m\u001b[0;34m\u001b[0m\u001b[0;34m\u001b[0m\u001b[0m\n\u001b[0;32m-> 1543\u001b[0;31m             \u001b[0;32mreturn\u001b[0m \u001b[0mfunc\u001b[0m\u001b[0;34m(\u001b[0m\u001b[0max\u001b[0m\u001b[0;34m,\u001b[0m \u001b[0;34m*\u001b[0m\u001b[0mmap\u001b[0m\u001b[0;34m(\u001b[0m\u001b[0msanitize_sequence\u001b[0m\u001b[0;34m,\u001b[0m \u001b[0margs\u001b[0m\u001b[0;34m)\u001b[0m\u001b[0;34m,\u001b[0m \u001b[0;34m**\u001b[0m\u001b[0mkwargs\u001b[0m\u001b[0;34m)\u001b[0m\u001b[0;34m\u001b[0m\u001b[0;34m\u001b[0m\u001b[0m\n\u001b[0m\u001b[1;32m   1544\u001b[0m \u001b[0;34m\u001b[0m\u001b[0m\n\u001b[1;32m   1545\u001b[0m         \u001b[0mbound\u001b[0m \u001b[0;34m=\u001b[0m \u001b[0mnew_sig\u001b[0m\u001b[0;34m.\u001b[0m\u001b[0mbind\u001b[0m\u001b[0;34m(\u001b[0m\u001b[0max\u001b[0m\u001b[0;34m,\u001b[0m \u001b[0;34m*\u001b[0m\u001b[0margs\u001b[0m\u001b[0;34m,\u001b[0m \u001b[0;34m**\u001b[0m\u001b[0mkwargs\u001b[0m\u001b[0;34m)\u001b[0m\u001b[0;34m\u001b[0m\u001b[0;34m\u001b[0m\u001b[0m\n",
            "\u001b[0;32m/usr/local/lib/python3.6/dist-packages/matplotlib/cbook/deprecation.py\u001b[0m in \u001b[0;36mwrapper\u001b[0;34m(*args, **kwargs)\u001b[0m\n\u001b[1;32m    356\u001b[0m                 \u001b[0;34mf\"%(removal)s.  If any parameter follows {name!r}, they \"\u001b[0m\u001b[0;34m\u001b[0m\u001b[0;34m\u001b[0m\u001b[0m\n\u001b[1;32m    357\u001b[0m                 f\"should be pass as keyword, not positionally.\")\n\u001b[0;32m--> 358\u001b[0;31m         \u001b[0;32mreturn\u001b[0m \u001b[0mfunc\u001b[0m\u001b[0;34m(\u001b[0m\u001b[0;34m*\u001b[0m\u001b[0margs\u001b[0m\u001b[0;34m,\u001b[0m \u001b[0;34m**\u001b[0m\u001b[0mkwargs\u001b[0m\u001b[0;34m)\u001b[0m\u001b[0;34m\u001b[0m\u001b[0;34m\u001b[0m\u001b[0m\n\u001b[0m\u001b[1;32m    359\u001b[0m \u001b[0;34m\u001b[0m\u001b[0m\n\u001b[1;32m    360\u001b[0m     \u001b[0;32mreturn\u001b[0m \u001b[0mwrapper\u001b[0m\u001b[0;34m\u001b[0m\u001b[0;34m\u001b[0m\u001b[0m\n",
            "\u001b[0;32m/usr/local/lib/python3.6/dist-packages/matplotlib/axes/_axes.py\u001b[0m in \u001b[0;36mscatter\u001b[0;34m(self, x, y, s, c, marker, cmap, norm, vmin, vmax, alpha, linewidths, verts, edgecolors, plotnonfinite, **kwargs)\u001b[0m\n\u001b[1;32m   4378\u001b[0m         \u001b[0my\u001b[0m \u001b[0;34m=\u001b[0m \u001b[0mnp\u001b[0m\u001b[0;34m.\u001b[0m\u001b[0mma\u001b[0m\u001b[0;34m.\u001b[0m\u001b[0mravel\u001b[0m\u001b[0;34m(\u001b[0m\u001b[0my\u001b[0m\u001b[0;34m)\u001b[0m\u001b[0;34m\u001b[0m\u001b[0;34m\u001b[0m\u001b[0m\n\u001b[1;32m   4379\u001b[0m         \u001b[0;32mif\u001b[0m \u001b[0mx\u001b[0m\u001b[0;34m.\u001b[0m\u001b[0msize\u001b[0m \u001b[0;34m!=\u001b[0m \u001b[0my\u001b[0m\u001b[0;34m.\u001b[0m\u001b[0msize\u001b[0m\u001b[0;34m:\u001b[0m\u001b[0;34m\u001b[0m\u001b[0;34m\u001b[0m\u001b[0m\n\u001b[0;32m-> 4380\u001b[0;31m             \u001b[0;32mraise\u001b[0m \u001b[0mValueError\u001b[0m\u001b[0;34m(\u001b[0m\u001b[0;34m\"x and y must be the same size\"\u001b[0m\u001b[0;34m)\u001b[0m\u001b[0;34m\u001b[0m\u001b[0;34m\u001b[0m\u001b[0m\n\u001b[0m\u001b[1;32m   4381\u001b[0m \u001b[0;34m\u001b[0m\u001b[0m\n\u001b[1;32m   4382\u001b[0m         \u001b[0;32mif\u001b[0m \u001b[0ms\u001b[0m \u001b[0;32mis\u001b[0m \u001b[0;32mNone\u001b[0m\u001b[0;34m:\u001b[0m\u001b[0;34m\u001b[0m\u001b[0;34m\u001b[0m\u001b[0m\n",
            "\u001b[0;31mValueError\u001b[0m: x and y must be the same size"
          ]
        },
        {
          "output_type": "display_data",
          "data": {
            "image/png": "[encoded data removed]",
            "text/plain": [
              "<Figure size 720x360 with 2 Axes>"
            ]
          },
          "metadata": {
            "tags": []
          }
        }
      ]
    },
    {
      "cell_type": "code",
      "metadata": {
        "id": "7AJ160-6qg5X",
        "colab_type": "code",
        "outputId": "2c7bf350-240e-43eb-b30b-91833527434e",
        "colab": {
          "base_uri": "https://localhost:8080/",
          "height": 442
        }
      },
      "source": [
        "\n",
        "x1 = xaxis1 \n",
        "x2 = xaxis2\n",
        "y1 = sentiment[0]\n",
        "y2 = sentiment[2]\n",
        "\n",
        "fit, axes = plt.subplots(nrows=2, ncols=2,figsize=(5,3))\n",
        "axes[0].plot(x1,y1)\n",
        "axes[2].plot(x2,y2)\n",
        "\n",
        "# First Subplot\n",
        "#plt.subplot(1,2,1)\n",
        "plt.scatter(x1, y1)\n",
        "plt.grid()\n",
        "plt.title(f[0] + ' Sentiment Per Sentence', color='w')\n",
        "plt.ylabel('Sentiment', color='w')\n",
        "plt.yticks(color='w')\n",
        "plt.ylim(-1,1)\n",
        "\n",
        "# Second Subplot\n",
        "#plt.subplot(1,2,2) \n",
        "plt.scatter(x2, y2)\n",
        "plt.grid()\n",
        "plt.title(f[2] + ' Sentiment Per Sentence', color='w')\n",
        "plt.xticks(color='w')\n",
        "\n",
        "plt.xlabel('Sentence', color='w')\n",
        "plt.ylabel('Sentiment', color='w')\n",
        "\n",
        "plt.yticks(color='w')\n",
        "plt.ylim(-1,1)\n",
        "\n",
        "plt.tight_layout() # This spaces the graphs out"
      ],
      "execution_count": 0,
      "outputs": [
        {
          "output_type": "error",
          "ename": "AttributeError",
          "evalue": "ignored",
          "traceback": [
            "\u001b[0;31m---------------------------------------------------------------------------\u001b[0m",
            "\u001b[0;31mAttributeError\u001b[0m                            Traceback (most recent call last)",
            "\u001b[0;32m<ipython-input-59-90a3cf013302>\u001b[0m in \u001b[0;36m<module>\u001b[0;34m()\u001b[0m\n\u001b[1;32m      6\u001b[0m \u001b[0;34m\u001b[0m\u001b[0m\n\u001b[1;32m      7\u001b[0m \u001b[0mfit\u001b[0m\u001b[0;34m,\u001b[0m \u001b[0maxes\u001b[0m \u001b[0;34m=\u001b[0m \u001b[0mplt\u001b[0m\u001b[0;34m.\u001b[0m\u001b[0msubplots\u001b[0m\u001b[0;34m(\u001b[0m\u001b[0mnrows\u001b[0m\u001b[0;34m=\u001b[0m\u001b[0;36m2\u001b[0m\u001b[0;34m,\u001b[0m \u001b[0mncols\u001b[0m\u001b[0;34m=\u001b[0m\u001b[0;36m2\u001b[0m\u001b[0;34m,\u001b[0m\u001b[0mfigsize\u001b[0m\u001b[0;34m=\u001b[0m\u001b[0;34m(\u001b[0m\u001b[0;36m5\u001b[0m\u001b[0;34m,\u001b[0m\u001b[0;36m3\u001b[0m\u001b[0;34m)\u001b[0m\u001b[0;34m)\u001b[0m\u001b[0;34m\u001b[0m\u001b[0;34m\u001b[0m\u001b[0m\n\u001b[0;32m----> 8\u001b[0;31m \u001b[0maxes\u001b[0m\u001b[0;34m[\u001b[0m\u001b[0;36m0\u001b[0m\u001b[0;34m]\u001b[0m\u001b[0;34m.\u001b[0m\u001b[0mplot\u001b[0m\u001b[0;34m(\u001b[0m\u001b[0mx1\u001b[0m\u001b[0;34m,\u001b[0m\u001b[0my1\u001b[0m\u001b[0;34m)\u001b[0m\u001b[0;34m\u001b[0m\u001b[0;34m\u001b[0m\u001b[0m\n\u001b[0m\u001b[1;32m      9\u001b[0m \u001b[0maxes\u001b[0m\u001b[0;34m[\u001b[0m\u001b[0;36m2\u001b[0m\u001b[0;34m]\u001b[0m\u001b[0;34m.\u001b[0m\u001b[0mplot\u001b[0m\u001b[0;34m(\u001b[0m\u001b[0mx2\u001b[0m\u001b[0;34m,\u001b[0m\u001b[0my2\u001b[0m\u001b[0;34m)\u001b[0m\u001b[0;34m\u001b[0m\u001b[0;34m\u001b[0m\u001b[0m\n\u001b[1;32m     10\u001b[0m \u001b[0;34m\u001b[0m\u001b[0m\n",
            "\u001b[0;31mAttributeError\u001b[0m: 'numpy.ndarray' object has no attribute 'plot'"
          ]
        },
        {
          "output_type": "display_data",
          "data": {
            "image/png": "[encoded data removed]",
            "text/plain": [
              "<Figure size 360x216 with 4 Axes>"
            ]
          },
          "metadata": {
            "tags": []
          }
        }
      ]
    },
    {
      "cell_type": "code",
      "metadata": {
        "id": "EUB59fC2r4oI",
        "colab_type": "code",
        "colab": {}
      },
      "source": [
        ""
      ],
      "execution_count": 0,
      "outputs": []
    }
  ]
}