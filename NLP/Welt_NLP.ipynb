{
  "nbformat": 4,
  "nbformat_minor": 0,
  "metadata": {
    "kernelspec": {
      "name": "python3",
      "display_name": "Python 3"
    },
    "language_info": {
      "codemirror_mode": {
        "name": "ipython",
        "version": 3
      },
      "file_extension": ".py",
      "mimetype": "text/x-python",
      "name": "python",
      "nbconvert_exporter": "python",
      "pygments_lexer": "ipython3",
      "version": "3.6.3"
    },
    "colab": {
      "name": "Welt_NLP.ipynb",
      "provenance": [],
      "collapsed_sections": [],
      "toc_visible": true,
      "include_colab_link": true
    },
    "accelerator": "GPU"
  },
  "cells": [
    {
      "cell_type": "markdown",
      "metadata": {
        "id": "view-in-github",
        "colab_type": "text"
      },
      "source": [
        "<a href=\"https://colab.research.google.com/github/este7734/Project_DS_Tools/blob/master/NLP/Welt_NLP.ipynb\" target=\"_parent\"><img src=\"https://colab.research.google.com/assets/colab-badge.svg\" alt=\"Open In Colab\"/></a>"
      ]
    },
    {
      "cell_type": "markdown",
      "metadata": {
        "id": "3Hqev-d7c60b",
        "colab_type": "text"
      },
      "source": [
        "# Data Science Tools and Techniques\n",
        "\n",
        "# Natural Language Processing Exercise"
      ]
    },
    {
      "cell_type": "markdown",
      "metadata": {
        "id": "nj5JwApuc60k",
        "colab_type": "text"
      },
      "source": [
        "Perform the tasks below to demonstrate your understanding of NLP.  You may reference the TextBlob documentation here:\n",
        "\n",
        "https://textblob.readthedocs.io/en/dev/"
      ]
    },
    {
      "cell_type": "markdown",
      "metadata": {
        "id": "jurWgq_Ic60l",
        "colab_type": "text"
      },
      "source": [
        "Natural Language Processing is a very versatile tool in data science.  Among other things, it can be used to quantitate the affect, or emotional content, of text.  This technique is called sentiment analysis, and is often used in industry to measure how customers feel about a particular company or product.\n",
        "\n",
        "Sputnik is a Russian media outlet.  In this exercise, you will measure the sentiment of an English-language Sputnik article that mentions a U.S. political candidates."
      ]
    },
    {
      "cell_type": "markdown",
      "metadata": {
        "id": "4p4imqQnc60n",
        "colab_type": "raw"
      },
      "source": [
        "In the space below, specify the location of the news_text.txt file:"
      ]
    },
    {
      "cell_type": "code",
      "metadata": {
        "id": "JkDlA3Q2jbGQ",
        "colab_type": "code",
        "outputId": "00f9c0f4-1a5f-4b9e-9dc1-68f3588949c3",
        "colab": {
          "base_uri": "https://localhost:8080/",
          "height": 129
        }
      },
      "source": [
        "from google.colab import drive\n",
        "drive.mount('/content/drive')"
      ],
      "execution_count": 0,
      "outputs": [
        {
          "output_type": "stream",
          "text": [
            "Go to this URL in a browser: https://accounts.google.com/o/oauth2/auth?client_id=947318989803-6bn6qk8qdgf4n4g3pfee6491hc0brc4i.apps.googleusercontent.com&redirect_uri=urn%3aietf%3awg%3aoauth%3a2.0%3aoob&response_type=code&scope=email%20https%3a%2f%2fwww.googleapis.com%2fauth%2fdocs.test%20https%3a%2f%2fwww.googleapis.com%2fauth%2fdrive%20https%3a%2f%2fwww.googleapis.com%2fauth%2fdrive.photos.readonly%20https%3a%2f%2fwww.googleapis.com%2fauth%2fpeopleapi.readonly\n",
            "\n",
            "Enter your authorization code:\n",
            "··········\n",
            "Mounted at /content/drive\n"
          ],
          "name": "stdout"
        }
      ]
    },
    {
      "cell_type": "code",
      "metadata": {
        "id": "X3Q30omGjpIa",
        "colab_type": "code",
        "outputId": "cba21bd1-118a-45b2-83a6-fec322f9d4de",
        "colab": {
          "base_uri": "https://localhost:8080/",
          "height": 220
        }
      },
      "source": [
        "%cd drive/My\\ Drive/Colab\\ Notebooks/MST_698S\n",
        "%ls"
      ],
      "execution_count": 0,
      "outputs": [
        {
          "output_type": "stream",
          "text": [
            "/content/drive/My Drive/Colab Notebooks/MST_698S\n",
            "\u001b[0m\u001b[01;34mFinal_Project\u001b[0m/\n",
            "MST698S_Session2_404_is_Found.ipynb\n",
            "MST698S_Session3_Twitter_API.ipynb\n",
            "news_text.txt\n",
            "Session_2_pandas_ex.ipynb\n",
            "Session3_4_git_test.ipynb\n",
            "welt_Putin_Cyberwarfare.txt\n",
            "Working_MST698S_Derspiegel.ipynb\n",
            "Working_MST698S_Session3_Beautiful_Soup.ipynb\n",
            "Working_MST698S_Session4_NLP.ipynb\n"
          ],
          "name": "stdout"
        }
      ]
    },
    {
      "cell_type": "code",
      "metadata": {
        "id": "0Oj9L2l9c60o",
        "colab_type": "code",
        "colab": {}
      },
      "source": [
        "#file_path = r'C:\\Users\\lozan\\Desktop\\NIU\\MST_698S\\Sessions_3_4\\news_text.txt'\n",
        "file_path = r'welt_Putin_Cyberwarfare.txt'"
      ],
      "execution_count": 0,
      "outputs": []
    },
    {
      "cell_type": "markdown",
      "metadata": {
        "id": "FYdUJI2tc602",
        "colab_type": "raw"
      },
      "source": [
        "Now, the following function can be used to import the news article as a string:"
      ]
    },
    {
      "cell_type": "code",
      "metadata": {
        "id": "i2ETrIToc603",
        "colab_type": "code",
        "colab": {}
      },
      "source": [
        "#open text\n",
        "def open_text(file_path):\n",
        "    with open(file_path, 'r') as document:\n",
        "        text = document.read()\n",
        "    return text\n"
      ],
      "execution_count": 0,
      "outputs": []
    },
    {
      "cell_type": "markdown",
      "metadata": {
        "id": "0AHCmkVvc607",
        "colab_type": "raw"
      },
      "source": [
        "In the space below, use the above function to open the news_text.txt content, and print the resulting string:"
      ]
    },
    {
      "cell_type": "code",
      "metadata": {
        "id": "3SpWB-k0c61D",
        "colab_type": "code",
        "outputId": "1e1c835f-cfe5-4273-cc41-106b7a8cce9f",
        "colab": {
          "base_uri": "https://localhost:8080/",
          "height": 55
        }
      },
      "source": [
        "text = open_text(file_path)\n",
        "text"
      ],
      "execution_count": 0,
      "outputs": [
        {
          "output_type": "execute_result",
          "data": {
            "text/plain": [
              "'Maybe this story was meant to begin in a row of concrete buildings by the Russian coast of the Black Sea, in a holiday resort called Anapa, and in the office of a man who calls himself Pavel. Pavel is a man in his fifties, with grey receding hair and a slight belly showing underneath his shirt. There is a clock on the wall behind his desk with portraits of Russia’s president Vladimir Putin and his predecessor Dmitry Medvedev. Pavel manages a small telecommunications company and knows what to do if you want to have an easy life as a businessman in Russia. He also knows how tricky it is to have a client such as the baldheaded man who came into his shop about three years ago. His name was Evgeniy Mikhailovich Bogachev.Bogachev, a Russian citizen, is the creator of the computer malware “Gameover Zeus“, and the leader of a hacker network which has infected more than a million computers worldwide and robbed banks, companies and corporations of more than 1 million euros. Bogachev is at the top of America‘s list of the most wanted criminals. The FBI has put a bounty of $3 million on his head.For years now, he was pursued by criminal investigators from over ten countries, has been followed by undercover agents, tracked by both amateur nerds and professionals from the biggest companies in the computer industry, such as Dell and Microsoft. They studied the architecture of Bogachev’s cyber weapons, managed to deactivate them and arrested his helpers. But they never captured Bogachev himself.There are some photographs, published by the FBI, of a man in his early thirties with a bald head. On some he is seen on his yacht, on others he has a longhaired brunette in his arm or looks at the camera wearing big sunglasses and spotted pyjamas, which go well with the Bengal cat he’s holding like a trophy. But that’s pretty much all there is.Bogachev’s hunters call him names like Phantomas or the Master of Invisibility. They talk about how rare it is to deal with someone who leaves behind virtually no traces, digitally and in real life. The longer they are involved with his case the more convinced they are that Bogachev isn’t just another Russian cyber criminal, but part of a bigger conspiracy.The FBI and well-known forensic scientists who specialize in IT tell Die Welt they are convinced Bogachev used his malware to spy on governments and intelligence services of other countries on behalf of the Russian government. This is why, at the beginning of the year, his name was added to a sanctions list of the US government as one of 35 Russian diplomats, spies and IT companies. Most of them are thought to have been part of the plot to hack the Democratic Party last year during the American presidential election.Before Pavel can answer the question of what he really thinks about Bogachev, one of his colleagues interrupts: “People like Bogachev have to be steered in the right direction. And that is the direction that Putin needs.“ She sounds like one of those people who could not be argued out of their position. Pavel nods quietly. This is exactly what has been happening for a while.These last few months have seen a number of cases, each of which shows a pattern: Russian secret services team up with successful criminal hackers to use them as spies. In return, they guarantee that the hackers are able to continue with their business on the side, unmolested by police and prosecutors and protected from foreign investigators and intelligence agents.One example is Alexey Belan, a Russian hacker, thirty years old but with the soft face of a teenager. The USA searched for him for years, without success. Then, in 2013, he was caught by the Greek police. The US government wanted to have him extradited, but Belan managed to escape to Russia at the last minute. The latest investigations show without much doubt that Belan made a deal with the Russian authorities. The US named him again, this time for helping the Russian intelligence agency, the FSB, between 2014 and 2016 to hack Yahoo and gain access to the email accounts of journalists, government representatives and businessmen.Belan’s three helpers have also been accused. A report in the Russian media alleged that the FSB employed Dmitry Dokuchaev AKA “Forb“ as a result of his skills as a criminal hacker. The other two are said to be employees of the cyber unit of the FSB.There is also the case of Yevgeny Nikulin, a Russian computer specialist, who was arrested by the Czech authorities a year ago in a restaurant in Prague. The FBI had accused him of having stolen and then sold the sensitive data of 80 million Internet users in 2012. The USA demanded his extradition. Shortly thereafter, Russia also made an application for extradition. Could this be a coincidence? The former boss of the Czech intelligence service, Karel Randak, doesn’t think so. Nikulin, he says, knows enough to blow the cover on the whole system. “If this man decides to talk, he could reveal that hacking attacks on foreign servers are actually a part of the Russian information war.“And finally there is the case of another man, who has been kept in detention for a few months in a sandstone building in the Moscow district of Lefortovo. Ruslan Stoyanov used to be an employee of the Russian IT security company Kaspersky, where he led a department responsible for solving cyber crimes. Among other tasks, he was responsible for contacts with the Russian police and the FSB secret service. Russian authorities allege that, with the help of a female intermediary, Stovanov passed information to the American Central Intelligence Agency. But insiders say that this is pretence. It may be that Stoyanov became too dangerous – and that is what the messages he sent from his prison cell seem to suggest.Recently, he wrote on his Facebook page that there is proof that cyber criminals and employees of Russian authorities are working closely together. The state gets access to technology and information from abroad, and the criminals can continue to go on raids online, as long as they do not affect Russia.This corresponds with assessments of the situation from government officials and news services in Berlin, Paris or Washington DC. According to them, the hackers who suddenly become spies are part of a major Russian offensive designed to destabilise Western democracies. The Russian economy is bad, the people are longing for a return to their former greatness. “In the end,“ one of them says, “this is the same script as in the Cold War – with the difference that the digital world is offering a whole arsenal of new weapons.“Thus Russian hackers attack the German Bundestag, try to manipulate elections in the USA and France, steal trade secrets from foreign companies, and purposefully publish fake news through social media and internet portals to defame politicians and governments.The Chief of the General Staff of the Russian military seems to view the hacker scene of his country as a secret weapon, as Putin’s hidden reserve. In any case, the most talented cyber criminals, like Belan, Nikulin and Bogachev, have now become something like poster boys of the cyber war, young and mysterious.In Anapa, his hometown, Bogachev is a hero who stood up to the Americans and who for years has been brave enough to mock them. An employee at the local police station, for example, says that, were he to meet Bogachev again, he would pin a medal on the guy.Bogachev’s last official address is apartment 223 at 120 Lermontova street, Anapa. The building is a beige high-rise in one of the nicer parts of town. A walk of less than 20 minutes through quiet streets will take you to the sea.If you take the lift up to the 13th floor, right at the top of the building, you reach a heavy black door, which stays closed even after persistent ringing and knocking.According to neighbours, Bogachev bought several flats on this floor and combined them into a penthouse with a view of the coastline and the sea. However, they also say that they haven’t seen him in a while and that a different family now lives in the penthouse. Bogachev also owns another smaller flat in the same building with no bell on the door. Nobody opens the door there either.Bogachev is said to sometimes live on his yacht, which lies just off the coast. This is what he seems to have done in the summer of 2014, just after the FBI added his name to their list of most-wanted criminals and started a manhunt for him. But he hasn’t been seen onboard there for a while now.For the moment, it seems to his hunters that Bogachev has disappeared within the matrix, into the binary labyrinth of zeros and ones, into the command lines of his code.Bogachev was always the big unknown says a profiler who was part of the hunt. A phantom hiding behind monikers such as “Slavik“ and “lucky12345“. He never boasted about his successes on Internet forums, quite a common practice amongst hackers of his caliber. Seven years ago, he suddenly announced the end of his criminal career. That, it is now known, was another deception. In actual fact, he was developing an even more effective cyber weapon and working to become even more inconspicuous.He established a small and exclusive circle of helpers, most of them in their twenties, called the “Business Club“ which communicated over a special server. Bogachev made sure that he was the only person controlling everything. Only one person fixed technical problems in the malware: Bogachev himself or someone who used his identification. The investigators are still amazed by how perfectly organized Bogachev’s group was. And whilst the FBI managed to find pictures and the whereabouts of some of his most important accomplices – some of them lived near Donetsk, Ukraine – they still don’t know much about Bogachev, even after all these years.The few things they were relatively sure about were an email address, his name and the fact that he was living a middle-class life in Russia. There was a message Bogachev had once sent to his “Business Club“ which contained a hint that he might have been married. His programming style pointed towards someone who is a hard worker, rather than an artist, not someone who gives up easily.In the summer of 2014, specialists from the FBI and IT security companies fought continuously for almost three days to release the millions of computers Bogachev had captured to use as remote-controlled cyber weapons. Bogachev engaged them in a tough fight, programmer against programmer, to protect his programme and his secrets.In hindsight this all became clearer, says one of the investigators. Bogachev had installed a well-disguised sub-section of his malware to which only he had access. He used this sub-section to draw information from thousands of external computers about secret agents and elite police in Georgia and Turkey. He was interested in who was delivering weapons to Syria. He was looking in particular for documents from the Ukraine and the US labelled ‘strictly confidential,‘ of major political interest to Russia during the crisis in Crimea and the Syrian war.Pavel sits in his basement office and says he might not really know that much about his customer, Mr. Bogachev. When they first met, he didn’t even know who he was – he found that out later, from the television news. But one thing he is sure of: Bogachev may have made himself invisible, but he has not vanished without trace. He still has an Internet connection in both his apartments in the beige building, which are paid in full and on time each month. But there is something else.There is, he explains, a computer control system called SORM, which all Russian service providers must connect to their servers using a special device. The FSB demands this in order to have access to every computer and all the client data at all times. “We have an agreement with the FSB. They see everything.,” he says in a matter-of-fact way, as though explaining to a child that the sun rises in the morning and sets in the evening.Alexej Stotskij is waiting in the lobby of a small luxury hotel, built into a rock by the sea. He has a black full beard, neatly trimmed, and his suit looks expensive. Stotskij is the owner of the hotel, which opened recently. But he is also Evgeniy Bogachev’s lawyer; although Stotskij is keen to point out he has represented him in court in matters unrelated to cyber crime.“Bogachev is a reserved, intelligent man and a good dad,“ says Stotskij, adding that he knows where Bogachev’s wife and daughter live. Where Bogachev himself is though, he says he could only guess.The last time he saw Bogachev was two years ago. From time to time, Stotskij says he tried to call him on one of his mobile phones. But, because no one ever answers those calls, he writes messages. Bogachev reads those messages, as is evident from the little blue double ticks; but he never replies. At least that is the story according to Stotskij. And just as you start to wonder what it all means, the lawyer adds: “People like Bogachev need to be protected. They are useful for our country.“ This is why he believes his client is safe in Russia, “Just like Edward Snowden.“And Stotskij means it. To him, Bogachev, the hacker, and Snowden, the whistleblower who revealed state secrets acquired working for the American NSA secret service, are Russian soldiers of the digital age. Very few people know where either lives. And the Russian secret services, Stotskij believes, will make sure it stays that way.'"
            ]
          },
          "metadata": {
            "tags": []
          },
          "execution_count": 5
        }
      ]
    },
    {
      "cell_type": "markdown",
      "metadata": {
        "id": "R41RZxUWc61Q",
        "colab_type": "raw"
      },
      "source": [
        "Now, in the space below, import TextBlob using the following:\n",
        "\n",
        "from textblob import TextBlob"
      ]
    },
    {
      "cell_type": "code",
      "metadata": {
        "id": "jcUVcElvc61S",
        "colab_type": "code",
        "colab": {}
      },
      "source": [
        "from textblob import TextBlob"
      ],
      "execution_count": 0,
      "outputs": []
    },
    {
      "cell_type": "markdown",
      "metadata": {
        "id": "zpQqBTGpc61W",
        "colab_type": "raw"
      },
      "source": [
        "The first step is to instantiate a TextBlob object from a string of text.  This can be done as follows:\n",
        "\n",
        "blob = TextBlob(text)\n",
        "\n",
        "Instantiate the TextBlob object from the imported text in the space below, and print the result:"
      ]
    },
    {
      "cell_type": "code",
      "metadata": {
        "id": "HsTRO1Amc61X",
        "colab_type": "code",
        "colab": {}
      },
      "source": [
        "blob = TextBlob(text)"
      ],
      "execution_count": 0,
      "outputs": []
    },
    {
      "cell_type": "markdown",
      "metadata": {
        "id": "-F1JODWxc61b",
        "colab_type": "text"
      },
      "source": [
        "Now that you have instatiated your text as a TextBlob object, you can perform text manipulations.  First, let's generate a list of all sentences in your TextBlob object:\n",
        "\n",
        "blob_sentences = blob.sentences\n",
        "\n",
        "Do this in the space below, and print the result (you should see a list of sentences):"
      ]
    },
    {
      "cell_type": "code",
      "metadata": {
        "id": "2q2Oi6vic61c",
        "colab_type": "code",
        "outputId": "82dd9518-ca5e-4835-d72c-6ec0c1c8107a",
        "colab": {
          "base_uri": "https://localhost:8080/",
          "height": 54
        }
      },
      "source": [
        "import nltk\n",
        "nltk.download('punkt')\n",
        "\n",
        "blob_sentences = blob.sentences"
      ],
      "execution_count": 0,
      "outputs": [
        {
          "output_type": "stream",
          "text": [
            "[nltk_data] Downloading package punkt to /root/nltk_data...\n",
            "[nltk_data]   Unzipping tokenizers/punkt.zip.\n"
          ],
          "name": "stdout"
        }
      ]
    },
    {
      "cell_type": "markdown",
      "metadata": {
        "id": "eI-Ir29Vc61g",
        "colab_type": "raw"
      },
      "source": [
        "Now, we want to pick out sentences that specificially mention the U.S. political candidates, since we are only interested in the affect surrounding those individuals.  The candidates in question are former Vice President Joe Biden, and Senator Bernie Sanders.  First, let's filter the article sentences so that we are only analyzing sentences that mention Mr. Biden:\n",
        "\n",
        "filtered_sentences = []\n",
        "for sentence in blob_sentences:\n",
        "    if 'Biden' in sentence:\n",
        "        filtered_sentences.append(sentence)\n",
        "\n",
        "Do this in the space below, and print the result:"
      ]
    },
    {
      "cell_type": "markdown",
      "metadata": {
        "id": "au0bF3DGBbk_",
        "colab_type": "text"
      },
      "source": [
        "# Four key words by article: Putin, Bogachev, cyber, and weapon."
      ]
    },
    {
      "cell_type": "code",
      "metadata": {
        "scrolled": false,
        "id": "OSyCpSX-c61i",
        "colab_type": "code",
        "outputId": "af6cf105-870c-48b4-fe12-8b28dc041e3b",
        "colab": {
          "base_uri": "https://localhost:8080/",
          "height": 184
        }
      },
      "source": [
        "Putin_filtered_sentences = []\n",
        "for sentence in blob_sentences:\n",
        "    if \"Putin\" in sentence:\n",
        "        Putin_filtered_sentences.append(sentence)\n",
        "        \n",
        "print('there are {} sentences in this list. '.format(len(Putin_filtered_sentences)), '\\n')        \n",
        "        \n",
        "for sentence in Putin_filtered_sentences:\n",
        "    print(sentence, '\\n')\n",
        "    "
      ],
      "execution_count": 0,
      "outputs": [
        {
          "output_type": "stream",
          "text": [
            "there are 3 sentences in this list.  \n",
            "\n",
            "There is a clock on the wall behind his desk with portraits of Russia’s president Vladimir Putin and his predecessor Dmitry Medvedev. \n",
            "\n",
            "And that is the direction that Putin needs.“ She sounds like one of those people who could not be argued out of their position. \n",
            "\n",
            "“In the end,“ one of them says, “this is the same script as in the Cold War – with the difference that the digital world is offering a whole arsenal of new weapons.“Thus Russian hackers attack the German Bundestag, try to manipulate elections in the USA and France, steal trade secrets from foreign companies, and purposefully publish fake news through social media and internet portals to defame politicians and governments.The Chief of the General Staff of the Russian military seems to view the hacker scene of his country as a secret weapon, as Putin’s hidden reserve. \n",
            "\n"
          ],
          "name": "stdout"
        }
      ]
    },
    {
      "cell_type": "markdown",
      "metadata": {
        "id": "7Idtcvlzc61m",
        "colab_type": "raw"
      },
      "source": [
        "Now, in the space below, do the same for Mr. Sanders:"
      ]
    },
    {
      "cell_type": "code",
      "metadata": {
        "id": "RGLOJz-ec61n",
        "colab_type": "code",
        "outputId": "d12b635e-43ff-4e0b-91a4-d3d3ef311318",
        "colab": {
          "base_uri": "https://localhost:8080/",
          "height": 1000
        }
      },
      "source": [
        "Bogachev_filtered_sentences = []\n",
        "for sentence in blob_sentences:\n",
        "    if \"Bogachev\" in sentence:\n",
        "        Bogachev_filtered_sentences.append(sentence)\n",
        "        \n",
        "print('there are {} sentences in this list. '.format(len(Bogachev_filtered_sentences)), '\\n')        \n",
        "        \n",
        "for sentence in Bogachev_filtered_sentences:\n",
        "    print(sentence, '\\n')"
      ],
      "execution_count": 0,
      "outputs": [
        {
          "output_type": "stream",
          "text": [
            "there are 28 sentences in this list.  \n",
            "\n",
            "His name was Evgeniy Mikhailovich Bogachev.Bogachev, a Russian citizen, is the creator of the computer malware “Gameover Zeus“, and the leader of a hacker network which has infected more than a million computers worldwide and robbed banks, companies and corporations of more than 1 million euros. \n",
            "\n",
            "Bogachev is at the top of America‘s list of the most wanted criminals. \n",
            "\n",
            "They studied the architecture of Bogachev’s cyber weapons, managed to deactivate them and arrested his helpers. \n",
            "\n",
            "But they never captured Bogachev himself.There are some photographs, published by the FBI, of a man in his early thirties with a bald head. \n",
            "\n",
            "But that’s pretty much all there is.Bogachev’s hunters call him names like Phantomas or the Master of Invisibility. \n",
            "\n",
            "The longer they are involved with his case the more convinced they are that Bogachev isn’t just another Russian cyber criminal, but part of a bigger conspiracy.The FBI and well-known forensic scientists who specialize in IT tell Die Welt they are convinced Bogachev used his malware to spy on governments and intelligence services of other countries on behalf of the Russian government. \n",
            "\n",
            "Most of them are thought to have been part of the plot to hack the Democratic Party last year during the American presidential election.Before Pavel can answer the question of what he really thinks about Bogachev, one of his colleagues interrupts: “People like Bogachev have to be steered in the right direction. \n",
            "\n",
            "In any case, the most talented cyber criminals, like Belan, Nikulin and Bogachev, have now become something like poster boys of the cyber war, young and mysterious.In Anapa, his hometown, Bogachev is a hero who stood up to the Americans and who for years has been brave enough to mock them. \n",
            "\n",
            "An employee at the local police station, for example, says that, were he to meet Bogachev again, he would pin a medal on the guy.Bogachev’s last official address is apartment 223 at 120 Lermontova street, Anapa. \n",
            "\n",
            "A walk of less than 20 minutes through quiet streets will take you to the sea.If you take the lift up to the 13th floor, right at the top of the building, you reach a heavy black door, which stays closed even after persistent ringing and knocking.According to neighbours, Bogachev bought several flats on this floor and combined them into a penthouse with a view of the coastline and the sea. \n",
            "\n",
            "Bogachev also owns another smaller flat in the same building with no bell on the door. \n",
            "\n",
            "Nobody opens the door there either.Bogachev is said to sometimes live on his yacht, which lies just off the coast. \n",
            "\n",
            "But he hasn’t been seen onboard there for a while now.For the moment, it seems to his hunters that Bogachev has disappeared within the matrix, into the binary labyrinth of zeros and ones, into the command lines of his code.Bogachev was always the big unknown says a profiler who was part of the hunt. \n",
            "\n",
            "Bogachev made sure that he was the only person controlling everything. \n",
            "\n",
            "Only one person fixed technical problems in the malware: Bogachev himself or someone who used his identification. \n",
            "\n",
            "The investigators are still amazed by how perfectly organized Bogachev’s group was. \n",
            "\n",
            "And whilst the FBI managed to find pictures and the whereabouts of some of his most important accomplices – some of them lived near Donetsk, Ukraine – they still don’t know much about Bogachev, even after all these years.The few things they were relatively sure about were an email address, his name and the fact that he was living a middle-class life in Russia. \n",
            "\n",
            "There was a message Bogachev had once sent to his “Business Club“ which contained a hint that he might have been married. \n",
            "\n",
            "His programming style pointed towards someone who is a hard worker, rather than an artist, not someone who gives up easily.In the summer of 2014, specialists from the FBI and IT security companies fought continuously for almost three days to release the millions of computers Bogachev had captured to use as remote-controlled cyber weapons. \n",
            "\n",
            "Bogachev engaged them in a tough fight, programmer against programmer, to protect his programme and his secrets.In hindsight this all became clearer, says one of the investigators. \n",
            "\n",
            "Bogachev had installed a well-disguised sub-section of his malware to which only he had access. \n",
            "\n",
            "He was looking in particular for documents from the Ukraine and the US labelled ‘strictly confidential,‘ of major political interest to Russia during the crisis in Crimea and the Syrian war.Pavel sits in his basement office and says he might not really know that much about his customer, Mr. Bogachev. \n",
            "\n",
            "But one thing he is sure of: Bogachev may have made himself invisible, but he has not vanished without trace. \n",
            "\n",
            "But he is also Evgeniy Bogachev’s lawyer; although Stotskij is keen to point out he has represented him in court in matters unrelated to cyber crime.“Bogachev is a reserved, intelligent man and a good dad,“ says Stotskij, adding that he knows where Bogachev’s wife and daughter live. \n",
            "\n",
            "Where Bogachev himself is though, he says he could only guess.The last time he saw Bogachev was two years ago. \n",
            "\n",
            "Bogachev reads those messages, as is evident from the little blue double ticks; but he never replies. \n",
            "\n",
            "And just as you start to wonder what it all means, the lawyer adds: “People like Bogachev need to be protected. \n",
            "\n",
            "To him, Bogachev, the hacker, and Snowden, the whistleblower who revealed state secrets acquired working for the American NSA secret service, are Russian soldiers of the digital age. \n",
            "\n"
          ],
          "name": "stdout"
        }
      ]
    },
    {
      "cell_type": "code",
      "metadata": {
        "id": "rkc7xLMgA6lr",
        "colab_type": "code",
        "outputId": "401b68d6-1106-41e8-a818-6eb43a42ced3",
        "colab": {
          "base_uri": "https://localhost:8080/",
          "height": 406
        }
      },
      "source": [
        "cyber_filtered_sentences = []\n",
        "for sentence in blob_sentences:\n",
        "    if \"cyber\" in sentence:\n",
        "        cyber_filtered_sentences.append(sentence)\n",
        "        \n",
        "print('there are {} sentences in this list. '.format(len(cyber_filtered_sentences)), '\\n')        \n",
        "        \n",
        "for sentence in cyber_filtered_sentences:\n",
        "    print(sentence, '\\n')"
      ],
      "execution_count": 0,
      "outputs": [
        {
          "output_type": "stream",
          "text": [
            "there are 9 sentences in this list.  \n",
            "\n",
            "They studied the architecture of Bogachev’s cyber weapons, managed to deactivate them and arrested his helpers. \n",
            "\n",
            "The longer they are involved with his case the more convinced they are that Bogachev isn’t just another Russian cyber criminal, but part of a bigger conspiracy.The FBI and well-known forensic scientists who specialize in IT tell Die Welt they are convinced Bogachev used his malware to spy on governments and intelligence services of other countries on behalf of the Russian government. \n",
            "\n",
            "The other two are said to be employees of the cyber unit of the FSB.There is also the case of Yevgeny Nikulin, a Russian computer specialist, who was arrested by the Czech authorities a year ago in a restaurant in Prague. \n",
            "\n",
            "Ruslan Stoyanov used to be an employee of the Russian IT security company Kaspersky, where he led a department responsible for solving cyber crimes. \n",
            "\n",
            "It may be that Stoyanov became too dangerous – and that is what the messages he sent from his prison cell seem to suggest.Recently, he wrote on his Facebook page that there is proof that cyber criminals and employees of Russian authorities are working closely together. \n",
            "\n",
            "In any case, the most talented cyber criminals, like Belan, Nikulin and Bogachev, have now become something like poster boys of the cyber war, young and mysterious.In Anapa, his hometown, Bogachev is a hero who stood up to the Americans and who for years has been brave enough to mock them. \n",
            "\n",
            "In actual fact, he was developing an even more effective cyber weapon and working to become even more inconspicuous.He established a small and exclusive circle of helpers, most of them in their twenties, called the “Business Club“ which communicated over a special server. \n",
            "\n",
            "His programming style pointed towards someone who is a hard worker, rather than an artist, not someone who gives up easily.In the summer of 2014, specialists from the FBI and IT security companies fought continuously for almost three days to release the millions of computers Bogachev had captured to use as remote-controlled cyber weapons. \n",
            "\n",
            "But he is also Evgeniy Bogachev’s lawyer; although Stotskij is keen to point out he has represented him in court in matters unrelated to cyber crime.“Bogachev is a reserved, intelligent man and a good dad,“ says Stotskij, adding that he knows where Bogachev’s wife and daughter live. \n",
            "\n"
          ],
          "name": "stdout"
        }
      ]
    },
    {
      "cell_type": "code",
      "metadata": {
        "id": "M-fdkJyABFzk",
        "colab_type": "code",
        "outputId": "051dbfa9-098f-4336-e14d-67282cbb0b03",
        "colab": {
          "base_uri": "https://localhost:8080/",
          "height": 258
        }
      },
      "source": [
        "weapon_filtered_sentences = []\n",
        "for sentence in blob_sentences:\n",
        "    if \"weapon\" in sentence:\n",
        "        weapon_filtered_sentences.append(sentence)\n",
        "        \n",
        "print('there are {} sentences in this list. '.format(len(weapon_filtered_sentences)), '\\n')        \n",
        "        \n",
        "for sentence in weapon_filtered_sentences:\n",
        "    print(sentence, '\\n')"
      ],
      "execution_count": 0,
      "outputs": [
        {
          "output_type": "stream",
          "text": [
            "there are 5 sentences in this list.  \n",
            "\n",
            "They studied the architecture of Bogachev’s cyber weapons, managed to deactivate them and arrested his helpers. \n",
            "\n",
            "“In the end,“ one of them says, “this is the same script as in the Cold War – with the difference that the digital world is offering a whole arsenal of new weapons.“Thus Russian hackers attack the German Bundestag, try to manipulate elections in the USA and France, steal trade secrets from foreign companies, and purposefully publish fake news through social media and internet portals to defame politicians and governments.The Chief of the General Staff of the Russian military seems to view the hacker scene of his country as a secret weapon, as Putin’s hidden reserve. \n",
            "\n",
            "In actual fact, he was developing an even more effective cyber weapon and working to become even more inconspicuous.He established a small and exclusive circle of helpers, most of them in their twenties, called the “Business Club“ which communicated over a special server. \n",
            "\n",
            "His programming style pointed towards someone who is a hard worker, rather than an artist, not someone who gives up easily.In the summer of 2014, specialists from the FBI and IT security companies fought continuously for almost three days to release the millions of computers Bogachev had captured to use as remote-controlled cyber weapons. \n",
            "\n",
            "He was interested in who was delivering weapons to Syria. \n",
            "\n"
          ],
          "name": "stdout"
        }
      ]
    },
    {
      "cell_type": "markdown",
      "metadata": {
        "id": "RQ0o2P-7c61q",
        "colab_type": "raw"
      },
      "source": [
        "The next step is to measure the sentiment of each sentence, and then calculate an average sentiment for each candidate.  Sentiment has two components - objectivity and polarity.  Objectivity is the measure of how objective verses subjective a sentence is, and ranges from 0 for completely objective, to 1 for completely subjective.  Polarity is the measure of affect - how postive or negative the \"feeling\" is of the that particular sentence, and ranges from -1 (\"bad\" feelings) to +1 (\"good\" feelings).\n",
        "\n",
        "A good rule of thumb when measuring sentiment is to place a higher weight on sentences that are more subjective.  Thus, we will define our sentiment as the product of objectivity and polarity in order to weight our polarity measurements:\n",
        "\n",
        "sentiment = objectivity*polarity\n",
        "\n",
        "In TextBlob, the sentiment method will return a tuple, where the first value is the polarity, and the second value is the subjectivity:\n",
        "\n",
        "blob.sentiment\n",
        ">> ('polarity value','subjectivty value')\n",
        "\n",
        "In the space below, measure and print the sentiment of the second sentence of the \"Sanders_filtered_sentences\" list using the following command:\n",
        "\n",
        "Sanders_filtered_sentences[1].sentiment\n",
        "\n",
        "Now print the polarity:\n",
        "\n",
        "Sanders_filtered_sentences[1].sentiment[0]\n",
        "\n",
        "Now print the subjectivity:\n",
        "\n",
        "Sanders_filtered_sentences[1].sentiment[1]"
      ]
    },
    {
      "cell_type": "code",
      "metadata": {
        "id": "4ZHcZqfhc61r",
        "colab_type": "code",
        "outputId": "28be8404-b2ea-412f-b22b-019d80954de3",
        "colab": {
          "base_uri": "https://localhost:8080/",
          "height": 35
        }
      },
      "source": [
        "blob.sentiment # Overall artciel Sentiment."
      ],
      "execution_count": 0,
      "outputs": [
        {
          "output_type": "execute_result",
          "data": {
            "text/plain": [
              "Sentiment(polarity=0.046970116023146324, subjectivity=0.36689925955077474)"
            ]
          },
          "metadata": {
            "tags": []
          },
          "execution_count": 13
        }
      ]
    },
    {
      "cell_type": "code",
      "metadata": {
        "id": "hDw2jhYjLS4q",
        "colab_type": "code",
        "colab": {}
      },
      "source": [
        "import matplotlib.pyplot as plt"
      ],
      "execution_count": 0,
      "outputs": []
    },
    {
      "cell_type": "markdown",
      "metadata": {
        "id": "EfnOo7rACG88",
        "colab_type": "text"
      },
      "source": [
        "# First Key Word: Putin"
      ]
    },
    {
      "cell_type": "code",
      "metadata": {
        "id": "waBJ2Kclc61v",
        "colab_type": "code",
        "outputId": "acc2a5c9-762c-4e42-d1d0-034f49f7d4a0",
        "colab": {
          "base_uri": "https://localhost:8080/",
          "height": 111
        }
      },
      "source": [
        "print(len(Putin_filtered_sentences))\n",
        "\n",
        "print('This shows objectivity and polarity in first Putin sentence: ',Putin_filtered_sentences[0].sentiment)\n",
        "print('This shows objectivity and polarity in second Putin sentence: ',Putin_filtered_sentences[1].sentiment)\n",
        "print('This shows objectivity and polarity in second Putin sentence: ',Putin_filtered_sentences[2].sentiment)"
      ],
      "execution_count": 0,
      "outputs": [
        {
          "output_type": "stream",
          "text": [
            "3\n",
            "This shows objectivity and polarity in first Putin sentence:  Sentiment(polarity=-0.4, subjectivity=0.7)\n",
            "This shows objectivity and polarity in second Putin sentence:  Sentiment(polarity=0.0, subjectivity=0.0)\n",
            "This shows objectivity and polarity in second Putin sentence:  Sentiment(polarity=-0.09813131313131312, subjectivity=0.3203030303030303)\n"
          ],
          "name": "stdout"
        }
      ]
    },
    {
      "cell_type": "code",
      "metadata": {
        "id": "99xTRMSEc614",
        "colab_type": "code",
        "outputId": "17dc6b4c-57e5-4e1e-8e93-f2ebfdf5ee00",
        "colab": {
          "base_uri": "https://localhost:8080/",
          "height": 34
        }
      },
      "source": [
        "# NEED TO UNDERSTAND WHAT IS HAPPENING HERE.\n",
        "polarity = Sanders_filtered_sentences[1].sentiment[0]\n",
        "subjectivity = Sanders_filtered_sentences[1].sentiment[1]\n",
        "sentiment = polarity * subjectivity\n",
        "sentiment\n",
        "# No emotion due to polarity, but sentiment is center-mass. "
      ],
      "execution_count": 0,
      "outputs": [
        {
          "output_type": "execute_result",
          "data": {
            "text/plain": [
              "0.0"
            ]
          },
          "metadata": {
            "tags": []
          },
          "execution_count": 31
        }
      ]
    },
    {
      "cell_type": "markdown",
      "metadata": {
        "id": "aJ09h991c618",
        "colab_type": "raw"
      },
      "source": [
        "Now, we want to loop through the sentences in each list and append the sentiment (product of polarity and subjectivity) to each list.  We can do this as follows:\n",
        "\n",
        "Sanders_sentiment = []\n",
        "for sentence in Sanders_filtered_sentences:\n",
        "    sentiment = sentence.sentiment[0]*sentence.sentiment[1]\n",
        "    Sanders_sentiment.append(sentiment)\n",
        "\n",
        "Do this in the space below, and print the result:"
      ]
    },
    {
      "cell_type": "code",
      "metadata": {
        "id": "M5TsN-v7c619",
        "colab_type": "code",
        "outputId": "37c87f91-b702-45d6-e136-2df9c7f5d1df",
        "colab": {
          "base_uri": "https://localhost:8080/",
          "height": 35
        }
      },
      "source": [
        "Putin_sentiment = []\n",
        "for sentence in Putin_filtered_sentences:\n",
        "    sentiment = sentence.sentiment[0]*sentence.sentiment[1]\n",
        "    Putin_sentiment.append(sentiment)\n",
        "Putin_sentiment"
      ],
      "execution_count": 0,
      "outputs": [
        {
          "output_type": "execute_result",
          "data": {
            "text/plain": [
              "[-0.27999999999999997, 0.0, -0.03143175696357514]"
            ]
          },
          "metadata": {
            "tags": []
          },
          "execution_count": 16
        }
      ]
    },
    {
      "cell_type": "code",
      "metadata": {
        "id": "D6vAmy6hLzoA",
        "colab_type": "code",
        "outputId": "49b76878-7a83-4b13-ec3c-0e34db0812f8",
        "colab": {
          "base_uri": "https://localhost:8080/",
          "height": 35
        }
      },
      "source": [
        "xaxis = []\n",
        "for i in range(3):\n",
        "  xaxis.append(i)\n",
        "print(\"The xaxis is {}.\".format(xaxis))"
      ],
      "execution_count": 0,
      "outputs": [
        {
          "output_type": "stream",
          "text": [
            "The xaxis is [0, 1, 2].\n"
          ],
          "name": "stdout"
        }
      ]
    },
    {
      "cell_type": "code",
      "metadata": {
        "id": "5P0_ha6UTcHr",
        "colab_type": "code",
        "colab": {}
      },
      "source": [
        "test = [-1,0,1]"
      ],
      "execution_count": 0,
      "outputs": []
    },
    {
      "cell_type": "code",
      "metadata": {
        "id": "WZn69oOqMcnu",
        "colab_type": "code",
        "outputId": "07253ba5-31bd-44eb-e81f-50f7a413c58a",
        "colab": {
          "base_uri": "https://localhost:8080/",
          "height": 313
        }
      },
      "source": [
        "plt.scatter(xaxis, Putin_sentiment)\n",
        "#plt.scatter(xaxis, test)\n",
        "#plt.scatter(xaxis, Bogachev_sentiment)\n",
        "plt.grid()\n",
        "plt.title('Putin Sentiment Per Sentence', color='w')\n",
        "plt.xlabel('Sentence', color='w')\n",
        "plt.ylabel('Sentiment', color='w')\n",
        "plt.xticks(color='w')\n",
        "plt.yticks(color='w')\n",
        "plt.ylim(-1,1)"
      ],
      "execution_count": 0,
      "outputs": [
        {
          "output_type": "execute_result",
          "data": {
            "text/plain": [
              "(-1.0, 1.0)"
            ]
          },
          "metadata": {
            "tags": []
          },
          "execution_count": 60
        },
        {
          "output_type": "display_data",
          "data": {
            "image/png": "[encoded data removed]",
            "text/plain": [
              "<Figure size 432x288 with 1 Axes>"
            ]
          },
          "metadata": {
            "tags": []
          }
        }
      ]
    },
    {
      "cell_type": "markdown",
      "metadata": {
        "id": "3guhIJZMDz8S",
        "colab_type": "text"
      },
      "source": [
        "# Second Key Word: Bogachev"
      ]
    },
    {
      "cell_type": "code",
      "metadata": {
        "id": "1btG3NXnT5dk",
        "colab_type": "code",
        "outputId": "fa1e126c-1eef-4690-cd97-2c5f132c07bd",
        "colab": {
          "base_uri": "https://localhost:8080/",
          "height": 74
        }
      },
      "source": [
        "x1axis = []\n",
        "for i in range(len(Bogachev_sentiment)):\n",
        "  x1axis.append(i)\n",
        "print(\"The xaxis is {}.\".format(x1axis))\n",
        "len(x1axis)"
      ],
      "execution_count": 0,
      "outputs": [
        {
          "output_type": "stream",
          "text": [
            "The xaxis is [0, 1, 2, 3, 4, 5, 6, 7, 8, 9, 10, 11, 12, 13, 14, 15, 16, 17, 18, 19, 20, 21, 22, 23, 24, 25, 26, 27].\n"
          ],
          "name": "stdout"
        },
        {
          "output_type": "execute_result",
          "data": {
            "text/plain": [
              "28"
            ]
          },
          "metadata": {
            "tags": []
          },
          "execution_count": 68
        }
      ]
    },
    {
      "cell_type": "code",
      "metadata": {
        "id": "-wnbYjfVc62D",
        "colab_type": "code",
        "outputId": "ff337109-0422-48fe-dd1e-a0df126267be",
        "colab": {
          "base_uri": "https://localhost:8080/",
          "height": 552
        }
      },
      "source": [
        "Bogachev_sentiment = []\n",
        "for sentence in Bogachev_filtered_sentences:\n",
        "    sentiment = sentence.sentiment[0]*sentence.sentiment[1]\n",
        "    Bogachev_sentiment.append(sentiment)\n",
        "print(len(Bogachev_sentiment))\n",
        "Bogachev_sentiment"
      ],
      "execution_count": 0,
      "outputs": [
        {
          "output_type": "stream",
          "text": [
            "28\n"
          ],
          "name": "stdout"
        },
        {
          "output_type": "execute_result",
          "data": {
            "text/plain": [
              "[0.1111111111111111,\n",
              " 0.25,\n",
              " 0.0,\n",
              " 0.03,\n",
              " 0.135,\n",
              " -0.0013368055555555568,\n",
              " 0.05135102040816325,\n",
              " 0.2772,\n",
              " 0.0,\n",
              " 0.0046448867612888765,\n",
              " -0.0020833333333333333,\n",
              " 0.06818181818181818,\n",
              " -0.017499999999999998,\n",
              " 0.2361111111111111,\n",
              " 0.014444444444444446,\n",
              " 1.0,\n",
              " 0.1287037037037037,\n",
              " 0.0625,\n",
              " -0.1579861111111111,\n",
              " -0.32407407407407407,\n",
              " 0.0,\n",
              " 0.017555555555555553,\n",
              " 0.4444444444444444,\n",
              " 0.3636363636363636,\n",
              " 0.0,\n",
              " 0.0033203125,\n",
              " 0.0,\n",
              " -0.017499999999999998]"
            ]
          },
          "metadata": {
            "tags": []
          },
          "execution_count": 69
        }
      ]
    },
    {
      "cell_type": "code",
      "metadata": {
        "id": "Wa7ka37OT_qc",
        "colab_type": "code",
        "outputId": "8b7ab54a-0b3c-409f-a42c-5c3dde52fcdf",
        "colab": {
          "base_uri": "https://localhost:8080/",
          "height": 313
        }
      },
      "source": [
        "plt.scatter(x1axis, Bogachev_sentiment)\n",
        "#plt.scatter(xaxis, test)\n",
        "#plt.scatter(xaxis, Bogachev_sentiment)\n",
        "plt.grid()\n",
        "plt.title('Bogachev Sentiment Per Sentence', color='w')\n",
        "plt.xlabel('Sentence', color='w')\n",
        "plt.ylabel('Sentiment', color='w')\n",
        "plt.xticks(color='w')\n",
        "plt.yticks(color='w')\n",
        "plt.ylim(-1,1)\n",
        "#plt.xticks(0,28,1)"
      ],
      "execution_count": 0,
      "outputs": [
        {
          "output_type": "execute_result",
          "data": {
            "text/plain": [
              "(-1.0, 1.0)"
            ]
          },
          "metadata": {
            "tags": []
          },
          "execution_count": 73
        },
        {
          "output_type": "display_data",
          "data": {
            "image/png": "[encoded data removed]",
            "text/plain": [
              "<Figure size 432x288 with 1 Axes>"
            ]
          },
          "metadata": {
            "tags": []
          }
        }
      ]
    },
    {
      "cell_type": "code",
      "metadata": {
        "id": "83Z8Wpy5c62J",
        "colab_type": "code",
        "outputId": "6e9669f4-3404-44d1-a265-c1e4318ae532",
        "colab": {
          "base_uri": "https://localhost:8080/",
          "height": 35
        }
      },
      "source": [
        "import numpy as np\n",
        "Putin_ave_sentiment = np.average(Putin_sentiment)\n",
        "Putin_ave_sentiment"
      ],
      "execution_count": 0,
      "outputs": [
        {
          "output_type": "execute_result",
          "data": {
            "text/plain": [
              "-0.10381058565452504"
            ]
          },
          "metadata": {
            "tags": []
          },
          "execution_count": 20
        }
      ]
    },
    {
      "cell_type": "code",
      "metadata": {
        "id": "o4uVG4C1c62O",
        "colab_type": "code",
        "outputId": "55ab7221-9700-4df4-e6a0-f00ca23a53c0",
        "colab": {
          "base_uri": "https://localhost:8080/",
          "height": 35
        }
      },
      "source": [
        "Bogachev_ave_sentiment = np.average(Bogachev_sentiment)\n",
        "Bogachev_ave_sentiment"
      ],
      "execution_count": 0,
      "outputs": [
        {
          "output_type": "execute_result",
          "data": {
            "text/plain": [
              "0.09563301599228322"
            ]
          },
          "metadata": {
            "tags": []
          },
          "execution_count": 21
        }
      ]
    }
  ]
}