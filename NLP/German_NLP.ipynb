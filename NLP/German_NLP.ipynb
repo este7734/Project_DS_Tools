{
  "nbformat": 4,
  "nbformat_minor": 0,
  "metadata": {
    "kernelspec": {
      "name": "python3",
      "display_name": "Python 3"
    },
    "language_info": {
      "codemirror_mode": {
        "name": "ipython",
        "version": 3
      },
      "file_extension": ".py",
      "mimetype": "text/x-python",
      "name": "python",
      "nbconvert_exporter": "python",
      "pygments_lexer": "ipython3",
      "version": "3.6.3"
    },
    "colab": {
      "name": "German_NLP.ipynb",
      "provenance": [],
      "collapsed_sections": [
        "LBcufb8pYTm2"
      ],
      "toc_visible": true,
      "include_colab_link": true
    },
    "accelerator": "GPU"
  },
  "cells": [
    {
      "cell_type": "markdown",
      "metadata": {
        "id": "view-in-github",
        "colab_type": "text"
      },
      "source": [
        "<a href=\"https://colab.research.google.com/github/este7734/Project_DS_Tools/blob/master/German_NLP.ipynb\" target=\"_parent\"><img src=\"https://colab.research.google.com/assets/colab-badge.svg\" alt=\"Open In Colab\"/></a>"
      ]
    },
    {
      "cell_type": "markdown",
      "metadata": {
        "id": "BN9ohTbVivxQ",
        "colab_type": "text"
      },
      "source": [
        "# Data Science Tools and Techniques\n",
        "\n",
        "# Natural Language Processing Exercise"
      ]
    },
    {
      "cell_type": "markdown",
      "metadata": {
        "id": "LpEihNNDivxV",
        "colab_type": "text"
      },
      "source": [
        "Perform the tasks below to demonstrate your understanding of NLP.  You may reference the TextBlob documentation here:\n",
        "\n",
        "https://textblob.readthedocs.io/en/dev/"
      ]
    },
    {
      "cell_type": "markdown",
      "metadata": {
        "id": "eA8rFBFLivxY",
        "colab_type": "text"
      },
      "source": [
        "Natural Language Processing is a very versatile tool in data science.  Among other things, it can be used to quantitate the affect, or emotional content, of text.  This technique is called sentiment analysis, and is often used in industry to measure how customers feel about a particular company or product.\n",
        "\n",
        "Sputnik is a Russian media outlet.  In this exercise, you will measure the sentiment of an English-language Sputnik article that mentions a U.S. political candidates."
      ]
    },
    {
      "cell_type": "markdown",
      "metadata": {
        "id": "GbzUuecdivxb",
        "colab_type": "raw"
      },
      "source": [
        "In the space below, specify the location of the news_text.txt file:"
      ]
    },
    {
      "cell_type": "markdown",
      "metadata": {
        "id": "LBcufb8pYTm2",
        "colab_type": "text"
      },
      "source": [
        "### <font color='green'> Save Text Files </font> to Your Temporary Colab folder"
      ]
    },
    {
      "cell_type": "code",
      "metadata": {
        "id": "SVApwG0AvGkN",
        "colab_type": "code",
        "outputId": "0dae4c0e-b5ca-42a6-8cd6-aedc387b1853",
        "colab": {
          "base_uri": "https://localhost:8080/",
          "height": 35
        }
      },
      "source": [
        "%ls # List files in the your temporary folder to verify they are there."
      ],
      "execution_count": 6,
      "outputs": [
        {
          "output_type": "stream",
          "text": [
            "news_text.txt  \u001b[0m\u001b[01;34msample_data\u001b[0m/  welt_Putin_Cyberwarfare.txt\n"
          ],
          "name": "stdout"
        }
      ]
    },
    {
      "cell_type": "markdown",
      "metadata": {
        "id": "GNYiFN1kYd63",
        "colab_type": "text"
      },
      "source": [
        "### <font color='green'> Read </font> in File(s) to Colab Environment"
      ]
    },
    {
      "cell_type": "code",
      "metadata": {
        "id": "AFU8dqERivxe",
        "colab_type": "code",
        "outputId": "04dfc0bd-02b3-4b9c-8599-09c096d5df52",
        "colab": {
          "base_uri": "https://localhost:8080/",
          "height": 35
        }
      },
      "source": [
        "file1 = 'Spiegel_DuetcheBank_Trump.txt'\n",
        "file2 = 'Spiegel_Iran_Protests.txt'\n",
        "file3 = 'Spiegel_Trump_Peace_Plan.txt'\n",
        "\n",
        "file4 = 'Zeit_URL_1_Holocaust.txt'\n",
        "file5 = 'Zeit_URL_2_xenophobic_politicians.txt'\n",
        "file6 = 'Zeit_URL_3_NATO_Germany_contribution.txt'\n",
        "\n",
        "file7 = 'news_text.txt'\n",
        "file8 = 'welt_Putin_Cyberwarfare.txt'\n",
        "file_path = r'news_text.txt'\n",
        "file_path"
      ],
      "execution_count": 7,
      "outputs": [
        {
          "output_type": "execute_result",
          "data": {
            "text/plain": [
              "'news_text.txt'"
            ]
          },
          "metadata": {
            "tags": []
          },
          "execution_count": 7
        }
      ]
    },
    {
      "cell_type": "code",
      "metadata": {
        "id": "s4EZvBt3ivxr",
        "colab_type": "code",
        "colab": {}
      },
      "source": [
        "#open text\n",
        "def open_text(file_path):\n",
        "    with open(file_path, 'r') as document:\n",
        "        text = document.read()\n",
        "    return text"
      ],
      "execution_count": 0,
      "outputs": []
    },
    {
      "cell_type": "code",
      "metadata": {
        "id": "sv4HrFvKivx3",
        "colab_type": "code",
        "outputId": "5218ce18-37b0-4d85-ef20-a3e7db1ceba9",
        "colab": {
          "base_uri": "https://localhost:8080/",
          "height": 55
        }
      },
      "source": [
        "text = open_text(file_path)\n",
        "text"
      ],
      "execution_count": 9,
      "outputs": [
        {
          "output_type": "execute_result",
          "data": {
            "text/plain": [
              "'Former Vice President Joe Biden is considered to be the frontrunner in the US Democratic primaries despite his controversial performance during the second debate in August and a recently emerged scandal about him allegedly meddling in Ukrainian internal affairs to save his son from potential prosecution. In his latest appeal to US voters to support his election campaign, Vermont Senator Bernie Sanders has accused former Vice President Joe Biden and his allies of trying to \"buy\" the Democratic primaries. \"It should not be a surprise that wealthy donors of the political establishment are trying to buy this election. Now we need to be ready for when they do\", he said. The senator referred to a recent The New York Times article claiming that Biden\\'s allies believe that the former vice president won\\'t be able to win his campaign without the use of so-called Super Political Action Committees (Super PACs). Sanders claimed that such actions endanger his campaign and the entire US. \"Super PACs can raise and spend unlimited amounts of money to promote or attack candidates. They are a threat to our democracy. And frankly, they are a threat to our campaign and our hopes to transform our country\", the Vermont senator said. Sanders asked his supporters to \"chip in what they can\" in a bid to amass enough funds to overcome potential pro-Biden Super PAC efforts. All of the Democratic candidates have said they will not accept support from any Super PACs,  including Biden, according to the NYT article. Super PACs can indeed attract unlimited donations, but must spend the funds independently without directly coordinating with any of the candidates or parties, who are limited in how much funding they can attract. But they can still support certain election campaigns without coordinating with them directly. In their campaign spending, Super PACs sometimes surpass all candidates, as was the case in the 2012 Republican primaries. In the 2019 Democratic primaries, Bernie Sanders kicked off as a leader in raising funds, with an average donation of $34 in the first quarter of the year, but this later slid to only $18 in the second quarter, giving way to Biden, with average donation of $49 per individual.\\n\\n\\n'"
            ]
          },
          "metadata": {
            "tags": []
          },
          "execution_count": 9
        }
      ]
    },
    {
      "cell_type": "markdown",
      "metadata": {
        "id": "fXKR8_FSX0K9",
        "colab_type": "text"
      },
      "source": [
        "## <font color='green'> Import </font> Dependencies"
      ]
    },
    {
      "cell_type": "code",
      "metadata": {
        "id": "6cVForAwivyC",
        "colab_type": "code",
        "outputId": "aad945d0-8a9d-44f9-f423-85c1798c0294",
        "colab": {
          "base_uri": "https://localhost:8080/",
          "height": 72
        }
      },
      "source": [
        "from textblob import TextBlob\n",
        "import numpy as np\n",
        "import matplotlib.pyplot as plt\n",
        "\n",
        "# Import these dependencies if using Google Colab \n",
        "import nltk\n",
        "nltk.download('punkt')"
      ],
      "execution_count": 10,
      "outputs": [
        {
          "output_type": "stream",
          "text": [
            "[nltk_data] Downloading package punkt to /root/nltk_data...\n",
            "[nltk_data]   Unzipping tokenizers/punkt.zip.\n"
          ],
          "name": "stdout"
        },
        {
          "output_type": "execute_result",
          "data": {
            "text/plain": [
              "True"
            ]
          },
          "metadata": {
            "tags": []
          },
          "execution_count": 10
        }
      ]
    },
    {
      "cell_type": "markdown",
      "metadata": {
        "id": "oO3zXBmNX955",
        "colab_type": "text"
      },
      "source": [
        "### <font color='skyblue'> Ingest </font> Text to Analyze"
      ]
    },
    {
      "cell_type": "code",
      "metadata": {
        "id": "mpFugUBuivyJ",
        "colab_type": "code",
        "colab": {}
      },
      "source": [
        "blob = TextBlob(text)"
      ],
      "execution_count": 0,
      "outputs": []
    },
    {
      "cell_type": "markdown",
      "metadata": {
        "id": "id4xUyUDivyQ",
        "colab_type": "text"
      },
      "source": [
        "Now that you have instatiated your text as a TextBlob object, you can perform text manipulations.  First, let's generate a list of all sentences in your TextBlob object:\n",
        "\n",
        "blob_sentences = blob.sentences\n",
        "\n",
        "Do this in the space below, and print the result (you should see a list of sentences):"
      ]
    },
    {
      "cell_type": "code",
      "metadata": {
        "id": "zdGsmdndivyS",
        "colab_type": "code",
        "colab": {
          "base_uri": "https://localhost:8080/",
          "height": 310
        },
        "outputId": "bd5ad625-3347-4449-beb9-080aaf7cc6a6"
      },
      "source": [
        "blob_sentences = blob.sentences\n",
        "blob_sentences"
      ],
      "execution_count": 19,
      "outputs": [
        {
          "output_type": "execute_result",
          "data": {
            "text/plain": [
              "[Sentence(\"Former Vice President Joe Biden is considered to be the frontrunner in the US Democratic primaries despite his controversial performance during the second debate in August and a recently emerged scandal about him allegedly meddling in Ukrainian internal affairs to save his son from potential prosecution.\"),\n",
              " Sentence(\"In his latest appeal to US voters to support his election campaign, Vermont Senator Bernie Sanders has accused former Vice President Joe Biden and his allies of trying to \"buy\" the Democratic primaries.\"),\n",
              " Sentence(\"\"It should not be a surprise that wealthy donors of the political establishment are trying to buy this election.\"),\n",
              " Sentence(\"Now we need to be ready for when they do\", he said.\"),\n",
              " Sentence(\"The senator referred to a recent The New York Times article claiming that Biden's allies believe that the former vice president won't be able to win his campaign without the use of so-called Super Political Action Committees (Super PACs).\"),\n",
              " Sentence(\"Sanders claimed that such actions endanger his campaign and the entire US.\"),\n",
              " Sentence(\"\"Super PACs can raise and spend unlimited amounts of money to promote or attack candidates.\"),\n",
              " Sentence(\"They are a threat to our democracy.\"),\n",
              " Sentence(\"And frankly, they are a threat to our campaign and our hopes to transform our country\", the Vermont senator said.\"),\n",
              " Sentence(\"Sanders asked his supporters to \"chip in what they can\" in a bid to amass enough funds to overcome potential pro-Biden Super PAC efforts.\"),\n",
              " Sentence(\"All of the Democratic candidates have said they will not accept support from any Super PACs,  including Biden, according to the NYT article.\"),\n",
              " Sentence(\"Super PACs can indeed attract unlimited donations, but must spend the funds independently without directly coordinating with any of the candidates or parties, who are limited in how much funding they can attract.\"),\n",
              " Sentence(\"But they can still support certain election campaigns without coordinating with them directly.\"),\n",
              " Sentence(\"In their campaign spending, Super PACs sometimes surpass all candidates, as was the case in the 2012 Republican primaries.\"),\n",
              " Sentence(\"In the 2019 Democratic primaries, Bernie Sanders kicked off as a leader in raising funds, with an average donation of $34 in the first quarter of the year, but this later slid to only $18 in the second quarter, giving way to Biden, with average donation of $49 per individual.\")]"
            ]
          },
          "metadata": {
            "tags": []
          },
          "execution_count": 19
        }
      ]
    },
    {
      "cell_type": "code",
      "metadata": {
        "id": "2xN0ZSBJ510j",
        "colab_type": "code",
        "outputId": "55d0ced6-7a92-4cc7-cefb-af58e13a9881",
        "colab": {
          "base_uri": "https://localhost:8080/",
          "height": 35
        }
      },
      "source": [
        "# Allow user to type in key words to search the text for\n",
        "filter_list = input('Enter words to filter by separated by commas: ').title() # This is still a string... not a list yet"
      ],
      "execution_count": 16,
      "outputs": [
        {
          "output_type": "stream",
          "text": [
            "Enter words to filter by separated by commas: biden,putin,sanders,trump\n"
          ],
          "name": "stdout"
        }
      ]
    },
    {
      "cell_type": "markdown",
      "metadata": {
        "id": "tGJmYoaJYF_n",
        "colab_type": "text"
      },
      "source": [
        "### <font color='skyblue'> Enter </font>  Key Words to Search in Text"
      ]
    },
    {
      "cell_type": "code",
      "metadata": {
        "id": "49R1H35B7aH8",
        "colab_type": "code",
        "outputId": "73d21618-24a1-4475-a9f2-8068f80a6454",
        "colab": {
          "base_uri": "https://localhost:8080/",
          "height": 35
        }
      },
      "source": [
        "fliter_list = list(filter_list) # Convert string to a list (it currently has 1 long string element of key words)\n",
        "\n",
        "f = []\n",
        "for word in (filter_list.split(\",\")):  # Split string into separate words, separate by comma\n",
        "  f.append(word)                       # Generate new list containing each key word\n",
        "f # This is now a list of key words that the user typed in"
      ],
      "execution_count": 17,
      "outputs": [
        {
          "output_type": "execute_result",
          "data": {
            "text/plain": [
              "['Biden', 'Putin', 'Sanders', 'Trump']"
            ]
          },
          "metadata": {
            "tags": []
          },
          "execution_count": 17
        }
      ]
    },
    {
      "cell_type": "markdown",
      "metadata": {
        "id": "GTNasDzQLinR",
        "colab_type": "text"
      },
      "source": [
        "## <font color='skyblue'> Search </font>  Sentences for Key Words\n",
        "\n"
      ]
    },
    {
      "cell_type": "code",
      "metadata": {
        "id": "MXjYMd1-LUrT",
        "colab_type": "code",
        "outputId": "3edb9ff5-bf31-46be-8a80-31a9c62696b8",
        "colab": {
          "base_uri": "https://localhost:8080/",
          "height": 474
        }
      },
      "source": [
        "# Instantiate list for holding the sentences\n",
        "sentences = []\n",
        "\n",
        "# Generate empty list of lists \n",
        "for i in range(len(f)):\n",
        "  sentences.append([])\n",
        "print('Here is what you just made, and empty list of lists: ', sentences, '\\n')\n",
        "\n",
        "# Generate lists of sentences for each key word and plug them into the list of lists from above            \n",
        "for i in range(len(f)):\n",
        "  for sentence in blob_sentences:\n",
        "    if f[i] in sentence:\n",
        "        sentences[i].append(sentence)\n",
        "        \n",
        "# Print number of sentences containing each key word\n",
        "# Print out all sentences containing each key word\n",
        "for i in range(len(f)):\n",
        "  print('-----------------------------------------------------------------')   \n",
        "  print('There are {} sentences in containing the word: {} '.format(len(sentences[i]), f[i]), '\\n') \n",
        "  for sentence in sentences[i]:\n",
        "      print(sentence)\n"
      ],
      "execution_count": 18,
      "outputs": [
        {
          "output_type": "stream",
          "text": [
            "Here is what you just made, and empty list of lists:  [[], [], [], []] \n",
            "\n",
            "-----------------------------------------------------------------\n",
            "There are 6 sentences in containing the word: Biden  \n",
            "\n",
            "Former Vice President Joe Biden is considered to be the frontrunner in the US Democratic primaries despite his controversial performance during the second debate in August and a recently emerged scandal about him allegedly meddling in Ukrainian internal affairs to save his son from potential prosecution.\n",
            "In his latest appeal to US voters to support his election campaign, Vermont Senator Bernie Sanders has accused former Vice President Joe Biden and his allies of trying to \"buy\" the Democratic primaries.\n",
            "The senator referred to a recent The New York Times article claiming that Biden's allies believe that the former vice president won't be able to win his campaign without the use of so-called Super Political Action Committees (Super PACs).\n",
            "Sanders asked his supporters to \"chip in what they can\" in a bid to amass enough funds to overcome potential pro-Biden Super PAC efforts.\n",
            "All of the Democratic candidates have said they will not accept support from any Super PACs,  including Biden, according to the NYT article.\n",
            "In the 2019 Democratic primaries, Bernie Sanders kicked off as a leader in raising funds, with an average donation of $34 in the first quarter of the year, but this later slid to only $18 in the second quarter, giving way to Biden, with average donation of $49 per individual.\n",
            "-----------------------------------------------------------------\n",
            "There are 0 sentences in containing the word: Putin  \n",
            "\n",
            "-----------------------------------------------------------------\n",
            "There are 4 sentences in containing the word: Sanders  \n",
            "\n",
            "In his latest appeal to US voters to support his election campaign, Vermont Senator Bernie Sanders has accused former Vice President Joe Biden and his allies of trying to \"buy\" the Democratic primaries.\n",
            "Sanders claimed that such actions endanger his campaign and the entire US.\n",
            "Sanders asked his supporters to \"chip in what they can\" in a bid to amass enough funds to overcome potential pro-Biden Super PAC efforts.\n",
            "In the 2019 Democratic primaries, Bernie Sanders kicked off as a leader in raising funds, with an average donation of $34 in the first quarter of the year, but this later slid to only $18 in the second quarter, giving way to Biden, with average donation of $49 per individual.\n",
            "-----------------------------------------------------------------\n",
            "There are 0 sentences in containing the word: Trump  \n",
            "\n"
          ],
          "name": "stdout"
        }
      ]
    },
    {
      "cell_type": "markdown",
      "metadata": {
        "id": "MwLPnUsBLmjI",
        "colab_type": "text"
      },
      "source": [
        "\n",
        "\n",
        "---\n",
        "\n",
        "\n",
        "\n",
        "\n",
        "\n"
      ]
    },
    {
      "cell_type": "markdown",
      "metadata": {
        "id": "_PJsXX2zFVZC",
        "colab_type": "text"
      },
      "source": [
        "## Print <font color='skyblue'> Statistics </font> "
      ]
    },
    {
      "cell_type": "code",
      "metadata": {
        "id": "q4b-c7vyivyo",
        "colab_type": "code",
        "outputId": "a7803525-2785-4b58-dc5a-e5b1fef3a04d",
        "colab": {
          "base_uri": "https://localhost:8080/",
          "height": 53
        }
      },
      "source": [
        "print('Article', blob.sentiment) # Overall article sentiment\n",
        "pol = blob.sentiment[0]\n",
        "sub = blob.sentiment[1]\n",
        "bailey_sent = pol*sub\n",
        "print('This is the Bailey Sentiment: {}'.format(bailey_sentiment))"
      ],
      "execution_count": 36,
      "outputs": [
        {
          "output_type": "stream",
          "text": [
            "Article Sentiment(polarity=0.1398268398268398, subjectivity=0.427763515554213)\n",
            "This is the Bailey Sentiment: 0.05981282057316484\n"
          ],
          "name": "stdout"
        }
      ]
    },
    {
      "cell_type": "code",
      "metadata": {
        "id": "TvmVrqVxbAqb",
        "colab_type": "code",
        "outputId": "c49e53b5-2c0f-4511-d1a2-a8efbccd6cbd",
        "colab": {
          "base_uri": "https://localhost:8080/",
          "height": 436
        }
      },
      "source": [
        "# Print out sentiment values for each key word\n",
        "print('Sentence | Polarity | Subjectivity | Sentiment | Avg Sentiment')\n",
        "for i in range(len(f)):\n",
        "  print('\\n----------------------', f[i], '--------------------------------')\n",
        "  for j in range(len(sentences[i])):\n",
        "    polarity = sentences[i][j].sentiment[0]\n",
        "    subjectivity = sentences[i][j].sentiment[1]\n",
        "    bailey_sentiment = polarity * subjectivity\n",
        "\n",
        "    print(j, '       |', round(polarity, 2), '    |', round(subjectivity, 2), '        |', round(bailey_sentiment, 2), '     |', 'avg')\n",
        "  print('=============================================================')"
      ],
      "execution_count": 37,
      "outputs": [
        {
          "output_type": "stream",
          "text": [
            "Sentence | Polarity | Subjectivity | Sentiment | Avg Sentiment\n",
            "\n",
            "---------------------- Biden --------------------------------\n",
            "0        | 0.06     | 0.33         | 0.02      | avg\n",
            "1        | 0.25     | 0.45         | 0.11      | avg\n",
            "2        | 0.24     | 0.36         | 0.09      | avg\n",
            "3        | 0.11     | 0.72         | 0.08      | avg\n",
            "4        | 0.33     | 0.67         | 0.22      | avg\n",
            "5        | -0.01     | 0.36         | -0.0      | avg\n",
            "=============================================================\n",
            "\n",
            "---------------------- Putin --------------------------------\n",
            "=============================================================\n",
            "\n",
            "---------------------- Sanders --------------------------------\n",
            "0        | 0.25     | 0.45         | 0.11      | avg\n",
            "1        | 0.0     | 0.56         | 0.0      | avg\n",
            "2        | 0.11     | 0.72         | 0.08      | avg\n",
            "3        | -0.01     | 0.36         | -0.0      | avg\n",
            "=============================================================\n",
            "\n",
            "---------------------- Trump --------------------------------\n",
            "=============================================================\n"
          ],
          "name": "stdout"
        }
      ]
    },
    {
      "cell_type": "code",
      "metadata": {
        "id": "wUiWMWeYneoo",
        "colab_type": "code",
        "outputId": "c3621aeb-e8fa-42ff-9ffd-ca40b95c7af0",
        "colab": {
          "base_uri": "https://localhost:8080/",
          "height": 72
        }
      },
      "source": [
        "# Test Section - This is used to test and see individual values to see if everything makes sense\n",
        "# Change the indicies in between the brackets to compare the different outputs\n",
        "print(sentences[0][0].sentiment)\n",
        "print(np.average(sentences[0][0].sentiment))\n",
        "print(round(np.average(sentences[0][0].sentiment), 3))"
      ],
      "execution_count": 38,
      "outputs": [
        {
          "output_type": "stream",
          "text": [
            "Sentiment(polarity=0.0642857142857143, subjectivity=0.32857142857142857)\n",
            "0.19642857142857142\n",
            "0.196\n"
          ],
          "name": "stdout"
        }
      ]
    },
    {
      "cell_type": "markdown",
      "metadata": {
        "id": "iq9KqPFuD2Z7",
        "colab_type": "text"
      },
      "source": [
        "## Calculate <font color='yellow'> Sentiment </font>  for Each Key Word\n",
        "\n"
      ]
    },
    {
      "cell_type": "code",
      "metadata": {
        "id": "RAMTvqB3qNz5",
        "colab_type": "code",
        "outputId": "41091701-5301-4696-f75b-5dc025ebc91e",
        "colab": {
          "base_uri": "https://localhost:8080/",
          "height": 181
        }
      },
      "source": [
        "sentiment = [[],[],[],[],[],[]]\n",
        "print('---Average Sentiment---')\n",
        "for i in range(len(f)):\n",
        "  try:\n",
        "    for j in range(len(sentences[i])):\n",
        "      sentiment[i].append(sentences[i][j].sentiment[0] * sentences[i][j].sentiment[1])  \n",
        "      np.average(sentiment[i]) \n",
        "  except:\n",
        "    print('The List is Empty')\n",
        "  print(f[i], np.average(sentiment[i])) "
      ],
      "execution_count": 45,
      "outputs": [
        {
          "output_type": "stream",
          "text": [
            "---Average Sentiment---\n",
            "Biden 0.08704166966472561\n",
            "Putin nan\n",
            "Sanders 0.04754046989166037\n",
            "Trump nan\n"
          ],
          "name": "stdout"
        },
        {
          "output_type": "stream",
          "text": [
            "/usr/local/lib/python3.6/dist-packages/numpy/lib/function_base.py:393: RuntimeWarning: Mean of empty slice.\n",
            "  avg = a.mean(axis)\n",
            "/usr/local/lib/python3.6/dist-packages/numpy/core/_methods.py:161: RuntimeWarning: invalid value encountered in double_scalars\n",
            "  ret = ret.dtype.type(ret / rcount)\n"
          ],
          "name": "stderr"
        }
      ]
    },
    {
      "cell_type": "code",
      "metadata": {
        "id": "svccbOHJ2pp9",
        "colab_type": "code",
        "outputId": "2b7bb4e0-183c-4643-fd4f-c18e901df162",
        "colab": {
          "base_uri": "https://localhost:8080/",
          "height": 163
        }
      },
      "source": [
        "# Test Section - This is used to test and see individual values to see if everything makes sense\n",
        "# Change the indicies in between the brackets to compare the different outputs\n",
        "print('1', np.average(sentiment[0]))\n",
        "print('2', np.average(sentiment[1]))\n",
        "print('3', np.average(sentiment[2]))\n",
        "print('4', np.average(sentiment[3]))"
      ],
      "execution_count": 46,
      "outputs": [
        {
          "output_type": "stream",
          "text": [
            "1 0.08704166966472561\n",
            "2 nan\n",
            "3 0.04754046989166037\n",
            "4 nan\n"
          ],
          "name": "stdout"
        },
        {
          "output_type": "stream",
          "text": [
            "/usr/local/lib/python3.6/dist-packages/numpy/lib/function_base.py:393: RuntimeWarning: Mean of empty slice.\n",
            "  avg = a.mean(axis)\n",
            "/usr/local/lib/python3.6/dist-packages/numpy/core/_methods.py:161: RuntimeWarning: invalid value encountered in double_scalars\n",
            "  ret = ret.dtype.type(ret / rcount)\n"
          ],
          "name": "stderr"
        }
      ]
    },
    {
      "cell_type": "markdown",
      "metadata": {
        "id": "zeheY8NR5Wfq",
        "colab_type": "text"
      },
      "source": [
        "## <font color='orange'> Plot Resutls  </font> \n",
        "\n",
        "---\n",
        "\n"
      ]
    },
    {
      "cell_type": "code",
      "metadata": {
        "colab_type": "code",
        "outputId": "f718e761-4464-4c82-f8d4-d8ba88c67b1a",
        "id": "67x90m1TBxe_",
        "colab": {
          "base_uri": "https://localhost:8080/",
          "height": 35
        }
      },
      "source": [
        "xaxis = []\n",
        "for i in range(len(sentiment[0])): # sentiment[0] is the list of sentiments for the first key word\n",
        "  xaxis.append(i)\n",
        "print(\"The xaxis is {}.\".format(xaxis))"
      ],
      "execution_count": 47,
      "outputs": [
        {
          "output_type": "stream",
          "text": [
            "The xaxis is [0, 1, 2, 3, 4, 5].\n"
          ],
          "name": "stdout"
        }
      ]
    },
    {
      "cell_type": "code",
      "metadata": {
        "colab_type": "code",
        "outputId": "7a1c9d26-eb85-48c3-a567-071e2cf853b0",
        "id": "ttvo-BHkBy4f",
        "colab": {
          "base_uri": "https://localhost:8080/",
          "height": 313
        }
      },
      "source": [
        "plt.scatter(xaxis, sentiment[0])\n",
        "plt.grid()\n",
        "plt.title(f[0] + ' Sentiment Per Sentence', color='w')\n",
        "plt.xlabel('Sentence', color='w')\n",
        "plt.ylabel('Sentiment', color='w')\n",
        "plt.xticks(color='w')\n",
        "plt.yticks(color='w')\n",
        "plt.ylim(-1,1)"
      ],
      "execution_count": 48,
      "outputs": [
        {
          "output_type": "execute_result",
          "data": {
            "text/plain": [
              "(-1.0, 1.0)"
            ]
          },
          "metadata": {
            "tags": []
          },
          "execution_count": 48
        },
        {
          "output_type": "display_data",
          "data": {
            "image/png": "[encoded data removed]",
            "text/plain": [
              "<Figure size 432x288 with 1 Axes>"
            ]
          },
          "metadata": {
            "tags": []
          }
        }
      ]
    },
    {
      "cell_type": "code",
      "metadata": {
        "colab_type": "code",
        "outputId": "70a0c537-9854-4006-cec5-1419480b5422",
        "id": "nkvKbMWP7QTO",
        "colab": {
          "base_uri": "https://localhost:8080/",
          "height": 35
        }
      },
      "source": [
        "xaxis = []\n",
        "for i in range(len(sentiment[2])): # sentiment[0] is the list of sentiments for the first key word\n",
        "  xaxis.append(i)\n",
        "print(\"The xaxis is {}.\".format(xaxis))"
      ],
      "execution_count": 49,
      "outputs": [
        {
          "output_type": "stream",
          "text": [
            "The xaxis is [0, 1, 2, 3].\n"
          ],
          "name": "stdout"
        }
      ]
    },
    {
      "cell_type": "code",
      "metadata": {
        "colab_type": "code",
        "outputId": "4b7704e9-039a-4f25-d499-5d5cd80672e9",
        "id": "-myfLEP_7Yq0",
        "colab": {
          "base_uri": "https://localhost:8080/",
          "height": 313
        }
      },
      "source": [
        "plt.scatter(xaxis, sentiment[2])\n",
        "plt.grid()\n",
        "plt.title(f[2] + ' Sentiment Per Sentence', color='w')\n",
        "plt.xlabel('Sentence', color='w')\n",
        "plt.ylabel('Sentiment', color='w')\n",
        "plt.xticks(color='w')\n",
        "plt.yticks(color='w')\n",
        "plt.ylim(-1,1)"
      ],
      "execution_count": 50,
      "outputs": [
        {
          "output_type": "execute_result",
          "data": {
            "text/plain": [
              "(-1.0, 1.0)"
            ]
          },
          "metadata": {
            "tags": []
          },
          "execution_count": 50
        },
        {
          "output_type": "display_data",
          "data": {
            "image/png": "[encoded data removed]",
            "text/plain": [
              "<Figure size 432x288 with 1 Axes>"
            ]
          },
          "metadata": {
            "tags": []
          }
        }
      ]
    },
    {
      "cell_type": "markdown",
      "metadata": {
        "id": "siPJbaebEX90",
        "colab_type": "text"
      },
      "source": [
        "## <font color='red'> UNDER CONSTRUCTION </font> "
      ]
    },
    {
      "cell_type": "code",
      "metadata": {
        "id": "D6vAmy6hLzoA",
        "colab_type": "code",
        "outputId": "4409d981-5590-4d92-dbec-4f7a7169139e",
        "colab": {
          "base_uri": "https://localhost:8080/",
          "height": 35
        }
      },
      "source": [
        "xaxis1 = []\n",
        "for i in range(len(sentiment[0])): # sentiment[0] is the list of sentiments for the first key word\n",
        "  xaxis1.append(i)\n",
        "print(\"The xaxis is {}.\".format(xaxis1))"
      ],
      "execution_count": 51,
      "outputs": [
        {
          "output_type": "stream",
          "text": [
            "The xaxis is [0, 1, 2, 3, 4, 5].\n"
          ],
          "name": "stdout"
        }
      ]
    },
    {
      "cell_type": "code",
      "metadata": {
        "id": "QZDzNHJ59aFP",
        "colab_type": "code",
        "outputId": "eadacbfa-aed2-43e5-ae8b-a413de7ce87d",
        "colab": {
          "base_uri": "https://localhost:8080/",
          "height": 35
        }
      },
      "source": [
        "xaxis2 = []\n",
        "for i in range(len(sentiment[1])): # sentiment[0] is the list of sentiments for the first key word\n",
        "  xaxis2.append(i)\n",
        "print(\"The xaxis is {}.\".format(xaxis2))"
      ],
      "execution_count": 52,
      "outputs": [
        {
          "output_type": "stream",
          "text": [
            "The xaxis is [].\n"
          ],
          "name": "stdout"
        }
      ]
    },
    {
      "cell_type": "code",
      "metadata": {
        "id": "k7JCRyJMAVnu",
        "colab_type": "code",
        "outputId": "78cac5dc-a9b9-4bf7-b9fd-3c0d4d7063de",
        "colab": {
          "base_uri": "https://localhost:8080/",
          "height": 723
        }
      },
      "source": [
        "x1 = xaxis1 \n",
        "x2 = xaxis2\n",
        "y1 = sentiment[0]\n",
        "y2 = sentiment[2]\n",
        "\n",
        "fit, axes = plt.subplots(nrows=1, ncols=2,figsize=(10,5))\n",
        "plt.grid()\n",
        "axes[0].scatter(x1,y1)\n",
        "#plt.grid()\n",
        "axes[1].scatter(x2,y2)\n",
        "\n",
        "\n",
        "fig.tight_layout()"
      ],
      "execution_count": 55,
      "outputs": [
        {
          "output_type": "error",
          "ename": "ValueError",
          "evalue": "ignored",
          "traceback": [
            "\u001b[0;31m---------------------------------------------------------------------------\u001b[0m",
            "\u001b[0;31mValueError\u001b[0m                                Traceback (most recent call last)",
            "\u001b[0;32m<ipython-input-55-75eda9479d30>\u001b[0m in \u001b[0;36m<module>\u001b[0;34m()\u001b[0m\n\u001b[1;32m      8\u001b[0m \u001b[0maxes\u001b[0m\u001b[0;34m[\u001b[0m\u001b[0;36m0\u001b[0m\u001b[0;34m]\u001b[0m\u001b[0;34m.\u001b[0m\u001b[0mscatter\u001b[0m\u001b[0;34m(\u001b[0m\u001b[0mx1\u001b[0m\u001b[0;34m,\u001b[0m\u001b[0my1\u001b[0m\u001b[0;34m)\u001b[0m\u001b[0;34m\u001b[0m\u001b[0;34m\u001b[0m\u001b[0m\n\u001b[1;32m      9\u001b[0m \u001b[0;31m#plt.grid()\u001b[0m\u001b[0;34m\u001b[0m\u001b[0;34m\u001b[0m\u001b[0;34m\u001b[0m\u001b[0m\n\u001b[0;32m---> 10\u001b[0;31m \u001b[0maxes\u001b[0m\u001b[0;34m[\u001b[0m\u001b[0;36m1\u001b[0m\u001b[0;34m]\u001b[0m\u001b[0;34m.\u001b[0m\u001b[0mscatter\u001b[0m\u001b[0;34m(\u001b[0m\u001b[0mx2\u001b[0m\u001b[0;34m,\u001b[0m\u001b[0my2\u001b[0m\u001b[0;34m)\u001b[0m\u001b[0;34m\u001b[0m\u001b[0;34m\u001b[0m\u001b[0m\n\u001b[0m\u001b[1;32m     11\u001b[0m \u001b[0;34m\u001b[0m\u001b[0m\n\u001b[1;32m     12\u001b[0m \u001b[0;34m\u001b[0m\u001b[0m\n",
            "\u001b[0;32m/usr/local/lib/python3.6/dist-packages/matplotlib/__init__.py\u001b[0m in \u001b[0;36minner\u001b[0;34m(ax, data, *args, **kwargs)\u001b[0m\n\u001b[1;32m   1541\u001b[0m     \u001b[0;32mdef\u001b[0m \u001b[0minner\u001b[0m\u001b[0;34m(\u001b[0m\u001b[0max\u001b[0m\u001b[0;34m,\u001b[0m \u001b[0;34m*\u001b[0m\u001b[0margs\u001b[0m\u001b[0;34m,\u001b[0m \u001b[0mdata\u001b[0m\u001b[0;34m=\u001b[0m\u001b[0;32mNone\u001b[0m\u001b[0;34m,\u001b[0m \u001b[0;34m**\u001b[0m\u001b[0mkwargs\u001b[0m\u001b[0;34m)\u001b[0m\u001b[0;34m:\u001b[0m\u001b[0;34m\u001b[0m\u001b[0;34m\u001b[0m\u001b[0m\n\u001b[1;32m   1542\u001b[0m         \u001b[0;32mif\u001b[0m \u001b[0mdata\u001b[0m \u001b[0;32mis\u001b[0m \u001b[0;32mNone\u001b[0m\u001b[0;34m:\u001b[0m\u001b[0;34m\u001b[0m\u001b[0;34m\u001b[0m\u001b[0m\n\u001b[0;32m-> 1543\u001b[0;31m             \u001b[0;32mreturn\u001b[0m \u001b[0mfunc\u001b[0m\u001b[0;34m(\u001b[0m\u001b[0max\u001b[0m\u001b[0;34m,\u001b[0m \u001b[0;34m*\u001b[0m\u001b[0mmap\u001b[0m\u001b[0;34m(\u001b[0m\u001b[0msanitize_sequence\u001b[0m\u001b[0;34m,\u001b[0m \u001b[0margs\u001b[0m\u001b[0;34m)\u001b[0m\u001b[0;34m,\u001b[0m \u001b[0;34m**\u001b[0m\u001b[0mkwargs\u001b[0m\u001b[0;34m)\u001b[0m\u001b[0;34m\u001b[0m\u001b[0;34m\u001b[0m\u001b[0m\n\u001b[0m\u001b[1;32m   1544\u001b[0m \u001b[0;34m\u001b[0m\u001b[0m\n\u001b[1;32m   1545\u001b[0m         \u001b[0mbound\u001b[0m \u001b[0;34m=\u001b[0m \u001b[0mnew_sig\u001b[0m\u001b[0;34m.\u001b[0m\u001b[0mbind\u001b[0m\u001b[0;34m(\u001b[0m\u001b[0max\u001b[0m\u001b[0;34m,\u001b[0m \u001b[0;34m*\u001b[0m\u001b[0margs\u001b[0m\u001b[0;34m,\u001b[0m \u001b[0;34m**\u001b[0m\u001b[0mkwargs\u001b[0m\u001b[0;34m)\u001b[0m\u001b[0;34m\u001b[0m\u001b[0;34m\u001b[0m\u001b[0m\n",
            "\u001b[0;32m/usr/local/lib/python3.6/dist-packages/matplotlib/cbook/deprecation.py\u001b[0m in \u001b[0;36mwrapper\u001b[0;34m(*args, **kwargs)\u001b[0m\n\u001b[1;32m    356\u001b[0m                 \u001b[0;34mf\"%(removal)s.  If any parameter follows {name!r}, they \"\u001b[0m\u001b[0;34m\u001b[0m\u001b[0;34m\u001b[0m\u001b[0m\n\u001b[1;32m    357\u001b[0m                 f\"should be pass as keyword, not positionally.\")\n\u001b[0;32m--> 358\u001b[0;31m         \u001b[0;32mreturn\u001b[0m \u001b[0mfunc\u001b[0m\u001b[0;34m(\u001b[0m\u001b[0;34m*\u001b[0m\u001b[0margs\u001b[0m\u001b[0;34m,\u001b[0m \u001b[0;34m**\u001b[0m\u001b[0mkwargs\u001b[0m\u001b[0;34m)\u001b[0m\u001b[0;34m\u001b[0m\u001b[0;34m\u001b[0m\u001b[0m\n\u001b[0m\u001b[1;32m    359\u001b[0m \u001b[0;34m\u001b[0m\u001b[0m\n\u001b[1;32m    360\u001b[0m     \u001b[0;32mreturn\u001b[0m \u001b[0mwrapper\u001b[0m\u001b[0;34m\u001b[0m\u001b[0;34m\u001b[0m\u001b[0m\n",
            "\u001b[0;32m/usr/local/lib/python3.6/dist-packages/matplotlib/axes/_axes.py\u001b[0m in \u001b[0;36mscatter\u001b[0;34m(self, x, y, s, c, marker, cmap, norm, vmin, vmax, alpha, linewidths, verts, edgecolors, plotnonfinite, **kwargs)\u001b[0m\n\u001b[1;32m   4378\u001b[0m         \u001b[0my\u001b[0m \u001b[0;34m=\u001b[0m \u001b[0mnp\u001b[0m\u001b[0;34m.\u001b[0m\u001b[0mma\u001b[0m\u001b[0;34m.\u001b[0m\u001b[0mravel\u001b[0m\u001b[0;34m(\u001b[0m\u001b[0my\u001b[0m\u001b[0;34m)\u001b[0m\u001b[0;34m\u001b[0m\u001b[0;34m\u001b[0m\u001b[0m\n\u001b[1;32m   4379\u001b[0m         \u001b[0;32mif\u001b[0m \u001b[0mx\u001b[0m\u001b[0;34m.\u001b[0m\u001b[0msize\u001b[0m \u001b[0;34m!=\u001b[0m \u001b[0my\u001b[0m\u001b[0;34m.\u001b[0m\u001b[0msize\u001b[0m\u001b[0;34m:\u001b[0m\u001b[0;34m\u001b[0m\u001b[0;34m\u001b[0m\u001b[0m\n\u001b[0;32m-> 4380\u001b[0;31m             \u001b[0;32mraise\u001b[0m \u001b[0mValueError\u001b[0m\u001b[0;34m(\u001b[0m\u001b[0;34m\"x and y must be the same size\"\u001b[0m\u001b[0;34m)\u001b[0m\u001b[0;34m\u001b[0m\u001b[0;34m\u001b[0m\u001b[0m\n\u001b[0m\u001b[1;32m   4381\u001b[0m \u001b[0;34m\u001b[0m\u001b[0m\n\u001b[1;32m   4382\u001b[0m         \u001b[0;32mif\u001b[0m \u001b[0ms\u001b[0m \u001b[0;32mis\u001b[0m \u001b[0;32mNone\u001b[0m\u001b[0;34m:\u001b[0m\u001b[0;34m\u001b[0m\u001b[0;34m\u001b[0m\u001b[0m\n",
            "\u001b[0;31mValueError\u001b[0m: x and y must be the same size"
          ]
        },
        {
          "output_type": "display_data",
          "data": {
            "image/png": "[encoded data removed]",
            "text/plain": [
              "<Figure size 720x360 with 2 Axes>"
            ]
          },
          "metadata": {
            "tags": []
          }
        }
      ]
    },
    {
      "cell_type": "code",
      "metadata": {
        "id": "7AJ160-6qg5X",
        "colab_type": "code",
        "outputId": "2c7bf350-240e-43eb-b30b-91833527434e",
        "colab": {
          "base_uri": "https://localhost:8080/",
          "height": 442
        }
      },
      "source": [
        "\n",
        "x1 = xaxis1 \n",
        "x2 = xaxis2\n",
        "y1 = sentiment[0]\n",
        "y2 = sentiment[2]\n",
        "\n",
        "fit, axes = plt.subplots(nrows=2, ncols=2,figsize=(5,3))\n",
        "axes[0].plot(x1,y1)\n",
        "axes[2].plot(x2,y2)\n",
        "\n",
        "# First Subplot\n",
        "#plt.subplot(1,2,1)\n",
        "plt.scatter(x1, y1)\n",
        "plt.grid()\n",
        "plt.title(f[0] + ' Sentiment Per Sentence', color='w')\n",
        "plt.ylabel('Sentiment', color='w')\n",
        "plt.yticks(color='w')\n",
        "plt.ylim(-1,1)\n",
        "\n",
        "# Second Subplot\n",
        "#plt.subplot(1,2,2) \n",
        "plt.scatter(x2, y2)\n",
        "plt.grid()\n",
        "plt.title(f[2] + ' Sentiment Per Sentence', color='w')\n",
        "plt.xticks(color='w')\n",
        "\n",
        "plt.xlabel('Sentence', color='w')\n",
        "plt.ylabel('Sentiment', color='w')\n",
        "\n",
        "plt.yticks(color='w')\n",
        "plt.ylim(-1,1)\n",
        "\n",
        "plt.tight_layout() # This spaces the graphs out"
      ],
      "execution_count": 59,
      "outputs": [
        {
          "output_type": "error",
          "ename": "AttributeError",
          "evalue": "ignored",
          "traceback": [
            "\u001b[0;31m---------------------------------------------------------------------------\u001b[0m",
            "\u001b[0;31mAttributeError\u001b[0m                            Traceback (most recent call last)",
            "\u001b[0;32m<ipython-input-59-90a3cf013302>\u001b[0m in \u001b[0;36m<module>\u001b[0;34m()\u001b[0m\n\u001b[1;32m      6\u001b[0m \u001b[0;34m\u001b[0m\u001b[0m\n\u001b[1;32m      7\u001b[0m \u001b[0mfit\u001b[0m\u001b[0;34m,\u001b[0m \u001b[0maxes\u001b[0m \u001b[0;34m=\u001b[0m \u001b[0mplt\u001b[0m\u001b[0;34m.\u001b[0m\u001b[0msubplots\u001b[0m\u001b[0;34m(\u001b[0m\u001b[0mnrows\u001b[0m\u001b[0;34m=\u001b[0m\u001b[0;36m2\u001b[0m\u001b[0;34m,\u001b[0m \u001b[0mncols\u001b[0m\u001b[0;34m=\u001b[0m\u001b[0;36m2\u001b[0m\u001b[0;34m,\u001b[0m\u001b[0mfigsize\u001b[0m\u001b[0;34m=\u001b[0m\u001b[0;34m(\u001b[0m\u001b[0;36m5\u001b[0m\u001b[0;34m,\u001b[0m\u001b[0;36m3\u001b[0m\u001b[0;34m)\u001b[0m\u001b[0;34m)\u001b[0m\u001b[0;34m\u001b[0m\u001b[0;34m\u001b[0m\u001b[0m\n\u001b[0;32m----> 8\u001b[0;31m \u001b[0maxes\u001b[0m\u001b[0;34m[\u001b[0m\u001b[0;36m0\u001b[0m\u001b[0;34m]\u001b[0m\u001b[0;34m.\u001b[0m\u001b[0mplot\u001b[0m\u001b[0;34m(\u001b[0m\u001b[0mx1\u001b[0m\u001b[0;34m,\u001b[0m\u001b[0my1\u001b[0m\u001b[0;34m)\u001b[0m\u001b[0;34m\u001b[0m\u001b[0;34m\u001b[0m\u001b[0m\n\u001b[0m\u001b[1;32m      9\u001b[0m \u001b[0maxes\u001b[0m\u001b[0;34m[\u001b[0m\u001b[0;36m2\u001b[0m\u001b[0;34m]\u001b[0m\u001b[0;34m.\u001b[0m\u001b[0mplot\u001b[0m\u001b[0;34m(\u001b[0m\u001b[0mx2\u001b[0m\u001b[0;34m,\u001b[0m\u001b[0my2\u001b[0m\u001b[0;34m)\u001b[0m\u001b[0;34m\u001b[0m\u001b[0;34m\u001b[0m\u001b[0m\n\u001b[1;32m     10\u001b[0m \u001b[0;34m\u001b[0m\u001b[0m\n",
            "\u001b[0;31mAttributeError\u001b[0m: 'numpy.ndarray' object has no attribute 'plot'"
          ]
        },
        {
          "output_type": "display_data",
          "data": {
            "image/png": "[encoded data removed]",
            "text/plain": [
              "<Figure size 360x216 with 4 Axes>"
            ]
          },
          "metadata": {
            "tags": []
          }
        }
      ]
    },
    {
      "cell_type": "code",
      "metadata": {
        "id": "EUB59fC2r4oI",
        "colab_type": "code",
        "colab": {}
      },
      "source": [
        ""
      ],
      "execution_count": 0,
      "outputs": []
    }
  ]
}