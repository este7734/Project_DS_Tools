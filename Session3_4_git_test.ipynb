{
  "nbformat": 4,
  "nbformat_minor": 0,
  "metadata": {
    "colab": {
      "name": "Session3_4_git_test.ipynb",
      "provenance": [],
      "collapsed_sections": [],
      "include_colab_link": true
    },
    "kernelspec": {
      "name": "python3",
      "display_name": "Python 3"
    }
  },
  "cells": [
    {
      "cell_type": "markdown",
      "metadata": {
        "id": "view-in-github",
        "colab_type": "text"
      },
      "source": [
        "<a href=\"https://colab.research.google.com/github/este7734/Project_DS_Tools/blob/master/Session3_4_git_test.ipynb\" target=\"_parent\"><img src=\"https://colab.research.google.com/assets/colab-badge.svg\" alt=\"Open In Colab\"/></a>"
      ]
    },
    {
      "cell_type": "code",
      "metadata": {
        "id": "IX-T4M7I5PGk",
        "colab_type": "code",
        "colab": {}
      },
      "source": [
        "# This is to test GitHub functionality\n",
        "# This is version 1 of this code\n",
        "\n",
        "# This is the second version"
      ],
      "execution_count": 0,
      "outputs": []
    },
    {
      "cell_type": "code",
      "metadata": {
        "id": "U9VNcdWyR6gf",
        "colab_type": "code",
        "colab": {}
      },
      "source": [
        "# This is Lozano acknowledging the clone to desktop"
      ],
      "execution_count": 0,
      "outputs": []
    }
  ]
}