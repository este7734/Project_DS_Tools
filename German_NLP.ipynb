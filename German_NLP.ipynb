{
  "nbformat": 4,
  "nbformat_minor": 0,
  "metadata": {
    "kernelspec": {
      "display_name": "Python 3",
      "language": "python",
      "name": "python3"
    },
    "language_info": {
      "codemirror_mode": {
        "name": "ipython",
        "version": 3
      },
      "file_extension": ".py",
      "mimetype": "text/x-python",
      "name": "python",
      "nbconvert_exporter": "python",
      "pygments_lexer": "ipython3",
      "version": "3.6.3"
    },
    "colab": {
      "name": "German_NLP.ipynb",
      "provenance": [],
      "collapsed_sections": [],
      "toc_visible": true,
      "include_colab_link": true
    }
  },
  "cells": [
    {
      "cell_type": "markdown",
      "metadata": {
        "id": "view-in-github",
        "colab_type": "text"
      },
      "source": [
        "<a href=\"https://colab.research.google.com/github/este7734/Project_DS_Tools/blob/master/German_NLP.ipynb\" target=\"_parent\"><img src=\"https://colab.research.google.com/assets/colab-badge.svg\" alt=\"Open In Colab\"/></a>"
      ]
    },
    {
      "cell_type": "markdown",
      "metadata": {
        "id": "BN9ohTbVivxQ",
        "colab_type": "text"
      },
      "source": [
        "# Data Science Tools and Techniques\n",
        "\n",
        "# Natural Language Processing Exercise"
      ]
    },
    {
      "cell_type": "markdown",
      "metadata": {
        "id": "LpEihNNDivxV",
        "colab_type": "text"
      },
      "source": [
        "Perform the tasks below to demonstrate your understanding of NLP.  You may reference the TextBlob documentation here:\n",
        "\n",
        "https://textblob.readthedocs.io/en/dev/"
      ]
    },
    {
      "cell_type": "markdown",
      "metadata": {
        "id": "eA8rFBFLivxY",
        "colab_type": "text"
      },
      "source": [
        "Natural Language Processing is a very versatile tool in data science.  Among other things, it can be used to quantitate the affect, or emotional content, of text.  This technique is called sentiment analysis, and is often used in industry to measure how customers feel about a particular company or product.\n",
        "\n",
        "Sputnik is a Russian media outlet.  In this exercise, you will measure the sentiment of an English-language Sputnik article that mentions a U.S. political candidates."
      ]
    },
    {
      "cell_type": "markdown",
      "metadata": {
        "id": "GbzUuecdivxb",
        "colab_type": "raw"
      },
      "source": [
        "In the space below, specify the location of the news_text.txt file:"
      ]
    },
    {
      "cell_type": "code",
      "metadata": {
        "id": "SVApwG0AvGkN",
        "colab_type": "code",
        "outputId": "66f5a316-ca3f-4186-d6f0-dedc03871da1",
        "colab": {
          "base_uri": "https://localhost:8080/",
          "height": 34
        }
      },
      "source": [
        "%ls"
      ],
      "execution_count": 9,
      "outputs": [
        {
          "output_type": "stream",
          "text": [
            "news_text.txt  \u001b[0m\u001b[01;34msample_data\u001b[0m/\n"
          ],
          "name": "stdout"
        }
      ]
    },
    {
      "cell_type": "code",
      "metadata": {
        "id": "AFU8dqERivxe",
        "colab_type": "code",
        "outputId": "2ed2aa07-5574-43ed-c6ba-5c0b094c3876",
        "colab": {
          "base_uri": "https://localhost:8080/",
          "height": 51
        }
      },
      "source": [
        "file1 = 'Spiegel_DuetcheBank_Trump.txt'\n",
        "file2 = 'Spiegel_Iran_Protests.txt'\n",
        "file3 = 'Spiegel_Trump_Peace_Plan.txt'\n",
        "\n",
        "file4 = 'Zeit_URL_1_Holocaust'\n",
        "file5 = 'Zeit_URL_2_xenophobic_politicians'\n",
        "file6 = 'Zeit_URL_3_NATO_Germany_contribution'\n",
        "\n",
        "file7 = 'news_text.txt'\n",
        "\n",
        "\n",
        "print(file7)\n",
        "\n",
        "#file_path = r'C:\\Users\\student\\Desktop\\404_is_Found\\Sessions\\Sessions 3 & 4\\news_text.txt'\n",
        "file_path = r'news_text.txt'\n",
        "#file_path = r', (file7)\n",
        "\n",
        "file_path"
      ],
      "execution_count": 29,
      "outputs": [
        {
          "output_type": "stream",
          "text": [
            "news_text.txt\n"
          ],
          "name": "stdout"
        },
        {
          "output_type": "execute_result",
          "data": {
            "text/plain": [
              "'news_text.txt'"
            ]
          },
          "metadata": {
            "tags": []
          },
          "execution_count": 29
        }
      ]
    },
    {
      "cell_type": "markdown",
      "metadata": {
        "id": "erzPtD3X5Di-",
        "colab_type": "text"
      },
      "source": [
        "# New Section"
      ]
    },
    {
      "cell_type": "code",
      "metadata": {
        "id": "s4EZvBt3ivxr",
        "colab_type": "code",
        "colab": {}
      },
      "source": [
        "#open text\n",
        "def open_text(file_path):\n",
        "    with open(file_path, 'r') as document:\n",
        "        text = document.read()\n",
        "    return text"
      ],
      "execution_count": 0,
      "outputs": []
    },
    {
      "cell_type": "code",
      "metadata": {
        "id": "sv4HrFvKivx3",
        "colab_type": "code",
        "outputId": "86cd3c22-2be3-44b5-d68a-e6e56535e392",
        "colab": {
          "base_uri": "https://localhost:8080/",
          "height": 54
        }
      },
      "source": [
        "text = open_text(file_path)\n",
        "text"
      ],
      "execution_count": 31,
      "outputs": [
        {
          "output_type": "execute_result",
          "data": {
            "text/plain": [
              "'Former Vice President Joe Biden is considered to be the frontrunner in the US Democratic primaries despite his controversial performance during the second debate in August and a recently emerged scandal about him allegedly meddling in Ukrainian internal affairs to save his son from potential prosecution. In his latest appeal to US voters to support his election campaign, Vermont Senator Bernie Sanders has accused former Vice President Joe Biden and his allies of trying to \"buy\" the Democratic primaries. \"It should not be a surprise that wealthy donors of the political establishment are trying to buy this election. Now we need to be ready for when they do\", he said. The senator referred to a recent The New York Times article claiming that Biden\\'s allies believe that the former vice president won\\'t be able to win his campaign without the use of so-called Super Political Action Committees (Super PACs). Sanders claimed that such actions endanger his campaign and the entire US. \"Super PACs can raise and spend unlimited amounts of money to promote or attack candidates. They are a threat to our democracy. And frankly, they are a threat to our campaign and our hopes to transform our country\", the Vermont senator said. Sanders asked his supporters to \"chip in what they can\" in a bid to amass enough funds to overcome potential pro-Biden Super PAC efforts. All of the Democratic candidates have said they will not accept support from any Super PACs,  including Biden, according to the NYT article. Super PACs can indeed attract unlimited donations, but must spend the funds independently without directly coordinating with any of the candidates or parties, who are limited in how much funding they can attract. But they can still support certain election campaigns without coordinating with them directly. In their campaign spending, Super PACs sometimes surpass all candidates, as was the case in the 2012 Republican primaries. In the 2019 Democratic primaries, Bernie Sanders kicked off as a leader in raising funds, with an average donation of $34 in the first quarter of the year, but this later slid to only $18 in the second quarter, giving way to Biden, with average donation of $49 per individual.\\n\\n\\n'"
            ]
          },
          "metadata": {
            "tags": []
          },
          "execution_count": 31
        }
      ]
    },
    {
      "cell_type": "code",
      "metadata": {
        "id": "6cVForAwivyC",
        "colab_type": "code",
        "outputId": "053e2b34-67dd-484e-9320-cd139522736b",
        "colab": {
          "base_uri": "https://localhost:8080/",
          "height": 68
        }
      },
      "source": [
        "from textblob import TextBlob\n",
        "\n",
        "# Import these dependencies if using Google Colab \n",
        "import nltk\n",
        "nltk.download('punkt')"
      ],
      "execution_count": 32,
      "outputs": [
        {
          "output_type": "stream",
          "text": [
            "[nltk_data] Downloading package punkt to /root/nltk_data...\n",
            "[nltk_data]   Unzipping tokenizers/punkt.zip.\n"
          ],
          "name": "stdout"
        },
        {
          "output_type": "execute_result",
          "data": {
            "text/plain": [
              "True"
            ]
          },
          "metadata": {
            "tags": []
          },
          "execution_count": 32
        }
      ]
    },
    {
      "cell_type": "code",
      "metadata": {
        "id": "mpFugUBuivyJ",
        "colab_type": "code",
        "colab": {}
      },
      "source": [
        "blob = TextBlob(text)"
      ],
      "execution_count": 0,
      "outputs": []
    },
    {
      "cell_type": "markdown",
      "metadata": {
        "id": "id4xUyUDivyQ",
        "colab_type": "text"
      },
      "source": [
        "Now that you have instatiated your text as a TextBlob object, you can perform text manipulations.  First, let's generate a list of all sentences in your TextBlob object:\n",
        "\n",
        "blob_sentences = blob.sentences\n",
        "\n",
        "Do this in the space below, and print the result (you should see a list of sentences):"
      ]
    },
    {
      "cell_type": "code",
      "metadata": {
        "id": "zdGsmdndivyS",
        "colab_type": "code",
        "colab": {}
      },
      "source": [
        "blob_sentences = blob.sentences"
      ],
      "execution_count": 0,
      "outputs": []
    },
    {
      "cell_type": "code",
      "metadata": {
        "id": "2xN0ZSBJ510j",
        "colab_type": "code",
        "outputId": "c1698137-a2ff-4733-90f7-2ce326ac7135",
        "colab": {
          "base_uri": "https://localhost:8080/",
          "height": 34
        }
      },
      "source": [
        "# Allow user to type in key words to search the text for\n",
        "filter_list = input('Enter words to filter by separated by commas: ').title() # This is still a string... not a list yet"
      ],
      "execution_count": 198,
      "outputs": [
        {
          "output_type": "stream",
          "text": [
            "Enter words to filter by separated by commas: biden,trump,sanders,putin\n"
          ],
          "name": "stdout"
        }
      ]
    },
    {
      "cell_type": "code",
      "metadata": {
        "id": "49R1H35B7aH8",
        "colab_type": "code",
        "outputId": "d64625ab-adf8-46ff-c531-71f9fe1471ae",
        "colab": {
          "base_uri": "https://localhost:8080/",
          "height": 34
        }
      },
      "source": [
        "fliter_list = list(filter_list) # Convert string to a list (it currently has 1 long string element of key words)\n",
        "\n",
        "f = []\n",
        "for word in (filter_list.split(\",\")):  # Split string into separate words, separate by comma\n",
        "  f.append(word)                       # Generate new list containing each key word\n",
        "f # This is now a list of key words that the user typed in"
      ],
      "execution_count": 199,
      "outputs": [
        {
          "output_type": "execute_result",
          "data": {
            "text/plain": [
              "['Biden', 'Trump', 'Sanders', 'Putin']"
            ]
          },
          "metadata": {
            "tags": []
          },
          "execution_count": 199
        }
      ]
    },
    {
      "cell_type": "markdown",
      "metadata": {
        "id": "GTNasDzQLinR",
        "colab_type": "text"
      },
      "source": [
        "## TEST SPACE"
      ]
    },
    {
      "cell_type": "code",
      "metadata": {
        "id": "MXjYMd1-LUrT",
        "colab_type": "code",
        "outputId": "cdd4970f-000d-4afa-f173-057eb03ef98f",
        "colab": {
          "base_uri": "https://localhost:8080/",
          "height": 428
        }
      },
      "source": [
        "# Instantiate list for holding the sentences\n",
        "sentences = []\n",
        "\n",
        "# Generate empty list of lists \n",
        "for i in range(len(f)):\n",
        "  sentences.append([])\n",
        "print(sentences)\n",
        "\n",
        "# Generate lists of sentences for each key word and plug them into the list of lists from above            \n",
        "for i in range(len(f)):\n",
        "  for sentence in blob_sentences:\n",
        "    if f[i] in sentence:\n",
        "        sentences[i].append(sentence)\n",
        "        \n",
        "# Print number of sentences containing each key word\n",
        "# Print out all sentences containing each key word\n",
        "for i in range(len(f)):\n",
        "  print('-----------------------------------------------------------------')   \n",
        "  print('There are {} sentences in containing the word: {} '.format(len(sentences[i]), f[i]), '\\n') \n",
        "  for sentence in sentences[i]:\n",
        "      print(sentence)\n"
      ],
      "execution_count": 201,
      "outputs": [
        {
          "output_type": "stream",
          "text": [
            "[[], [], [], []]\n",
            "-----------------------------------------------------------------\n",
            "There are 6 sentences in containing the word: Biden  \n",
            "\n",
            "Former Vice President Joe Biden is considered to be the frontrunner in the US Democratic primaries despite his controversial performance during the second debate in August and a recently emerged scandal about him allegedly meddling in Ukrainian internal affairs to save his son from potential prosecution.\n",
            "In his latest appeal to US voters to support his election campaign, Vermont Senator Bernie Sanders has accused former Vice President Joe Biden and his allies of trying to \"buy\" the Democratic primaries.\n",
            "The senator referred to a recent The New York Times article claiming that Biden's allies believe that the former vice president won't be able to win his campaign without the use of so-called Super Political Action Committees (Super PACs).\n",
            "Sanders asked his supporters to \"chip in what they can\" in a bid to amass enough funds to overcome potential pro-Biden Super PAC efforts.\n",
            "All of the Democratic candidates have said they will not accept support from any Super PACs,  including Biden, according to the NYT article.\n",
            "In the 2019 Democratic primaries, Bernie Sanders kicked off as a leader in raising funds, with an average donation of $34 in the first quarter of the year, but this later slid to only $18 in the second quarter, giving way to Biden, with average donation of $49 per individual.\n",
            "-----------------------------------------------------------------\n",
            "There are 0 sentences in containing the word: Trump  \n",
            "\n",
            "-----------------------------------------------------------------\n",
            "There are 4 sentences in containing the word: Sanders  \n",
            "\n",
            "In his latest appeal to US voters to support his election campaign, Vermont Senator Bernie Sanders has accused former Vice President Joe Biden and his allies of trying to \"buy\" the Democratic primaries.\n",
            "Sanders claimed that such actions endanger his campaign and the entire US.\n",
            "Sanders asked his supporters to \"chip in what they can\" in a bid to amass enough funds to overcome potential pro-Biden Super PAC efforts.\n",
            "In the 2019 Democratic primaries, Bernie Sanders kicked off as a leader in raising funds, with an average donation of $34 in the first quarter of the year, but this later slid to only $18 in the second quarter, giving way to Biden, with average donation of $49 per individual.\n",
            "-----------------------------------------------------------------\n",
            "There are 0 sentences in containing the word: Putin  \n",
            "\n"
          ],
          "name": "stdout"
        }
      ]
    },
    {
      "cell_type": "markdown",
      "metadata": {
        "id": "MwLPnUsBLmjI",
        "colab_type": "text"
      },
      "source": [
        "\n",
        "\n",
        "---\n",
        "\n",
        "\n",
        "\n",
        "\n",
        "\n"
      ]
    },
    {
      "cell_type": "code",
      "metadata": {
        "id": "q4b-c7vyivyo",
        "colab_type": "code",
        "outputId": "e6eeb583-994e-4a58-d724-d33022349276",
        "colab": {
          "base_uri": "https://localhost:8080/",
          "height": 35
        }
      },
      "source": [
        "blob.sentiment"
      ],
      "execution_count": 0,
      "outputs": [
        {
          "output_type": "execute_result",
          "data": {
            "text/plain": [
              "Sentiment(polarity=0.1398268398268398, subjectivity=0.427763515554213)"
            ]
          },
          "metadata": {
            "tags": []
          },
          "execution_count": 37
        }
      ]
    },
    {
      "cell_type": "code",
      "metadata": {
        "id": "YENzJP7Bivyu",
        "colab_type": "code",
        "outputId": "27326ad7-faca-4609-bfab-8e4be14f7b76",
        "colab": {
          "base_uri": "https://localhost:8080/",
          "height": 198
        }
      },
      "source": [
        "print(len(Sanders_filtered_sentences))\n",
        "\n",
        "print('This shows objectivity and polarity in second Sanders sentence: ',Sanders_filtered_sentences[1].sentiment)"
      ],
      "execution_count": 131,
      "outputs": [
        {
          "output_type": "error",
          "ename": "NameError",
          "evalue": "ignored",
          "traceback": [
            "\u001b[0;31m---------------------------------------------------------------------------\u001b[0m",
            "\u001b[0;31mNameError\u001b[0m                                 Traceback (most recent call last)",
            "\u001b[0;32m<ipython-input-131-314b804e2108>\u001b[0m in \u001b[0;36m<module>\u001b[0;34m()\u001b[0m\n\u001b[0;32m----> 1\u001b[0;31m \u001b[0mprint\u001b[0m\u001b[0;34m(\u001b[0m\u001b[0mlen\u001b[0m\u001b[0;34m(\u001b[0m\u001b[0mSanders_filtered_sentences\u001b[0m\u001b[0;34m)\u001b[0m\u001b[0;34m)\u001b[0m\u001b[0;34m\u001b[0m\u001b[0;34m\u001b[0m\u001b[0m\n\u001b[0m\u001b[1;32m      2\u001b[0m \u001b[0;34m\u001b[0m\u001b[0m\n\u001b[1;32m      3\u001b[0m \u001b[0mprint\u001b[0m\u001b[0;34m(\u001b[0m\u001b[0;34m'This shows objectivity and polarity in second Sanders sentence: '\u001b[0m\u001b[0;34m,\u001b[0m\u001b[0mSanders_filtered_sentences\u001b[0m\u001b[0;34m[\u001b[0m\u001b[0;36m1\u001b[0m\u001b[0;34m]\u001b[0m\u001b[0;34m.\u001b[0m\u001b[0msentiment\u001b[0m\u001b[0;34m)\u001b[0m\u001b[0;34m\u001b[0m\u001b[0;34m\u001b[0m\u001b[0m\n",
            "\u001b[0;31mNameError\u001b[0m: name 'Sanders_filtered_sentences' is not defined"
          ]
        }
      ]
    },
    {
      "cell_type": "code",
      "metadata": {
        "id": "orgdlQiMivy0",
        "colab_type": "code",
        "outputId": "c5bac592-8a63-4f66-b152-2b00832f7d23",
        "colab": {
          "base_uri": "https://localhost:8080/",
          "height": 71
        }
      },
      "source": [
        "polarity = Sanders_filtered_sentences[1].sentiment[0]\n",
        "subjectivity = Sanders_filtered_sentences[1].sentiment[1]\n",
        "sentiment = polarity * subjectivity\n",
        "\n",
        "print('Polarity: ', polarity)\n",
        "print('Subjectivity: ', subjectivity)\n",
        "print('Sentiment: ', sentiment)\n",
        "# No emotion due to polarity, but sentiment is center-mass. "
      ],
      "execution_count": 0,
      "outputs": [
        {
          "output_type": "stream",
          "text": [
            "Polarity:  0.0\n",
            "Subjectivity:  0.5625\n",
            "Sentiment:  0.0\n"
          ],
          "name": "stdout"
        }
      ]
    },
    {
      "cell_type": "code",
      "metadata": {
        "id": "gXx5bWgGivy6",
        "colab_type": "code",
        "outputId": "13ade64f-4994-41b7-9720-cd3747d43f95",
        "colab": {
          "base_uri": "https://localhost:8080/",
          "height": 35
        }
      },
      "source": [
        "Sanders_sentiment = []\n",
        "for sentence in Sanders_filtered_sentences:\n",
        "    sentiment = sentence.sentiment[0]*sentence.sentiment[1]\n",
        "    Sanders_sentiment.append(sentiment)\n",
        "Sanders_sentiment"
      ],
      "execution_count": 0,
      "outputs": [
        {
          "output_type": "execute_result",
          "data": {
            "text/plain": [
              "[0.1125, 0.0, 0.08024691358024691, -0.0025850340136054414]"
            ]
          },
          "metadata": {
            "tags": []
          },
          "execution_count": 42
        }
      ]
    },
    {
      "cell_type": "code",
      "metadata": {
        "id": "TIdgbSR6ivzA",
        "colab_type": "code",
        "outputId": "9b4d7af6-c466-4d7b-bc1f-4fc2c8fbdf55",
        "colab": {
          "base_uri": "https://localhost:8080/",
          "height": 124
        }
      },
      "source": [
        "Biden_sentiment = []\n",
        "for sentence in Biden_filtered_sentences:\n",
        "    sentiment = sentence.sentiment[0]*sentence.sentiment[1]\n",
        "    Biden_sentiment.append(sentiment)\n",
        "Biden_sentiment"
      ],
      "execution_count": 0,
      "outputs": [
        {
          "output_type": "execute_result",
          "data": {
            "text/plain": [
              "[0.02112244897959184,\n",
              " 0.1125,\n",
              " 0.08874346721989819,\n",
              " 0.08024691358024691,\n",
              " 0.2222222222222222,\n",
              " -0.0025850340136054414]"
            ]
          },
          "metadata": {
            "tags": []
          },
          "execution_count": 43
        }
      ]
    },
    {
      "cell_type": "code",
      "metadata": {
        "id": "YtNVnPZpivzG",
        "colab_type": "code",
        "outputId": "cdc65b38-8528-4c61-c26d-32677c8fd699",
        "colab": {
          "base_uri": "https://localhost:8080/",
          "height": 35
        }
      },
      "source": [
        "import numpy as np\n",
        "Sanders_ave_sentiment = np.average(Sanders_sentiment)\n",
        "Sanders_ave_sentiment"
      ],
      "execution_count": 0,
      "outputs": [
        {
          "output_type": "execute_result",
          "data": {
            "text/plain": [
              "0.04754046989166037"
            ]
          },
          "metadata": {
            "tags": []
          },
          "execution_count": 44
        }
      ]
    },
    {
      "cell_type": "code",
      "metadata": {
        "id": "ya4u5R51ivzM",
        "colab_type": "code",
        "outputId": "fa48889c-6ac3-41da-f0e6-f9eaa7293606",
        "colab": {
          "base_uri": "https://localhost:8080/",
          "height": 35
        }
      },
      "source": [
        "Biden_ave_sentiment = np.average(Biden_sentiment)\n",
        "Biden_ave_sentiment"
      ],
      "execution_count": 0,
      "outputs": [
        {
          "output_type": "execute_result",
          "data": {
            "text/plain": [
              "0.08704166966472561"
            ]
          },
          "metadata": {
            "tags": []
          },
          "execution_count": 45
        }
      ]
    }
  ]
}