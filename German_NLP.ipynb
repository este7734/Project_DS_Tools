{
  "nbformat": 4,
  "nbformat_minor": 0,
  "metadata": {
    "kernelspec": {
      "display_name": "Python 3",
      "language": "python",
      "name": "python3"
    },
    "language_info": {
      "codemirror_mode": {
        "name": "ipython",
        "version": 3
      },
      "file_extension": ".py",
      "mimetype": "text/x-python",
      "name": "python",
      "nbconvert_exporter": "python",
      "pygments_lexer": "ipython3",
      "version": "3.6.3"
    },
    "colab": {
      "name": "German_NLP.ipynb",
      "provenance": [],
      "collapsed_sections": [
        "LBcufb8pYTm2"
      ],
      "include_colab_link": true
    }
  },
  "cells": [
    {
      "cell_type": "markdown",
      "metadata": {
        "id": "view-in-github",
        "colab_type": "text"
      },
      "source": [
        "<a href=\"https://colab.research.google.com/github/este7734/Project_DS_Tools/blob/master/German_NLP.ipynb\" target=\"_parent\"><img src=\"https://colab.research.google.com/assets/colab-badge.svg\" alt=\"Open In Colab\"/></a>"
      ]
    },
    {
      "cell_type": "markdown",
      "metadata": {
        "id": "BN9ohTbVivxQ",
        "colab_type": "text"
      },
      "source": [
        "# Data Science Tools and Techniques\n",
        "\n",
        "# Natural Language Processing Exercise"
      ]
    },
    {
      "cell_type": "markdown",
      "metadata": {
        "id": "LpEihNNDivxV",
        "colab_type": "text"
      },
      "source": [
        "Perform the tasks below to demonstrate your understanding of NLP.  You may reference the TextBlob documentation here:\n",
        "\n",
        "https://textblob.readthedocs.io/en/dev/"
      ]
    },
    {
      "cell_type": "markdown",
      "metadata": {
        "id": "eA8rFBFLivxY",
        "colab_type": "text"
      },
      "source": [
        "Natural Language Processing is a very versatile tool in data science.  Among other things, it can be used to quantitate the affect, or emotional content, of text.  This technique is called sentiment analysis, and is often used in industry to measure how customers feel about a particular company or product.\n",
        "\n",
        "Sputnik is a Russian media outlet.  In this exercise, you will measure the sentiment of an English-language Sputnik article that mentions a U.S. political candidates."
      ]
    },
    {
      "cell_type": "markdown",
      "metadata": {
        "id": "GbzUuecdivxb",
        "colab_type": "raw"
      },
      "source": [
        "In the space below, specify the location of the news_text.txt file:"
      ]
    },
    {
      "cell_type": "markdown",
      "metadata": {
        "id": "LBcufb8pYTm2",
        "colab_type": "text"
      },
      "source": [
        "### Save Text Files to Your Temporary Colab folder"
      ]
    },
    {
      "cell_type": "code",
      "metadata": {
        "id": "SVApwG0AvGkN",
        "colab_type": "code",
        "outputId": "87320b11-5895-44f5-dddd-c94e9c5908ce",
        "colab": {
          "base_uri": "https://localhost:8080/",
          "height": 34
        }
      },
      "source": [
        "%ls # List files in the your temporary folder to verify they are there."
      ],
      "execution_count": 218,
      "outputs": [
        {
          "output_type": "stream",
          "text": [
            "news_text.txt  \u001b[0m\u001b[01;34msample_data\u001b[0m/\n"
          ],
          "name": "stdout"
        }
      ]
    },
    {
      "cell_type": "markdown",
      "metadata": {
        "id": "GNYiFN1kYd63",
        "colab_type": "text"
      },
      "source": [
        "### Read in File(s) to Colab Environment"
      ]
    },
    {
      "cell_type": "code",
      "metadata": {
        "id": "AFU8dqERivxe",
        "colab_type": "code",
        "outputId": "2ed2aa07-5574-43ed-c6ba-5c0b094c3876",
        "colab": {
          "base_uri": "https://localhost:8080/",
          "height": 51
        }
      },
      "source": [
        "file1 = 'Spiegel_DuetcheBank_Trump.txt'\n",
        "file2 = 'Spiegel_Iran_Protests.txt'\n",
        "file3 = 'Spiegel_Trump_Peace_Plan.txt'\n",
        "\n",
        "file4 = 'Zeit_URL_1_Holocaust'\n",
        "file5 = 'Zeit_URL_2_xenophobic_politicians'\n",
        "file6 = 'Zeit_URL_3_NATO_Germany_contribution'\n",
        "\n",
        "file7 = 'news_text.txt'\n",
        "\n",
        "\n",
        "print(file7)\n",
        "\n",
        "#file_path = r'C:\\Users\\student\\Desktop\\404_is_Found\\Sessions\\Sessions 3 & 4\\news_text.txt'\n",
        "file_path = r'news_text.txt'\n",
        "#file_path = r', (file7)\n",
        "\n",
        "file_path"
      ],
      "execution_count": 29,
      "outputs": [
        {
          "output_type": "stream",
          "text": [
            "news_text.txt\n"
          ],
          "name": "stdout"
        },
        {
          "output_type": "execute_result",
          "data": {
            "text/plain": [
              "'news_text.txt'"
            ]
          },
          "metadata": {
            "tags": []
          },
          "execution_count": 29
        }
      ]
    },
    {
      "cell_type": "code",
      "metadata": {
        "id": "s4EZvBt3ivxr",
        "colab_type": "code",
        "colab": {}
      },
      "source": [
        "#open text\n",
        "def open_text(file_path):\n",
        "    with open(file_path, 'r') as document:\n",
        "        text = document.read()\n",
        "    return text"
      ],
      "execution_count": 0,
      "outputs": []
    },
    {
      "cell_type": "code",
      "metadata": {
        "id": "sv4HrFvKivx3",
        "colab_type": "code",
        "outputId": "86cd3c22-2be3-44b5-d68a-e6e56535e392",
        "colab": {
          "base_uri": "https://localhost:8080/",
          "height": 54
        }
      },
      "source": [
        "text = open_text(file_path)\n",
        "text"
      ],
      "execution_count": 31,
      "outputs": [
        {
          "output_type": "execute_result",
          "data": {
            "text/plain": [
              "'Former Vice President Joe Biden is considered to be the frontrunner in the US Democratic primaries despite his controversial performance during the second debate in August and a recently emerged scandal about him allegedly meddling in Ukrainian internal affairs to save his son from potential prosecution. In his latest appeal to US voters to support his election campaign, Vermont Senator Bernie Sanders has accused former Vice President Joe Biden and his allies of trying to \"buy\" the Democratic primaries. \"It should not be a surprise that wealthy donors of the political establishment are trying to buy this election. Now we need to be ready for when they do\", he said. The senator referred to a recent The New York Times article claiming that Biden\\'s allies believe that the former vice president won\\'t be able to win his campaign without the use of so-called Super Political Action Committees (Super PACs). Sanders claimed that such actions endanger his campaign and the entire US. \"Super PACs can raise and spend unlimited amounts of money to promote or attack candidates. They are a threat to our democracy. And frankly, they are a threat to our campaign and our hopes to transform our country\", the Vermont senator said. Sanders asked his supporters to \"chip in what they can\" in a bid to amass enough funds to overcome potential pro-Biden Super PAC efforts. All of the Democratic candidates have said they will not accept support from any Super PACs,  including Biden, according to the NYT article. Super PACs can indeed attract unlimited donations, but must spend the funds independently without directly coordinating with any of the candidates or parties, who are limited in how much funding they can attract. But they can still support certain election campaigns without coordinating with them directly. In their campaign spending, Super PACs sometimes surpass all candidates, as was the case in the 2012 Republican primaries. In the 2019 Democratic primaries, Bernie Sanders kicked off as a leader in raising funds, with an average donation of $34 in the first quarter of the year, but this later slid to only $18 in the second quarter, giving way to Biden, with average donation of $49 per individual.\\n\\n\\n'"
            ]
          },
          "metadata": {
            "tags": []
          },
          "execution_count": 31
        }
      ]
    },
    {
      "cell_type": "markdown",
      "metadata": {
        "id": "fXKR8_FSX0K9",
        "colab_type": "text"
      },
      "source": [
        "## Import Dependencies"
      ]
    },
    {
      "cell_type": "code",
      "metadata": {
        "id": "6cVForAwivyC",
        "colab_type": "code",
        "outputId": "c7e8478a-1b44-4b42-ae2b-d254d69c551c",
        "colab": {
          "base_uri": "https://localhost:8080/",
          "height": 68
        }
      },
      "source": [
        "from textblob import TextBlob\n",
        "import numpy as np\n",
        "import matplotlib.pyplot as plt\n",
        "\n",
        "# Import these dependencies if using Google Colab \n",
        "import nltk\n",
        "nltk.download('punkt')"
      ],
      "execution_count": 489,
      "outputs": [
        {
          "output_type": "stream",
          "text": [
            "[nltk_data] Downloading package punkt to /root/nltk_data...\n",
            "[nltk_data]   Package punkt is already up-to-date!\n"
          ],
          "name": "stdout"
        },
        {
          "output_type": "execute_result",
          "data": {
            "text/plain": [
              "True"
            ]
          },
          "metadata": {
            "tags": []
          },
          "execution_count": 489
        }
      ]
    },
    {
      "cell_type": "markdown",
      "metadata": {
        "id": "oO3zXBmNX955",
        "colab_type": "text"
      },
      "source": [
        "### Ingest Text to Analyze"
      ]
    },
    {
      "cell_type": "code",
      "metadata": {
        "id": "mpFugUBuivyJ",
        "colab_type": "code",
        "colab": {}
      },
      "source": [
        "blob = TextBlob(text)"
      ],
      "execution_count": 0,
      "outputs": []
    },
    {
      "cell_type": "markdown",
      "metadata": {
        "id": "id4xUyUDivyQ",
        "colab_type": "text"
      },
      "source": [
        "Now that you have instatiated your text as a TextBlob object, you can perform text manipulations.  First, let's generate a list of all sentences in your TextBlob object:\n",
        "\n",
        "blob_sentences = blob.sentences\n",
        "\n",
        "Do this in the space below, and print the result (you should see a list of sentences):"
      ]
    },
    {
      "cell_type": "code",
      "metadata": {
        "id": "zdGsmdndivyS",
        "colab_type": "code",
        "colab": {}
      },
      "source": [
        "blob_sentences = blob.sentences"
      ],
      "execution_count": 0,
      "outputs": []
    },
    {
      "cell_type": "code",
      "metadata": {
        "id": "2xN0ZSBJ510j",
        "colab_type": "code",
        "outputId": "c1698137-a2ff-4733-90f7-2ce326ac7135",
        "colab": {
          "base_uri": "https://localhost:8080/",
          "height": 34
        }
      },
      "source": [
        "# Allow user to type in key words to search the text for\n",
        "filter_list = input('Enter words to filter by separated by commas: ').title() # This is still a string... not a list yet"
      ],
      "execution_count": 198,
      "outputs": [
        {
          "output_type": "stream",
          "text": [
            "Enter words to filter by separated by commas: biden,trump,sanders,putin\n"
          ],
          "name": "stdout"
        }
      ]
    },
    {
      "cell_type": "markdown",
      "metadata": {
        "id": "tGJmYoaJYF_n",
        "colab_type": "text"
      },
      "source": [
        "### Enter Key Words to Search in Text"
      ]
    },
    {
      "cell_type": "code",
      "metadata": {
        "id": "49R1H35B7aH8",
        "colab_type": "code",
        "outputId": "d64625ab-adf8-46ff-c531-71f9fe1471ae",
        "colab": {
          "base_uri": "https://localhost:8080/",
          "height": 34
        }
      },
      "source": [
        "fliter_list = list(filter_list) # Convert string to a list (it currently has 1 long string element of key words)\n",
        "\n",
        "f = []\n",
        "for word in (filter_list.split(\",\")):  # Split string into separate words, separate by comma\n",
        "  f.append(word)                       # Generate new list containing each key word\n",
        "f # This is now a list of key words that the user typed in"
      ],
      "execution_count": 199,
      "outputs": [
        {
          "output_type": "execute_result",
          "data": {
            "text/plain": [
              "['Biden', 'Trump', 'Sanders', 'Putin']"
            ]
          },
          "metadata": {
            "tags": []
          },
          "execution_count": 199
        }
      ]
    },
    {
      "cell_type": "markdown",
      "metadata": {
        "id": "GTNasDzQLinR",
        "colab_type": "text"
      },
      "source": [
        "## Search Sentences for Key Words"
      ]
    },
    {
      "cell_type": "code",
      "metadata": {
        "id": "MXjYMd1-LUrT",
        "colab_type": "code",
        "outputId": "3383e229-0d57-4e7e-c8f8-dd688d04ba05",
        "colab": {
          "base_uri": "https://localhost:8080/",
          "height": 445
        }
      },
      "source": [
        "# Instantiate list for holding the sentences\n",
        "sentences = []\n",
        "\n",
        "# Generate empty list of lists \n",
        "for i in range(len(f)):\n",
        "  sentences.append([])\n",
        "print('Here is what you just made, and empty list of lists: ', sentences, '\\n')\n",
        "\n",
        "# Generate lists of sentences for each key word and plug them into the list of lists from above            \n",
        "for i in range(len(f)):\n",
        "  for sentence in blob_sentences:\n",
        "    if f[i] in sentence:\n",
        "        sentences[i].append(sentence)\n",
        "        \n",
        "# Print number of sentences containing each key word\n",
        "# Print out all sentences containing each key word\n",
        "for i in range(len(f)):\n",
        "  print('-----------------------------------------------------------------')   \n",
        "  print('There are {} sentences in containing the word: {} '.format(len(sentences[i]), f[i]), '\\n') \n",
        "  for sentence in sentences[i]:\n",
        "      print(sentence)\n"
      ],
      "execution_count": 209,
      "outputs": [
        {
          "output_type": "stream",
          "text": [
            "Here is what you just made, and empty list of lists:  [[], [], [], []] \n",
            "\n",
            "-----------------------------------------------------------------\n",
            "There are 6 sentences in containing the word: Biden  \n",
            "\n",
            "Former Vice President Joe Biden is considered to be the frontrunner in the US Democratic primaries despite his controversial performance during the second debate in August and a recently emerged scandal about him allegedly meddling in Ukrainian internal affairs to save his son from potential prosecution.\n",
            "In his latest appeal to US voters to support his election campaign, Vermont Senator Bernie Sanders has accused former Vice President Joe Biden and his allies of trying to \"buy\" the Democratic primaries.\n",
            "The senator referred to a recent The New York Times article claiming that Biden's allies believe that the former vice president won't be able to win his campaign without the use of so-called Super Political Action Committees (Super PACs).\n",
            "Sanders asked his supporters to \"chip in what they can\" in a bid to amass enough funds to overcome potential pro-Biden Super PAC efforts.\n",
            "All of the Democratic candidates have said they will not accept support from any Super PACs,  including Biden, according to the NYT article.\n",
            "In the 2019 Democratic primaries, Bernie Sanders kicked off as a leader in raising funds, with an average donation of $34 in the first quarter of the year, but this later slid to only $18 in the second quarter, giving way to Biden, with average donation of $49 per individual.\n",
            "-----------------------------------------------------------------\n",
            "There are 0 sentences in containing the word: Trump  \n",
            "\n",
            "-----------------------------------------------------------------\n",
            "There are 4 sentences in containing the word: Sanders  \n",
            "\n",
            "In his latest appeal to US voters to support his election campaign, Vermont Senator Bernie Sanders has accused former Vice President Joe Biden and his allies of trying to \"buy\" the Democratic primaries.\n",
            "Sanders claimed that such actions endanger his campaign and the entire US.\n",
            "Sanders asked his supporters to \"chip in what they can\" in a bid to amass enough funds to overcome potential pro-Biden Super PAC efforts.\n",
            "In the 2019 Democratic primaries, Bernie Sanders kicked off as a leader in raising funds, with an average donation of $34 in the first quarter of the year, but this later slid to only $18 in the second quarter, giving way to Biden, with average donation of $49 per individual.\n",
            "-----------------------------------------------------------------\n",
            "There are 0 sentences in containing the word: Putin  \n",
            "\n"
          ],
          "name": "stdout"
        }
      ]
    },
    {
      "cell_type": "markdown",
      "metadata": {
        "id": "MwLPnUsBLmjI",
        "colab_type": "text"
      },
      "source": [
        "\n",
        "\n",
        "---\n",
        "\n",
        "\n",
        "\n",
        "\n",
        "\n"
      ]
    },
    {
      "cell_type": "code",
      "metadata": {
        "id": "N1SxAXaqeLnu",
        "colab_type": "code",
        "colab": {
          "base_uri": "https://localhost:8080/",
          "height": 34
        },
        "outputId": "e3747d24-1d46-4387-d9b9-fc8af5401181"
      },
      "source": [
        "sentences[0][0].sentiment"
      ],
      "execution_count": 248,
      "outputs": [
        {
          "output_type": "execute_result",
          "data": {
            "text/plain": [
              "Sentiment(polarity=0.0642857142857143, subjectivity=0.32857142857142857)"
            ]
          },
          "metadata": {
            "tags": []
          },
          "execution_count": 248
        }
      ]
    },
    {
      "cell_type": "code",
      "metadata": {
        "id": "Q854Ife1cI0H",
        "colab_type": "code",
        "colab": {
          "base_uri": "https://localhost:8080/",
          "height": 34
        },
        "outputId": "b385f157-0416-446e-ce85-61020a087a17"
      },
      "source": [
        "blob\n",
        "type(blob)"
      ],
      "execution_count": 241,
      "outputs": [
        {
          "output_type": "execute_result",
          "data": {
            "text/plain": [
              "textblob.blob.TextBlob"
            ]
          },
          "metadata": {
            "tags": []
          },
          "execution_count": 241
        }
      ]
    },
    {
      "cell_type": "code",
      "metadata": {
        "id": "q4b-c7vyivyo",
        "colab_type": "code",
        "outputId": "f4b23c6d-8051-4fa1-957e-698af5876adb",
        "colab": {
          "base_uri": "https://localhost:8080/",
          "height": 34
        }
      },
      "source": [
        "print('Article', blob.sentiment) # Overall article sentiment"
      ],
      "execution_count": 238,
      "outputs": [
        {
          "output_type": "stream",
          "text": [
            "Article Sentiment(polarity=0.1398268398268398, subjectivity=0.427763515554213)\n"
          ],
          "name": "stdout"
        }
      ]
    },
    {
      "cell_type": "code",
      "metadata": {
        "id": "TvmVrqVxbAqb",
        "colab_type": "code",
        "colab": {
          "base_uri": "https://localhost:8080/",
          "height": 408
        },
        "outputId": "2d2d015e-a78d-41b4-e009-180dd92b33f5"
      },
      "source": [
        "# Print out sentiment values for each key word\n",
        "print('Sentence | Objectivity | Polarity | Sentiment | Avg Sentiment')\n",
        "for i in range(len(f)):\n",
        "  print('\\n----------------------', f[i], '--------------------------------')\n",
        "  for j in range(len(sentences[i])):\n",
        "    print(j, '       |', round(sentences[i][j].sentiment[0], 3), '       |', round(sentences[i][j].sentiment[1], 3), '    |', round(sentences[i][j].sentiment[0] * sentences[i][j].sentiment[1], 3), '|', 'avg')\n",
        "  print('=============================================================')"
      ],
      "execution_count": 405,
      "outputs": [
        {
          "output_type": "stream",
          "text": [
            "Sentence | Objectivity | Polarity | Sentiment | Avg Sentiment\n",
            "\n",
            "---------------------- Biden --------------------------------\n",
            "0        | 0.064        | 0.329     | 0.021 | avg\n",
            "1        | 0.25        | 0.45     | 0.113 | avg\n",
            "2        | 0.245        | 0.363     | 0.089 | avg\n",
            "3        | 0.111        | 0.722     | 0.08 | avg\n",
            "4        | 0.333        | 0.667     | 0.222 | avg\n",
            "5        | -0.007        | 0.362     | -0.003 | avg\n",
            "=============================================================\n",
            "\n",
            "---------------------- Trump --------------------------------\n",
            "=============================================================\n",
            "\n",
            "---------------------- Sanders --------------------------------\n",
            "0        | 0.25        | 0.45     | 0.113 | avg\n",
            "1        | 0.0        | 0.562     | 0.0 | avg\n",
            "2        | 0.111        | 0.722     | 0.08 | avg\n",
            "3        | -0.007        | 0.362     | -0.003 | avg\n",
            "=============================================================\n",
            "\n",
            "---------------------- Putin --------------------------------\n",
            "=============================================================\n"
          ],
          "name": "stdout"
        }
      ]
    },
    {
      "cell_type": "code",
      "metadata": {
        "id": "wUiWMWeYneoo",
        "colab_type": "code",
        "colab": {
          "base_uri": "https://localhost:8080/",
          "height": 68
        },
        "outputId": "ffcd83d7-fab2-4cef-d7a6-f972a6f4e819"
      },
      "source": [
        "print(sentences[0][0].sentiment)\n",
        "print(np.average(sentences[0][0].sentiment))\n",
        "print(round(np.average(sentences[0][0].sentiment), 3))"
      ],
      "execution_count": 399,
      "outputs": [
        {
          "output_type": "stream",
          "text": [
            "Sentiment(polarity=0.0642857142857143, subjectivity=0.32857142857142857)\n",
            "0.19642857142857142\n",
            "0.196\n"
          ],
          "name": "stdout"
        }
      ]
    },
    {
      "cell_type": "code",
      "metadata": {
        "id": "RAMTvqB3qNz5",
        "colab_type": "code",
        "colab": {
          "base_uri": "https://localhost:8080/",
          "height": 153
        },
        "outputId": "1829474b-ad74-4bf7-987c-76d6e2cf6674"
      },
      "source": [
        "sentiment = [[],[],[],[],[],[]]\n",
        "for i in range(len(f)):\n",
        "  try:\n",
        "    for j in range(len(sentences[i])):\n",
        "      sentiment[i].append(sentences[i][j].sentiment[0] * sentences[i][j].sentiment[1])  \n",
        "      np.average(sentiment[i]) \n",
        "  except:\n",
        "    print('The List is Empty')\n",
        "  print(i, np.average(sentiment[i])) "
      ],
      "execution_count": 484,
      "outputs": [
        {
          "output_type": "stream",
          "text": [
            "0 0.08704166966472561\n",
            "1 nan\n",
            "2 0.04754046989166037\n",
            "3 nan\n"
          ],
          "name": "stdout"
        },
        {
          "output_type": "stream",
          "text": [
            "/usr/local/lib/python3.6/dist-packages/numpy/lib/function_base.py:393: RuntimeWarning: Mean of empty slice.\n",
            "  avg = a.mean(axis)\n",
            "/usr/local/lib/python3.6/dist-packages/numpy/core/_methods.py:161: RuntimeWarning: invalid value encountered in double_scalars\n",
            "  ret = ret.dtype.type(ret / rcount)\n"
          ],
          "name": "stderr"
        }
      ]
    },
    {
      "cell_type": "code",
      "metadata": {
        "id": "svccbOHJ2pp9",
        "colab_type": "code",
        "colab": {
          "base_uri": "https://localhost:8080/",
          "height": 153
        },
        "outputId": "c9a29d26-19b7-45b8-af70-87ee4c682d90"
      },
      "source": [
        "print('1', np.average(sentiment[0]))\n",
        "print('2', np.average(sentiment[1]))\n",
        "print('3', np.average(sentiment[2]))\n",
        "print('4', np.average(sentiment[3]))"
      ],
      "execution_count": 487,
      "outputs": [
        {
          "output_type": "stream",
          "text": [
            "1 0.08704166966472561\n",
            "2 nan\n",
            "3 0.04754046989166037\n",
            "4 nan\n"
          ],
          "name": "stdout"
        },
        {
          "output_type": "stream",
          "text": [
            "/usr/local/lib/python3.6/dist-packages/numpy/lib/function_base.py:393: RuntimeWarning: Mean of empty slice.\n",
            "  avg = a.mean(axis)\n",
            "/usr/local/lib/python3.6/dist-packages/numpy/core/_methods.py:161: RuntimeWarning: invalid value encountered in double_scalars\n",
            "  ret = ret.dtype.type(ret / rcount)\n"
          ],
          "name": "stderr"
        }
      ]
    },
    {
      "cell_type": "markdown",
      "metadata": {
        "id": "zeheY8NR5Wfq",
        "colab_type": "text"
      },
      "source": [
        "## Plot Resutls\n",
        "\n",
        "---\n",
        "\n"
      ]
    },
    {
      "cell_type": "code",
      "metadata": {
        "id": "D6vAmy6hLzoA",
        "colab_type": "code",
        "outputId": "7f10da9d-3725-44c2-ea1d-315796e63334",
        "colab": {
          "base_uri": "https://localhost:8080/",
          "height": 34
        }
      },
      "source": [
        "xaxis1 = []\n",
        "for i in range(len(sentiment[0])): # sentiment[0] is the list of sentiments for the first key word\n",
        "  xaxis1.append(i)\n",
        "print(\"The xaxis is {}.\".format(xaxis1))"
      ],
      "execution_count": 542,
      "outputs": [
        {
          "output_type": "stream",
          "text": [
            "The xaxis is [0, 1, 2, 3, 4, 5].\n"
          ],
          "name": "stdout"
        }
      ]
    },
    {
      "cell_type": "code",
      "metadata": {
        "id": "QZDzNHJ59aFP",
        "colab_type": "code",
        "colab": {
          "base_uri": "https://localhost:8080/",
          "height": 34
        },
        "outputId": "70531023-8494-42a0-8337-8e5e6a7627ce"
      },
      "source": [
        "xaxis2 = []\n",
        "for i in range(len(sentiment[2])): # sentiment[0] is the list of sentiments for the first key word\n",
        "  xaxis2.append(i)\n",
        "print(\"The xaxis is {}.\".format(xaxis2))"
      ],
      "execution_count": 539,
      "outputs": [
        {
          "output_type": "stream",
          "text": [
            "The xaxis is [0, 1, 2, 3].\n"
          ],
          "name": "stdout"
        }
      ]
    },
    {
      "cell_type": "code",
      "metadata": {
        "id": "k7JCRyJMAVnu",
        "colab_type": "code",
        "colab": {
          "base_uri": "https://localhost:8080/",
          "height": 501
        },
        "outputId": "e027b8d6-4c65-45cf-eb2f-90716f64be59"
      },
      "source": [
        "x1 = xaxis1 \n",
        "x2 = xaxis2\n",
        "y1 = sentiment[0]\n",
        "y2 = sentiment[2]\n",
        "\n",
        "fit, axes = plt.subplots(nrows=1, ncols=2,figsize=(10,5))\n",
        "plt.grid()\n",
        "axes[0].scatter(x1,y1)\n",
        "#plt.grid()\n",
        "axes[1].scatter(x2,y2)\n",
        "\n",
        "\n",
        "fig.tight_layout()"
      ],
      "execution_count": 571,
      "outputs": [
        {
          "output_type": "error",
          "ename": "NameError",
          "evalue": "ignored",
          "traceback": [
            "\u001b[0;31m---------------------------------------------------------------------------\u001b[0m",
            "\u001b[0;31mNameError\u001b[0m                                 Traceback (most recent call last)",
            "\u001b[0;32m<ipython-input-571-75eda9479d30>\u001b[0m in \u001b[0;36m<module>\u001b[0;34m()\u001b[0m\n\u001b[1;32m     11\u001b[0m \u001b[0;34m\u001b[0m\u001b[0m\n\u001b[1;32m     12\u001b[0m \u001b[0;34m\u001b[0m\u001b[0m\n\u001b[0;32m---> 13\u001b[0;31m \u001b[0mfig\u001b[0m\u001b[0;34m.\u001b[0m\u001b[0mtight_layout\u001b[0m\u001b[0;34m(\u001b[0m\u001b[0;34m)\u001b[0m\u001b[0;34m\u001b[0m\u001b[0;34m\u001b[0m\u001b[0m\n\u001b[0m",
            "\u001b[0;31mNameError\u001b[0m: name 'fig' is not defined"
          ]
        },
        {
          "output_type": "display_data",
          "data": {
            "image/png": "[encoded data removed]",
            "text/plain": [
              "<Figure size 720x360 with 2 Axes>"
            ]
          },
          "metadata": {
            "tags": []
          }
        }
      ]
    },
    {
      "cell_type": "code",
      "metadata": {
        "id": "7AJ160-6qg5X",
        "colab_type": "code",
        "colab": {
          "base_uri": "https://localhost:8080/",
          "height": 430
        },
        "outputId": "dac321fb-4f39-4684-e6a8-4592b59e0642"
      },
      "source": [
        "\n",
        "x1 = xaxis1 \n",
        "x2 = xaxis2\n",
        "y1 = sentiment[0]\n",
        "y2 = sentiment[2]\n",
        "\n",
        "fit, axes = plt.subplots(nrows=1, ncols=2,figsize=(5,3))\n",
        "axes[0].plot(x1,y1)\n",
        "axes[2].plot(x2,y2)\n",
        "\n",
        "# First Subplot\n",
        "#plt.subplot(1,2,1)\n",
        "plt.scatter(x1, y1)\n",
        "plt.grid()\n",
        "plt.title(f[0] + ' Sentiment Per Sentence', color='w')\n",
        "plt.ylabel('Sentiment', color='w')\n",
        "plt.yticks(color='w')\n",
        "plt.ylim(-1,1)\n",
        "\n",
        "# Second Subplot\n",
        "#plt.subplot(1,2,2) \n",
        "plt.scatter(x2, y2)\n",
        "plt.grid()\n",
        "plt.title(f[2] + ' Sentiment Per Sentence', color='w')\n",
        "plt.xticks(color='w')\n",
        "\n",
        "plt.xlabel('Sentence', color='w')\n",
        "plt.ylabel('Sentiment', color='w')\n",
        "\n",
        "plt.yticks(color='w')\n",
        "plt.ylim(-1,1)\n",
        "\n",
        "plt.tight_layout() # This spaces the graphs out"
      ],
      "execution_count": 549,
      "outputs": [
        {
          "output_type": "error",
          "ename": "IndexError",
          "evalue": "ignored",
          "traceback": [
            "\u001b[0;31m---------------------------------------------------------------------------\u001b[0m",
            "\u001b[0;31mIndexError\u001b[0m                                Traceback (most recent call last)",
            "\u001b[0;32m<ipython-input-549-f11824a6208d>\u001b[0m in \u001b[0;36m<module>\u001b[0;34m()\u001b[0m\n\u001b[1;32m      7\u001b[0m \u001b[0mfit\u001b[0m\u001b[0;34m,\u001b[0m \u001b[0maxes\u001b[0m \u001b[0;34m=\u001b[0m \u001b[0mplt\u001b[0m\u001b[0;34m.\u001b[0m\u001b[0msubplots\u001b[0m\u001b[0;34m(\u001b[0m\u001b[0mnrows\u001b[0m\u001b[0;34m=\u001b[0m\u001b[0;36m1\u001b[0m\u001b[0;34m,\u001b[0m \u001b[0mncols\u001b[0m\u001b[0;34m=\u001b[0m\u001b[0;36m2\u001b[0m\u001b[0;34m,\u001b[0m\u001b[0mfigsize\u001b[0m\u001b[0;34m=\u001b[0m\u001b[0;34m(\u001b[0m\u001b[0;36m5\u001b[0m\u001b[0;34m,\u001b[0m\u001b[0;36m3\u001b[0m\u001b[0;34m)\u001b[0m\u001b[0;34m)\u001b[0m\u001b[0;34m\u001b[0m\u001b[0;34m\u001b[0m\u001b[0m\n\u001b[1;32m      8\u001b[0m \u001b[0maxes\u001b[0m\u001b[0;34m[\u001b[0m\u001b[0;36m0\u001b[0m\u001b[0;34m]\u001b[0m\u001b[0;34m.\u001b[0m\u001b[0mplot\u001b[0m\u001b[0;34m(\u001b[0m\u001b[0mx1\u001b[0m\u001b[0;34m,\u001b[0m\u001b[0my1\u001b[0m\u001b[0;34m)\u001b[0m\u001b[0;34m\u001b[0m\u001b[0;34m\u001b[0m\u001b[0m\n\u001b[0;32m----> 9\u001b[0;31m \u001b[0maxes\u001b[0m\u001b[0;34m[\u001b[0m\u001b[0;36m2\u001b[0m\u001b[0;34m]\u001b[0m\u001b[0;34m.\u001b[0m\u001b[0mplot\u001b[0m\u001b[0;34m(\u001b[0m\u001b[0mx2\u001b[0m\u001b[0;34m,\u001b[0m\u001b[0my2\u001b[0m\u001b[0;34m)\u001b[0m\u001b[0;34m\u001b[0m\u001b[0;34m\u001b[0m\u001b[0m\n\u001b[0m\u001b[1;32m     10\u001b[0m \u001b[0;34m\u001b[0m\u001b[0m\n\u001b[1;32m     11\u001b[0m \u001b[0;31m# First Subplot\u001b[0m\u001b[0;34m\u001b[0m\u001b[0;34m\u001b[0m\u001b[0;34m\u001b[0m\u001b[0m\n",
            "\u001b[0;31mIndexError\u001b[0m: index 2 is out of bounds for axis 0 with size 2"
          ]
        },
        {
          "output_type": "display_data",
          "data": {
            "image/png": "[encoded data removed]",
            "text/plain": [
              "<Figure size 360x216 with 2 Axes>"
            ]
          },
          "metadata": {
            "tags": []
          }
        }
      ]
    },
    {
      "cell_type": "code",
      "metadata": {
        "id": "YxB_Ef5w6ogB",
        "colab_type": "code",
        "colab": {}
      },
      "source": [
        ""
      ],
      "execution_count": 0,
      "outputs": []
    },
    {
      "cell_type": "code",
      "metadata": {
        "id": "4H1aUrbeBwWu",
        "colab_type": "code",
        "colab": {}
      },
      "source": [
        ""
      ],
      "execution_count": 0,
      "outputs": []
    },
    {
      "cell_type": "code",
      "metadata": {
        "colab_type": "code",
        "outputId": "daf1bf39-af0e-4f42-f3d6-03b763ac131f",
        "id": "67x90m1TBxe_",
        "colab": {
          "base_uri": "https://localhost:8080/",
          "height": 34
        }
      },
      "source": [
        "xaxis = []\n",
        "for i in range(len(sentiment[0])): # sentiment[0] is the list of sentiments for the first key word\n",
        "  xaxis.append(i)\n",
        "print(\"The xaxis is {}.\".format(xaxis))"
      ],
      "execution_count": 573,
      "outputs": [
        {
          "output_type": "stream",
          "text": [
            "The xaxis is [0, 1, 2, 3, 4, 5].\n"
          ],
          "name": "stdout"
        }
      ]
    },
    {
      "cell_type": "code",
      "metadata": {
        "colab_type": "code",
        "outputId": "0438c749-6c93-4e08-94e0-95f2901d0915",
        "id": "ttvo-BHkBy4f",
        "colab": {
          "base_uri": "https://localhost:8080/",
          "height": 312
        }
      },
      "source": [
        "plt.scatter(xaxis, sentiment[0])\n",
        "plt.grid()\n",
        "plt.title(f[0] + ' Sentiment Per Sentence', color='w')\n",
        "plt.xlabel('Sentence', color='w')\n",
        "plt.ylabel('Sentiment', color='w')\n",
        "plt.xticks(color='w')\n",
        "plt.yticks(color='w')\n",
        "plt.ylim(-1,1)"
      ],
      "execution_count": 575,
      "outputs": [
        {
          "output_type": "execute_result",
          "data": {
            "text/plain": [
              "(-1.0, 1.0)"
            ]
          },
          "metadata": {
            "tags": []
          },
          "execution_count": 575
        },
        {
          "output_type": "display_data",
          "data": {
            "image/png": "[encoded data removed]",
            "text/plain": [
              "<Figure size 432x288 with 1 Axes>"
            ]
          },
          "metadata": {
            "tags": []
          }
        }
      ]
    },
    {
      "cell_type": "code",
      "metadata": {
        "colab_type": "code",
        "outputId": "d66e08a0-f0ff-4ade-de3e-dfe428673dc0",
        "id": "nkvKbMWP7QTO",
        "colab": {
          "base_uri": "https://localhost:8080/",
          "height": 34
        }
      },
      "source": [
        "xaxis = []\n",
        "for i in range(len(sentiment[2])): # sentiment[0] is the list of sentiments for the first key word\n",
        "  xaxis.append(i)\n",
        "print(\"The xaxis is {}.\".format(xaxis))"
      ],
      "execution_count": 514,
      "outputs": [
        {
          "output_type": "stream",
          "text": [
            "The xaxis is [0, 1, 2, 3].\n"
          ],
          "name": "stdout"
        }
      ]
    },
    {
      "cell_type": "code",
      "metadata": {
        "colab_type": "code",
        "outputId": "7824d1a4-c655-4a04-9fc3-60b1bb2aee58",
        "id": "-myfLEP_7Yq0",
        "colab": {
          "base_uri": "https://localhost:8080/",
          "height": 312
        }
      },
      "source": [
        "plt.scatter(xaxis, sentiment[2])\n",
        "plt.grid()\n",
        "plt.title(f[2] + ' Sentiment Per Sentence', color='w')\n",
        "plt.xlabel('Sentence', color='w')\n",
        "plt.ylabel('Sentiment', color='w')\n",
        "plt.xticks(color='w')\n",
        "plt.yticks(color='w')\n",
        "plt.ylim(-1,1)"
      ],
      "execution_count": 515,
      "outputs": [
        {
          "output_type": "execute_result",
          "data": {
            "text/plain": [
              "(-1.0, 1.0)"
            ]
          },
          "metadata": {
            "tags": []
          },
          "execution_count": 515
        },
        {
          "output_type": "display_data",
          "data": {
            "image/png": "[encoded data removed]",
            "text/plain": [
              "<Figure size 432x288 with 1 Axes>"
            ]
          },
          "metadata": {
            "tags": []
          }
        }
      ]
    },
    {
      "cell_type": "code",
      "metadata": {
        "id": "2CvTSx4r7cdQ",
        "colab_type": "code",
        "colab": {}
      },
      "source": [
        ""
      ],
      "execution_count": 0,
      "outputs": []
    }
  ]
}