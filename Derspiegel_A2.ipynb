{
  "nbformat": 4,
  "nbformat_minor": 0,
  "metadata": {
    "kernelspec": {
      "name": "python3",
      "display_name": "Python 3"
    },
    "language_info": {
      "codemirror_mode": {
        "name": "ipython",
        "version": 3
      },
      "file_extension": ".py",
      "mimetype": "text/x-python",
      "name": "python",
      "nbconvert_exporter": "python",
      "pygments_lexer": "ipython3",
      "version": "3.6.3"
    },
    "colab": {
      "name": "Derspiegel_A2.ipynb",
      "provenance": [],
      "collapsed_sections": [],
      "include_colab_link": true
    },
    "accelerator": "GPU"
  },
  "cells": [
    {
      "cell_type": "markdown",
      "metadata": {
        "id": "view-in-github",
        "colab_type": "text"
      },
      "source": [
        "<a href=\"https://colab.research.google.com/github/este7734/Project_DS_Tools/blob/master/Derspiegel_A2.ipynb\" target=\"_parent\"><img src=\"https://colab.research.google.com/assets/colab-badge.svg\" alt=\"Open In Colab\"/></a>"
      ]
    },
    {
      "cell_type": "markdown",
      "metadata": {
        "id": "j9EJGLekhe5n",
        "colab_type": "text"
      },
      "source": [
        "# Data Science Tools and Techniques\n",
        "\n",
        "# Web Scraping Project"
      ]
    },
    {
      "cell_type": "markdown",
      "metadata": {
        "id": "DAasqXPAhe5s",
        "colab_type": "text"
      },
      "source": [
        "Beautiful Soup documentation:\n",
        "\n",
        "https://www.crummy.com/software/BeautifulSoup/"
      ]
    },
    {
      "cell_type": "markdown",
      "metadata": {
        "id": "R98YniHDK6Nq",
        "colab_type": "text"
      },
      "source": [
        "## Import dependencies"
      ]
    },
    {
      "cell_type": "code",
      "metadata": {
        "id": "5MgjXo4The5x",
        "colab_type": "code",
        "colab": {}
      },
      "source": [
        "from bs4 import BeautifulSoup\n",
        "import requests"
      ],
      "execution_count": 0,
      "outputs": []
    },
    {
      "cell_type": "markdown",
      "metadata": {
        "id": "SyFwkJ6Ihe52",
        "colab_type": "text"
      },
      "source": [
        "Create a Beautiful Soup object from an HTML sources:\n",
        "\n",
        "Use the following link to find an English version of Der Spiegel article:\n",
        "https://www.spiegel.de/international/\n",
        "\n",
        "---\n",
        "For English articles:\n",
        "1. Click menu (upper left)\n",
        "2. Scroll down to \"English\" selection\n",
        "3. Select a category\n",
        "4. To load more articles on the page scroll to bottom and click: **Ältere Artikel** (Older Articles)\n",
        "5. Copy the weblink and add below as new URL variable"
      ]
    },
    {
      "cell_type": "code",
      "metadata": {
        "id": "9p-WjahKhe53",
        "colab_type": "code",
        "colab": {}
      },
      "source": [
        "# get HTML page \n",
        "\n",
        "url1 = 'https://www.spiegel.de/international/business/trump-and-deutsche-bank-a-b956729f-9e10-412c-ae25-b9cedeebded3'\n",
        "url2 = 'https://www.spiegel.de/international/world/israeli-palestinian-relations-donald-trump-s-peace-plan-sows-confusion-and-dismay-a-bf74e84d-8e01-4199-9e22-583b740ac381'\n",
        "url3 = 'https://www.spiegel.de/international/world/when-mourning-turns-to-anger-two-days-and-two-nights-in-tehran-a-09dfd962-dbc1-4020-bbc1-03c6fadffbb1'\n",
        "url4 = 'https://www.spiegel.de/international/europe/how-russia-s-president-is-preparing-his-own-succession-a-437a6718-aa0c-4760-a548-4735b8a844e9'\n",
        "\n",
        "# Change the varbialbe in the .get method to the page you want to scrape\n",
        "page = requests.get(url4)"
      ],
      "execution_count": 0,
      "outputs": []
    },
    {
      "cell_type": "code",
      "metadata": {
        "id": "5rt9wxbyhe58",
        "colab_type": "code",
        "colab": {}
      },
      "source": [
        "# get soup\n",
        "def get_soup(page):\n",
        "    soup = BeautifulSoup(page.content, 'html.parser')\n",
        "    return soup"
      ],
      "execution_count": 0,
      "outputs": []
    },
    {
      "cell_type": "markdown",
      "metadata": {
        "id": "JJyvLrx8he6C",
        "colab_type": "text"
      },
      "source": [
        "Create a Beautiful Soup object from the imported HTML document."
      ]
    },
    {
      "cell_type": "code",
      "metadata": {
        "id": "Kwh7PydThe6E",
        "colab_type": "code",
        "colab": {}
      },
      "source": [
        "soup = get_soup(page)"
      ],
      "execution_count": 0,
      "outputs": []
    },
    {
      "cell_type": "markdown",
      "metadata": {
        "id": "WPhTNJ_Dhe6K",
        "colab_type": "text"
      },
      "source": [
        "## Open the HTML document in a text viewer.  Before you pull tag content, understand the tag structure of the document.\n",
        "\n",
        "---\n",
        "\n"
      ]
    },
    {
      "cell_type": "markdown",
      "metadata": {
        "id": "n_gJkTbrNtWG",
        "colab_type": "text"
      },
      "source": [
        "Pull title from article"
      ]
    },
    {
      "cell_type": "code",
      "metadata": {
        "id": "BKGE2J0w-_sb",
        "colab_type": "code",
        "outputId": "53da8749-80e6-4c93-d880-914e861350f3",
        "colab": {
          "base_uri": "https://localhost:8080/",
          "height": 34
        }
      },
      "source": [
        "title = soup.find_all('h2')[0].contents[3].text\n",
        "title"
      ],
      "execution_count": 121,
      "outputs": [
        {
          "output_type": "execute_result",
          "data": {
            "text/plain": [
              "'How Russia’s President Is Preparing His Own Succession\\n'"
            ]
          },
          "metadata": {
            "tags": []
          },
          "execution_count": 121
        }
      ]
    },
    {
      "cell_type": "markdown",
      "metadata": {
        "id": "92tuW95dN6DS",
        "colab_type": "text"
      },
      "source": [
        "Extract all the hyperlinks in the article"
      ]
    },
    {
      "cell_type": "markdown",
      "metadata": {
        "id": "jI50LXd-he6T",
        "colab_type": "raw"
      },
      "source": [
        "Anchors are used in HTML documents for a lot of different things.  One of the primary uses of anchors is to embed hyperlinks.  In the 'a' tag, there is an attribute called 'href' that specifies the hyperlink reference.\n",
        "\n",
        "The above markup will display a hyperlink that points 'hyperlink text' the href value.\n",
        "\n",
        "Beautiful soup can be used to pull specific inforamation from HTML tags.  For example, if you want all hyperlink references from links, you could use the following:\n",
        "\n",
        "links = []\n",
        "for item in anchors:\n",
        "    link = item.get('href')\n",
        "    links.append(link)\n",
        "\n",
        "You've already generated a list of all anchors.  Now, iterate over that list and collect all hyperlinks in the document in the space below, and print the list of hyperlinks."
      ]
    },
    {
      "cell_type": "markdown",
      "metadata": {
        "id": "eEEcBUz0c6bA",
        "colab_type": "text"
      },
      "source": [
        "## Extract hyperlinks for project."
      ]
    },
    {
      "cell_type": "code",
      "metadata": {
        "id": "3ECyoIz2he6U",
        "colab_type": "code",
        "outputId": "3b690828-1b6c-4097-d16a-cb8902008901",
        "colab": {
          "base_uri": "https://localhost:8080/",
          "height": 54
        }
      },
      "source": [
        "# Extract all href tags\n",
        "links = soup.find_all('link')\n",
        "\n",
        "# Separate hyperlinks from href tags\n",
        "all_hyperlinks = []\n",
        "for item in links:\n",
        "    link = item.get('href')\n",
        "    all_hyperlinks.append(link)\n",
        "print(all_hyperlinks)"
      ],
      "execution_count": 122,
      "outputs": [
        {
          "output_type": "stream",
          "text": [
            "['https://www.spiegel.de/public/spon/manifest/manifest.json', 'https://cdn.prod.www.spiegel.de/public/spon/images/icons/favicon.ico', 'https://cdn.prod.www.spiegel.de/public/spon/images/icons/touch-icon.png', 'https://cdn.prod.www.spiegel.de/public/spon/images/icons/touch-icon72.png', 'https://cdn.prod.www.spiegel.de/public/spon/images/icons/touch-icon76.png', 'https://cdn.prod.www.spiegel.de/public/spon/images/icons/touch-icon114.png', 'https://cdn.prod.www.spiegel.de/public/spon/images/icons/touch-icon120.png', 'https://cdn.prod.www.spiegel.de/public/spon/images/icons/touch-icon144.png', 'https://cdn.prod.www.spiegel.de/public/spon/images/icons/touch-icon152.png', 'https://cdn.prod.www.spiegel.de/public/spon/images/icons/touch-icon180.png', 'https://www.spiegel.de/international/europe/how-russia-s-president-is-preparing-his-own-succession-a-437a6718-aa0c-4760-a548-4735b8a844e9', 'https://www.spiegel.de/international/europe/how-russia-s-president-is-preparing-his-own-succession-a-437a6718-aa0c-4760-a548-4735b8a844e9-amp', 'https://cdn.prod.www.spiegel.de/public/shared/fonts/SpiegelSans4UI-Bold.woff2', 'https://cdn.prod.www.spiegel.de/public/shared/fonts/SpiegelSans4UI-Regular.woff2', 'https://cdn.prod.www.spiegel.de/public/shared/fonts/SpiegelSlab4UICd-ExtraBold.woff2', 'https://cdn.prod.www.spiegel.de/public/shared/fonts/SpiegelSerifTextUI-Regular.woff2', 'https://cdn.prod.www.spiegel.de/public/shared/fonts/SpiegelSans4-6SemiBold.woff2', 'https://www.spiegel.de/schlagzeilen/index.rss', 'https://www.spiegel.de/international/index.rss', 'https://www.spiegel.de/international/europe/index.rss', 'https://www.spiegel.de/thema/wladimir_putin/index.rss', 'https://www.spiegel.de/thema/oppositionsbewegung_in_russland/index.rss', 'https://www.spiegel.de/thema/russland/index.rss', 'https://cdn.prod.www.spiegel.de/public/spon/generated/web/css/spon/generated/web/css/spon-designsystem.618527f8a5aedeaa922c.css', 'https://cdn.prod.www.spiegel.de/public/spon/generated/web/css/spon-designsystem-sm.1681f307ee425ee3a3dc.css', 'https://cdn.prod.www.spiegel.de/public/spon/generated/web/css/spon-designsystem-md.64a40e204f6a13fa7be6.css', 'https://cdn.prod.www.spiegel.de/public/spon/generated/web/css/spon-designsystem-lg.753262baa734f48a8bdc.css']\n"
          ],
          "name": "stdout"
        }
      ]
    },
    {
      "cell_type": "markdown",
      "metadata": {
        "id": "MGTAp3UPhe6g",
        "colab_type": "text"
      },
      "source": [
        "Extract all p tabs to pull the article body"
      ]
    },
    {
      "cell_type": "code",
      "metadata": {
        "id": "OF4n7pnEhe6i",
        "colab_type": "code",
        "outputId": "e00cd1c0-6b18-488e-fd33-544663ee573b",
        "colab": {
          "base_uri": "https://localhost:8080/",
          "height": 88
        }
      },
      "source": [
        "article_body = soup.find_all('p')\n",
        "print('Article Length: {} lines \\n'.format(len(article_body)))\n",
        "print(article_body)\n"
      ],
      "execution_count": 123,
      "outputs": [
        {
          "output_type": "stream",
          "text": [
            "Article Length: 52 lines \n",
            "\n",
            "[<p><strong>Vladimir Putin during his state of the nation address in January:</strong> The Russian president is engaging in no less than a shell game as he mulls his possible succession.</p>, <p>A costume drama produced by Russia’s largest TV channel is currently playing in the country’s movie theaters. The film focuses on a key moment in Russian history -- a revolution by progressively minded aristocrats in 1825. The czar has died, and people in the capital of St. Petersburg puzzle over who his successor will be. Until that is settled, there is intrigue, rebellion, quarrelling, shooting and death on the screen for two hours. It is a movie about the dangers that arise when an autocrat has done a poor job of preparing his succession.</p>, <p>The film is fitting for Moscow in the late Putin era and seems to reflect the fears of the country’s elites. For years now, Russia has once again been a kind of autocracy. One can no longer imagine a world without its current president. As one high-ranking Kremlin official once put it, \"As long as there is Putin, there is Russia. No Putin, no Russia.” But what will happen when Putin’s time in office ends?</p>, <p>This question has dominated Russian politics for years. And it has become more pressing since the president unexpectedly announced a constitutional reform that is now being pushed through parliament and will be put to the people for a vote in April. Just as surprisingly, he also replaced the country’s government.</p>, <p>After years of stagnation, it’s as if things are moving in fast forward now. Putin is organizing his own succession. But why the rush? The president’s term doesn’t end until 2024. What is he aiming for?</p>, <p>If you ask around in the capital, you find perplexity, confusion and tension. There’s the journalist who recalls a new member of the government whispering to him, \"Is it true that Putin is sick?” There’s the researcher focusing on the country’s elites who says that if there is a weak successor, it \"will be a time of turmoil.” There is the former high-ranking Kremlin official who, when asked how many people in the Kremlin knew of Putin’s maneuver in advance, holds up a single finger.</p>, <p><strong>The Kremlin in Moscow: </strong>All the big names in Russian politics today owe their position to Putin.</p>, <p>Valery Rashkin, a prominent lawmaker in the State Duma, has some thoughts about the confusion created by Putin. He wears a red badge with a hammer and sickle on his lapel. He’s a communist, and almost the only member of the 450-person lower house to have openly opposed the constitutional reform. Rashkin argues that the goal of the reform is to make Putin the \"czar for the coming years.”</p>, <p>Rashkin was sitting in the hall when Putin told stunned lawmakers in January that Russia’s parties are now \"mature” enough to take on a little more power. The president suggested giving the Duma influence over the selection of the individual ministers.</p>, <p>That didn't sound so bad at first, Rashkin thought. Of course, it was strange that the very man who had subdued Russia’s political parties for over two decades, of all people, was now describing them as ready to take on more power. But this is how authoritarian rulers talk: They treat their subjects like children. Nevertheless, it seemed liked a step forward for Putin to even address the imbalances in Russia’s constitution.</p>, <p>Rashkin, however, was surprised that Putin’s proposed constitutional changes were presented in writing to the Duma only a few days later. Had the president not announced that there would be a broad debate? Hadn’t he commissioned a working group comprised of prominent citizens, including a concert pianist and a Cossack leader?</p>, <p>He was even more baffled that there were no signs in the text of any strengthening of the Duma. The prime minister and the ministers could still only be dismissed by the president, Rashkin says, angrily. \"It became clear to me: People, this is a fake!”</p>, <p>He didn’t vote for the constitutional change in its first reading. But he wasn’t courageous enough to press the \"no” button, either. The vote came out to 432 \"yes” votes, and zero \"no” votes.</p>, <p>Rashkin says lawmakers suffer from \"massive fear.” The Kremlin controls them – it can block their access to TV appearances, to bank accounts, to important cabinets. It can take away their freedom. \"And people are weak,” says Rashkin.</p>, <p>This isn’t the first time that Putin has had to find a way of controlling the Kremlin from the outside rather than the inside. In 2008, he had to leave the presidency for constitutional reasons and allow Dmitri Medvedev to take his place before switching to the position of prime minister and returning to the presidency in 2012. It was also a skittish time. Putin had doubts about the loyalty of his placeholder president, although these would ultimately turn out to be false.</p>, <p>Valery Rashkin, member of the Duma</p>, <p>But this time, the situation is different from 2008. Putin is 67 years old – when he leaves the Kremlin, it will likely be forever. His relationship with the elite has also changed. Since the annexation of Crimea in 2014, he has become a historical figure for the Russians. He used to depend on the elites to win elections and thus secure his own legitimacy. After 2014, that relationship has reversed itself. Whoever has any rank and file in Russian politics today owes this to Putin.</p>, <p>But why would Putin undertake constitutional changes that – as Rashkin says – don’t even weaken the power of the president? Surely, that should be his aim if he wants to control his successor.</p>, <p>There are various answers to this question. Rashkin suspects that Putin wants to continue in his role as president. Although Putin is calling for the two-term limit to remain, and even be strengthened (until now it was only illegal for a president to serve \"more than two successive terms”), it would be easy  enough for him to get an exception from the Supreme Court. Protests, however, would be certain.</p>, <p>Putin’s plan is likely more complex. \"Putin is a person who doesn’t like to commit himself too early,” says one former high-ranking Kremlin official. \"He is now creating a number of options that he can later use and combine.”</p>, <p>One option points to the State Council, which has so far been nothing more than an ostentatious meeting between the president and the regional governors, a good TV photo-op in the gold-bedecked halls of the Kremlin. Putin created the institution during his first term, when he removed the formerly powerful regional governors from the upper chamber, the Federation Council. The State Council was a small bit of compensation – \"a club for governors, nothing more,” says political scientist Gleb Pavlosvky.</p>, <p>Under the reform, the club would become a constitutional body. It remains unclear what powers that entails or who would become its chair. That still has to be settled in a separate law.</p>, <p>The upper chamber is also to become more powerful and have the authority to recall Supreme Court judges together with the president – a drastic weakening of the court, as many legal experts have complained. The proposal has been made to make Putin and all former presidents lifelong members.</p>, <p><strong>Duma member Valery Rashkin: </strong>\"It became clear to me: People, this is a fake!”</p>, <p>There’s also the Russian Security Council, which is so important that some compare it to the Politburo during Soviet times. It includes the leaders of the secret service, the army and the police, as well as the heads of the lower and upper chambers of parliament, the prime minister and the president. It deliberates on the use of Russia’s instruments of power -- domestically and internationally. These instruments of power have grown – along with the power of their representatives, the <em>siloviki</em>, in the political elite.</p>, <p>And then there’s the political party associated with the Kremlin, United Russia, through which Putin already controls the Duma and whose leadership he could once again assume. But it would need to burnish its negative image again before the 2021 elections.</p>, <p>Vladimir Putin is playing a kind of shell game, moving cups around the table, and nobody knows which one the ball will ultimately end up under – the presidency, the State Council, the Federation Council or the Security Council? That's the point of the game: Putin himself hasn’t likely decided yet.</p>, <p>\"Wherever Putin goes, the center of power will also go,” says Olga Kryshtanovskaya, a political expert and prominent former member of the United Russia party. She’s betting on the State Council or the Security Council – in what she calls the \"Kazakh scenario.”</p>, <p>Nursultan Nazarbayev, who became the president of Kazakhstan in 1990, gave up his post in 2019. If ever an autocrat has carefully prepared for his departure, it’s him, and Moscow took note of this as well. Nazarbayev is the lifetime head of his country’s Security Council, the head of the governing party and the holder of numerous titles and positions. He still wields enormous amounts of power in the country.</p>, <p>DER SPIEGEL</p>, <p><strong>The article you are reading originally appeared in German in issue 8/2020 (February 15, 2020) of DER SPIEGEL.</strong></p>, <p><a data-link=\"english\" href=\"https://www.spiegel.de/international/frequently-asked-questions-everything-you-need-to-know-about-der-spiegel-a-789851.html\">FAQ: Everything You Need to Know about DER SPIEGEL</a></p>, <p><a data-link=\"english\" href=\"https://www.spiegel.de/international/six-decades-of-quality-journalism-the-history-of-der-spiegel-a-789853.html\">Seven Decades of Quality Journalism: The History of DER SPIEGEL</a></p>, <p><a data-link=\"english\" href=\"https://www.spiegel.de/international/spiegel-rights-reprints-and-other-usages-a-460322.html\">Reprints: How To License SPIEGEL Articles</a></p>, <p>There’s also another possible role model. \"I know that our secret service officials look with awe at Deng Xiaoping, Mao’s successor in China,” says Kryshtanovskaya. \"His most important position was as chair of the Central Military Commission. Stepping into the shadows, but continuing to make the decisions, that's the ideal model for them.”</p>, <p>\"Everyone is talking about the future transition of power. But it is not happening,” says the former Kremlin official. \"I am certain that Putin won’t relinquish power in 2024 or before. He can simply share a bit of it with someone else. Overall, he wants to maintain control.”</p>, <p>There’s one hitch, though: low economic growth. When Putin left the Kremlin the first time in 2008, the country had just experienced an oil boom.</p>, <p>Today, real incomes are stagnating. Although Putin launched a gigantic state infrastructure program in 2018, its implementation has been halting. This ultimately prompted him to fire blundering and unloved Prime Minister Dmitry Medvedev and sideline him into the Security Council.</p>, <p>If Putin is afraid of anyone at this point, it’s no longer the middle-class protesters in Moscow, but rather those all the way at the bottom, the low-income earners, and those all the way at the top, the members of the elite who could erupt into conflict after his departure. The intense infighting of the elite is reflected by the fact that a growing number of senior officials are in jail. Repression is not confined, by any measure, to insubordinate critics of the Kremlin. It affects mayors, governors and federal ministers.</p>, <p> Olga Kryshtanovskaya, political expert and former member of United Russia</p>, <p>That’s also why Putin cannot dramatically weaken the post of president, even if he leaves it. He fears that there’s no other way of taming the elites.</p>, <p>But who could actually succeed Putin as president? That will also presumably be revealed only shortly before his departure. But it’s possible to come up with a profile of the ideal candidate. \"First, he must be ethnically Russian, with a Russian surname,” says Kryshtanovskaya. \"Second, he has to be young, younger than Medvedev, so he can be in office for 12 years. And third, he needs to have the support of the siloviki,” the elite linked to intelligence and military circles.</p>, <p>\"He needs to be understandable to the political class. And that means he has to be a part of it,” says a high-ranking official who worked for the presidential administration.</p>, <p>Above all else, he needs to guarantee the security of Putin and his people – from expropriations, investigations, arrests and attacks from inside and outside the country.</p>, <p>Putin’s current project is akin to squaring the circle. In the system he created, nobody can give him what he needs: a plausible guarantee for the future. On the other hand, no sophisticated constitutional construction can replace that personal assurance.</p>, <p>And even as Putin is attempting to fortify the regime he built, he could be in the process of accidentally tearing it back down. He, of all people -- the man who has often assured his citizens that he did not want to touch Russia’s constitution -- has now turned this constitution into something he can tinker with. This also has to do with the fact that he is determined to put his reform to the people, although a vote on constitutional changes is neither required nor legally regulated.</p>, <p>Therefore, a minimum wage and a regular indexing of pensions to inflation is being built into the constitution. Its preamble might also come to include lofty words about God, about the victory of Russia in the Great Patriotic War and about marriage as being a bond between a man and a woman – the details are currently being discussed. The primacy of national law is also being enshrined, along with the rule that the only people who can be considered for the presidency are Russian citizens who have never lived outside of the country for an extended period. More suggestions are coming daily.</p>, <p>\"Putin has suddenly opened the window of discourse,” says activist Marina Litvinovich, who has called for a campaign against the constitutional changes. \"And now anyone can come through this window with his or her ideas. Everything has become plausible. Putin has not started the process of the transition of power, but rather the disintegration of power.”</p>, <p><strong>Vladimir Putin during his state of the nation address in January:</strong> The Russian president is engaging in no less than a shell game as he mulls his possible succession.</p>, <p><strong>The Kremlin in Moscow: </strong>All the big names in Russian politics today owe their position to Putin.</p>, <p><strong>Duma member Valery Rashkin: </strong>\"It became clear to me: People, this is a fake!”</p>, <p>Melden Sie sich an und diskutieren Sie mit</p>]\n"
          ],
          "name": "stdout"
        }
      ]
    },
    {
      "cell_type": "code",
      "metadata": {
        "colab_type": "code",
        "outputId": "9b617219-de41-4b63-b08d-ae9273d0351e",
        "id": "NenHzzz8MioL",
        "colab": {
          "base_uri": "https://localhost:8080/",
          "height": 836
        }
      },
      "source": [
        "# Paragragh parser in place \n",
        "\n",
        "value1 = 'RichText RichText--iconLinks lg:w-8/12 md:w-10/12 lg:mx-auto md:mx-auto lg:px-24 md:px-24 sm:px-16 clearfix break-words word-wrap'\n",
        "value2 = 'RichText RichText--iconLinks RichText--lastPmb0 RichText--lastInline lg:w-8/12 md:w-10/12 lg:mx-auto md:mx-auto lg:px-24 md:px-24 sm:px-16 clearfix break-words word-wrap'\n",
        "value_list = [value1, value2]\n",
        "\n",
        "article_body = soup.find_all('div',{'class': value_list})\n",
        "#print('Length of list: {} items \\n'. format(len(article_body)))\n",
        "\n",
        "# Generate list of paragraphs\n",
        "p = []\n",
        "for item in article_body:\n",
        "    par = item.find_all('p')\n",
        "    p.extend(par)\n",
        "print('Length of article: {} paragraphs \\n'. format(len(p)))\n",
        "\n",
        "# Print last 4 words of last sentende to compare with article\n",
        "\n",
        "start_p = str(p[0]).split()\n",
        "end_p = str(p[len(p) - 1]).split()\n",
        "\n",
        "print('These are the first 4 words of your scrape: \\n {} \\n'.format(start_p[0:4]))\n",
        "\n",
        "print('These are the last 4 words of your scrape: \\n {}\\n \\\n",
        "Compare this with the end of your article to see if \\\n",
        "you scraped everything \\n'.format(end_p[-4:]))\n",
        "\n",
        "# Extract content from the html tags\n",
        "for item in p:\n",
        "    print(item.text)"
      ],
      "execution_count": 134,
      "outputs": [
        {
          "output_type": "stream",
          "text": [
            "Length of article: 38 paragraphs \n",
            "\n",
            "These are the first 4 words of your scrape: \n",
            " ['<p>A', 'costume', 'drama', 'produced'] \n",
            "\n",
            "These are the last 4 words of your scrape: \n",
            " ['the', 'disintegration', 'of', 'power.”</p>']\n",
            " Compare this with the end of your article to see if you scraped everything \n",
            "\n",
            "A costume drama produced by Russia’s largest TV channel is currently playing in the country’s movie theaters. The film focuses on a key moment in Russian history -- a revolution by progressively minded aristocrats in 1825. The czar has died, and people in the capital of St. Petersburg puzzle over who his successor will be. Until that is settled, there is intrigue, rebellion, quarrelling, shooting and death on the screen for two hours. It is a movie about the dangers that arise when an autocrat has done a poor job of preparing his succession.\n",
            "The film is fitting for Moscow in the late Putin era and seems to reflect the fears of the country’s elites. For years now, Russia has once again been a kind of autocracy. One can no longer imagine a world without its current president. As one high-ranking Kremlin official once put it, \"As long as there is Putin, there is Russia. No Putin, no Russia.” But what will happen when Putin’s time in office ends?\n",
            "This question has dominated Russian politics for years. And it has become more pressing since the president unexpectedly announced a constitutional reform that is now being pushed through parliament and will be put to the people for a vote in April. Just as surprisingly, he also replaced the country’s government.\n",
            "After years of stagnation, it’s as if things are moving in fast forward now. Putin is organizing his own succession. But why the rush? The president’s term doesn’t end until 2024. What is he aiming for?\n",
            "If you ask around in the capital, you find perplexity, confusion and tension. There’s the journalist who recalls a new member of the government whispering to him, \"Is it true that Putin is sick?” There’s the researcher focusing on the country’s elites who says that if there is a weak successor, it \"will be a time of turmoil.” There is the former high-ranking Kremlin official who, when asked how many people in the Kremlin knew of Putin’s maneuver in advance, holds up a single finger.\n",
            "Valery Rashkin, a prominent lawmaker in the State Duma, has some thoughts about the confusion created by Putin. He wears a red badge with a hammer and sickle on his lapel. He’s a communist, and almost the only member of the 450-person lower house to have openly opposed the constitutional reform. Rashkin argues that the goal of the reform is to make Putin the \"czar for the coming years.”\n",
            "Rashkin was sitting in the hall when Putin told stunned lawmakers in January that Russia’s parties are now \"mature” enough to take on a little more power. The president suggested giving the Duma influence over the selection of the individual ministers.\n",
            "That didn't sound so bad at first, Rashkin thought. Of course, it was strange that the very man who had subdued Russia’s political parties for over two decades, of all people, was now describing them as ready to take on more power. But this is how authoritarian rulers talk: They treat their subjects like children. Nevertheless, it seemed liked a step forward for Putin to even address the imbalances in Russia’s constitution.\n",
            "Rashkin, however, was surprised that Putin’s proposed constitutional changes were presented in writing to the Duma only a few days later. Had the president not announced that there would be a broad debate? Hadn’t he commissioned a working group comprised of prominent citizens, including a concert pianist and a Cossack leader?\n",
            "He was even more baffled that there were no signs in the text of any strengthening of the Duma. The prime minister and the ministers could still only be dismissed by the president, Rashkin says, angrily. \"It became clear to me: People, this is a fake!”\n",
            "He didn’t vote for the constitutional change in its first reading. But he wasn’t courageous enough to press the \"no” button, either. The vote came out to 432 \"yes” votes, and zero \"no” votes.\n",
            "Rashkin says lawmakers suffer from \"massive fear.” The Kremlin controls them – it can block their access to TV appearances, to bank accounts, to important cabinets. It can take away their freedom. \"And people are weak,” says Rashkin.\n",
            "This isn’t the first time that Putin has had to find a way of controlling the Kremlin from the outside rather than the inside. In 2008, he had to leave the presidency for constitutional reasons and allow Dmitri Medvedev to take his place before switching to the position of prime minister and returning to the presidency in 2012. It was also a skittish time. Putin had doubts about the loyalty of his placeholder president, although these would ultimately turn out to be false.\n",
            "But this time, the situation is different from 2008. Putin is 67 years old – when he leaves the Kremlin, it will likely be forever. His relationship with the elite has also changed. Since the annexation of Crimea in 2014, he has become a historical figure for the Russians. He used to depend on the elites to win elections and thus secure his own legitimacy. After 2014, that relationship has reversed itself. Whoever has any rank and file in Russian politics today owes this to Putin.\n",
            "But why would Putin undertake constitutional changes that – as Rashkin says – don’t even weaken the power of the president? Surely, that should be his aim if he wants to control his successor.\n",
            "There are various answers to this question. Rashkin suspects that Putin wants to continue in his role as president. Although Putin is calling for the two-term limit to remain, and even be strengthened (until now it was only illegal for a president to serve \"more than two successive terms”), it would be easy  enough for him to get an exception from the Supreme Court. Protests, however, would be certain.\n",
            "Putin’s plan is likely more complex. \"Putin is a person who doesn’t like to commit himself too early,” says one former high-ranking Kremlin official. \"He is now creating a number of options that he can later use and combine.”\n",
            "One option points to the State Council, which has so far been nothing more than an ostentatious meeting between the president and the regional governors, a good TV photo-op in the gold-bedecked halls of the Kremlin. Putin created the institution during his first term, when he removed the formerly powerful regional governors from the upper chamber, the Federation Council. The State Council was a small bit of compensation – \"a club for governors, nothing more,” says political scientist Gleb Pavlosvky.\n",
            "Under the reform, the club would become a constitutional body. It remains unclear what powers that entails or who would become its chair. That still has to be settled in a separate law.\n",
            "The upper chamber is also to become more powerful and have the authority to recall Supreme Court judges together with the president – a drastic weakening of the court, as many legal experts have complained. The proposal has been made to make Putin and all former presidents lifelong members.\n",
            "There’s also the Russian Security Council, which is so important that some compare it to the Politburo during Soviet times. It includes the leaders of the secret service, the army and the police, as well as the heads of the lower and upper chambers of parliament, the prime minister and the president. It deliberates on the use of Russia’s instruments of power -- domestically and internationally. These instruments of power have grown – along with the power of their representatives, the siloviki, in the political elite.\n",
            "And then there’s the political party associated with the Kremlin, United Russia, through which Putin already controls the Duma and whose leadership he could once again assume. But it would need to burnish its negative image again before the 2021 elections.\n",
            "Vladimir Putin is playing a kind of shell game, moving cups around the table, and nobody knows which one the ball will ultimately end up under – the presidency, the State Council, the Federation Council or the Security Council? That's the point of the game: Putin himself hasn’t likely decided yet.\n",
            "\"Wherever Putin goes, the center of power will also go,” says Olga Kryshtanovskaya, a political expert and prominent former member of the United Russia party. She’s betting on the State Council or the Security Council – in what she calls the \"Kazakh scenario.”\n",
            "Nursultan Nazarbayev, who became the president of Kazakhstan in 1990, gave up his post in 2019. If ever an autocrat has carefully prepared for his departure, it’s him, and Moscow took note of this as well. Nazarbayev is the lifetime head of his country’s Security Council, the head of the governing party and the holder of numerous titles and positions. He still wields enormous amounts of power in the country.\n",
            "There’s also another possible role model. \"I know that our secret service officials look with awe at Deng Xiaoping, Mao’s successor in China,” says Kryshtanovskaya. \"His most important position was as chair of the Central Military Commission. Stepping into the shadows, but continuing to make the decisions, that's the ideal model for them.”\n",
            "\"Everyone is talking about the future transition of power. But it is not happening,” says the former Kremlin official. \"I am certain that Putin won’t relinquish power in 2024 or before. He can simply share a bit of it with someone else. Overall, he wants to maintain control.”\n",
            "There’s one hitch, though: low economic growth. When Putin left the Kremlin the first time in 2008, the country had just experienced an oil boom.\n",
            "Today, real incomes are stagnating. Although Putin launched a gigantic state infrastructure program in 2018, its implementation has been halting. This ultimately prompted him to fire blundering and unloved Prime Minister Dmitry Medvedev and sideline him into the Security Council.\n",
            "If Putin is afraid of anyone at this point, it’s no longer the middle-class protesters in Moscow, but rather those all the way at the bottom, the low-income earners, and those all the way at the top, the members of the elite who could erupt into conflict after his departure. The intense infighting of the elite is reflected by the fact that a growing number of senior officials are in jail. Repression is not confined, by any measure, to insubordinate critics of the Kremlin. It affects mayors, governors and federal ministers.\n",
            "That’s also why Putin cannot dramatically weaken the post of president, even if he leaves it. He fears that there’s no other way of taming the elites.\n",
            "But who could actually succeed Putin as president? That will also presumably be revealed only shortly before his departure. But it’s possible to come up with a profile of the ideal candidate. \"First, he must be ethnically Russian, with a Russian surname,” says Kryshtanovskaya. \"Second, he has to be young, younger than Medvedev, so he can be in office for 12 years. And third, he needs to have the support of the siloviki,” the elite linked to intelligence and military circles.\n",
            "\"He needs to be understandable to the political class. And that means he has to be a part of it,” says a high-ranking official who worked for the presidential administration.\n",
            "Above all else, he needs to guarantee the security of Putin and his people – from expropriations, investigations, arrests and attacks from inside and outside the country.\n",
            "Putin’s current project is akin to squaring the circle. In the system he created, nobody can give him what he needs: a plausible guarantee for the future. On the other hand, no sophisticated constitutional construction can replace that personal assurance.\n",
            "And even as Putin is attempting to fortify the regime he built, he could be in the process of accidentally tearing it back down. He, of all people -- the man who has often assured his citizens that he did not want to touch Russia’s constitution -- has now turned this constitution into something he can tinker with. This also has to do with the fact that he is determined to put his reform to the people, although a vote on constitutional changes is neither required nor legally regulated.\n",
            "Therefore, a minimum wage and a regular indexing of pensions to inflation is being built into the constitution. Its preamble might also come to include lofty words about God, about the victory of Russia in the Great Patriotic War and about marriage as being a bond between a man and a woman – the details are currently being discussed. The primacy of national law is also being enshrined, along with the rule that the only people who can be considered for the presidency are Russian citizens who have never lived outside of the country for an extended period. More suggestions are coming daily.\n",
            "\"Putin has suddenly opened the window of discourse,” says activist Marina Litvinovich, who has called for a campaign against the constitutional changes. \"And now anyone can come through this window with his or her ideas. Everything has become plausible. Putin has not started the process of the transition of power, but rather the disintegration of power.”\n"
          ],
          "name": "stdout"
        }
      ]
    },
    {
      "cell_type": "code",
      "metadata": {
        "id": "tpKJR-nwRDwY",
        "colab_type": "code",
        "colab": {}
      },
      "source": [
        ""
      ],
      "execution_count": 0,
      "outputs": []
    }
  ]
}