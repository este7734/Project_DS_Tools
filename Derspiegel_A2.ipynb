{
  "nbformat": 4,
  "nbformat_minor": 0,
  "metadata": {
    "kernelspec": {
      "name": "python3",
      "display_name": "Python 3"
    },
    "language_info": {
      "codemirror_mode": {
        "name": "ipython",
        "version": 3
      },
      "file_extension": ".py",
      "mimetype": "text/x-python",
      "name": "python",
      "nbconvert_exporter": "python",
      "pygments_lexer": "ipython3",
      "version": "3.6.3"
    },
    "colab": {
      "name": "Derspiegel_A2.ipynb",
      "provenance": [],
      "collapsed_sections": [],
      "include_colab_link": true
    },
    "accelerator": "GPU"
  },
  "cells": [
    {
      "cell_type": "markdown",
      "metadata": {
        "id": "view-in-github",
        "colab_type": "text"
      },
      "source": [
        "<a href=\"https://colab.research.google.com/github/este7734/Project_DS_Tools/blob/master/Derspiegel_A2.ipynb\" target=\"_parent\"><img src=\"https://colab.research.google.com/assets/colab-badge.svg\" alt=\"Open In Colab\"/></a>"
      ]
    },
    {
      "cell_type": "markdown",
      "metadata": {
        "id": "j9EJGLekhe5n",
        "colab_type": "text"
      },
      "source": [
        "# Data Science Tools and Techniques\n",
        "\n",
        "# Web Scraping Project"
      ]
    },
    {
      "cell_type": "markdown",
      "metadata": {
        "id": "DAasqXPAhe5s",
        "colab_type": "text"
      },
      "source": [
        "Beautiful Soup documentation:\n",
        "\n",
        "https://www.crummy.com/software/BeautifulSoup/"
      ]
    },
    {
      "cell_type": "markdown",
      "metadata": {
        "id": "HcjAnVaKgT8c",
        "colab_type": "text"
      },
      "source": [
        "# <i>Der Spiegel</i>\n",
        "\n",
        "---\n",
        "\n",
        "<div id=\"siteSub\" class=\"noprint\">From Wikipedia, the free encyclopedia</div>\n",
        "\n",
        "<p><i><b>Der Spiegel</b></i> (<small>German pronunciation: </small><span title=\"Representation in the International Phonetic Alphabet (IPA)\" class=\"IPA\"><a href=\"/wiki/Help:IPA/Standard_German\" title=\"Help:IPA/Standard German\">[deːɐ̯ ˈʃpiːɡl̩]</a></span>, lit. <i>\"The Mirror\"</i>) is a centre-left German weekly <a href=\"/wiki/News_magazine\" title=\"News magazine\">news magazine</a> published in <a href=\"/wiki/Hamburg\" title=\"Hamburg\">Hamburg</a>.<sup id=\"cite_ref-1\" class=\"reference\"><a href=\"#cite_note-1\">[1]</a></sup> With a weekly circulation of 840,000 copies, it is the largest such publication in Europe.<sup id=\"cite_ref-2\" class=\"reference\"><a href=\"#cite_note-2\">[2]</a></sup><sup id=\"cite_ref-3\" class=\"reference\"><a href=\"#cite_note-3\">[3]</a></sup><sup id=\"cite_ref-4\" class=\"reference\"><a href=\"#cite_note-4\">[4]</a></sup>\n",
        "</p>\n",
        "\n",
        "---"
      ]
    },
    {
      "cell_type": "markdown",
      "metadata": {
        "id": "R98YniHDK6Nq",
        "colab_type": "text"
      },
      "source": [
        "## Import dependencies"
      ]
    },
    {
      "cell_type": "code",
      "metadata": {
        "id": "5MgjXo4The5x",
        "colab_type": "code",
        "colab": {}
      },
      "source": [
        "from bs4 import BeautifulSoup\n",
        "import requests"
      ],
      "execution_count": 0,
      "outputs": []
    },
    {
      "cell_type": "markdown",
      "metadata": {
        "id": "SyFwkJ6Ihe52",
        "colab_type": "text"
      },
      "source": [
        "Create a Beautiful Soup object from an HTML sources:\n",
        "\n",
        "Use the following link to find an English version of Der Spiegel article:\n",
        "https://www.spiegel.de/international/\n",
        "\n",
        "---\n",
        "For English articles:\n",
        "1. Click menu (upper left)\n",
        "2. Scroll down to \"English\" selection\n",
        "3. Select a category\n",
        "4. To load more articles on the page scroll to bottom and click: **Ältere Artikel** (Older Articles)\n",
        "5. Copy the weblink and add below as new URL variable"
      ]
    },
    {
      "cell_type": "code",
      "metadata": {
        "id": "9p-WjahKhe53",
        "colab_type": "code",
        "colab": {}
      },
      "source": [
        "# get HTML page \n",
        "\n",
        "url1 = 'https://www.spiegel.de/international/business/trump-and-deutsche-bank-a-b956729f-9e10-412c-ae25-b9cedeebded3'\n",
        "url2 = 'https://www.spiegel.de/international/world/israeli-palestinian-relations-donald-trump-s-peace-plan-sows-confusion-and-dismay-a-bf74e84d-8e01-4199-9e22-583b740ac381'\n",
        "url3 = 'https://www.spiegel.de/international/world/when-mourning-turns-to-anger-two-days-and-two-nights-in-tehran-a-09dfd962-dbc1-4020-bbc1-03c6fadffbb1'\n",
        "url4 = 'https://www.spiegel.de/international/europe/how-russia-s-president-is-preparing-his-own-succession-a-437a6718-aa0c-4760-a548-4735b8a844e9'\n",
        "\n",
        "# Change the varbialbe in the .get method to the page you want to scrape\n",
        "page = requests.get(url1)"
      ],
      "execution_count": 0,
      "outputs": []
    },
    {
      "cell_type": "code",
      "metadata": {
        "id": "5rt9wxbyhe58",
        "colab_type": "code",
        "colab": {}
      },
      "source": [
        "# get soup\n",
        "def get_soup(page):\n",
        "    soup = BeautifulSoup(page.content, 'html.parser')\n",
        "    return soup"
      ],
      "execution_count": 0,
      "outputs": []
    },
    {
      "cell_type": "markdown",
      "metadata": {
        "id": "JJyvLrx8he6C",
        "colab_type": "text"
      },
      "source": [
        "Create a Beautiful Soup object from the imported HTML document."
      ]
    },
    {
      "cell_type": "code",
      "metadata": {
        "id": "Kwh7PydThe6E",
        "colab_type": "code",
        "colab": {}
      },
      "source": [
        "soup = get_soup(page)"
      ],
      "execution_count": 0,
      "outputs": []
    },
    {
      "cell_type": "markdown",
      "metadata": {
        "id": "WPhTNJ_Dhe6K",
        "colab_type": "text"
      },
      "source": [
        "## Open the HTML document in a text viewer.  Before you pull tag content, understand the tag structure of the document.\n",
        "\n",
        "---\n",
        "\n"
      ]
    },
    {
      "cell_type": "markdown",
      "metadata": {
        "id": "n_gJkTbrNtWG",
        "colab_type": "text"
      },
      "source": [
        "Pull title from article"
      ]
    },
    {
      "cell_type": "code",
      "metadata": {
        "id": "BKGE2J0w-_sb",
        "colab_type": "code",
        "outputId": "e297e548-8ad4-459d-963c-73d34e44c8d8",
        "colab": {
          "base_uri": "https://localhost:8080/",
          "height": 35
        }
      },
      "source": [
        "title = soup.find_all('h2')[0].contents[3].text\n",
        "title"
      ],
      "execution_count": 5,
      "outputs": [
        {
          "output_type": "execute_result",
          "data": {
            "text/plain": [
              "'\"Deutsche Bank Turned a Blind Eye to All These Red Flags\"\\n'"
            ]
          },
          "metadata": {
            "tags": []
          },
          "execution_count": 5
        }
      ]
    },
    {
      "cell_type": "markdown",
      "metadata": {
        "id": "92tuW95dN6DS",
        "colab_type": "text"
      },
      "source": [
        "Extract all the hyperlinks in the article"
      ]
    },
    {
      "cell_type": "markdown",
      "metadata": {
        "id": "jI50LXd-he6T",
        "colab_type": "raw"
      },
      "source": [
        "Anchors are used in HTML documents for a lot of different things.  One of the primary uses of anchors is to embed hyperlinks.  In the 'a' tag, there is an attribute called 'href' that specifies the hyperlink reference.\n",
        "\n",
        "The above markup will display a hyperlink that points 'hyperlink text' the href value.\n",
        "\n",
        "Beautiful soup can be used to pull specific inforamation from HTML tags.  For example, if you want all hyperlink references from links, you could use the following:\n",
        "\n",
        "links = []\n",
        "for item in anchors:\n",
        "    link = item.get('href')\n",
        "    links.append(link)\n",
        "\n",
        "You've already generated a list of all anchors.  Now, iterate over that list and collect all hyperlinks in the document in the space below, and print the list of hyperlinks."
      ]
    },
    {
      "cell_type": "markdown",
      "metadata": {
        "id": "eEEcBUz0c6bA",
        "colab_type": "text"
      },
      "source": [
        "## Extract hyperlinks for project."
      ]
    },
    {
      "cell_type": "code",
      "metadata": {
        "id": "3ECyoIz2he6U",
        "colab_type": "code",
        "outputId": "20c844db-ce03-4241-9bf1-7da199699792",
        "colab": {
          "base_uri": "https://localhost:8080/",
          "height": 55
        }
      },
      "source": [
        "# Extract all href tags\n",
        "links = soup.find_all('link')\n",
        "\n",
        "# Separate hyperlinks from href tags\n",
        "all_hyperlinks = []\n",
        "for item in links:\n",
        "    link = item.get('href')\n",
        "    all_hyperlinks.append(link)\n",
        "print(all_hyperlinks)"
      ],
      "execution_count": 6,
      "outputs": [
        {
          "output_type": "stream",
          "text": [
            "['https://www.spiegel.de/public/spon/manifest/manifest.json', 'https://cdn.prod.www.spiegel.de/public/spon/images/icons/favicon.ico', 'https://cdn.prod.www.spiegel.de/public/spon/images/icons/touch-icon.png', 'https://cdn.prod.www.spiegel.de/public/spon/images/icons/touch-icon72.png', 'https://cdn.prod.www.spiegel.de/public/spon/images/icons/touch-icon76.png', 'https://cdn.prod.www.spiegel.de/public/spon/images/icons/touch-icon114.png', 'https://cdn.prod.www.spiegel.de/public/spon/images/icons/touch-icon120.png', 'https://cdn.prod.www.spiegel.de/public/spon/images/icons/touch-icon144.png', 'https://cdn.prod.www.spiegel.de/public/spon/images/icons/touch-icon152.png', 'https://cdn.prod.www.spiegel.de/public/spon/images/icons/touch-icon180.png', 'https://www.spiegel.de/international/business/trump-and-deutsche-bank-a-b956729f-9e10-412c-ae25-b9cedeebded3', 'https://www.spiegel.de/international/business/trump-and-deutsche-bank-a-b956729f-9e10-412c-ae25-b9cedeebded3-amp', 'https://cdn.prod.www.spiegel.de/public/shared/fonts/SpiegelSans4UI-Bold.woff2', 'https://cdn.prod.www.spiegel.de/public/shared/fonts/SpiegelSans4UI-Regular.woff2', 'https://cdn.prod.www.spiegel.de/public/shared/fonts/SpiegelSlab4UICd-ExtraBold.woff2', 'https://cdn.prod.www.spiegel.de/public/shared/fonts/SpiegelSerifTextUI-Regular.woff2', 'https://cdn.prod.www.spiegel.de/public/shared/fonts/SpiegelSans4-6SemiBold.woff2', 'https://www.spiegel.de/schlagzeilen/index.rss', 'https://www.spiegel.de/international/index.rss', 'https://www.spiegel.de/international/business/index.rss', 'https://www.spiegel.de/thema/donald_trump_en/index.rss', 'https://www.spiegel.de/thema/deutsche_bank_en/index.rss', 'https://cdn.prod.www.spiegel.de/public/spon/generated/web/css/spon/generated/web/css/spon-designsystem.618527f8a5aedeaa922c.css', 'https://cdn.prod.www.spiegel.de/public/spon/generated/web/css/spon-designsystem-sm.1681f307ee425ee3a3dc.css', 'https://cdn.prod.www.spiegel.de/public/spon/generated/web/css/spon-designsystem-md.64a40e204f6a13fa7be6.css', 'https://cdn.prod.www.spiegel.de/public/spon/generated/web/css/spon-designsystem-lg.753262baa734f48a8bdc.css']\n"
          ],
          "name": "stdout"
        }
      ]
    },
    {
      "cell_type": "markdown",
      "metadata": {
        "id": "MGTAp3UPhe6g",
        "colab_type": "text"
      },
      "source": [
        "Extract all p tabs to pull the article body"
      ]
    },
    {
      "cell_type": "code",
      "metadata": {
        "id": "OF4n7pnEhe6i",
        "colab_type": "code",
        "outputId": "58165e03-800c-4027-afef-cd248e8c4c26",
        "colab": {
          "base_uri": "https://localhost:8080/",
          "height": 91
        }
      },
      "source": [
        "article_body = soup.find_all('p')\n",
        "print('Article Length: {} lines \\n'.format(len(article_body)))\n",
        "print(article_body)\n"
      ],
      "execution_count": 7,
      "outputs": [
        {
          "output_type": "stream",
          "text": [
            "Article Length: 26 lines \n",
            "\n",
            "[<p><strong>U.S. President Donald Trump:</strong> \"They almost single-handedly enabled him to bounce back from all his business failures.\"</p>, <p>REUTERS</p>, <p><em>David Enrich, 40, is the author of \"Dark Towers: Deutsche Bank, Donald Trump, and an Epic Trail of Destruction.\" He works as a finance journalist for the New York Times. Prior to that he led an investigative team at the Wall Street Journal. He is the recipient of several journalism prizes.</em></p>, <p><strong>DER SPIEGEL:</strong> Mr. Enrich, the subtitle of your book is \"Deutsche Bank, Donald Trump, and an Epic Trail of Destruction.” The destruction of what?</p>, <p><strong>Enrich:</strong> Take your pick. This is a bank that has been involved in really serious scandals all over the world, ranging from money laundering and manipulating markets to violating international sanctions, from bribing public officials to deceiving governments and regulators. A lot of banks have been involved in very serious scandals over the past decade or two, but Deutsche Bank has been at or near the center of more of them than anyone else.</p>, <p><strong>Investigative journalist David Enrich:</strong> \"They really were blinded by greed.\"</p>, <p>Peter Eavis</p>, <p><strong>DER SPIEGEL:</strong> Among the problematic episodes in the bank’s recent history has been its relationship with its perhaps best-known client, U.S. President Donald Trump. You make the case that Deutsche Bank helped get Trump elected in 2016. How so?</p>, <p><strong>Enrich:</strong> Donald Trump was completely off limits, unbankable with the mainstream financial institutions for many years because he had defaulted over and over again. And then Deutsche Bank comes in. It was trying to make a name for itself in the United States market and was under pressure from people like (<em>then Deutsche Bank CEO</em>) Josef Ackermann to maximize short term profits. They turned a blind eye to all these red flags that were raised internally and externally about the risks of doing business with someone like Trump. They almost single-handedly enabled him to bounce back from all his business failures and keep building, which Donald Trump then used very successfully to portray himself as a successful businessman and real estate mogul. That was one of the foundations for his successful White House campaign.</p>, <p><strong>DER SPIEGEL:</strong> Deutsche Bank remained committed to Trump even after he defaulted on a loan of over $300 million and then sued the bank on top of that. Why?</p>, <p><strong>Enrich:</strong> They kept thinking that the fees they could generate from Trump on the short term were worth the very substantial long-term risks. And in all honesty, that turned out to be true. The relationship with Trump over 20 years has probably been quite profitable for Deutsche Bank.<em> </em>He’s paid a lot in fees and interest. But I would argue that the reputational damage to the bank for being the only financial institution willing to support Donald Trump probably exceeds the financial value of the fees they've received over those two decades.</p>, <p><strong>DER SPIEGEL:</strong> Why did Deutsche Bank continue to lend money to Trump even after he had become toxic to pretty much every other major financial institution?</p>, <p><strong>Enrich:</strong> Two things. One is that they really were blinded by greed. The other thing is that Deutsche Bank had a really poisonous internal culture. Different divisions of the bank and different executives within the bank were pitted against each other and sometimes were in a state of all-out war. When inspectors from (the investment banking division) raised concerns and said \"we've had very bad experiences in the past and institutionally we really should not be doing this,” people in the private banking division perceived that as the investment bankers essentially trying to undermine them out of professional jealousy or envy. And they were kind of right, actually. There was just this very destructive competition going on between different wings of the bank. It's a very clear example of how leaders like Ackermann, Anshu Jain and Jürgen Fitschen really failed.</p>, <p><strong>DER SPIEGEL:</strong> Two committees in the House of Representatives, which is controlled by the Democrats, have subpoenaed Trump's financial records. The Supreme Court is expected to rule on that subpoena later this year. What might those documents reveal?</p>, <p><strong>Enrich:</strong> They will potentially reveal all of Donald Trump's innermost financial secrets. Deutsche Bank, over the past 20 years or so, has collected enormous amounts of material on Trump's personal finances, his businesses and his family's finances. Trump has spent many years fighting really aggressively to keep this information out of the public domain. The bank also has its own records of some of the concerns that were raised internally about various elements of the Trump business - cases where employees of the bank raised concerns about potentially suspicious transactions from a money laundering standpoint.</p>, <p><strong>DER SPIEGEL:</strong> The Russiagate scandal is another area where Deutsche Bank’s records on its relationship to Trump could provide some clarity. Some suspect that Deutsche Bank might have served as a conduit for Russian money flowing into the Trump organization. Might the documents demanded by the House shed some light on the issue?</p>, <p><strong>Enrich:</strong> The short answer is, I don't know. If there is any truth to that rumor, I would expect that there will be some answers in those documents. But if the documents do not show evidence of Deutsche Bank serving as a conduit for Russian money, people who are inclined to believe that conspiracy theory are still going to believe it. They're just going to say: \"Well, the evidence hasn’t emerged yet, or it’s being hidden.” I and many other journalists have spent years trying to get to the bottom of this and haven’t been able to. But that doesn’t mean it's not true.</p>, <p><strong>DER SPIEGEL:</strong> Did regulatory failure also play a role in Deutsche Bank’s transgressions?</p>, <p><strong>Enrich:</strong> There’s so much blame to go around. Ackermann deserves a huge amount of blame. Jain deserves a huge amount of blame. The supervisory board deserves a huge amount of blame. But regulators in the U.S. and Germany also deserve a huge amount of blame. BaFin (<em>Germany’s Federal Financial Supervisory Authority</em>), in particular, viewed its role for many years less as overseeing and monitoring the books and more as defending Deutsche Bank from what it perceived as overzealous regulators in other parts of the world. And American regulators also completely missed opportunities - over and over again – to come down hard on Deutsche Bank.</p>, <p><strong>DER SPIEGEL:</strong> Having described the \"trail of destruction” in your in your book, do you see a path to redemption?</p>, <p><strong>Enrich:</strong> I don't know how successful they'll be, but I think the current management of the bank is actually trying pretty hard to get things back on the right path. The problem is that the damage has already been done and the problematic elements of the bank are deeply embedded in its finances and its culture. Investors, regulators, especially in the U.S., and a lot of employees I've spoken with remain really skeptical.</p>, <p><strong>U.S. President Donald Trump:</strong> \"They almost single-handedly enabled him to bounce back from all his business failures.\"</p>, <p>REUTERS</p>, <p><strong>Investigative journalist David Enrich:</strong> \"They really were blinded by greed.\"</p>, <p>Peter Eavis</p>, <p>Melden Sie sich an und diskutieren Sie mit</p>]\n"
          ],
          "name": "stdout"
        }
      ]
    },
    {
      "cell_type": "code",
      "metadata": {
        "colab_type": "code",
        "outputId": "1a0c6dbe-1c9b-43fb-a7b4-0870601d9463",
        "id": "NenHzzz8MioL",
        "colab": {
          "base_uri": "https://localhost:8080/",
          "height": 502
        }
      },
      "source": [
        "# Paragragh parser in place \n",
        "\n",
        "value1 = 'RichText RichText--iconLinks lg:w-8/12 md:w-10/12 lg:mx-auto md:mx-auto lg:px-24 md:px-24 sm:px-16 clearfix break-words word-wrap'\n",
        "value2 = 'RichText RichText--iconLinks RichText--lastPmb0 RichText--lastInline lg:w-8/12 md:w-10/12 lg:mx-auto md:mx-auto lg:px-24 md:px-24 sm:px-16 clearfix break-words word-wrap'\n",
        "value_list = [value1, value2]\n",
        "\n",
        "article_body = soup.find_all('div',{'class': value_list})\n",
        "#print('Length of list: {} items \\n'. format(len(article_body)))\n",
        "\n",
        "# Generate list of paragraphs\n",
        "p = []\n",
        "for item in article_body:\n",
        "    par = item.find_all('p')\n",
        "    p.extend(par)\n",
        "print('Length of article: {} paragraphs \\n'. format(len(p)))\n",
        "\n",
        "# Print last 4 words of last sentende to compare with article\n",
        "\n",
        "start_p = str(p[0]).split()\n",
        "end_p = str(p[len(p) - 1]).split()\n",
        "\n",
        "print('These are the first 4 words of your scrape: \\n {} \\n'.format(start_p[0:4]))\n",
        "\n",
        "print('These are the last 4 words of your scrape: \\n {}\\n \\\n",
        "Compare this with the end of your article to see if \\\n",
        "you scraped everything \\n'.format(end_p[-4:]))\n",
        "\n",
        "# Extract content from the html tags\n",
        "\n",
        "file1 = open(\"MyFile.txt\",\"w\") # Open a text file to write to\n",
        "\n",
        "for item in p:\n",
        "    print(item.text)\n",
        "\n",
        "    file1.write(item.text) # write each string to the file \n",
        "\n",
        "file1.close() # close the file\n",
        "\n",
        "# In Colab the file is automatically save where you pointed it.\n",
        "# If you didn't change directories, then it will be here: \\content\\\n",
        "# Make sure you download the file before you close this session because\n",
        "# it will be wiped out when you close the session"
      ],
      "execution_count": 8,
      "outputs": [
        {
          "output_type": "stream",
          "text": [
            "Length of article: 17 paragraphs \n",
            "\n",
            "These are the first 4 words of your scrape: \n",
            " ['<p><em>David', 'Enrich,', '40,', 'is'] \n",
            "\n",
            "These are the last 4 words of your scrape: \n",
            " ['with', 'remain', 'really', 'skeptical.</p>']\n",
            " Compare this with the end of your article to see if you scraped everything \n",
            "\n",
            "David Enrich, 40, is the author of \"Dark Towers: Deutsche Bank, Donald Trump, and an Epic Trail of Destruction.\" He works as a finance journalist for the New York Times. Prior to that he led an investigative team at the Wall Street Journal. He is the recipient of several journalism prizes.\n",
            "DER SPIEGEL: Mr. Enrich, the subtitle of your book is \"Deutsche Bank, Donald Trump, and an Epic Trail of Destruction.” The destruction of what?\n",
            "Enrich: Take your pick. This is a bank that has been involved in really serious scandals all over the world, ranging from money laundering and manipulating markets to violating international sanctions, from bribing public officials to deceiving governments and regulators. A lot of banks have been involved in very serious scandals over the past decade or two, but Deutsche Bank has been at or near the center of more of them than anyone else.\n",
            "DER SPIEGEL: Among the problematic episodes in the bank’s recent history has been its relationship with its perhaps best-known client, U.S. President Donald Trump. You make the case that Deutsche Bank helped get Trump elected in 2016. How so?\n",
            "Enrich: Donald Trump was completely off limits, unbankable with the mainstream financial institutions for many years because he had defaulted over and over again. And then Deutsche Bank comes in. It was trying to make a name for itself in the United States market and was under pressure from people like (then Deutsche Bank CEO) Josef Ackermann to maximize short term profits. They turned a blind eye to all these red flags that were raised internally and externally about the risks of doing business with someone like Trump. They almost single-handedly enabled him to bounce back from all his business failures and keep building, which Donald Trump then used very successfully to portray himself as a successful businessman and real estate mogul. That was one of the foundations for his successful White House campaign.\n",
            "DER SPIEGEL: Deutsche Bank remained committed to Trump even after he defaulted on a loan of over $300 million and then sued the bank on top of that. Why?\n",
            "Enrich: They kept thinking that the fees they could generate from Trump on the short term were worth the very substantial long-term risks. And in all honesty, that turned out to be true. The relationship with Trump over 20 years has probably been quite profitable for Deutsche Bank. He’s paid a lot in fees and interest. But I would argue that the reputational damage to the bank for being the only financial institution willing to support Donald Trump probably exceeds the financial value of the fees they've received over those two decades.\n",
            "DER SPIEGEL: Why did Deutsche Bank continue to lend money to Trump even after he had become toxic to pretty much every other major financial institution?\n",
            "Enrich: Two things. One is that they really were blinded by greed. The other thing is that Deutsche Bank had a really poisonous internal culture. Different divisions of the bank and different executives within the bank were pitted against each other and sometimes were in a state of all-out war. When inspectors from (the investment banking division) raised concerns and said \"we've had very bad experiences in the past and institutionally we really should not be doing this,” people in the private banking division perceived that as the investment bankers essentially trying to undermine them out of professional jealousy or envy. And they were kind of right, actually. There was just this very destructive competition going on between different wings of the bank. It's a very clear example of how leaders like Ackermann, Anshu Jain and Jürgen Fitschen really failed.\n",
            "DER SPIEGEL: Two committees in the House of Representatives, which is controlled by the Democrats, have subpoenaed Trump's financial records. The Supreme Court is expected to rule on that subpoena later this year. What might those documents reveal?\n",
            "Enrich: They will potentially reveal all of Donald Trump's innermost financial secrets. Deutsche Bank, over the past 20 years or so, has collected enormous amounts of material on Trump's personal finances, his businesses and his family's finances. Trump has spent many years fighting really aggressively to keep this information out of the public domain. The bank also has its own records of some of the concerns that were raised internally about various elements of the Trump business - cases where employees of the bank raised concerns about potentially suspicious transactions from a money laundering standpoint.\n",
            "DER SPIEGEL: The Russiagate scandal is another area where Deutsche Bank’s records on its relationship to Trump could provide some clarity. Some suspect that Deutsche Bank might have served as a conduit for Russian money flowing into the Trump organization. Might the documents demanded by the House shed some light on the issue?\n",
            "Enrich: The short answer is, I don't know. If there is any truth to that rumor, I would expect that there will be some answers in those documents. But if the documents do not show evidence of Deutsche Bank serving as a conduit for Russian money, people who are inclined to believe that conspiracy theory are still going to believe it. They're just going to say: \"Well, the evidence hasn’t emerged yet, or it’s being hidden.” I and many other journalists have spent years trying to get to the bottom of this and haven’t been able to. But that doesn’t mean it's not true.\n",
            "DER SPIEGEL: Did regulatory failure also play a role in Deutsche Bank’s transgressions?\n",
            "Enrich: There’s so much blame to go around. Ackermann deserves a huge amount of blame. Jain deserves a huge amount of blame. The supervisory board deserves a huge amount of blame. But regulators in the U.S. and Germany also deserve a huge amount of blame. BaFin (Germany’s Federal Financial Supervisory Authority), in particular, viewed its role for many years less as overseeing and monitoring the books and more as defending Deutsche Bank from what it perceived as overzealous regulators in other parts of the world. And American regulators also completely missed opportunities - over and over again – to come down hard on Deutsche Bank.\n",
            "DER SPIEGEL: Having described the \"trail of destruction” in your in your book, do you see a path to redemption?\n",
            "Enrich: I don't know how successful they'll be, but I think the current management of the bank is actually trying pretty hard to get things back on the right path. The problem is that the damage has already been done and the problematic elements of the bank are deeply embedded in its finances and its culture. Investors, regulators, especially in the U.S., and a lot of employees I've spoken with remain really skeptical.\n"
          ],
          "name": "stdout"
        }
      ]
    },
    {
      "cell_type": "code",
      "metadata": {
        "id": "tpKJR-nwRDwY",
        "colab_type": "code",
        "outputId": "205ddc57-9c34-468d-ef1c-bef33851d09c",
        "colab": {
          "base_uri": "https://localhost:8080/",
          "height": 35
        }
      },
      "source": [
        "%ls"
      ],
      "execution_count": 9,
      "outputs": [
        {
          "output_type": "stream",
          "text": [
            "MyFile.txt  \u001b[0m\u001b[01;34msample_data\u001b[0m/\n"
          ],
          "name": "stdout"
        }
      ]
    }
  ]
}